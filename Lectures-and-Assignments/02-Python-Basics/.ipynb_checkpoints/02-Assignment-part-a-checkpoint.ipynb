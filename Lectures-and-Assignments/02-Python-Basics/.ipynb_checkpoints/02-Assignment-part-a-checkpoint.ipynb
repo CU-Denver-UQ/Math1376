{
 "cells": [
  {
   "cell_type": "markdown",
   "metadata": {},
   "source": [
    "# Math  1376: Programming for Data Science\n",
    "---\n",
    "\n",
    "## Assignment 02 (part a): Some variables but mostly lists (due by 11:59 p.m. Friday of week 3 of class)\n",
    "---"
   ]
  },
  {
   "cell_type": "markdown",
   "metadata": {},
   "source": [
    "## Problem 1: Different lists of integers\n",
    "---\n",
    "\n",
    "Add some useful comments to the code cell below along with the Markdown cell following it to fully explain the outputs from the code (you may want to include a link to the `range` function)."
   ]
  },
  {
   "cell_type": "code",
   "execution_count": 49,
   "metadata": {},
   "outputs": [
    {
     "name": "stdout",
     "output_type": "stream",
     "text": [
      "[1, 2, 3, 4, 5, 6, 7, 8, 9, 10, 11, 12, 13, 14, 15, 16, 17, 18, 19] \n",
      "\n",
      "[1, 4, 7, 10, 13, 16, 19] \n",
      "\n",
      "[0, 3, 6, 9, 12, 15, 18] \n",
      "\n",
      "[1] \n",
      "\n"
     ]
    }
   ],
   "source": [
    "list_1 = list(range(1,20,1))\n",
    "print(list_1, '\\n')\n",
    "\n",
    "list_2 = list(range(1,20,3))\n",
    "print(list_2, '\\n')\n",
    "\n",
    "list_3 = list(range(0,20,3))\n",
    "print(list_3, '\\n')\n",
    "\n",
    "list_4 = list(range(1,20,22))\n",
    "print(list_4, '\\n')"
   ]
  },
  {
   "cell_type": "markdown",
   "metadata": {},
   "source": []
  },
  {
   "cell_type": "markdown",
   "metadata": {},
   "source": [
    "## Problem 2: A list of lists\n",
    "---\n",
    "\n",
    "Use the code cell below to make a `my_lists` that has the above lists, in order, as its first, second, third, and fourth components.\n",
    "\n",
    "Use print commands to verify you did this correctly."
   ]
  },
  {
   "cell_type": "code",
   "execution_count": 50,
   "metadata": {},
   "outputs": [],
   "source": [
    "my_lists = [list_1, list_2, list_3, list_4]"
   ]
  },
  {
   "cell_type": "markdown",
   "metadata": {},
   "source": [
    "## Problem 3: Manipulating lists\n",
    "---\n",
    "\n",
    "You may want to refer to [more on lists](https://docs.python.org/3/tutorial/datastructures.html#more-on-lists) for this problem.\n",
    "\n",
    "### Part (a)\n",
    "\n",
    "Use the `append` function on `my_lists[3]` to add the number $100$ to the end of this list. \n",
    "Then, print out both `my_lists[3]` and `list_4`. Interpret these results in a Markdown cell following the code."
   ]
  },
  {
   "cell_type": "code",
   "execution_count": 51,
   "metadata": {},
   "outputs": [
    {
     "name": "stdout",
     "output_type": "stream",
     "text": [
      "[1, 100]\n",
      "[1, 100]\n"
     ]
    }
   ],
   "source": [
    "my_lists[3].append(100)\n",
    "\n",
    "print(my_lists[3])\n",
    "\n",
    "print(list_4)"
   ]
  },
  {
   "cell_type": "markdown",
   "metadata": {},
   "source": []
  },
  {
   "cell_type": "markdown",
   "metadata": {},
   "source": [
    "### Part (b)\n",
    "\n",
    "Run the code below. Interpret what is happening in the Markdown cell following the code."
   ]
  },
  {
   "cell_type": "code",
   "execution_count": 52,
   "metadata": {},
   "outputs": [
    {
     "name": "stdout",
     "output_type": "stream",
     "text": [
      "[7, 1, 100]\n",
      "[7, 1, 100]\n"
     ]
    }
   ],
   "source": [
    "my_lists[3].reverse()\n",
    "my_lists[3].append(7)\n",
    "my_lists[3].reverse()\n",
    "\n",
    "print(my_lists[3])\n",
    "\n",
    "print(list_4)"
   ]
  },
  {
   "cell_type": "markdown",
   "metadata": {},
   "source": []
  },
  {
   "cell_type": "markdown",
   "metadata": {},
   "source": [
    "### Part (c)\n",
    "\n",
    "Run the code below. Interpret what is happening in the Markdown cell following the code, and explain how to simplify the code in part (b) using the `insert` function."
   ]
  },
  {
   "cell_type": "code",
   "execution_count": 58,
   "metadata": {},
   "outputs": [
    {
     "name": "stdout",
     "output_type": "stream",
     "text": [
      "['hi', 1, 7, 100]\n"
     ]
    }
   ],
   "source": [
    "my_lists[3].insert(0,'hi')\n",
    "\n",
    "print(list_4)"
   ]
  },
  {
   "cell_type": "markdown",
   "metadata": {},
   "source": []
  },
  {
   "cell_type": "markdown",
   "metadata": {},
   "source": [
    "### Part (d)\n",
    "\n",
    "Run the code below. Interpret the *error message* in the Markdown cell following the code."
   ]
  },
  {
   "cell_type": "code",
   "execution_count": 59,
   "metadata": {},
   "outputs": [
    {
     "ename": "TypeError",
     "evalue": "'<' not supported between instances of 'int' and 'str'",
     "output_type": "error",
     "traceback": [
      "\u001b[0;31m---------------------------------------------------------------------------\u001b[0m",
      "\u001b[0;31mTypeError\u001b[0m                                 Traceback (most recent call last)",
      "\u001b[0;32m<ipython-input-59-c375da01745c>\u001b[0m in \u001b[0;36m<module>\u001b[0;34m\u001b[0m\n\u001b[0;32m----> 1\u001b[0;31m \u001b[0mmy_lists\u001b[0m\u001b[0;34m[\u001b[0m\u001b[0;36m3\u001b[0m\u001b[0;34m]\u001b[0m\u001b[0;34m.\u001b[0m\u001b[0msort\u001b[0m\u001b[0;34m(\u001b[0m\u001b[0;34m)\u001b[0m\u001b[0;34m\u001b[0m\u001b[0;34m\u001b[0m\u001b[0m\n\u001b[0m\u001b[1;32m      2\u001b[0m \u001b[0;34m\u001b[0m\u001b[0m\n\u001b[1;32m      3\u001b[0m \u001b[0mprint\u001b[0m\u001b[0;34m(\u001b[0m\u001b[0mlist_4\u001b[0m\u001b[0;34m)\u001b[0m\u001b[0;34m\u001b[0m\u001b[0;34m\u001b[0m\u001b[0m\n",
      "\u001b[0;31mTypeError\u001b[0m: '<' not supported between instances of 'int' and 'str'"
     ]
    }
   ],
   "source": [
    "my_lists[3].sort()\n",
    "\n",
    "print(list_4)"
   ]
  },
  {
   "cell_type": "markdown",
   "metadata": {},
   "source": []
  },
  {
   "cell_type": "markdown",
   "metadata": {},
   "source": [
    "### Part (e)\n",
    "\n",
    "Run the code below. Interpret the *error message* in the Markdown cell following the code."
   ]
  },
  {
   "cell_type": "code",
   "execution_count": 62,
   "metadata": {},
   "outputs": [
    {
     "ename": "ValueError",
     "evalue": "list.remove(x): x not in list",
     "output_type": "error",
     "traceback": [
      "\u001b[0;31m---------------------------------------------------------------------------\u001b[0m",
      "\u001b[0;31mValueError\u001b[0m                                Traceback (most recent call last)",
      "\u001b[0;32m<ipython-input-62-1bf4d8ea8655>\u001b[0m in \u001b[0;36m<module>\u001b[0;34m\u001b[0m\n\u001b[0;32m----> 1\u001b[0;31m \u001b[0mmy_lists\u001b[0m\u001b[0;34m[\u001b[0m\u001b[0;36m3\u001b[0m\u001b[0;34m]\u001b[0m\u001b[0;34m.\u001b[0m\u001b[0mremove\u001b[0m\u001b[0;34m(\u001b[0m\u001b[0;34m'hi'\u001b[0m\u001b[0;34m)\u001b[0m\u001b[0;34m\u001b[0m\u001b[0;34m\u001b[0m\u001b[0m\n\u001b[0m\u001b[1;32m      2\u001b[0m \u001b[0;34m\u001b[0m\u001b[0m\n\u001b[1;32m      3\u001b[0m \u001b[0mmy_lists\u001b[0m\u001b[0;34m[\u001b[0m\u001b[0;36m3\u001b[0m\u001b[0;34m]\u001b[0m\u001b[0;34m.\u001b[0m\u001b[0msort\u001b[0m\u001b[0;34m(\u001b[0m\u001b[0;34m)\u001b[0m\u001b[0;34m\u001b[0m\u001b[0;34m\u001b[0m\u001b[0m\n\u001b[1;32m      4\u001b[0m \u001b[0;34m\u001b[0m\u001b[0m\n\u001b[1;32m      5\u001b[0m \u001b[0mprint\u001b[0m\u001b[0;34m(\u001b[0m\u001b[0mlist_4\u001b[0m\u001b[0;34m)\u001b[0m\u001b[0;34m\u001b[0m\u001b[0;34m\u001b[0m\u001b[0m\n",
      "\u001b[0;31mValueError\u001b[0m: list.remove(x): x not in list"
     ]
    }
   ],
   "source": [
    "my_lists[3].remove('hi')\n",
    "\n",
    "my_lists[3].sort()\n",
    "\n",
    "print(list_4)\n",
    "\n",
    "my_lists[3].sort(reverse=True)\n",
    "\n",
    "print(list_4)"
   ]
  },
  {
   "cell_type": "markdown",
   "metadata": {},
   "source": []
  },
  {
   "cell_type": "markdown",
   "metadata": {},
   "source": [
    "### Part (f)\n",
    "\n",
    "Append vs. Extend? Run the two code cell below and interpret the results in the following Markdown cell. Explain why we may want to use `extend` instead of `append`. Relate `extend` to a list arithmetic operation from the lecture (hint: think concatenation). "
   ]
  },
  {
   "cell_type": "code",
   "execution_count": 63,
   "metadata": {},
   "outputs": [
    {
     "name": "stdout",
     "output_type": "stream",
     "text": [
      "[100, 7, 1, [500, 1000]]\n"
     ]
    }
   ],
   "source": [
    "my_lists[3].append([500,1000])\n",
    "\n",
    "print(list_4)\n",
    "\n",
    "my_lists[3].extend([500,1000])\n",
    "\n",
    "print(list_4)"
   ]
  },
  {
   "cell_type": "markdown",
   "metadata": {},
   "source": []
  },
  {
   "cell_type": "markdown",
   "metadata": {},
   "source": [
    "## Problem 4: What does `enumerate` do to a list?\n",
    "\n",
    "We have seen `range`. It is useful for creating lists. It is also useful when we start working with loops.\n",
    "\n",
    "The [`enumerate`](https://docs.python.org/3/library/functions.html#enumerate) function is also useful for creating lists of tuples from other lists.\n",
    "\n",
    "Your job is to run the code cells below and explain the results in the Markdown cells that follow."
   ]
  },
  {
   "cell_type": "code",
   "execution_count": 66,
   "metadata": {},
   "outputs": [
    {
     "name": "stdout",
     "output_type": "stream",
     "text": [
      "[(0, 100), (1, 7), (2, 1), (3, [500, 1000]), (4, 500), (5, 1000)]\n"
     ]
    }
   ],
   "source": [
    "my_enumeration = list(enumerate(list_4))\n",
    "\n",
    "print(my_enumeration)"
   ]
  },
  {
   "cell_type": "markdown",
   "metadata": {},
   "source": []
  },
  {
   "cell_type": "code",
   "execution_count": 67,
   "metadata": {},
   "outputs": [
    {
     "name": "stdout",
     "output_type": "stream",
     "text": [
      "[(0, 'Spring'), (1, 'Summer'), (2, 'Fall'), (3, 'Winter')]\n"
     ]
    }
   ],
   "source": [
    "seasons = ['Spring', 'Summer', 'Fall', 'Winter']\n",
    "\n",
    "seasons_enumerated = list(enumerate(seasons))\n",
    "\n",
    "print(seasons_enumerated)"
   ]
  },
  {
   "cell_type": "markdown",
   "metadata": {},
   "source": []
  },
  {
   "cell_type": "code",
   "execution_count": 70,
   "metadata": {},
   "outputs": [
    {
     "name": "stdout",
     "output_type": "stream",
     "text": [
      "[(7, 100), (8, 7), (9, 1), (10, [500, 1000]), (11, 500), (12, 1000)]\n"
     ]
    }
   ],
   "source": [
    "my_new_enumeration = list(enumerate(list_4, start=7))\n",
    "\n",
    "print(my_new_enumeration)"
   ]
  },
  {
   "cell_type": "markdown",
   "metadata": {},
   "source": []
  },
  {
   "cell_type": "code",
   "execution_count": 71,
   "metadata": {},
   "outputs": [
    {
     "name": "stdout",
     "output_type": "stream",
     "text": [
      "[(1, 'Spring'), (2, 'Summer'), (3, 'Fall'), (4, 'Winter')]\n"
     ]
    }
   ],
   "source": [
    "seasons = ['Spring', 'Summer', 'Fall', 'Winter']\n",
    "\n",
    "seasons_enumerated = list(enumerate(seasons, start=1))\n",
    "\n",
    "print(seasons_enumerated)"
   ]
  },
  {
   "cell_type": "markdown",
   "metadata": {},
   "source": []
  },
  {
   "cell_type": "markdown",
   "metadata": {},
   "source": [
    "## Problem 5: Our first `zip`\n",
    "\n",
    "Run the code below and explain what the `zip` function is doing in the Markdown cell that follows. *Hint: Pay attention to the parentheses. You can also print out more information and try to create your own simpler example to figure out what `zip` is doing. Look up the documentation for `zip` as well.*"
   ]
  },
  {
   "cell_type": "code",
   "execution_count": 73,
   "metadata": {},
   "outputs": [
    {
     "name": "stdout",
     "output_type": "stream",
     "text": [
      "[((0, 100), (7, 100)), ((1, 7), (8, 7)), ((2, 1), (9, 1)), ((3, [500, 1000]), (10, [500, 1000])), ((4, 500), (11, 500)), ((5, 1000), (12, 1000))]\n"
     ]
    }
   ],
   "source": [
    "my_zip = list(zip(my_enumeration, my_new_enumeration))\n",
    "\n",
    "print(my_zip)"
   ]
  },
  {
   "cell_type": "markdown",
   "metadata": {},
   "source": []
  },
  {
   "cell_type": "markdown",
   "metadata": {},
   "source": [
    "## Problem 6: [What's happening?!](https://www.youtube.com/watch?v=X0dcZ66783k)\n",
    "---\n",
    "\n",
    "It is not *that* scary (really).\n",
    "\n",
    "Run the code below and explain what is happening in the Markdown cell below."
   ]
  },
  {
   "cell_type": "code",
   "execution_count": 82,
   "metadata": {},
   "outputs": [
    {
     "name": "stdout",
     "output_type": "stream",
     "text": [
      "[1, 2, 3, 4, 5, 6, 7, 8, 9, 10, 11, 12, 13, 14, 15, 16, 17, 18, 19, [1, 2, 3, 4, 5, 6, 7, 8, 9, 10, 11, 12, 13, 14, 15, 16, 17, 18, 19], [1, 4, 7, 10, 13, 16, 19], [0, 3, 6, 9, 12, 15, 18], [100, 7, 1, [500, 1000], 500, 1000]] \n",
      "\n",
      "1 \n",
      "\n",
      "19 \n",
      "\n",
      "[1, 2, 3, 4, 5, 6, 7, 8, 9, 10, 11, 12, 13, 14, 15, 16, 17, 18, 19]\n"
     ]
    }
   ],
   "source": [
    "what_is_happening = list_1 + my_lists\n",
    "\n",
    "print(what_is_happening, '\\n')\n",
    "\n",
    "print(what_is_happening[0], '\\n')\n",
    "\n",
    "print(what_is_happening[18], '\\n')\n",
    "\n",
    "print(what_is_happening[19])"
   ]
  },
  {
   "cell_type": "markdown",
   "metadata": {},
   "source": []
  }
 ],
 "metadata": {
  "kernelspec": {
   "display_name": "Python 3",
   "language": "python",
   "name": "python3"
  },
  "language_info": {
   "codemirror_mode": {
    "name": "ipython",
    "version": 3
   },
   "file_extension": ".py",
   "mimetype": "text/x-python",
   "name": "python",
   "nbconvert_exporter": "python",
   "pygments_lexer": "ipython3",
   "version": "3.7.6"
  }
 },
 "nbformat": 4,
 "nbformat_minor": 2
}
