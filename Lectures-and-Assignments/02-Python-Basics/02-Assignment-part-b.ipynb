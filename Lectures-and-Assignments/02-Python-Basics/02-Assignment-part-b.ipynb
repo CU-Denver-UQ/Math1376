{
 "cells": [
  {
   "cell_type": "markdown",
   "metadata": {},
   "source": [
    "# Math  1376: Programming for Data Science\n",
    "---\n",
    "\n",
    "## Assignment 02 (part b): `numpy` and array manipulation (due by 11:59 p.m. Friday of week 4 of class)\n",
    "---"
   ]
  },
  {
   "cell_type": "markdown",
   "metadata": {},
   "source": [
    "Much of this assignment makes use of the following arrays. Some problems will involve creating new arrays as well."
   ]
  },
  {
   "cell_type": "code",
   "execution_count": 1,
   "metadata": {},
   "outputs": [],
   "source": [
    "import numpy as np"
   ]
  },
  {
   "cell_type": "code",
   "execution_count": 2,
   "metadata": {},
   "outputs": [],
   "source": [
    "array_1 = np.array([1, 2, 3])\n",
    "\n",
    "array_2 = np.array([[1], [2], [3]])\n",
    "\n",
    "array_3 = np.array([[1, 2, 3], [4, 5, 6]])\n",
    "\n",
    "array_4 = np.array([[[1, 2], [3, 4], [5, 6]]])\n",
    "\n",
    "array_5 = np.array([[ [1], [2] ], [ [3], [4] ], [ [5], [6] ]])"
   ]
  },
  {
   "cell_type": "markdown",
   "metadata": {},
   "source": [
    "You may also find the following documentation quite useful: https://numpy.org/doc/1.18/reference/routines.array-manipulation.html"
   ]
  },
  {
   "cell_type": "markdown",
   "metadata": {},
   "source": [
    "## Problem 1: Array shapes and addition\n",
    "---\n",
    "\n",
    "Try running each of the following individual code cells and explain (1) the conditions under which two arrays may be added and (2) what array addition does in the following Markdown cell.\n",
    "\n",
    "We make use of the `try` and `except` commands to handle errors. Read more about these here: https://docs.python.org/3/tutorial/errors.html. We simply do this to get you used to the idea that you can handle potential errors and give feedback to users that is perhaps more informative/relevant.\n",
    "\n",
    "\n",
    "*You should change the feedback given to the user if there is an error.* What feedback should you give? Try seeing what the actual `ValueError` is that is returned and make sense of it. How could this be made more informative? Perhaps make use of the `np.shape` commands to make a verbose print out of what went wrong."
   ]
  },
  {
   "cell_type": "code",
   "execution_count": 3,
   "metadata": {},
   "outputs": [
    {
     "name": "stdout",
     "output_type": "stream",
     "text": [
      "[[2 3 4]\n",
      " [3 4 5]\n",
      " [4 5 6]]\n"
     ]
    }
   ],
   "source": [
    "try:\n",
    "    array_sum = array_1 + array_2\n",
    "    print(array_sum)\n",
    "except ValueError:\n",
    "    print('Can\\'t sum those!')"
   ]
  },
  {
   "cell_type": "code",
   "execution_count": 4,
   "metadata": {},
   "outputs": [
    {
     "name": "stdout",
     "output_type": "stream",
     "text": [
      "[[2 4 6]\n",
      " [5 7 9]]\n"
     ]
    }
   ],
   "source": [
    "try:\n",
    "    array_sum = array_1 + array_3\n",
    "    print(array_sum)\n",
    "except ValueError:\n",
    "    print('Can\\'t sum those!')"
   ]
  },
  {
   "cell_type": "code",
   "execution_count": 5,
   "metadata": {},
   "outputs": [
    {
     "name": "stdout",
     "output_type": "stream",
     "text": [
      "Can't sum those!\n"
     ]
    }
   ],
   "source": [
    "try:\n",
    "    array_sum = array_2 + array_3\n",
    "    print(array_sum)\n",
    "except ValueError:\n",
    "    print('Can\\'t sum those!')"
   ]
  },
  {
   "cell_type": "code",
   "execution_count": null,
   "metadata": {},
   "outputs": [],
   "source": [
    "try:\n",
    "    array_sum = array_2 + array_4\n",
    "    print(array_sum)\n",
    "except ValueError:\n",
    "    print('Can\\'t sum those!')"
   ]
  },
  {
   "cell_type": "code",
   "execution_count": null,
   "metadata": {},
   "outputs": [],
   "source": [
    "try:\n",
    "    array_sum = array_4 + array_5\n",
    "    print(array_sum)\n",
    "except ValueError:\n",
    "    print('Can\\'t sum those!')"
   ]
  },
  {
   "cell_type": "code",
   "execution_count": null,
   "metadata": {},
   "outputs": [],
   "source": [
    "try:\n",
    "    array_sum = array_1 + array_5\n",
    "    print(array_sum)\n",
    "except ValueError:\n",
    "    print('Can\\'t sum those!')"
   ]
  },
  {
   "cell_type": "code",
   "execution_count": null,
   "metadata": {},
   "outputs": [],
   "source": [
    "try:\n",
    "    array_sum = array_2 + array_5\n",
    "    print(array_sum)\n",
    "except ValueError:\n",
    "    print('Can\\'t sum those!')"
   ]
  },
  {
   "cell_type": "code",
   "execution_count": null,
   "metadata": {},
   "outputs": [],
   "source": [
    "try:\n",
    "    array_sum = array_2.T + array_5\n",
    "    print(array_sum)\n",
    "except ValueError:\n",
    "    print('Can\\'t sum those!')"
   ]
  },
  {
   "cell_type": "code",
   "execution_count": null,
   "metadata": {},
   "outputs": [],
   "source": [
    "try:\n",
    "    array_sum = array_3 + array_5\n",
    "    print(array_sum)\n",
    "except ValueError:\n",
    "    print('Can\\'t sum those!')"
   ]
  },
  {
   "cell_type": "markdown",
   "metadata": {},
   "source": []
  },
  {
   "cell_type": "markdown",
   "metadata": {},
   "source": [
    "## Problem 2: Array shapes and multiplication\n",
    "---\n",
    "\n",
    "Try running each of the following individual code cells and explain (1) the conditions under which two arrays may be multiplied using either `*` or `np.multiply` and (2) what this type of array multiplication does in the following Markdown cell.\n",
    "\n",
    "Also, re-write each of these code cells to make use of the `try` and `except` functions like above where some relevant feedback is given to the user about what went wrong if there is a `ValueError`."
   ]
  },
  {
   "cell_type": "code",
   "execution_count": 6,
   "metadata": {},
   "outputs": [
    {
     "data": {
      "text/plain": [
       "array([1, 4, 9])"
      ]
     },
     "execution_count": 6,
     "metadata": {},
     "output_type": "execute_result"
    }
   ],
   "source": [
    "array_1 * array_1"
   ]
  },
  {
   "cell_type": "code",
   "execution_count": 7,
   "metadata": {},
   "outputs": [
    {
     "data": {
      "text/plain": [
       "array([[1, 2, 3],\n",
       "       [2, 4, 6],\n",
       "       [3, 6, 9]])"
      ]
     },
     "execution_count": 7,
     "metadata": {},
     "output_type": "execute_result"
    }
   ],
   "source": [
    "array_1 * array_2"
   ]
  },
  {
   "cell_type": "code",
   "execution_count": 8,
   "metadata": {},
   "outputs": [
    {
     "data": {
      "text/plain": [
       "array([[ 1,  4,  9],\n",
       "       [ 4, 10, 18]])"
      ]
     },
     "execution_count": 8,
     "metadata": {},
     "output_type": "execute_result"
    }
   ],
   "source": [
    "array_1 * array_3"
   ]
  },
  {
   "cell_type": "code",
   "execution_count": 9,
   "metadata": {},
   "outputs": [
    {
     "ename": "ValueError",
     "evalue": "operands could not be broadcast together with shapes (3,) (1,3,2) ",
     "output_type": "error",
     "traceback": [
      "\u001b[0;31m---------------------------------------------------------------------------\u001b[0m",
      "\u001b[0;31mValueError\u001b[0m                                Traceback (most recent call last)",
      "\u001b[0;32m<ipython-input-9-a440739424fe>\u001b[0m in \u001b[0;36m<module>\u001b[0;34m\u001b[0m\n\u001b[0;32m----> 1\u001b[0;31m \u001b[0marray_1\u001b[0m \u001b[0;34m*\u001b[0m \u001b[0marray_4\u001b[0m\u001b[0;34m\u001b[0m\u001b[0;34m\u001b[0m\u001b[0m\n\u001b[0m",
      "\u001b[0;31mValueError\u001b[0m: operands could not be broadcast together with shapes (3,) (1,3,2) "
     ]
    }
   ],
   "source": [
    "array_1 * array_4"
   ]
  },
  {
   "cell_type": "code",
   "execution_count": 10,
   "metadata": {},
   "outputs": [
    {
     "data": {
      "text/plain": [
       "array([[[ 1,  2,  3],\n",
       "        [ 3,  6,  9],\n",
       "        [ 5, 10, 15]],\n",
       "\n",
       "       [[ 2,  4,  6],\n",
       "        [ 4,  8, 12],\n",
       "        [ 6, 12, 18]]])"
      ]
     },
     "execution_count": 10,
     "metadata": {},
     "output_type": "execute_result"
    }
   ],
   "source": [
    "array_1 * array_4.T"
   ]
  },
  {
   "cell_type": "code",
   "execution_count": 11,
   "metadata": {},
   "outputs": [
    {
     "ename": "ValueError",
     "evalue": "operands could not be broadcast together with shapes (3,) (1,3,2) ",
     "output_type": "error",
     "traceback": [
      "\u001b[0;31m---------------------------------------------------------------------------\u001b[0m",
      "\u001b[0;31mValueError\u001b[0m                                Traceback (most recent call last)",
      "\u001b[0;32m<ipython-input-11-08d9e39fd628>\u001b[0m in \u001b[0;36m<module>\u001b[0;34m\u001b[0m\n\u001b[0;32m----> 1\u001b[0;31m \u001b[0marray_1\u001b[0m\u001b[0;34m.\u001b[0m\u001b[0mT\u001b[0m \u001b[0;34m*\u001b[0m \u001b[0marray_4\u001b[0m\u001b[0;34m\u001b[0m\u001b[0;34m\u001b[0m\u001b[0m\n\u001b[0m",
      "\u001b[0;31mValueError\u001b[0m: operands could not be broadcast together with shapes (3,) (1,3,2) "
     ]
    }
   ],
   "source": [
    "array_1.T * array_4"
   ]
  },
  {
   "cell_type": "code",
   "execution_count": 12,
   "metadata": {},
   "outputs": [
    {
     "ename": "ValueError",
     "evalue": "operands could not be broadcast together with shapes (3,1) (2,3) ",
     "output_type": "error",
     "traceback": [
      "\u001b[0;31m---------------------------------------------------------------------------\u001b[0m",
      "\u001b[0;31mValueError\u001b[0m                                Traceback (most recent call last)",
      "\u001b[0;32m<ipython-input-12-13a6094bcc3d>\u001b[0m in \u001b[0;36m<module>\u001b[0;34m\u001b[0m\n\u001b[0;32m----> 1\u001b[0;31m \u001b[0marray_2\u001b[0m \u001b[0;34m*\u001b[0m \u001b[0marray_3\u001b[0m\u001b[0;34m\u001b[0m\u001b[0;34m\u001b[0m\u001b[0m\n\u001b[0m",
      "\u001b[0;31mValueError\u001b[0m: operands could not be broadcast together with shapes (3,1) (2,3) "
     ]
    }
   ],
   "source": [
    "array_2 * array_3"
   ]
  },
  {
   "cell_type": "code",
   "execution_count": 13,
   "metadata": {},
   "outputs": [
    {
     "data": {
      "text/plain": [
       "array([[ 1,  4,  9],\n",
       "       [ 4, 10, 18]])"
      ]
     },
     "execution_count": 13,
     "metadata": {},
     "output_type": "execute_result"
    }
   ],
   "source": [
    "array_2.T * array_3"
   ]
  },
  {
   "cell_type": "code",
   "execution_count": 14,
   "metadata": {},
   "outputs": [
    {
     "data": {
      "text/plain": [
       "array([[ 1,  4],\n",
       "       [ 4, 10],\n",
       "       [ 9, 18]])"
      ]
     },
     "execution_count": 14,
     "metadata": {},
     "output_type": "execute_result"
    }
   ],
   "source": [
    "array_2 * array_3.T"
   ]
  },
  {
   "cell_type": "code",
   "execution_count": 15,
   "metadata": {},
   "outputs": [
    {
     "ename": "ValueError",
     "evalue": "operands could not be broadcast together with shapes (3,2) (3,2,1) ",
     "output_type": "error",
     "traceback": [
      "\u001b[0;31m---------------------------------------------------------------------------\u001b[0m",
      "\u001b[0;31mValueError\u001b[0m                                Traceback (most recent call last)",
      "\u001b[0;32m<ipython-input-15-a866b832fb4d>\u001b[0m in \u001b[0;36m<module>\u001b[0;34m\u001b[0m\n\u001b[0;32m----> 1\u001b[0;31m \u001b[0marray_3\u001b[0m\u001b[0;34m.\u001b[0m\u001b[0mT\u001b[0m \u001b[0;34m*\u001b[0m \u001b[0marray_5\u001b[0m\u001b[0;34m\u001b[0m\u001b[0;34m\u001b[0m\u001b[0m\n\u001b[0m",
      "\u001b[0;31mValueError\u001b[0m: operands could not be broadcast together with shapes (3,2) (3,2,1) "
     ]
    }
   ],
   "source": [
    "array_3.T * array_5"
   ]
  },
  {
   "cell_type": "markdown",
   "metadata": {},
   "source": []
  },
  {
   "cell_type": "markdown",
   "metadata": {},
   "source": [
    "## Problem 3: Manipulating array shapes\n",
    "---\n",
    "\n",
    "### Part (a): [reshape](https://numpy.org/doc/1.18/reference/generated/numpy.reshape.html#numpy.reshape)\n",
    "\n",
    "Use the markdown cell below to explain what is going on in the next code cell. Look at some of the comments in the code below for inspiration about what to discuss."
   ]
  },
  {
   "cell_type": "code",
   "execution_count": null,
   "metadata": {},
   "outputs": [],
   "source": [
    "print(array_1)\n",
    "print()\n",
    "\n",
    "print(array_1.reshape((3,1))) #compare to array_2\n",
    "print()\n",
    "\n",
    "print(array_1.reshape((1,3)))\n",
    "print()\n",
    "\n",
    "print(array_1) #did reshape change the array like certain list operations (e.g., reverse) changed the list in the last assignment?\n",
    "print()\n",
    "\n",
    "print(array_2)\n",
    "print()\n",
    "\n",
    "print(array_2.reshape((3,))) #compare to array_1"
   ]
  },
  {
   "cell_type": "markdown",
   "metadata": {},
   "source": []
  },
  {
   "cell_type": "markdown",
   "metadata": {},
   "source": [
    "### Part (b): [ravel](https://numpy.org/doc/1.18/reference/generated/numpy.ravel.html#numpy.ravel) vs [flatten](https://numpy.org/doc/1.18/reference/generated/numpy.ndarray.flatten.html#numpy.ndarray.flatten)\n",
    "\n",
    "Run the code cells below. Do a bit of digging/reading about `ravel` vs `flatten` in `numpy`. What is happening? Explain in the markdown cell following these code cells. Try describing some scenarios where you may want to use `ravel` over `flatten` and vice versa."
   ]
  },
  {
   "cell_type": "code",
   "execution_count": null,
   "metadata": {},
   "outputs": [],
   "source": [
    "print(array_4.ravel())\n",
    "print()\n",
    "\n",
    "print(array_4.flatten())\n",
    "print()\n",
    "\n",
    "print(array_4)"
   ]
  },
  {
   "cell_type": "code",
   "execution_count": null,
   "metadata": {},
   "outputs": [],
   "source": [
    "array_4.ravel()[1] = 7\n",
    "print(array_4.ravel())\n",
    "print()\n",
    "print(array_4)\n",
    "print()\n",
    "\n",
    "array_4.ravel()[1] = 2\n",
    "print(array_4.ravel())\n",
    "print()\n",
    "print(array_4)\n",
    "print()"
   ]
  },
  {
   "cell_type": "code",
   "execution_count": null,
   "metadata": {},
   "outputs": [],
   "source": [
    "array_4.flatten()[1] = 7\n",
    "print(array_4.flatten())\n",
    "print()\n",
    "print(array_4)"
   ]
  },
  {
   "cell_type": "markdown",
   "metadata": {},
   "source": []
  },
  {
   "cell_type": "markdown",
   "metadata": {},
   "source": [
    "## Problem 4: Combining arrays\n",
    "\n",
    "### Part (a) [hstack](https://numpy.org/doc/1.18/reference/generated/numpy.hstack.html#numpy.hstack)\n",
    "\n",
    "Run the code cells below. Interpret what is happening in the Markdown cell following these code cells. Provide some better feedback than just `Can't do that!` if there is an error. For instance, maybe let the user know more about what went wrong. To figure that out, you may first need to decipher the `ValueError` by running the commands without the `try`."
   ]
  },
  {
   "cell_type": "code",
   "execution_count": null,
   "metadata": {},
   "outputs": [],
   "source": [
    "try:\n",
    "    my_arrays = np.hstack((array_1, array_2))\n",
    "    print(my_arrays)\n",
    "except ValueError:\n",
    "    print('Can\\'t do that!')"
   ]
  },
  {
   "cell_type": "code",
   "execution_count": null,
   "metadata": {},
   "outputs": [],
   "source": [
    "try:\n",
    "    my_arrays = np.hstack((array_1, array_2.T))\n",
    "    print(my_arrays)\n",
    "except ValueError:\n",
    "    print('Can\\'t do that!')"
   ]
  },
  {
   "cell_type": "code",
   "execution_count": null,
   "metadata": {},
   "outputs": [],
   "source": [
    "try:\n",
    "    my_arrays = np.hstack((array_1, array_2.ravel()))\n",
    "    print(my_arrays)\n",
    "except ValueError:\n",
    "    print('Can\\'t do that!')"
   ]
  },
  {
   "cell_type": "code",
   "execution_count": null,
   "metadata": {},
   "outputs": [],
   "source": [
    "try:\n",
    "    my_arrays = np.hstack((array_1.reshape((3,1)), array_2))\n",
    "    print(my_arrays)\n",
    "except ValueError:\n",
    "    print('Can\\'t do that!')"
   ]
  },
  {
   "cell_type": "code",
   "execution_count": null,
   "metadata": {},
   "outputs": [],
   "source": [
    "try:\n",
    "    my_arrays = np.hstack((array_1.reshape((3,1)), array_3))\n",
    "    print(my_arrays)\n",
    "except ValueError:\n",
    "    print('Can\\'t do that!')"
   ]
  },
  {
   "cell_type": "code",
   "execution_count": null,
   "metadata": {},
   "outputs": [],
   "source": [
    "try:\n",
    "    my_arrays = np.hstack((array_1.reshape((3,1)), array_3.T))\n",
    "    print(my_arrays)\n",
    "except ValueError:\n",
    "    print('Can\\'t do that!')"
   ]
  },
  {
   "cell_type": "markdown",
   "metadata": {},
   "source": []
  },
  {
   "cell_type": "markdown",
   "metadata": {},
   "source": [
    "### Part (b): [vstack](https://numpy.org/doc/1.18/reference/generated/numpy.vstack.html)\n",
    "\n",
    "Run the code cells below. Interpret what is happening in the Markdown cell following these code cells. Provide some better feedback if there is an error."
   ]
  },
  {
   "cell_type": "code",
   "execution_count": null,
   "metadata": {},
   "outputs": [],
   "source": [
    "try:\n",
    "    my_arrays = np.vstack((array_1, array_2))\n",
    "    print(my_arrays)\n",
    "except ValueError:\n",
    "    print('Can\\'t do that!')"
   ]
  },
  {
   "cell_type": "code",
   "execution_count": null,
   "metadata": {},
   "outputs": [],
   "source": [
    "try:\n",
    "    my_arrays = np.vstack((array_1, array_2.T))\n",
    "    print(my_arrays)\n",
    "except ValueError:\n",
    "    print('Can\\'t do that!')"
   ]
  },
  {
   "cell_type": "code",
   "execution_count": null,
   "metadata": {},
   "outputs": [],
   "source": [
    "try:\n",
    "    my_arrays = np.vstack((array_1, array_2.ravel()))\n",
    "    print(my_arrays)\n",
    "except ValueError:\n",
    "    print('Can\\'t do that!')"
   ]
  },
  {
   "cell_type": "code",
   "execution_count": null,
   "metadata": {},
   "outputs": [],
   "source": [
    "try:\n",
    "    my_arrays = np.vstack((array_1.reshape((3,1)), array_2))\n",
    "    print(my_arrays)\n",
    "except ValueError:\n",
    "    print('Can\\'t do that!')"
   ]
  },
  {
   "cell_type": "code",
   "execution_count": null,
   "metadata": {},
   "outputs": [],
   "source": [
    "try:\n",
    "    my_arrays = np.vstack((array_1.reshape((1,3)), array_3))\n",
    "    print(my_arrays)\n",
    "except ValueError:\n",
    "    print('Can\\'t do that!')"
   ]
  },
  {
   "cell_type": "code",
   "execution_count": null,
   "metadata": {},
   "outputs": [],
   "source": [
    "try:\n",
    "    my_arrays = np.vstack((array_1.reshape((1,3)), array_3.T))\n",
    "    print(my_arrays)\n",
    "except ValueError:\n",
    "    print('Can\\'t do that!')"
   ]
  },
  {
   "cell_type": "markdown",
   "metadata": {},
   "source": []
  },
  {
   "cell_type": "markdown",
   "metadata": {},
   "source": [
    "## Problem 5:  [What's happening?!](https://www.youtube.com/watch?v=X0dcZ66783k)\n",
    "\n",
    "Run the code cells below. Edit/add more useful comments and interpret what is happening in the Markdown cell that follows."
   ]
  },
  {
   "cell_type": "code",
   "execution_count": null,
   "metadata": {},
   "outputs": [],
   "source": [
    "list_1 = ['hi', 1, 2]\n",
    "\n",
    "list_1_as_array = np.asarray(list_1)\n",
    "\n",
    "print(list_1_as_array)\n",
    "print()\n",
    "\n",
    "print(list_1_as_array[1:]) #some slicing\n",
    "print()\n",
    "print(list_1_as_array[1] + list_1_as_array[2]) #adding two elements together of numpy array\n",
    "print()\n",
    "print(list_1[1] + list_1[2])"
   ]
  },
  {
   "cell_type": "code",
   "execution_count": null,
   "metadata": {},
   "outputs": [],
   "source": [
    "np.sum(list_1[1:])"
   ]
  },
  {
   "cell_type": "code",
   "execution_count": null,
   "metadata": {},
   "outputs": [],
   "source": [
    "np.sum(list_1_as_array[1:]) #Use a try and except command instead (except what though? Look at the TYPE of ERROR <--- hint)"
   ]
  },
  {
   "cell_type": "markdown",
   "metadata": {},
   "source": []
  },
  {
   "cell_type": "markdown",
   "metadata": {},
   "source": [
    "## Problem 6: What is good in life?\n",
    "\n",
    "Asking your own questions. Investigating things that are interesting to you. Being your own boss...\n",
    "\n",
    "There are so many other things we are not going to cover. You should play around with some other methods available to you in `numpy` for manipulating arrays. Check out the [documentation](https://numpy.org/doc/1.18/reference/routines.array-manipulation.html). Think about what you want to do. Maybe you want to `append` an array like we did to lists? ***Pick at least three manipulations we have not yet investigated above***  and write some code showing how to utilize them along with a brief interpretation of results in a Markdown cell. How deeply you investigate is completely up to you. If you want some suggestions: compare `tile` and `repeat`, compare `flip` to the list method `reverse`, the split methods are also interesting. "
   ]
  },
  {
   "cell_type": "code",
   "execution_count": null,
   "metadata": {},
   "outputs": [],
   "source": []
  },
  {
   "cell_type": "markdown",
   "metadata": {},
   "source": []
  }
 ],
 "metadata": {
  "kernelspec": {
   "display_name": "Python 3",
   "language": "python",
   "name": "python3"
  },
  "language_info": {
   "codemirror_mode": {
    "name": "ipython",
    "version": 3
   },
   "file_extension": ".py",
   "mimetype": "text/x-python",
   "name": "python",
   "nbconvert_exporter": "python",
   "pygments_lexer": "ipython3",
   "version": "3.7.6"
  }
 },
 "nbformat": 4,
 "nbformat_minor": 2
}
