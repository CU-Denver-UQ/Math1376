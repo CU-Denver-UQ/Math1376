{
 "cells": [
  {
   "cell_type": "markdown",
   "metadata": {},
   "source": [
    "# Math  1376: Programming for Data Science\n",
    "---\n",
    "\n",
    "## Assignment 02 (part a): Some variables but mostly lists (due by 11:59 p.m. Friday of week 3 of class)\n",
    "---"
   ]
  },
  {
   "cell_type": "markdown",
   "metadata": {},
   "source": [
    "## Problem 1: Different lists of integers and the `len` function\n",
    "---\n",
    "\n",
    "### Problem 1(a)\n",
    "---\n",
    "Add some useful comments to the code cell below along with the Markdown cell following it to fully explain the outputs from the code (you may want to include a link to documentation on the `range` function)."
   ]
  },
  {
   "cell_type": "code",
   "execution_count": null,
   "metadata": {},
   "outputs": [],
   "source": [
    "list_1 = list(range(1,20,1))\n",
    "print(list_1, '\\n')\n",
    "\n",
    "list_2 = list(range(1,20,3))\n",
    "print(list_2, '\\n')\n",
    "\n",
    "list_3 = list(range(0,20,3))\n",
    "print(list_3, '\\n')\n",
    "\n",
    "list_4 = list(range(1,20,22))\n",
    "print(list_4, '\\n')"
   ]
  },
  {
   "cell_type": "markdown",
   "metadata": {},
   "source": [
    "<span style='background:rgba(255,255,0, 0.25); color:black'> YOUR EXPLANATION GOES HERE.</span>"
   ]
  },
  {
   "cell_type": "markdown",
   "metadata": {},
   "source": [
    "### Problem 1(b)\n",
    "---\n",
    "\n",
    "Explore how the `len` function works by running the code cell below and interpreting the results in the Markdown cell that follows. You may also want to link to documentation on the `len` function."
   ]
  },
  {
   "cell_type": "code",
   "execution_count": null,
   "metadata": {},
   "outputs": [],
   "source": [
    "print(len(list_1))\n",
    "\n",
    "print()\n",
    "\n",
    "print(len(list_2))\n",
    "\n",
    "print()\n",
    "\n",
    "print(len(list_3))\n",
    "\n",
    "print()\n",
    "\n",
    "print(len(list_4))"
   ]
  },
  {
   "cell_type": "markdown",
   "metadata": {},
   "source": [
    "<span style='background:rgba(255,255,0, 0.25); color:black'> YOUR EXPLANATION GOES HERE.</span>"
   ]
  },
  {
   "cell_type": "markdown",
   "metadata": {},
   "source": [
    "## Problem 2: A list of lists\n",
    "\n",
    "Run the code cell below to make a `my_lists` that has the above lists, in order, as its first, second, third, and fourth components.\n",
    "\n",
    "Use print commands to print `my_lists` and also *components* of it such as `my_lists[0]`, `my_lists[2]`, etc. Comment on what you see. Try computing the length of `my_lists` using the `len` function and explaining that result as well."
   ]
  },
  {
   "cell_type": "code",
   "execution_count": null,
   "metadata": {},
   "outputs": [],
   "source": [
    "my_lists = [list_1, list_2, list_3, list_4]"
   ]
  },
  {
   "cell_type": "code",
   "execution_count": null,
   "metadata": {},
   "outputs": [],
   "source": []
  },
  {
   "cell_type": "code",
   "execution_count": null,
   "metadata": {},
   "outputs": [],
   "source": []
  },
  {
   "cell_type": "markdown",
   "metadata": {},
   "source": [
    "<span style='background:rgba(255,255,0, 0.25); color:black'> YOUR EXPLANATION GOES HERE.</span>"
   ]
  },
  {
   "cell_type": "markdown",
   "metadata": {},
   "source": [
    "## Problem 3: Manipulating lists and a brief note on the \"dot\" convention for functions\n",
    "---\n",
    "\n",
    "You may want to refer to [more on lists](https://docs.python.org/3/tutorial/datastructures.html#more-on-lists) for this problem.\n",
    "\n",
    "Lists are actually objects that have certain functions attached to them that allow you to easily manipulate the list object. In Python, a function (also called a method) that is attached to an object as an attribute is accessible through the \"dot\" convention. We are not going to dwell on this now since our more immediate goal is to understand simply how to use such functions. \n",
    "\n",
    "### Problem 3(a)\n",
    "---\n",
    "\n",
    "Run the code below that uses the `append` function on `my_lists[3]` to add the number $100$ to the end of this list. \n",
    "Then, print out both `my_lists[3]` and `list_4`. Interpret these results in a Markdown cell following the code."
   ]
  },
  {
   "cell_type": "code",
   "execution_count": null,
   "metadata": {},
   "outputs": [],
   "source": [
    "my_lists[3].append(100)"
   ]
  },
  {
   "cell_type": "code",
   "execution_count": null,
   "metadata": {},
   "outputs": [],
   "source": [
    "# print results using this code cell"
   ]
  },
  {
   "cell_type": "markdown",
   "metadata": {},
   "source": [
    "<span style='background:rgba(255,255,0, 0.25); color:black'> YOUR EXPLANATION GOES HERE.</span>"
   ]
  },
  {
   "cell_type": "markdown",
   "metadata": {},
   "source": [
    "### Problem 3(b)\n",
    "---\n",
    "\n",
    "Run the code below. Interpret what is happening in the Markdown cell following the code."
   ]
  },
  {
   "cell_type": "code",
   "execution_count": null,
   "metadata": {},
   "outputs": [],
   "source": [
    "my_lists[3].reverse()\n",
    "my_lists[3].append(7)\n",
    "my_lists[3].reverse()\n",
    "\n",
    "print(my_lists[3])\n",
    "\n",
    "print(list_4)"
   ]
  },
  {
   "cell_type": "markdown",
   "metadata": {},
   "source": [
    "<span style='background:rgba(255,255,0, 0.25); color:black'> YOUR EXPLANATION GOES HERE.</span>"
   ]
  },
  {
   "cell_type": "markdown",
   "metadata": {},
   "source": [
    "### Problem 3(c)\n",
    "---\n",
    "\n",
    "Run the code below. Interpret what is happening in the Markdown cell following the code, and explain how to simplify the code in part (b) using the `insert` function."
   ]
  },
  {
   "cell_type": "code",
   "execution_count": null,
   "metadata": {},
   "outputs": [],
   "source": [
    "my_lists[3].insert(0,'hi')\n",
    "\n",
    "print(list_4)"
   ]
  },
  {
   "cell_type": "markdown",
   "metadata": {},
   "source": [
    "<span style='background:rgba(255,255,0, 0.25); color:black'> YOUR EXPLANATION GOES HERE.</span>"
   ]
  },
  {
   "cell_type": "markdown",
   "metadata": {},
   "source": [
    "### Problem 3(d)\n",
    "---\n",
    "\n",
    "Run the code below. Interpret the *error message* in the Markdown cell following the code."
   ]
  },
  {
   "cell_type": "code",
   "execution_count": null,
   "metadata": {},
   "outputs": [],
   "source": [
    "my_lists[3].sort()\n",
    "\n",
    "print(list_4)"
   ]
  },
  {
   "cell_type": "markdown",
   "metadata": {},
   "source": [
    "<span style='background:rgba(255,255,0, 0.25); color:black'> YOUR EXPLANATION GOES HERE.</span>"
   ]
  },
  {
   "cell_type": "markdown",
   "metadata": {},
   "source": [
    "### Problem 3(e)\n",
    "---\n",
    "\n",
    "Run the code below. Interpret the *error message* in the Markdown cell following the code."
   ]
  },
  {
   "cell_type": "code",
   "execution_count": null,
   "metadata": {},
   "outputs": [],
   "source": [
    "my_lists[3].remove('hi')\n",
    "\n",
    "my_lists[3].sort()\n",
    "\n",
    "print(list_4)\n",
    "\n",
    "my_lists[3].sort(reverse=True)\n",
    "\n",
    "print(list_4)"
   ]
  },
  {
   "cell_type": "markdown",
   "metadata": {},
   "source": [
    "<span style='background:rgba(255,255,0, 0.25); color:black'> YOUR EXPLANATION GOES HERE.</span>"
   ]
  },
  {
   "cell_type": "markdown",
   "metadata": {},
   "source": [
    "### Problem 3(f)\n",
    "---\n",
    "\n",
    "Append vs. Extend? Run the two code cell below and interpret the results in the following Markdown cell. Explain why we may want to use `extend` instead of `append`. Relate `extend` to a list arithmetic operation from the lecture (hint: think concatenation). "
   ]
  },
  {
   "cell_type": "code",
   "execution_count": null,
   "metadata": {},
   "outputs": [],
   "source": [
    "my_lists[3].append([500,1000])\n",
    "\n",
    "print(list_4)\n",
    "\n",
    "my_lists[3].extend([500,1000])\n",
    "\n",
    "print(list_4)"
   ]
  },
  {
   "cell_type": "markdown",
   "metadata": {},
   "source": [
    "<span style='background:rgba(255,255,0, 0.25); color:black'> YOUR EXPLANATION GOES HERE.</span>"
   ]
  },
  {
   "cell_type": "markdown",
   "metadata": {},
   "source": [
    "## Problem 4: What does `enumerate` do to a list?\n",
    "\n",
    "We have seen `range`. It is useful for creating lists. It is also useful when we start working with loops.\n",
    "\n",
    "The [`enumerate`](https://docs.python.org/3/library/functions.html#enumerate) function is also useful for creating lists of tuples from other lists.\n",
    "\n",
    "Your job is to run the code cells below and explain the results in each of the Markdown cells that follow."
   ]
  },
  {
   "cell_type": "code",
   "execution_count": null,
   "metadata": {},
   "outputs": [],
   "source": [
    "my_enumeration = list(enumerate(list_4))\n",
    "\n",
    "print(my_enumeration)"
   ]
  },
  {
   "cell_type": "markdown",
   "metadata": {},
   "source": [
    "<span style='background:rgba(255,255,0, 0.25); color:black'> YOUR EXPLANATION GOES HERE.</span>"
   ]
  },
  {
   "cell_type": "code",
   "execution_count": null,
   "metadata": {},
   "outputs": [],
   "source": [
    "seasons = ['Spring', 'Summer', 'Fall', 'Winter']\n",
    "\n",
    "seasons_enumerated = list(enumerate(seasons))\n",
    "\n",
    "print(seasons_enumerated)"
   ]
  },
  {
   "cell_type": "markdown",
   "metadata": {},
   "source": [
    "<span style='background:rgba(255,255,0, 0.25); color:black'> YOUR EXPLANATION GOES HERE.</span>"
   ]
  },
  {
   "cell_type": "code",
   "execution_count": null,
   "metadata": {},
   "outputs": [],
   "source": [
    "my_new_enumeration = list(enumerate(list_4, start=7))\n",
    "\n",
    "print(my_new_enumeration)"
   ]
  },
  {
   "cell_type": "markdown",
   "metadata": {},
   "source": [
    "<span style='background:rgba(255,255,0, 0.25); color:black'> YOUR EXPLANATION GOES HERE.</span>"
   ]
  },
  {
   "cell_type": "code",
   "execution_count": null,
   "metadata": {},
   "outputs": [],
   "source": [
    "seasons = ['Spring', 'Summer', 'Fall', 'Winter']\n",
    "\n",
    "seasons_enumerated = list(enumerate(seasons, start=1))\n",
    "\n",
    "print(seasons_enumerated)"
   ]
  },
  {
   "cell_type": "markdown",
   "metadata": {},
   "source": [
    "<span style='background:rgba(255,255,0, 0.25); color:black'> YOUR EXPLANATION GOES HERE.</span>"
   ]
  },
  {
   "cell_type": "markdown",
   "metadata": {},
   "source": [
    "## Problem 5: Our first `zip`\n",
    "\n",
    "Run the code below and explain what the `zip` function is doing in the Markdown cell that follows. *Hint: Pay attention to the parentheses. You can also print out more information and try to create your own simpler example to figure out what `zip` is doing. Look up the documentation for `zip` as well.*"
   ]
  },
  {
   "cell_type": "code",
   "execution_count": null,
   "metadata": {},
   "outputs": [],
   "source": [
    "my_zip = list(zip(my_enumeration, my_new_enumeration))\n",
    "\n",
    "print(my_zip)"
   ]
  },
  {
   "cell_type": "markdown",
   "metadata": {},
   "source": [
    "<span style='background:rgba(255,255,0, 0.25); color:black'> YOUR EXPLANATION GOES HERE.</span>"
   ]
  },
  {
   "cell_type": "markdown",
   "metadata": {},
   "source": [
    "## Problem 6: [What's happening?!](https://www.youtube.com/watch?v=X0dcZ66783k)\n",
    "---\n",
    "\n",
    "It is not *that* scary (really).\n",
    "\n",
    "Run the code below and explain what is happening in the Markdown cell below."
   ]
  },
  {
   "cell_type": "code",
   "execution_count": null,
   "metadata": {},
   "outputs": [],
   "source": [
    "what_is_happening = list_1 + my_lists\n",
    "\n",
    "print(what_is_happening, '\\n')\n",
    "\n",
    "print(what_is_happening[0], '\\n')\n",
    "\n",
    "print(what_is_happening[18], '\\n')\n",
    "\n",
    "print(what_is_happening[19])"
   ]
  },
  {
   "cell_type": "markdown",
   "metadata": {},
   "source": [
    "<span style='background:rgba(255,255,0, 0.25); color:black'> YOUR EXPLANATION GOES HERE.</span>"
   ]
  }
 ],
 "metadata": {
  "kernelspec": {
   "display_name": "Python 3",
   "language": "python",
   "name": "python3"
  },
  "language_info": {
   "codemirror_mode": {
    "name": "ipython",
    "version": 3
   },
   "file_extension": ".py",
   "mimetype": "text/x-python",
   "name": "python",
   "nbconvert_exporter": "python",
   "pygments_lexer": "ipython3",
   "version": "3.7.6"
  }
 },
 "nbformat": 4,
 "nbformat_minor": 2
}
