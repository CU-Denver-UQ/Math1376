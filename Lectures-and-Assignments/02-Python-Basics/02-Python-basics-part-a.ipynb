{
 "cells": [
  {
   "cell_type": "markdown",
   "metadata": {},
   "source": [
    "# Math  1376: Programming for Data Science\n",
    "---"
   ]
  },
  {
   "cell_type": "markdown",
   "metadata": {},
   "source": [
    "## Module 02: Python basics (4 notebooks for the price of 1! Such value!)\n",
    "\n",
    "We focus on presenting the ***basics*** of Python for scientific computing. \n",
    "This is intended only to help break down the barriers of entry into using Python and some of the basic tools commonly used in scientific computing. \n",
    "\n",
    "While we will progress through more advanced topics in this course, no single course (or sequence of courses for that matter) can possibly cover all that Python has to offer. \n",
    "\n",
    "For more thorough (and advanced) tutorials over some of the topics we are touching upon in these lectures, we recommend bookmarking https://docs.python.org/3/tutorial/index.html for more details on Python basics (e.g., data structures, conditionals, and loops) and http://scipy.org/ for more details on useful libraries that unlock the power of Python for scientific computing.\n",
    "\n",
    "Remember, we are using Jupyter Notebooks (http://jupyter.org/) in these lectures. "
   ]
  },
  {
   "cell_type": "markdown",
   "metadata": {},
   "source": [
    "## Learning Objectives for Part (a)\n",
    "\n",
    "- Understand some of the more commonly used data types.\n",
    "\n",
    "\n",
    "- Assign values to variables and perform basic *arithmetic* operations.\n",
    "\n",
    "\n",
    "\n",
    "- Understand how to read error messages to do some basic debugging with the mini-exercises.\n",
    "\n",
    "\n",
    "Along the way, we will use some simple ***built-in functions within Python.*** \n",
    "In particular, we will make use of the functions `print`, `type`, and `range` early on in this lecture. \n",
    "\n",
    "Take a moment and review some of the documentation on these available at https://docs.python.org/3/library/functions.html."
   ]
  },
  {
   "cell_type": "markdown",
   "metadata": {},
   "source": [
    "## Notebook contents <a id='Contents'>\n",
    "\n",
    "* <a href='#Introduction'>Part (a): Introduction to variables</a>\n",
    "<br>\n",
    "\n",
    "    * <a href='#activity-errors'>Activity: Reading error messages and fixing code</a>\n",
    "    \n",
    "    * <a href='#activity-more-errors'>Activity: More practice fixing errors</a>\n",
    "    \n",
    "    * <a href='#activity-casting'>Activity: Practice with casting and printing</a>\n",
    "    \n",
    "    * <a href='#activity-summary'>Activity: Summary</a>\n",
    "<br>"
   ]
  },
  {
   "cell_type": "markdown",
   "metadata": {},
   "source": [
    "## Part (a): Introduction to variables<a id='Introduction'/>\n",
    "\n",
    "<span style='background:rgba(255,255,0, 0.25); color:black'> Run the code cell below and click the \"play\" button to see the recorded lecture associated with this notebook.</span> "
   ]
  },
  {
   "cell_type": "code",
   "execution_count": null,
   "metadata": {},
   "outputs": [],
   "source": [
    "# 1. Running this cell with embed the short recorded lecture associated with this part of the notebook\n",
    "# 2. Press on the \"play\" button to start the video.\n",
    "\n",
    "from IPython.display import YouTubeVideo\n",
    "\n",
    "YouTubeVideo('Still-need-to-create', width=800, height=300)"
   ]
  },
  {
   "cell_type": "markdown",
   "metadata": {
    "collapsed": true
   },
   "source": [
    "### Integers, floats, and casting:\n",
    "\n",
    " <span style='background:rgba(255,0,255, 0.25); color:black'> ***Key Points:*** <span>\n",
    "\n",
    "- Integers are whole numbers (positive or negative) that are specified without decimals. Examples are 1, 2, 0, and -10. \n",
    "<br>\n",
    "\n",
    "- Floats (or floating point numbers) are finite representations of real numbers with a ***finite number of decimal places***. Examples are 1.1, 2.3, 0.07, and -10.0.\n",
    "<br>\n",
    "\n",
    "- An arithmetic operation will **cast** the result as either the type of the ***most general variable used in the operation*** or as the type of ***output generally expected from the operation***, so whether or not we worry about casting depends upon what result we desire from the operation. We will see later on in this notebook how to easily specify casting."
   ]
  },
  {
   "cell_type": "code",
   "execution_count": null,
   "metadata": {},
   "outputs": [],
   "source": [
    "# Here, we define some variables used below.\n",
    "one_int = 1\n",
    "\n",
    "one_float = 1. # While there is no need to do 1.0, it is recommended since 1. just looks weird (feel free to fix it)\n",
    "\n",
    "two_int = 2"
   ]
  },
  {
   "cell_type": "code",
   "execution_count": null,
   "metadata": {},
   "outputs": [],
   "source": [
    "# We can print the types of variables using the print and type commands\n",
    "\n",
    "print() #This prints a blank line. \n",
    "# Why print a blank line? Using spaces and blank lines when printing makes output more readable\n",
    "\n",
    "# Blank lines in code also help readability like the one I just used between this comment and\n",
    "# the one above.\n",
    "\n",
    "print( 'one_int is of type', type(one_int), \n",
    "       'and one_float is of type', type(one_float) )\n",
    "# Breaking up long function calls like the one above across many lines helps readability\n",
    "\n",
    "# But, you can only break up long function calls in certain appropriate places\n",
    "\n",
    "print()\n",
    "print( 'The variable two_int is type ', type(two_int) )\n",
    "\n",
    "print()\n",
    "print( 'The variable defined by one_int+two_int is type ', \n",
    "       type(one_int+two_int) )\n",
    "\n",
    "print()\n",
    "print( 'The variable defined by one_int/two_int is type ', \n",
    "       type(one_int/two_int) )\n",
    "\n",
    "print()\n",
    "print( 'The variable defined by one_float/two_int is type ', \n",
    "       type(one_float/two_int) )"
   ]
  },
  {
   "cell_type": "code",
   "execution_count": null,
   "metadata": {},
   "outputs": [],
   "source": [
    "print()\n",
    "print( 'The variable defined by one_int + one_float is type ', \n",
    "         type(one_int + one_float) )\n",
    "\n",
    "print()\n",
    "print( one_int + one_int )\n",
    "\n",
    "print()\n",
    "print( one_int + one_float )"
   ]
  },
  {
   "cell_type": "markdown",
   "metadata": {},
   "source": [
    "### Below, we observe the output of typical division.\n",
    "\n",
    "***This demonstrates how an arithmetic operation does casting.***"
   ]
  },
  {
   "cell_type": "code",
   "execution_count": null,
   "metadata": {},
   "outputs": [],
   "source": [
    "print()\n",
    "print( 'one_int/two_int =', one_int, '/', two_int, '=',  one_int/two_int )\n",
    "\n",
    "three = 3 #What type is this?\n",
    "\n",
    "print()\n",
    "print( 'two_int/three =', two_int, '/', three, '=', two_int/three )\n",
    "\n",
    "neg_one = -1.0 #What type is this?\n",
    "\n",
    "print()\n",
    "print( 'neg_one/two_int =', neg_one, '/', two_int, '=', neg_one/two_int )"
   ]
  },
  {
   "cell_type": "markdown",
   "metadata": {},
   "source": [
    "The command `//` performs ***integer division***, which is sometimes claled ***floor division*** because it *rounds down to the nearest integer*. \n",
    "This is useful in a variety of settings that we do not get into here. For now, it is enough to know that this is something that can be useful. \n",
    "\n",
    "Recall that an arithmetic operation will **cast** the result as either the type of the ***most general variable used in the operation*** or as the type of ***output generally expected from the operation***. \n",
    "Let's observe the behavior of `//` below when the inputs are both integers and in cases where at least one input is a float."
   ]
  },
  {
   "cell_type": "code",
   "execution_count": null,
   "metadata": {},
   "outputs": [],
   "source": [
    "print()\n",
    "print( 'one_int//two_int =', one_int, '//', two_int, '=', one_int//two_int )\n",
    "\n",
    "print()\n",
    "print( 'one_float//two_int =', one_float, '//', two_int, '=',  one_float//two_int )\n",
    "\n",
    "print()\n",
    "print( 'neg_one//two_int =', neg_one, '//', two_int, '=', neg_one//two_int )\n",
    "\n",
    "print()\n",
    "print( 'two_int//three =', two_int, '//', three, '=', two_int//three )\n",
    "\n",
    "print()\n",
    "print( -one_int//three )"
   ]
  },
  {
   "cell_type": "markdown",
   "metadata": {},
   "source": [
    "<hr style=\"border:5px solid cyan\"> </hr>\n",
    "\n",
    "## <span style='background:rgba(0,255,255, 0.5); color:black'>Activity: Reading error messages and fixing code</span> <a id='activity-errors'/>\n",
    "\n",
    "The code block below will not execute correctly. \n",
    "\n",
    "1. Try running it. \n",
    "\n",
    "2. Read the error messages as you systematically fix it to *define* and *print* the integer 4 stored as the variable `four`."
   ]
  },
  {
   "cell_type": "code",
   "execution_count": null,
   "metadata": {},
   "outputs": [],
   "source": [
    "four = \n",
    "\n",
    "print( 'The variable four =', four, 'is of type', type() )"
   ]
  },
  {
   "cell_type": "markdown",
   "metadata": {},
   "source": [
    "<hr style=\"border:5px solid cyan\"> </hr>"
   ]
  },
  {
   "cell_type": "markdown",
   "metadata": {},
   "source": [
    "### Specifying casting:\n",
    "\n",
    " <span style='background:rgba(255, 0, 255, 0.25); color:black'> ***Key Points:***</span>\n",
    "\n",
    "- We can specify how we want an integer or float to be treated to allow for greater control in the code. This is also referred to as **casting** whenever we specify that a variable should be treated as a different type from what it is in a particular context.\n",
    "<br> \n",
    "\n",
    "\n",
    "- We show just two functions for casting below,  `int` and `float`, but there are more. Can you find another one used later in this notebook?\n",
    "<br>\n",
    "\n",
    "\n",
    "- Note that casting a variable as a different type does not actually alter the original variable type."
   ]
  },
  {
   "cell_type": "code",
   "execution_count": null,
   "metadata": {},
   "outputs": [],
   "source": [
    "two = one_int + one_float\n",
    "\n",
    "print()\n",
    "print( 'two =', two, 'is of type ', type(two) )"
   ]
  },
  {
   "cell_type": "code",
   "execution_count": null,
   "metadata": {},
   "outputs": [],
   "source": [
    "two = one_int + int(one_float)\n",
    "\n",
    "print()\n",
    "print( 'Two =', two, 'is now of type', type(two) )\n",
    "\n",
    "print()\n",
    "print( 'Did one_float change type?', type(one_float) )"
   ]
  },
  {
   "cell_type": "code",
   "execution_count": null,
   "metadata": {},
   "outputs": [],
   "source": [
    "x = -3.7\n",
    "\n",
    "print()\n",
    "print( 'x =', x, 'is of type', type(x) )\n",
    "\n",
    "print()\n",
    "print( 'int(x) =', int(x), 'is an integer' )\n",
    "\n",
    "print()\n",
    "print( 'We can also change integers to floats.' )\n",
    "\n",
    "print()\n",
    "print( 'float(ont_int) =', float(one_int), 'defines a float.')"
   ]
  },
  {
   "cell_type": "markdown",
   "metadata": {},
   "source": [
    "<hr style=\"border:5px solid cyan\"> </hr>\n",
    "\n",
    "## <span style='background:rgba(0,255,255, 0.5); color:black'>Activity: More practice fixing errors</span> <a id='activity-more-errors'>\n",
    "\n",
    "1. Fill in the missing pieces of the code cell below to define variable `y` as a floating point number version of `int(x)` and print both `y` and `x`.\n",
    "\n",
    "2. Create a markdown cell below the code cell to explain what you think the code used to define `y` is doing."
   ]
  },
  {
   "cell_type": "code",
   "execution_count": null,
   "metadata": {},
   "outputs": [],
   "source": [
    "x = 1.7583\n",
    "\n",
    "y = \n",
    "\n",
    "print()\n",
    "print( 'y =', y, 'is of type', type(y), \n",
    "       'and x =', x , 'is of type', type(x) )"
   ]
  },
  {
   "cell_type": "markdown",
   "metadata": {},
   "source": [
    "<hr style=\"border:5px solid cyan\"> </hr>"
   ]
  },
  {
   "cell_type": "markdown",
   "metadata": {},
   "source": [
    "### Raising a variable to a power is done using `**` NOT `^`"
   ]
  },
  {
   "cell_type": "code",
   "execution_count": null,
   "metadata": {},
   "outputs": [],
   "source": [
    "pt_one = 0.1\n",
    "\n",
    "print()\n",
    "print( '0.1 cubed =', pt_one**3 )"
   ]
  },
  {
   "cell_type": "markdown",
   "metadata": {},
   "source": [
    "### Complex valued variables\n",
    "\n",
    " <span style='background:rgba(255,0,255, 0.25); color:black'> ***Key points:*** </span>\n",
    "\n",
    "- Python uses the electrical engineering $j$ convention to denote imaginary components, i.e., $j=\\sqrt{-1}$.\n",
    "\n",
    "\n",
    "- The letter `j` can still be used as a variable for another number with no issues. In fact, is it commonly used as a variable when we \"loop\" through operations as we will see in future notebooks."
   ]
  },
  {
   "cell_type": "code",
   "execution_count": null,
   "metadata": {},
   "outputs": [],
   "source": [
    "j = 3.68439876 #Clearly not the square root of negative one\n",
    "\n",
    "alpha = 3.0-4.0j #3.0 - 4.0j is not equal to 3.0-4.0*j, see below\n",
    "\n",
    "print()\n",
    "print( alpha, 'is of type', type(alpha) )\n",
    "\n",
    "print()\n",
    "print( alpha, ' has length', abs(alpha) )\n",
    "\n",
    "print()\n",
    "print( 'If j =', j, 'then 3.0-4.0*j =', 3.0-4.0*j )"
   ]
  },
  {
   "cell_type": "markdown",
   "metadata": {},
   "source": [
    "### Strings:\n",
    "\n",
    " <span style='background:rgba(255,0,255, 0.25); color:black'> ***Key points:*** </span>\n",
    "\n",
    "\n",
    "- Many binary operations do not apply to strings, but one can do + to concatenate two strings into one. \n",
    "***Concatenation is particularly useful when creating filenames for saving/loading data in loops.***\n",
    "I use this a lot!\n",
    "\n",
    "\n",
    "- We can also create multiples of the text."
   ]
  },
  {
   "cell_type": "code",
   "execution_count": null,
   "metadata": {},
   "outputs": [],
   "source": [
    "text = 'Hello'\n",
    "text += ', World : ' #This is the same as text = text + ', World : '\n",
    "\n",
    "print()\n",
    "print( text )\n",
    "\n",
    "text *= 3 #This is the same as text = 3*text\n",
    "print()\n",
    "print( text )"
   ]
  },
  {
   "cell_type": "markdown",
   "metadata": {},
   "source": [
    "Due to casting, printing a variable without its type may lead you into thinking a variable is of a different type than it actually is."
   ]
  },
  {
   "cell_type": "code",
   "execution_count": null,
   "metadata": {},
   "outputs": [],
   "source": [
    "one_str = '1'\n",
    "\n",
    "print()\n",
    "print( one_str, 'is of type', type(one_str))\n",
    "\n",
    "one_int = int(one_str)\n",
    "\n",
    "print()\n",
    "print( one_int, 'is of type', type(one_int))\n",
    "\n",
    "one_float = float(one_str)\n",
    "\n",
    "print()\n",
    "print( one_float, 'is of type', type(one_float))\n",
    "\n",
    "one_float_str = str(one_float)\n",
    "\n",
    "print()\n",
    "print( one_float_str, 'is of type', type(one_float_str))"
   ]
  },
  {
   "cell_type": "markdown",
   "metadata": {},
   "source": [
    "<hr style=\"border:5px solid cyan\"> </hr>\n",
    "\n",
    "## <span style='background:rgba(0,255,255, 0.5); color:black'>Activity: Practice with casting and printing</span> <a id='activity-casting'/>\n",
    "\n",
    "Fill in the missing pieces of the code below to create and print the string variable `str_var`."
   ]
  },
  {
   "cell_type": "code",
   "execution_count": null,
   "metadata": {},
   "outputs": [],
   "source": [
    "x = 3.14159\n",
    "\n",
    "x_str =  #x cast as a string\n",
    "\n",
    "x_int_str =  #x cast as an int and then cast as a string\n",
    "\n",
    "str_var = x_str + ' is a reasonable approximation of pi.'\n",
    "\n",
    "str_var += ' ' + x_int_str + ' is a terrible approximation of pi.'\n",
    "\n",
    "print()\n",
    "print(str_var)"
   ]
  },
  {
   "cell_type": "markdown",
   "metadata": {},
   "source": [
    "<hr style=\"border:5px solid cyan\"> </hr>"
   ]
  },
  {
   "cell_type": "markdown",
   "metadata": {},
   "source": [
    "### Who's Who in Memory (the first magic command)\n",
    "\n",
    "We have now created quite a few variables that are stored in memory.\n",
    "So, let us take a second and discuss how we can view what variables are and their types in a convenient way.\n",
    "\n",
    " <span style='background:rgba(255,0,255, 0.25); color:black'> ***Key points:*** </span>\n",
    "\n",
    "- IPython \"magic\" commands are conventionally prefaced by %. \n",
    "\n",
    "   ***If you run these commands in a non-interactive Python environment, then they will not work. You typically only include these commands as you are debugging code in an interactive environment such as an IPython terminal or a Jupyter Notebook.***\n",
    "\n",
    "\n",
    "- The `%whos` command is particularly useful for debugging as it returns all variables in memory along with their type."
   ]
  },
  {
   "cell_type": "code",
   "execution_count": null,
   "metadata": {
    "scrolled": false
   },
   "outputs": [],
   "source": [
    "%whos"
   ]
  },
  {
   "cell_type": "code",
   "execution_count": null,
   "metadata": {},
   "outputs": [],
   "source": [
    "%lsmagic #Lists all available magic commands"
   ]
  },
  {
   "cell_type": "markdown",
   "metadata": {},
   "source": [
    "### Okay, time to finish up with this notebook with a very important variable type\n",
    "---\n",
    "\n",
    "### Python Lists\n",
    "\n",
    " <span style='background:rgba(255,0,255, 0.25); color:black'> ***Key points:*** </span>\n",
    "\n",
    "\n",
    "- Lists are ***ordered arrays*** of almost any type of variable or mixed-types of variables you can think of using in Python. You can even make a ***list of lists***. You use lists when the order matters in the code, e.g., when you plan on looping through the elements of the list in some ordered way. Other popular ways to handle data structures include dictionaries and sets (e.g., see https://docs.python.org/3/tutorial/datastructures.html).\n",
    "\n",
    "\n",
    "- Indexing ***starts at zero***. This means that the first element of a list is indexed by a zero, the second element is indexed by 1, and so on. If it seems confusing at first, don't worry, you'll get use to it. This is also discussed below in greater detail when using arrays."
   ]
  },
  {
   "cell_type": "code",
   "execution_count": null,
   "metadata": {},
   "outputs": [],
   "source": [
    "float_list = [1.0, 2.0, 3.0]  #list of floats  \n",
    "\n",
    "print()\n",
    "print( 'float_list = ', float_list )\n",
    "\n",
    "print()\n",
    "print( 'float_list*2 = ', float_list*2 ) #What do you think this should produce?\n",
    "\n",
    "print()\n",
    "print( 'float_list[0] = ', float_list[0] )\n",
    "\n",
    "print()\n",
    "print( 'float_list[0]*2 = ', float_list[0]*2 )\n",
    "\n",
    "print()\n",
    "print(float_list)"
   ]
  },
  {
   "cell_type": "markdown",
   "metadata": {},
   "source": [
    "The `range` function is useful for creating an object that can be iterated over from a *starting* point to some *ending* point by a certain *step size*. \n",
    "\n",
    "While it does not create a list, it can be used to quickly create lists of ordered numbers very quickly as shown below."
   ]
  },
  {
   "cell_type": "code",
   "execution_count": null,
   "metadata": {},
   "outputs": [],
   "source": [
    "print(range(1,20,2)) \n",
    "\n",
    "print()\n",
    "\n",
    "print(type(range(1,20,2))) "
   ]
  },
  {
   "cell_type": "code",
   "execution_count": null,
   "metadata": {},
   "outputs": [],
   "source": [
    "int_list = list(range(1,20,2)) #build a list, start with 1, add 2 while less than 20\n",
    "\n",
    "print()\n",
    "print( 'int_list = ', int_list )\n",
    "\n",
    "print()\n",
    "print( '(type(int_list), type(float_list)) = ', (type(int_list), type(float_list)) )"
   ]
  },
  {
   "cell_type": "code",
   "execution_count": null,
   "metadata": {},
   "outputs": [],
   "source": [
    "list_of_lists = [float_list, int_list] #build a list of lists\n",
    "\n",
    "print()\n",
    "print( 'mixed_list = ', list_of_lists)\n",
    "\n",
    "print()\n",
    "print( 'mixed_list[0] = ', list_of_lists[0] )\n",
    "\n",
    "print()\n",
    "print( 'mixed_list[1] = ', list_of_lists[1] )\n",
    "\n",
    "print()\n",
    "print( 'mixed_list[0][1] = ', list_of_lists[0][1] )\n",
    "\n",
    "print()\n",
    "print( 'mixed_list[1][2] = ', list_of_lists[1][2] )"
   ]
  },
  {
   "cell_type": "code",
   "execution_count": null,
   "metadata": {},
   "outputs": [],
   "source": [
    "conc_list = int_list + float_list #Concatenation of lists\n",
    "\n",
    "print()\n",
    "print( 'conc_list = ', conc_list )"
   ]
  },
  {
   "cell_type": "markdown",
   "metadata": {},
   "source": [
    "### A few quick notes about lists\n",
    "---\n",
    "\n",
    "* While we can build a list of numbers, their group behavior does ***not*** match the individual behavior. For example, in the code above, `float_list*2` produces a list of floats that is not equal to the floats within the list multiplied by 2.\n",
    "<br>\n",
    "\n",
    "* Below, we work with **numpy** *arrays* which are lists that behave more like vectors and matrices. Generally, if the objective is to do actual scientific computations on the lists that are like matrix or vector operations, then we want to use `numpy` arrays not lists. If you have any experience with Matlab, then working with `numpy` should feel more natural. \n",
    "<br>\n",
    "\n",
    "* In your assignment, you will be exposed to [more on lists](https://docs.python.org/3/tutorial/datastructures.html#more-on-lists) with a focus on some useful manipulations of this data type.\n",
    "<br>\n",
    "\n",
    "* [List comprehensions](https://docs.python.org/3/tutorial/datastructures.html#list-comprehensions) are special ways of creating lists using loops, functions, and logic. Since those are topics for the next lecture, we only mention this here. The assignment for the next lecture will return to this specific topic."
   ]
  },
  {
   "cell_type": "markdown",
   "metadata": {},
   "source": [
    "### What about dictionaries and other data types?\n",
    "---\n",
    "\n",
    "A [dictionary](https://docs.python.org/3/tutorial/datastructures.html#dictionaries) is another useful data type in Python, but it is a bit more specialized. \n",
    "They often arise when we read in data files that have a type of \"spreadsheet\" format with labels for useful data (think of a spreadsheet where each column of data has a \"header\" describing what the data means).\n",
    "\n",
    "Another useful data type is a [tuple](https://docs.python.org/3/tutorial/datastructures.html#tuples-and-sequences), which often arise when functions return multiple distinct pieces of information.\n",
    "They also arise when we [zip up](https://docs.python.org/3/library/functions.html#zip) lists/arrays of the same size in loops that use multiple pieces of information.\n",
    "\n",
    "Both of these are important, but we do not have a specific use for these data types now. \n",
    "It is simply enough to be aware that there are plenty of other data types available to us and documentation exists for these.\n",
    "\n",
    "The takeaway is that there are many useful data types, and we often choose or come across certain types depending on how we plan on using/interacting with the data. We will become more accustomed to this as we progress through our lectures.\n"
   ]
  },
  {
   "cell_type": "markdown",
   "metadata": {},
   "source": [
    "<hr style=\"border:5px solid cyan\"> </hr>\n",
    "\n",
    "## <span style='background:rgba(0,255,255, 0.5); color:black'>Activity: Summary</span> <a id='activity-summary'/>\n",
    "\n",
    "***In general, you will be asked to summarize some of the key takeaways/points at the end of each notebook in a markdown cell like this and prepare a few code examples related to these takeaways/points. I will get you started with the markdown summary (although you should feel free to add to it). You need to fill in some examples that are related to my (and any of your) summary points.***\n",
    "\n",
    "In this notebook, we have seen the following:\n",
    "\n",
    "* Variables of type `int`, `float`, `str`, and `list`, but there are even more types we have not covered such as dictionaries and tuples.\n",
    "\n",
    "\n",
    "* We can print to screen using `print` and use that with the `type` function to print critical information about variable types to the screen.\n",
    "\n",
    "\n",
    "* We can cast variables as different types for greater control of the code.\n",
    "\n",
    "\n",
    "* We can make lists using built-in Python functions such as `range`.\n"
   ]
  },
  {
   "cell_type": "code",
   "execution_count": null,
   "metadata": {},
   "outputs": [],
   "source": [
    "# An example related to first bullet point goes here"
   ]
  },
  {
   "cell_type": "code",
   "execution_count": null,
   "metadata": {},
   "outputs": [],
   "source": [
    "# An example related to the second bullet point goes here"
   ]
  },
  {
   "cell_type": "code",
   "execution_count": null,
   "metadata": {},
   "outputs": [],
   "source": [
    "# An example related to the third bullet point goes here"
   ]
  },
  {
   "cell_type": "code",
   "execution_count": null,
   "metadata": {},
   "outputs": [],
   "source": [
    "# An example related to the fourth bullet point goes here"
   ]
  },
  {
   "cell_type": "markdown",
   "metadata": {},
   "source": [
    "<hr style=\"border:5px solid cyan\"> </hr>"
   ]
  },
  {
   "cell_type": "markdown",
   "metadata": {},
   "source": [
    "### <a href='#Contents'>Click here to return to Notebook Contents</a>"
   ]
  }
 ],
 "metadata": {
  "anaconda-cloud": {},
  "kernelspec": {
   "display_name": "Python 3",
   "language": "python",
   "name": "python3"
  },
  "language_info": {
   "codemirror_mode": {
    "name": "ipython",
    "version": 3
   },
   "file_extension": ".py",
   "mimetype": "text/x-python",
   "name": "python",
   "nbconvert_exporter": "python",
   "pygments_lexer": "ipython3",
   "version": "3.7.6"
  }
 },
 "nbformat": 4,
 "nbformat_minor": 1
}
