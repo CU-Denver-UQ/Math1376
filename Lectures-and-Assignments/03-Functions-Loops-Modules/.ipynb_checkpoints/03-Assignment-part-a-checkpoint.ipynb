{
 "cells": [
  {
   "cell_type": "markdown",
   "metadata": {},
   "source": [
    "# Math  1376: Programming for Data Science\n",
    "---\n",
    "\n",
    "## Assignment 03 (part a): functions and logic (due by 11:59 p.m. Friday of week 5 of class)\n",
    "---"
   ]
  },
  {
   "cell_type": "code",
   "execution_count": null,
   "metadata": {},
   "outputs": [],
   "source": [
    "import numpy as np"
   ]
  },
  {
   "cell_type": "markdown",
   "metadata": {},
   "source": [
    "## Problem 1: Population growth\n",
    "---\n",
    "\n",
    "(a) Use the Markdown cell below to summarize the population growth model and its solution described here: https://en.wikipedia.org/wiki/Logistic_function#In_ecology:_modeling_population_growth\n",
    "\n",
    "(b) Code the solution function in the code cell below. The function should have keyword arguments for the model parameters $r$, $P_0$, and $K$ (described in your Markdown cell) as well as for the time $t$ for which the solution is to be evaluated. \n",
    "\n",
    "(c) Evaluate this function with $r=0.01$, $P_0=1$, $K=2$, at $t = 1, 10, 100$, and $1000$ and print results. Then, make $r=0.5$ and repeat. Discuss/interpret the results in terms of the sensitivity of the model to increasing $r$ values. "
   ]
  },
  {
   "cell_type": "markdown",
   "metadata": {},
   "source": []
  },
  {
   "cell_type": "code",
   "execution_count": null,
   "metadata": {},
   "outputs": [],
   "source": [
    "# Code solution function here"
   ]
  },
  {
   "cell_type": "markdown",
   "metadata": {},
   "source": []
  },
  {
   "cell_type": "markdown",
   "metadata": {},
   "source": [
    "## Problem 2: Radial Basis Functions (RBFs)\n",
    "---\n",
    "\n",
    "[Radial Basis Functions (RBFs)](https://en.wikipedia.org/wiki/Radial_basis_function) are used in many applications and disciplines such as non-parametric density estimation in statistics, approximations of function responses on unstructured data sets, and defining some types of artificial neural networks.\n",
    "In other words, they are [kind of a big deal](https://www.youtube.com/watch?v=H8OxKx6zKkQ).\n",
    "\n",
    "The big picture idea behind why we use an RBF is this. We have some information about \"what happens\" at a point $\\mathbf{c}$, and we want to use this information to \"infer what may happen\" at a point $\\mathbf{x}$. Now, if $\\mathbf{x}$ is \"close\" to $\\mathbf{c}$, then it seems like the knowledge we have about what happens at $\\mathbf{c}$ should play a big role in informing what we think may happen at $\\mathbf{x}$. On the other hand, if $\\mathbf{x}$ is \"far away\" from $\\mathbf{c}$, then perhaps we should reduce how much we rely on the knowledge we have at $\\mathbf{c}$ to inform us about what may happen at $\\mathbf{x}$. \n",
    "\n",
    "A few things have to be made more concrete: what functions exhibit such desirable features, what do we mean by \"close\" and \"far away\", and how do we measure distance anyway?\n",
    "\n",
    "To make this a bit more mathematically precise, we formalize our notation. \n",
    "- Let $\\phi$ denote an RBF that maps a \"distance\" $r\\in[0,\\infty)$ into $\\mathbf{R}$ such that $\\phi(0)$ is the maximum and $\\phi(r_1)>\\phi(r_2)$ whenever $0\\leq r_1<r_2$.\n",
    "\n",
    "- Let $\\mathbf{c}$ denote some point in a vector space at which we \"know something.\"\n",
    "\n",
    "- Let $\\mathbf{x}$ denote some other point in the vector space where we would like to \"infer something.\"\n",
    "\n",
    "- Let $r=\\vert\\vert\\mathbf{x}-\\mathbf{c}\\vert\\vert$ denote the distance from $\\mathbf{x}$ to $\\mathbf{c}$ where $\\vert\\vert\\cdot\\vert\\vert$ denotes a norm on the vector space.\n",
    "\n",
    "Wait, how do we compute $r$? What does $\\vert\\vert \\cdot \\vert\\vert$ being a norm mean? \n",
    "\n",
    "We are going to assume the vector space is $\\mathbf{R}^k$ for some positive integer $k$. If $k=2$, then this is your standard 2-D space you are familiar with from plotting functions given as $y=f(x)$. If $k=3$, then this is your standard 3-D space that you interact with on a daily basis. Of course, we can make $k=10, 100, 232, 5689201$, etc., and we actually deal with those types of spaces more often than you may think. Whatever $k$ is, we still need to figure out someway of measuring distance between two points in $\\mathbf{R}^k$. One option is the \"standard norm\" (the straight line distance or [Euclidean distance](https://en.wikipedia.org/wiki/Euclidean_distance)). There are other options (e.g., see https://en.wikipedia.org/wiki/Taxicab_geometry, https://en.wikipedia.org/wiki/Minkowski_distance, and https://en.wikipedia.org/wiki/Chebyshev_distance, which are all relevant to many algorithms in machine learning and data science). They are actually pretty simple functions to code up yourself, but the great thing is that `numpy.linalg` has a function [`norm`](https://docs.scipy.org/doc/numpy/reference/generated/numpy.linalg.norm.html) that allows you to pass an `ord` parameter to define which type of norm you want to use. \n",
    "\n",
    "\n",
    "(a) Read the Wiki page linked to above and summarize the following RBFs in the Markdown cell below: Gaussian and Bump function. Since we still have not addressed what is meant by \"close\" or \"far away\", your summary of these RBFs should attempt to explain the role of the shape parameter $\\epsilon$ in determining what is considered close and far away. \n",
    "\n",
    "\n",
    "(b) Create three functions: `my_Gaussian`, `my_Bump`, and a \"wrapper\" function called `my_RBFs` function that will choose which of these two RBFs to evaluate based on a string argument `which_RBF=my_Gaussian` that defaults to the Gaussian RBF. These functions should also take in as arguments the following: `x` and `c` (both `numpy` arrays of the same size), the shape parameter `eps`,  and `ord` (which determines the norm used to compute $r=\\vert \\vert \\mathbf{x}-\\mathbf{c} \\vert\\vert$ where you use the [`norm`](https://docs.scipy.org/doc/numpy/reference/generated/numpy.linalg.norm.html) function in `numpy.linalg` to compute this norm).\n",
    "\n",
    "\n",
    "(c) Use the wrapper function to verify that both RBFs can be evaluated on $\\mathbf{R}$, $\\mathbf{R}^2$, and $\\mathbf{R}^{10}$ with different choices of `ord`. This requires you to determine what the correct outputs should be for some \"suitable test inputs\". Think about how you would present this to a classmate, yourself a month from now, and me as your grader. How would you convince someone that what you coded is giving the correct outputs?\n",
    "\n",
    "\n",
    "(d) Use the wrapper function along with matplotlib to construct two 1-dimensional plots for each of these RBFs with different `eps` values. Interpret the results in a Markdown cell.\n"
   ]
  },
  {
   "cell_type": "markdown",
   "metadata": {},
   "source": []
  },
  {
   "cell_type": "code",
   "execution_count": null,
   "metadata": {},
   "outputs": [],
   "source": []
  },
  {
   "cell_type": "code",
   "execution_count": null,
   "metadata": {},
   "outputs": [],
   "source": []
  },
  {
   "cell_type": "code",
   "execution_count": null,
   "metadata": {},
   "outputs": [],
   "source": []
  },
  {
   "cell_type": "code",
   "execution_count": null,
   "metadata": {},
   "outputs": [],
   "source": []
  },
  {
   "cell_type": "code",
   "execution_count": null,
   "metadata": {},
   "outputs": [],
   "source": []
  }
 ],
 "metadata": {
  "kernelspec": {
   "display_name": "Python 3",
   "language": "python",
   "name": "python3"
  },
  "language_info": {
   "codemirror_mode": {
    "name": "ipython",
    "version": 3
   },
   "file_extension": ".py",
   "mimetype": "text/x-python",
   "name": "python",
   "nbconvert_exporter": "python",
   "pygments_lexer": "ipython3",
   "version": "3.7.6"
  }
 },
 "nbformat": 4,
 "nbformat_minor": 2
}
