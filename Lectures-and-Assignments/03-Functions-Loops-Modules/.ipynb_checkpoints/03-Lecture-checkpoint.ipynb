{
 "cells": [
  {
   "cell_type": "markdown",
   "metadata": {},
   "source": [
    "# Math  1376: Programming for Data Science\n",
    "---"
   ]
  },
  {
   "cell_type": "code",
   "execution_count": null,
   "metadata": {},
   "outputs": [],
   "source": [
    "import numpy as np #We will use numpy in this lecture"
   ]
  },
  {
   "cell_type": "markdown",
   "metadata": {},
   "source": [
    "## Lecture 3: Logic, functions, loops, and modules (3 lectures for the price of 1! So much value. Just so much value.)\n",
    "\n",
    "### We break this lecture up into separate parts based on content and expected time to complete to help you manage your time. As with the previous lecture, you are not expected to work through all of this in one sitting.\n",
    "\n",
    "In this lecture, we will explore how to control workflow in a code using conditionals (logic) and loops. \n",
    "\n",
    "For more information, check out the online documentation available at https://docs.python.org/3/tutorial/controlflow.html. \n",
    "\n",
    "We will also see how to make code more modular by creating user-defined functions and modules. "
   ]
  },
  {
   "cell_type": "markdown",
   "metadata": {},
   "source": [
    "## Part 1(a): Conditionals & Comparisons in Python (Approx. time: 1 hour 15 minutes)\n",
    "    \n",
    "### Conditionals in Python    \n",
    "\n",
    "Most logical flows can be accomplished using the if/elif/else syntax:\n",
    "\n",
    "```\n",
    "if condition:\n",
    "    #do stuff\n",
    "elif condition: #elif is interpreted as \"else if\"\n",
    "    #do stuff\n",
    "else:\n",
    "    #do stuff\n",
    "```       \n",
    "\n",
    "***All parts of the conditional are indented.***\n",
    "\n",
    "Unlike other languages that use terms like \"end\" or \"end if\" (or perhaps make use of brackets like \"{ }\") to signify the block of code corresponding to an if-elseif-else, ***Python interprets everything in terms of indenting.*** \n",
    "This is also true in for-loops as we will see below.\n",
    "\n",
    "We can dwell on this point further or simply see it in action. \n",
    "***You will get used to this and it makes Python code fairly easy to read.***\n",
    "       \n",
    "### Comparison operators  (*LET a=3, b=5*)\n",
    "\n",
    "To start setting up conditions, we first need to understand ***comparison operators*** available in Python.\n",
    "Evaluation of these comparison operators returns a `True` or a `False` which dictates the workflow.\n",
    "\n",
    "Below, we assume `a=2` and `b=3`.\n",
    "\n",
    "`==`:\tIf the values of two operands are equal, then the condition becomes true.\t*(a == b) is false.*\n",
    "\n",
    "`!=`:\tIf values of two operands are not equal, then condition becomes true.  *(a != b) is true.* (Alternatively, one could use `<>` in place of `!=`, but this is not very common.)\n",
    "\n",
    "`>`:\tIf the value of left operand is greater than the value of right operand, then condition becomes true.\t*(a > b) is false.*\n",
    "\n",
    "`<`: If the value of left operand is less than the value of right operand, then condition becomes true.\t*(a < b) is true.*\n",
    "\n",
    "`>=`:\tIf the value of left operand is greater than or equal to the value of right operand, then condition becomes true.\t*(a >= b) is false.*\n",
    "\n",
    "`<=`:\tIf the value of left operand is less than or equal to the value of right operand, then condition becomes true.\t*(a <= b) is true.*\n",
    "\n",
    "We can use `and` and `or` to combine sets of comparison operators and ``not`` to negate a statement. \n",
    "\n",
    "Let's see some of this in action below. ***Try making your own comparisons not shown below.***"
   ]
  },
  {
   "cell_type": "code",
   "execution_count": null,
   "metadata": {},
   "outputs": [],
   "source": [
    "a = 2\n",
    "b = 3"
   ]
  },
  {
   "cell_type": "code",
   "execution_count": null,
   "metadata": {},
   "outputs": [],
   "source": [
    "print(a == b)"
   ]
  },
  {
   "cell_type": "code",
   "execution_count": null,
   "metadata": {},
   "outputs": [],
   "source": [
    "print(a != b)"
   ]
  },
  {
   "cell_type": "code",
   "execution_count": null,
   "metadata": {},
   "outputs": [],
   "source": [
    "print(a > b)"
   ]
  },
  {
   "cell_type": "code",
   "execution_count": null,
   "metadata": {},
   "outputs": [],
   "source": [
    "print((a > b) or (a != b))"
   ]
  },
  {
   "cell_type": "code",
   "execution_count": null,
   "metadata": {},
   "outputs": [],
   "source": [
    "print((a > b) and (a != b))"
   ]
  },
  {
   "cell_type": "code",
   "execution_count": null,
   "metadata": {
    "scrolled": true
   },
   "outputs": [],
   "source": [
    "print(not(a > b) and (a != b))"
   ]
  },
  {
   "cell_type": "markdown",
   "metadata": {},
   "source": [
    "## Activity\n",
    "\n",
    "1. Try changing different values of `x` in the code snippets below and see what happens.\n",
    "\n",
    "2. Something is *missing* in the code below. Figure out what it is, and add it to the code so that f is always assigned the correct value and some useful feedback is always printed to screen."
   ]
  },
  {
   "cell_type": "code",
   "execution_count": null,
   "metadata": {},
   "outputs": [],
   "source": [
    "x = 3 # Try different values\n",
    "\n",
    "if x >= 0 and not(x == 2 or x == 3):\n",
    "    f = np.power(x,.5)/((x-2)*(x-3)) #f is the square root of x divided by (x-2)*(x-3)\n",
    "    print( f )\n",
    "elif x < 0:\n",
    "    print( 'Square root of negative number' )\n",
    "    f = np.nan\n",
    "elif x == 2.0:\n",
    "    print( 'Division by zero with different limits' )\n",
    "    f = np.nan"
   ]
  },
  {
   "cell_type": "markdown",
   "metadata": {},
   "source": [
    "## Activity\n",
    "\n",
    "Complete the code below to evaluate\n",
    "$$\n",
    "    f(x) = \\begin{cases}\n",
    "                1 + x, & x\\in[-1,0], \\\\\n",
    "                1 - x, & x\\in(0, 1], \\\\\n",
    "                0, & \\text{else}.\n",
    "            \\end{cases}\n",
    "$$"
   ]
  },
  {
   "cell_type": "code",
   "execution_count": null,
   "metadata": {},
   "outputs": [],
   "source": [
    "x = -.25 # Try different values\n",
    "\n",
    "if -1 <= x and :\n",
    "    f = \n",
    "elif :\n",
    "    f = \n",
    "else: \n",
    "    f = \n",
    "    \n",
    "print(f)"
   ]
  },
  {
   "cell_type": "markdown",
   "metadata": {},
   "source": [
    "## Functions in Python (Motivation) \n",
    "In the code snippets above, a value of `x` serves as the input into a conditional statement that determines what output value `f` should be assigned based on the value of `x`. If we wish to use this functionality many times in the code, we would probably like to avoid writing the if/elif/else structure at each point where it is to be used for a variety of reasons including, but not limited to, the following:\n",
    "\n",
    "- If we ever decide to change how `f` is computed, then we would have to find/replace every instance of it within the code (likely leading to errors, or worse yet, code that does not crash but gives wrong outputs).\n",
    "\n",
    "- Even the most terse scientific code can easily become hundreds (if not thousands) of lines long, and we want to avoid making the code more difficult to read, use, and debug than is absolutely necessary. \n",
    "\n",
    "This motivates the development of user-defined functions in Python. The basic syntax is shown below.\n",
    "\n",
    "```\n",
    "def functionname( parameters ):\n",
    "   '''function_docstring'''\n",
    "   function_suite\n",
    "   return [expression]\n",
    "```"
   ]
  },
  {
   "cell_type": "markdown",
   "metadata": {},
   "source": [
    "### A brief discussion on docstrings and commenting in code\n",
    "Between the (triple) tick marks ''' (you can also use quotation marks \"\"\" but it looks a little messier in my opinion) is where you put in a documentation string (a.k.a. ***docstring***) for your function.  It is entirely optional, but it is always a good idea to document your code even when it is entirely in the developmental/testing phase. There are some best practices that you can read about at https://docs.python.org/devguide/documenting.html or http://docs.python-guide.org/en/latest/writing/documentation/. \n",
    "\n",
    "Good tools such as Sphinx http://www.sphinx-doc.org/en/1.4.9/ can turn properly documented code into easy to read/navigate html files to help expand the community of users for any code you develop. For example, see http://ut-chg.github.io/BET/ where Sphinx was used to generate the documentation. These tools are outside the scope of this tutorial, but we highly recommend that you learn a bit about them before attemping to make very sophisticated software packages. \n",
    "\n",
    "Knowledge of, and proficiency in, using these tools can help give you the edge in a competitive job market! \n",
    "\n",
    "***You will need to work with docstrings in your assignment.***"
   ]
  },
  {
   "cell_type": "markdown",
   "metadata": {},
   "source": [
    "### parameters and keyword arguments in a function\n",
    "Notice that in the definition of the function, there is a `parameters` variable, which is often a list of parameters (as shown below). These are normally ordered **UNLESS** you supplement them with *keyword args* in the function call (i.e., when you actually use the function you may specify which argument corresponds to which parameter).  \n",
    "\n",
    "The next few code snippet illustrates this."
   ]
  },
  {
   "cell_type": "code",
   "execution_count": null,
   "metadata": {},
   "outputs": [],
   "source": [
    "def myfun1(x,y):\n",
    "    '''\n",
    "    This function returns x+2y if x<y otherwise it returns x-2y.\n",
    "    '''\n",
    "    if x < y:\n",
    "        z = x + 2*y\n",
    "    else:\n",
    "        z = x - 2*y\n",
    "    return z"
   ]
  },
  {
   "cell_type": "code",
   "execution_count": null,
   "metadata": {},
   "outputs": [],
   "source": [
    "# Here is a good reason to have docstrings - you can now use help to recall what a function does!\n",
    "help(myfun1)"
   ]
  },
  {
   "cell_type": "code",
   "execution_count": null,
   "metadata": {},
   "outputs": [],
   "source": [
    "print( myfun1(2,3) )"
   ]
  },
  {
   "cell_type": "code",
   "execution_count": null,
   "metadata": {},
   "outputs": [],
   "source": [
    "print( myfun1(2.0,3.0) )"
   ]
  },
  {
   "cell_type": "code",
   "execution_count": null,
   "metadata": {},
   "outputs": [],
   "source": [
    "print( myfun1(3.0,2.0) ) #switching order of inputs"
   ]
  },
  {
   "cell_type": "code",
   "execution_count": null,
   "metadata": {},
   "outputs": [],
   "source": [
    "print( myfun1(x=2,y=3.0) ) #keyword argument"
   ]
  },
  {
   "cell_type": "code",
   "execution_count": null,
   "metadata": {},
   "outputs": [],
   "source": [
    "print( myfun1(y=3.0,x=2.0) ) #switching the order of inputs of keyword arguments does nothing"
   ]
  },
  {
   "cell_type": "code",
   "execution_count": null,
   "metadata": {},
   "outputs": [],
   "source": [
    "# Try printing myfun1(x=2,3.0). \n",
    "\n",
    "print( myfun1(x=2,3.0) )\n",
    "\n",
    "# The take home message? \n",
    "# Once you commit to using keywords in a function call, \n",
    "# then you better be all in."
   ]
  },
  {
   "cell_type": "code",
   "execution_count": null,
   "metadata": {},
   "outputs": [],
   "source": [
    "print( myfun1('silly ','test') )"
   ]
  },
  {
   "cell_type": "code",
   "execution_count": null,
   "metadata": {},
   "outputs": [],
   "source": [
    "z = myfun1(2,3)\n",
    "print( z )"
   ]
  },
  {
   "cell_type": "markdown",
   "metadata": {},
   "source": [
    "As we see above, Python does not type check the inputs and will attempt to perform operations on whatever is passed to a function. This can be useful in terms of its flexibility, but it can cause some issues. There are ways to make the types of inputs more strict, but we will not cover that here.\n",
    "\n",
    "You can incorporate logic along with the `type` function at the beginning of a function to check if the expected variable types were passed to a function before any computations are performed. Generally, a better approach is to use the [`isinstance`](https://docs.python.org/3/library/functions.html#isinstance) function instead of the `type` function to check variable types. We are not going to dwell on this here. We simply want you to be aware that nothing is stopping a user from trying to pass the \"wrong\" types of arguments to a function (in fact, sometimes people try this just to see if they can). If this is something you are worried about, then there are ways to prevent this from causing a \"crash\" in the code by either checking variable types before computations are done. Alternatively, you may consider putting `try` commands in the function like seen in 02-Assignment-part-b. "
   ]
  },
  {
   "cell_type": "markdown",
   "metadata": {},
   "source": [
    "Python also allows to set defaults within the parameter list of a function call.  Let's tweak `myfun1` a little.\n",
    "\n",
    "Defaults need to **come after** functions parameters with non-default values."
   ]
  },
  {
   "cell_type": "code",
   "execution_count": null,
   "metadata": {},
   "outputs": [],
   "source": [
    "def myfun2(x=1,y=2):\n",
    "    '''\n",
    "    This function is the same as myfun1 except with default values for parameters\n",
    "    '''\n",
    "    if x<y:\n",
    "        z = x + 2*y\n",
    "    else:\n",
    "        z = x - 2*y\n",
    "    return z"
   ]
  },
  {
   "cell_type": "code",
   "execution_count": null,
   "metadata": {
    "scrolled": true
   },
   "outputs": [],
   "source": [
    "print( myfun2() )\n",
    "print( myfun2(1.0) )\n",
    "print( myfun2(y=3) )"
   ]
  },
  {
   "cell_type": "markdown",
   "metadata": {},
   "source": [
    "**We can even use function outputs directly as inputs to another function!**"
   ]
  },
  {
   "cell_type": "code",
   "execution_count": null,
   "metadata": {},
   "outputs": [],
   "source": [
    "print( myfun1(myfun2(), myfun2(y=3) ) )"
   ]
  },
  {
   "cell_type": "markdown",
   "metadata": {},
   "source": [
    "## Activity\n",
    "\n",
    "1. Complete the code below that either converts a temperature given in Celsius to Fahrenheit, a temperature given in Fahrenheit to Celsius, or if two temperatures are given (one in Celsius and one in Fahrenheit) will check if they are the same.\n",
    "\n",
    "2. Add a useful docstring to the function."
   ]
  },
  {
   "cell_type": "code",
   "execution_count": null,
   "metadata": {},
   "outputs": [],
   "source": [
    "def tempFunc(F=None, C=None):\n",
    "    if F == None and C == None:\n",
    "        print('You want nothing?')\n",
    "    elif F == None: #So C is given\n",
    "        print( str(C) + ' Celsius = ' \n",
    "              + str(C * 9/5 + 32) + ' Fahrenheit' )\n",
    "    elif : #So F is given\n",
    "        print( )\n",
    "    else: #So F and C are both given\n",
    "        if np.abs(F - (C*9/5+32)) < np.finfo(np.float32).eps:\n",
    "            print('Those temperatures are the same!')\n",
    "        else:\n",
    "            print('Those temperatures are different!')"
   ]
  },
  {
   "cell_type": "code",
   "execution_count": null,
   "metadata": {},
   "outputs": [],
   "source": [
    "tempFunc(F=212, C = 100)"
   ]
  },
  {
   "cell_type": "markdown",
   "metadata": {},
   "source": [
    "## Part 1(b): Now for something weird. Pass by reference OR pass by value. (Approx time: 1 hour)\n",
    "\n",
    "First, we want to say that it is okay if this does not make perfect sense the first (ten) time(s) you work through this. \n",
    "\n",
    "For more information on this, we encourage you to do some searching online (the answers provided here: https://stackoverflow.com/questions/373419/whats-the-difference-between-passing-by-reference-vs-passing-by-value are a good place to start) and playing around with the simple code below to build intuition.\n",
    "***Basically, there is very little substitute for some time and patience in learning this correctly. Here, we seek to just build some basic intuition about what is going on so that you can be aware of some potential pitfalls.***\n",
    "\n",
    "### Metaphorically speaking...\n",
    "Suppose you are the function and I am passing you information metaphorically in terms of information written on paper:\n",
    "\n",
    "   * Call by value is where I copy something from one piece of paper onto another piece of paper and hand the copy to you. Maybe the information includes that `x=5`. This information is now on a piece of paper which I have given to you, so now it is effectively your piece of paper. You are now free to write on that piece of paper to use that information however you please. Maybe you decide to act upon this information by multiplying the variable `x` by 2, so that you write that now `x=10` on your piece of paper. Suppose you return that piece of paper to me. Does this change what was written on my piece of paper? No! However, I may choose to use your information to then update the information on my original paper.\n",
    "   \n",
    "   \n",
    "   * Call by reference is when I give you my original paper which has something written down in it like `x=5`. Now, if you decide that the value of `x` should be double so that you erase and replace `x=5` with `x=10` and then give me the paper back, my paper now contains this updated information about `x` regardless if I wanted it to or not. \n",
    "   \n",
    "What is the moral here? If I do not want your function to change my information about `x` without my consent, then I should have passed it to you by value.\n",
    "\n",
    "### Technically speaking...\n",
    "####  *Pass by reference*\n",
    "This means Python passes the reference to the variable, not just the value. Or, in other words, the location of the variable in memory (i.e., \"my original paper\") is passed. \n",
    "\n",
    "This can cause some different behavior when certain *in place* operators are used (we'll see an example below).\n",
    "\n",
    "Classes, lists, numpy arrays, etc. are passed by reference. \n",
    "\n",
    "Objects that are passed by reference are called *mutable* (meaning they can mutate, i.e., change after creation). \n",
    "\n",
    "#### *Pass by value* \n",
    "This means Python passes the value and creates a new copy of the variable within the function. Or, in other words, a \"new paper\" is used to put the variable information so that the original variable information is not necessarily changed. \n",
    "\n",
    "Variables that are strings, floats, and ints are passed by value (*they are immutable data types* meaning that the value is left unchanged by the function).\n",
    "\n",
    "#### *scope*\n",
    "\n",
    "Python variables created within a function also have local *scope*.\n",
    "- *scope* usually refers to the visibility of variables. In other words, which parts of your program can see or use it.  ***Local scope*** usually means only within the called function. "
   ]
  },
  {
   "cell_type": "code",
   "execution_count": null,
   "metadata": {},
   "outputs": [],
   "source": [
    "def scope_test(var):\n",
    "    print()\n",
    "    print( 'The variable passed to scope_test is ' +\n",
    "           '\\n var = ', var)\n",
    "    var *= 2 #if var is mutable, replaces in place (pass-by-reference)\n",
    "    print()\n",
    "    print( 'Within scope_test, the passed variable is ' +\n",
    "          'changed to \\n var = ', var)\n",
    "    a = 3\n",
    "    print()\n",
    "    print('Within scope_test, we set the variable \\n a =', a)\n",
    "    return"
   ]
  },
  {
   "cell_type": "code",
   "execution_count": null,
   "metadata": {},
   "outputs": [],
   "source": [
    "a = 2 #An integer is an immutable data type\n",
    "\n",
    "print( 'Before scope_test,\\n a =', a )\n",
    "scope_test(a)\n",
    "print()\n",
    "print( 'After scope_test,\\n a =', a )"
   ]
  },
  {
   "cell_type": "code",
   "execution_count": null,
   "metadata": {},
   "outputs": [],
   "source": [
    "a = np.ones([2,2]) # numpy arrays are mutable\n",
    "\n",
    "print( 'Before scope_test, \\n a =', a )\n",
    "scope_test(a)\n",
    "print()\n",
    "print( 'After scope_test, \\n a =', a )"
   ]
  },
  {
   "cell_type": "code",
   "execution_count": null,
   "metadata": {},
   "outputs": [],
   "source": [
    "a = np.ones([2,2]) # numpy arrays are mutable\n",
    "b = 2 * a\n",
    "print( 'Before scope_test, \\n a =', a )\n",
    "scope_test(b)\n",
    "print()\n",
    "print( 'After scope_test(2*a), \\n a =', a )\n",
    "print( b )"
   ]
  },
  {
   "cell_type": "markdown",
   "metadata": {},
   "source": [
    "### Wait a minute...\n",
    "\n",
    "What if I want to do local work to a *mutable* data type (i.e. a numpy array) but not have the change reflected back after function exit?  \n",
    "\n",
    "The answer is to ***not*** use *in place* operators like +=, \\*=, etc.  `var = var*2` creates a local copy of var and multiplies 2 to every entry."
   ]
  },
  {
   "cell_type": "code",
   "execution_count": null,
   "metadata": {},
   "outputs": [],
   "source": [
    "def scope_test2(var):\n",
    "    var = var * 2  #if mutable, creates local copy of var.\n",
    "    return "
   ]
  },
  {
   "cell_type": "code",
   "execution_count": null,
   "metadata": {},
   "outputs": [],
   "source": [
    "a = np.eye(3) # creates 3x3 array with a_ii = 1, 0 otherwise.\n",
    "print('Before scope_test2,\\n a =', a)\n",
    "scope_test2(a)\n",
    "print()\n",
    "print('After scope_test2,\\n a =', a)"
   ]
  },
  {
   "cell_type": "code",
   "execution_count": null,
   "metadata": {},
   "outputs": [],
   "source": [
    "a = ['hi', 3, myfun1] #this is a strange list indeed!\n",
    "\n",
    "print( 'Before scope_test, \\n a =', a )\n",
    "scope_test(a)\n",
    "print()\n",
    "print( 'After scope_test(, \\n a =', a )"
   ]
  },
  {
   "cell_type": "code",
   "execution_count": null,
   "metadata": {},
   "outputs": [],
   "source": [
    "a = ['hi', 3, myfun1] #this is a strange list indeed!\n",
    "\n",
    "print( 'Before scope_test2, \\n a =', a )\n",
    "scope_test2(a)\n",
    "print()\n",
    "print( 'After scope_test2(, \\n a =', a )"
   ]
  },
  {
   "cell_type": "markdown",
   "metadata": {},
   "source": [
    "## Activity\n",
    "\n",
    "You have probably heard of the *power of compound interest* (if not, read this: https://www.investopedia.com/terms/c/compoundinterest.asp). \n",
    "The basic formula boils down to this:\n",
    "$$\n",
    "  \\large A = P\\left(1+\\frac{r}{n}\\right)^{nt}\n",
    "$$\n",
    "where\n",
    "- $A$ = final amount\n",
    "- $P$ = initial principal balance (e.g., 1000 USD)\n",
    "- $r$ = interest rate (e.g., 7.2%)\n",
    "- $n$ = number of times interest rate is applied per time period (e.g., if one time period is a year and interest is compounded quarterly, then $n=4$)\n",
    "- $t$ = number of time periods elapsed\n",
    "\n",
    "\n",
    "1. Create some code cells below. You will be making two functions `projected_balance` and `update_balance`. Put these in individual code cells below. \n",
    "\n",
    "2. Each function should use the formula above to perform elementwise operations on a list/numpy array of $P$, $r$, $n$, and $t$ values to generate a list/numpy array of $A$ values. \n",
    "\n",
    "3. For `update_balance` use an in-place operator to update the list/array of $P$ values instead of creating a new $A$ list/array. Comment your code with some explanation as to why this is okay in `update_balance` but not in `projected_balance`."
   ]
  },
  {
   "cell_type": "code",
   "execution_count": null,
   "metadata": {},
   "outputs": [],
   "source": []
  },
  {
   "cell_type": "code",
   "execution_count": null,
   "metadata": {},
   "outputs": [],
   "source": []
  },
  {
   "cell_type": "markdown",
   "metadata": {},
   "source": [
    "## Part 2: Looping in Python (Approx. time: 1 hour 15 minutes)\n",
    "---\n",
    "\n",
    "### For loops\n",
    "\n",
    "**Syntax** \n",
    "```\n",
    "for iterator in list:\n",
    "    #indent for the loop\n",
    "    #do cool stuff in the loop\n",
    "#noindent to close the loop'\n",
    "```\n",
    "\n",
    "### The list can be strings, for example:\n",
    "```\n",
    "for string in ('Alpha','Romeo','Sailor','Foxtrot'):\n",
    "    #string takes on values 'Alpha', 'Romeo', etc. in order.\n",
    "    print( string )\n",
    "```\n",
    "\n",
    "### You can iterate over lots of different objects (lists, tuples, dicts, and sets), but we have not covered all of these yet.\n",
    "\n",
    "In many computational and data science problems, you will commonly use the ``range`` command to build lists of numbers for iterating (see https://docs.python.org/3/library/functions.html#func-range).\n",
    "\n",
    "\n",
    "**SYNTAX** \n",
    "```\n",
    "range(stop)  #assumes start=0\n",
    "range(start, stop[, step])\n",
    "```\n",
    "\n",
    "Note that it **DOES NOT** execute the stop value.\n",
    "\n",
    "Let's  sum the first 20 terms of the geometric series corresponding to $2^{-n}$"
   ]
  },
  {
   "cell_type": "code",
   "execution_count": null,
   "metadata": {},
   "outputs": [],
   "source": [
    "# You may want to create a new code block above this one to print out what the range function is doing\n",
    "\n",
    "partial_sum = 0\n",
    "for n in range(20):   #identical to range(0,20) or range(0,20,1)\n",
    "    partial_sum += 2**(-n)\n",
    "    print( 'Sum from n=0 to ' + str(n) + ' of 2^{-n} = ', partial_sum )"
   ]
  },
  {
   "cell_type": "code",
   "execution_count": null,
   "metadata": {},
   "outputs": [],
   "source": [
    "print( 'Now start subtracting from the sum' )\n",
    "    \n",
    "for n in range(19,-1,-1): \n",
    "    partial_sum -= 2**(-n)  \n",
    "    print( 'Sum from n=0 to ' + str(n-1) + ' of 2^{-n} = ', partial_sum )"
   ]
  },
  {
   "cell_type": "markdown",
   "metadata": {},
   "source": [
    "### While loops \n",
    "\n",
    "We often use ***while*** loops for iterative methods where we are unsure exactly how many iterations a process should take (e.g., fixed-point or root-finding methods).\n",
    "\n",
    "```\n",
    "while condition:   #this condition is true\n",
    "    do something cool\n",
    "    update condition, or use break or continue for loop control\n",
    "#no indent as at end of loop\n",
    "```\n",
    "If the the ``condition`` never becomes false, then this will result in an infinite loop, so be careful. It is therefore fairly common practice to include some type of counter which tracks the number of iterations, and negating the condition if the counter reaches a specified value indicating a maximum number of iterations is reached.\n",
    "\n",
    "You can also exit from any for loop by using ``break`` to exit the innermost loop, and ``continue`` to continue to the next iteration of this loop"
   ]
  },
  {
   "cell_type": "markdown",
   "metadata": {},
   "source": [
    "Let's look at an example where we are trying to iterate the following equation\n",
    "$$\n",
    "    x_{n+1}=a\\cdot x_n (1-x_n)\n",
    "$$\n",
    "until we arrive at an approximate fixed point (i.e., until the left and right-hand sides of the equation are approximately equal). To determine when to stop iterating, we set a tolerance parameter, `tol`, as a small positive number and check when $\\vert x_{n+1}-x_n \\vert$ is less than this tolerance."
   ]
  },
  {
   "cell_type": "code",
   "execution_count": null,
   "metadata": {},
   "outputs": [],
   "source": [
    "import math as m\n",
    "\n",
    "a = 2.0 # value in the logistic equation\n",
    "xnew = .49 # initial guess of fixed point\n",
    "tol = 1E-8 # tolerance used for approximation \n",
    "iter_num = 1 # iteration number\n",
    "\n",
    "while iter_num <= 5:\n",
    "    iter_num += 1\n",
    "    xold = xnew # what was new is now the old guess \n",
    "    xnew *= a * (1-xnew) # create a new guess\n",
    "    if m.fabs(xnew-xold) > tol:\n",
    "        print()\n",
    "        print('xold = ', xold)\n",
    "        print('xnew = ', xnew)\n",
    "        print('|xnew-xold| = ', m.fabs(xnew-xold))\n",
    "        print('Not small enough yet, keep going.')\n",
    "    else:\n",
    "        break\n",
    "\n",
    "print()\n",
    "print('After iter_num = ', iter_num)\n",
    "print(\"Fixed Point=\", xnew)"
   ]
  },
  {
   "cell_type": "markdown",
   "metadata": {},
   "source": [
    "## Activity\n",
    "\n",
    "A positive integer (e.g., 1, 2, 3, $\\ldots$) is ***prime*** if the only divisors of it are 1 and itself. \n",
    "\n",
    "1. Create some code cells below.\n",
    "\n",
    "\n",
    "2. In the first code cell, create a function that checks if an input is a prime integer. This code should do the following:\n",
    "\n",
    "  a. Check that the `x` is a positive `int` and let's the user know whether or not the correct type of variable was received. \n",
    "\n",
    "  b. If `x` is a positive `int`, then determine if `x` is a prime number or not and output the following:\n",
    "   \n",
    "   - If `x` is prime, then let the user know.\n",
    "   <br><br>     \n",
    "   - If `x` is not prime, then let the user know and return a list of all divisors of `x`. \n",
    "        \n",
    "A good starting point is to review the code here: https://www.geeksforgeeks.org/python-program-to-check-whether-a-number-is-prime-or-not/"
   ]
  },
  {
   "cell_type": "code",
   "execution_count": null,
   "metadata": {},
   "outputs": [],
   "source": []
  },
  {
   "cell_type": "code",
   "execution_count": null,
   "metadata": {},
   "outputs": [],
   "source": []
  },
  {
   "cell_type": "markdown",
   "metadata": {},
   "source": [
    "## A brief note on [list comprehensions](https://docs.python.org/2/tutorial/datastructures.html#list-comprehensions) and [lambda functions](https://docs.python.org/3/tutorial/controlflow.html#lambda-expressions)\n",
    "\n",
    "We mentioned list comprehensions briefly in the previous lecture. \n",
    "The basic idea is to use a function/rule *written within the list declaration* to quickly construct a list by looping over some particular inputs.\n",
    "The code cells below highlight the basic ideas using an example from the documentation."
   ]
  },
  {
   "cell_type": "code",
   "execution_count": null,
   "metadata": {},
   "outputs": [],
   "source": [
    "# A \"clunky\" way of constructing a list\n",
    "\n",
    "squares = [] #Create an empty list\n",
    "for x in range(10):\n",
    "    squares.append(x**2) #Add the square of x to the end of the list\n",
    "\n",
    "print(squares)"
   ]
  },
  {
   "cell_type": "code",
   "execution_count": null,
   "metadata": {},
   "outputs": [],
   "source": [
    "# The \"slick\" way of constructing a list with a list comprehension\n",
    "\n",
    "squares = [x**2 for x in range(10)]\n",
    "\n",
    "print(squares)"
   ]
  },
  {
   "cell_type": "markdown",
   "metadata": {},
   "source": [
    "Imagine we have an explicit function defined that carries out a complicated operation on transforming some input data `x` into a useful output data `y`, then we can also use this in a list comprehension as shown below."
   ]
  },
  {
   "cell_type": "code",
   "execution_count": null,
   "metadata": {},
   "outputs": [],
   "source": [
    "# This is admittedly kind of silly\n",
    "def my_complicated_function(x):\n",
    "    y = x**5 - 2*x**2 + x-3\n",
    "    return y"
   ]
  },
  {
   "cell_type": "code",
   "execution_count": null,
   "metadata": {},
   "outputs": [],
   "source": [
    "# Suppose the inputs we care about are stored in a list\n",
    "my_x_values = [0, 5, -3, 10, 15]\n",
    "\n",
    "my_y_values = [my_complicated_function(x) for x in my_x_values]\n",
    "\n",
    "print(my_y_values)"
   ]
  },
  {
   "cell_type": "markdown",
   "metadata": {},
   "source": [
    "Well, obviously there was nothing that complicated about the function above (it is just a polynomial). It is simple enough to be defined by a single line of code (in fact, we can just return the `x**5 - 2*x**2 + x-3` result directly without ever declaring a `y` variable). \n",
    "\n",
    "When that happens, we can use [`lambda`](https://realpython.com/python-lambda/) functions instead. My favorite quote about `lambda` functions is this:\n",
    "\n",
    "> Unlike lambda forms in other languages, where they add functionality, Python lambdas are only a shorthand notation if you’re too lazy to define a function.\n",
    "<br><br> Functions are already first class objects in Python, and can be declared in a local scope. Therefore the only advantage of using a lambda instead of a locally-defined function is that you don’t need to invent a name for the function – but that’s just a local variable to which the function object (which is exactly the same type of object that a lambda expression yields) is assigned!\n",
    "\n",
    "What does that mean? Basically, it comes down to this: if you just wanted to use the computation `x**5 - 2*x**2 + x-3` for a little bit of time in a very localized area of the code, then you might as well be \"lazy\" about it and define a `lambda` function. We show this below."
   ]
  },
  {
   "cell_type": "code",
   "execution_count": null,
   "metadata": {},
   "outputs": [],
   "source": [
    "f = lambda x : x**5 - 2*x**2 + x-3\n",
    "\n",
    "my_y_values = [f(x) for x in my_x_values]\n",
    "\n",
    "print(my_y_values)"
   ]
  },
  {
   "cell_type": "markdown",
   "metadata": {},
   "source": [
    "Then, later on in the code, you may re-define `f` to be a new `lambda` function (some simple and easy function) based on what you now want that function to be to make code that uses that function look a bit simpler. \n",
    "\n",
    "Is there any real reason to do this? Not really. It is just a lazy way to do things, but at times it is convenient.\n",
    "We will encounter this in the next set of lecture notes on scientific computing applications where we want to test some algorithms on different types of functions. \n",
    "\n",
    "We do not dwell on it further here except to show another nice use-case where a `lambda` function can help make code less \"clunky\" looking. \n",
    "See if you can add some comments to this code cell below to explain what is going on."
   ]
  },
  {
   "cell_type": "code",
   "execution_count": null,
   "metadata": {},
   "outputs": [],
   "source": [
    "def my_other_complicated_function(x):\n",
    "    y = np.sin(x) + np.exp(-2*x)\n",
    "    return y\n",
    "\n",
    "f = lambda x : my_other_complicated_function(my_complicated_function(x))\n",
    "\n",
    "my_y_values = [f(x) for x in my_x_values]\n",
    "\n",
    "print(my_y_values)"
   ]
  },
  {
   "cell_type": "markdown",
   "metadata": {
    "collapsed": true
   },
   "source": [
    "## Part 3: Modules (Approx. time 1 hour)\n",
    "\n",
    "### What is it?\n",
    "* A file containing Python definitions and statements.\n",
    "* The file name is the module name with the suffix .py appended.\n",
    "* Within a module, the module's name is available as the global variable *__name__*.\n",
    "\n",
    "### When to use:\n",
    "* Your script gets very long and you want to have easier maintenance. \n",
    "* You want to reuse a function in several programs or scripts without copy/paste.\n",
    "* Performance reasons.\n",
    "\n",
    "Let's look at an example:\n",
    "\n",
    "Go to the Home tab and left click on ``differences.py`` and then look at the code cell below.\n",
    "\n",
    "The `differences` module contains several functions for approximating the [derivative](https://en.wikipedia.org/wiki/Derivative) of a function using [finite differences](https://en.wikipedia.org/wiki/Finite_difference_method)."
   ]
  },
  {
   "cell_type": "code",
   "execution_count": null,
   "metadata": {},
   "outputs": [],
   "source": [
    "#Try changing inline to notebook. \n",
    "%matplotlib inline  \n",
    "'''\n",
    "differences.py was included in the repo and should be located within \n",
    "the same directory as this lecture\n",
    "'''\n",
    "import differences as diff # We import the module just like we import numpy\n",
    "import matplotlib.pyplot as plt\n",
    "\n",
    "def myfun(x=0):\n",
    "    return np.exp(-x**2)*np.sin(np.pi*x)\n",
    "\n",
    "def myder(x=0):\n",
    "    return np.exp(-x**2)*(np.pi*np.cos(np.pi*x)-2*x*np.sin(np.pi*x))\n",
    "    \n",
    "x = np.linspace(0,1,100)\n",
    "\n",
    "fprime_FD = diff.for_diff(myfun,x,.1) #forward difference approximation to the derivative\n",
    "fprime_BD = diff.back_diff(myfun,x,.1) #backward difference approximation to the derivative\n",
    "fprime_CD = diff.cent_diff(myfun,x,.1) #centered difference approximation to the derivative"
   ]
  },
  {
   "cell_type": "code",
   "execution_count": null,
   "metadata": {},
   "outputs": [],
   "source": [
    "fig = plt.figure(figsize=(15, 10)) # for plots of forward difference approx\n",
    "\n",
    "ax1 = fig.add_subplot(2,2,1)\n",
    "ax1.plot(x, myfun(x))\n",
    "ax1.set_title('$f(x) = e^{-x^2}\\sin(\\pi x)$')\n",
    "\n",
    "ax2 = fig.add_subplot(2, 2, 3)\n",
    "ax2.plot(x, myder(x), label='$f^\\prime$')\n",
    "ax2.plot(x, fprime_FD, label='FD approx of $f^\\prime$')\n",
    "ax2.plot(x, fprime_BD, label='BD approx of $f^\\prime$')\n",
    "ax2.plot(x, fprime_CD, label='CD approx of $f^\\prime$')\n",
    "ax2.legend(loc='upper right', fontsize=14)\n",
    "\n",
    "ax3 = fig.add_subplot(2,2,4)\n",
    "ax3.plot(x, myder(x)-fprime_FD, label='Error in FD approx')\n",
    "ax3.plot(x, myder(x)-fprime_BD, label='Error in BD approx')\n",
    "ax3.plot(x, myder(x)-fprime_CD, label='Error in CD approx')\n",
    "ax3.legend(fontsize=14)"
   ]
  },
  {
   "cell_type": "markdown",
   "metadata": {
    "collapsed": true
   },
   "source": [
    "## Where does a module file need to go?\n",
    "\n",
    "Say you are trying to `import spam`.\n",
    "\n",
    "When imported, the interpreter searches for spam in locations in the following order:\n",
    "1. A built-in module with that name. \n",
    "2. *spam.py* in a list of directories given by the variable *sys.path*. \n",
    "    1. The directory containing the input script (or the current directory when no file is specified).\n",
    "    2. PYTHONPATH (a list of directory names, syntax as shell variable PATH).\n",
    "    3. The installation-dependent default."
   ]
  },
  {
   "cell_type": "markdown",
   "metadata": {},
   "source": [
    "## Activity on making and using your own module\n",
    "\n",
    "1. Use the main Jupyter tab on your browser to create a new text file in the same directory as this lecture. \n",
    "\n",
    "2. Copy/paste the `myfun1` and `myfun2` into this file and save the file as `myModule.py` (tip: save the file with this name first to get some nice formatting/text color options).\n",
    "\n",
    "3. Create some code cells below. Import your module as `myMod` and execute some of the function calls seen in Part 1 of this lecture using `myMod.myfun1` or `myMod.myfun2`."
   ]
  },
  {
   "cell_type": "code",
   "execution_count": null,
   "metadata": {},
   "outputs": [],
   "source": []
  },
  {
   "cell_type": "markdown",
   "metadata": {
    "collapsed": true
   },
   "source": [
    "## Generalizations of Modules: Packages\n",
    "\n",
    "Packages (i.e., libraries) are modules with a *directory* structure.\n",
    "You can even make packages with subpackages and simply exploit the dot.dot reference to navigate through the package to get to the function you want (e.g. matplotlib.pyplot.plot).  \n",
    "\n",
    "If you want to develop a well-comparmentalized package you can look at online help: https://python-packaging.readthedocs.io/en/latest/"
   ]
  },
  {
   "cell_type": "code",
   "execution_count": null,
   "metadata": {},
   "outputs": [],
   "source": []
  }
 ],
 "metadata": {
  "anaconda-cloud": {},
  "kernelspec": {
   "display_name": "Python 3",
   "language": "python",
   "name": "python3"
  },
  "language_info": {
   "codemirror_mode": {
    "name": "ipython",
    "version": 3
   },
   "file_extension": ".py",
   "mimetype": "text/x-python",
   "name": "python",
   "nbconvert_exporter": "python",
   "pygments_lexer": "ipython3",
   "version": "3.7.6"
  }
 },
 "nbformat": 4,
 "nbformat_minor": 1
}
