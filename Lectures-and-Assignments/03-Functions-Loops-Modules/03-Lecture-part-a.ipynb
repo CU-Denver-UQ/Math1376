{
 "cells": [
  {
   "cell_type": "markdown",
   "metadata": {},
   "source": [
    "# Math  1376: Programming for Data Science\n",
    "---"
   ]
  },
  {
   "cell_type": "code",
   "execution_count": null,
   "metadata": {},
   "outputs": [],
   "source": [
    "import numpy as np #We will use numpy in this lecture"
   ]
  },
  {
   "cell_type": "markdown",
   "metadata": {},
   "source": [
    "## Module 03: Logic, functions, loops, and modules (3 notebooks for the price of 1! So much value. Just so much value.)\n",
    "---"
   ]
  },
  {
   "cell_type": "markdown",
   "metadata": {},
   "source": [
    "## Learning Objectives for Part (a)\n",
    "\n",
    "- Apply conditional and comparison operators to control workflow in code.\n",
    "\n",
    "\n",
    "- Create and use user-defined functions to perform basic operations that also incorporate conditionals and comparisons."
   ]
  },
  {
   "cell_type": "markdown",
   "metadata": {},
   "source": [
    "## Notebook contents <a id='Contents'>\n",
    "\n",
    "* <a href='#Logic'>Part (a): Conditionals & Comparisons in Python</a>\n",
    "<br>\n",
    "\n",
    "    * <a href='#activity-basic-logic'>Activity: Exploring and manipulating a logical workflow</a>\n",
    "    \n",
    "    * <a href='#activity-tent-function'>Activity: Coding a \"tent\" function</a>\n",
    "    \n",
    "    * <a href='#activity-invest'>Activity: Investment functions</a>\n",
    "    \n",
    "    * <a href='#activity-summary'>Activity: Summary</a>\n",
    "<br>"
   ]
  },
  {
   "cell_type": "markdown",
   "metadata": {},
   "source": [
    "## Part (a): Conditionals, Comparisons, and (user-defined) Functions in Python\n",
    "---\n",
    "\n",
    "<span style='background:rgba(255,255,0, 0.25); color:black'> Run the code cell below and click the \"play\" button to see the recorded lecture associated with this notebook.</span>"
   ]
  },
  {
   "cell_type": "code",
   "execution_count": null,
   "metadata": {},
   "outputs": [],
   "source": [
    "# 1. Running this cell with embed the short recorded lecture associated with this part of the notebook\n",
    "# 2. Press on the \"play\" button to start the video.\n",
    "\n",
    "from IPython.display import YouTubeVideo\n",
    "\n",
    "YouTubeVideo('Still-need-to-create', width=800, height=300)"
   ]
  },
  {
   "cell_type": "markdown",
   "metadata": {},
   "source": [
    "In this notebook, we first explore how to control workflow in a code using conditionals (logic) and loops. \n",
    "\n",
    "For more information, check out the online documentation available at https://docs.python.org/3/tutorial/controlflow.html. \n",
    "\n",
    "We will also see how to make code more modular by creating user-defined functions that is motivated by the need for either repeated logic or operations in a code"
   ]
  },
  {
   "cell_type": "markdown",
   "metadata": {},
   "source": [
    "### Conditionals in Python    \n",
    "---\n",
    " <span style='background:rgba(255,0,255, 0.25); color:black'> ***Key Points:*** <span>\n",
    "\n",
    "\n",
    "- Most logical flows can be accomplished using the if/elif/else syntax:\n",
    "\n",
    "```\n",
    "if condition:\n",
    "    #do stuff\n",
    "elif condition: #elif is interpreted as \"else if\"\n",
    "    #do stuff\n",
    "else:\n",
    "    #do stuff\n",
    "```       \n",
    "\n",
    "- ***All parts of the conditional are indented.***\n",
    "<br>\n",
    "    \n",
    "    - Unlike other languages that use terms like \"end\" or \"end if\" (or perhaps make use of brackets like \"{ }\") to signify the block of code corresponding to an if-elseif-else, ***Python interprets everything in terms of indenting.*** \n",
    "\n",
    "    This is also true in for-loops as we will see below.\n",
    "\n",
    "We can dwell on this point further or simply see it in action. \n",
    "***You will get used to this and it makes Python code fairly easy to read.***\n",
    "    "
   ]
  },
  {
   "cell_type": "markdown",
   "metadata": {},
   "source": [
    "### Comparison operators  (*LET a=3, b=5*)\n",
    "---\n",
    "\n",
    "To start setting up conditions, we first need to understand ***comparison operators*** available in Python.\n",
    "\n",
    "<span style='background:rgba(255,0,255, 0.25); color:black'> ***Key Points:*** <span>\n",
    "\n",
    "- Evaluation of comparison operators returns a *Boolean* variable that has a value of either `True` or `False` which dictates the workflow.\n",
    "<br>\n",
    "\n",
    "- The comparison operators are best understood by example as shown below and in the code that follows.\n",
    "\n",
    "    Below, we assume `a=2` and `b=3`.\n",
    "<br>\n",
    "\n",
    "    - `==`:\tIf the values of two operands are equal, then the condition becomes true.\t`a == b` will return a `False.` Note that you need TWO equal signs. If you write `a=b` instead of `a==b`, then you will actually assign the value of `b` to the variable `a` instead of comparing the values of the two variables. ***Remember this.***\n",
    "<br>\n",
    "\n",
    "    - `!=`:\tIf values of two operands are not equal, then condition becomes true.  `a != b)` is `True`. (Alternatively, one could use `<>` in place of `!=`, but this is not very common.)\n",
    "<br>\n",
    "\n",
    "    - `>`:\tIf the value of left operand is greater than the value of right operand, then condition becomes true.\t`a > b` is `False`.\n",
    "<br>\n",
    "\n",
    "    - `<`: If the value of left operand is less than the value of right operand, then condition becomes true.\t`a < b` is `True`.\n",
    "<br>\n",
    "\n",
    "    - `>=`:\tIf the value of left operand is greater than or equal to the value of right operand, then condition becomes true.\t`a >= b` is `False`.\n",
    "<br>\n",
    "\n",
    "    - `<=`:\tIf the value of left operand is less than or equal to the value of right operand, then condition becomes true.\t`a <= b` is `True`.\n",
    "<br>\n",
    "\n",
    "- We can use `and` and `or` to combine sets of comparison operators and ``not`` to negate a statement. \n",
    "\n",
    "Let's see some of this in action below. ***Try making your own comparisons not shown below.***"
   ]
  },
  {
   "cell_type": "code",
   "execution_count": null,
   "metadata": {},
   "outputs": [],
   "source": [
    "a = 2\n",
    "b = 3"
   ]
  },
  {
   "cell_type": "code",
   "execution_count": null,
   "metadata": {},
   "outputs": [],
   "source": [
    "print(a == b)"
   ]
  },
  {
   "cell_type": "code",
   "execution_count": null,
   "metadata": {},
   "outputs": [],
   "source": [
    "print(a != b)"
   ]
  },
  {
   "cell_type": "code",
   "execution_count": null,
   "metadata": {},
   "outputs": [],
   "source": [
    "print(a > b)"
   ]
  },
  {
   "cell_type": "code",
   "execution_count": null,
   "metadata": {},
   "outputs": [],
   "source": [
    "print((a > b) or (a != b))"
   ]
  },
  {
   "cell_type": "code",
   "execution_count": null,
   "metadata": {},
   "outputs": [],
   "source": [
    "print((a > b) and (a != b))"
   ]
  },
  {
   "cell_type": "code",
   "execution_count": null,
   "metadata": {
    "scrolled": true
   },
   "outputs": [],
   "source": [
    "print(not(a > b) and (a != b))"
   ]
  },
  {
   "cell_type": "markdown",
   "metadata": {},
   "source": [
    "<hr style=\"border:5px solid cyan\"> </hr>\n",
    "\n",
    "## <span style='background:rgba(0,255,255, 0.5); color:black'>Activity: Exploring and manipulating a logical workflow</span><a id='activity-basic-logic'/>\n",
    "\n",
    "The code below attempts to evaluate the function\n",
    "<br>\n",
    "\n",
    "$$\n",
    "    \\large f(x) = \\frac{\\sqrt{x}}{(x-2)(x-3)},\n",
    "$$\n",
    "<br>\n",
    "which is only valid for values of $x\\geq 0$ that are also not equal to $2.0$ or $3.0$.\n",
    "\n",
    "1. Try changing different values of `x` in the code snippets below and see what happens.\n",
    "\n",
    "2. The code is missing a control for the case where `x` is a value of `3.0`. Add this case to the code so that f is always assigned the correct value and some useful feedback is always printed to screen."
   ]
  },
  {
   "cell_type": "code",
   "execution_count": null,
   "metadata": {},
   "outputs": [],
   "source": [
    "x = 3 # Try different values\n",
    "\n",
    "if x >= 0 and not(x == 2 or x == 3):\n",
    "    f = np.power(x,.5)/((x-2)*(x-3)) #f is the square root of x divided by (x-2)*(x-3)\n",
    "    print( f )\n",
    "elif x < 0:\n",
    "    print( 'Square root of negative number' )\n",
    "    f = np.nan\n",
    "elif x == 2.0:\n",
    "    print( 'Division by zero with different limits' )\n",
    "    f = np.nan"
   ]
  },
  {
   "cell_type": "markdown",
   "metadata": {},
   "source": [
    "<hr style=\"border:5px solid cyan\"> </hr>"
   ]
  },
  {
   "cell_type": "markdown",
   "metadata": {},
   "source": [
    "<hr style=\"border:5px solid cyan\"> </hr>\n",
    "\n",
    "## <span style='background:rgba(0,255,255, 0.5); color:black'>Activity: Coding a \"tent\" function</span><a id='activity-tent-function'/>\n",
    "\n",
    "Complete the code below to evaluate\n",
    "$$\n",
    "    f(x) = \\begin{cases}\n",
    "                1 + x, & x\\in[-1,0], \\\\\n",
    "                1 - x, & x\\in(0, 1], \\\\\n",
    "                0, & \\text{else}.\n",
    "            \\end{cases}\n",
    "$$"
   ]
  },
  {
   "cell_type": "code",
   "execution_count": null,
   "metadata": {},
   "outputs": [],
   "source": [
    "x = -.25 # Try different values\n",
    "\n",
    "if -1 <= x and :\n",
    "    f = \n",
    "elif :\n",
    "    f = \n",
    "else: \n",
    "    f = \n",
    "    \n",
    "print(f)"
   ]
  },
  {
   "cell_type": "markdown",
   "metadata": {},
   "source": [
    "<hr style=\"border:5px solid cyan\"> </hr>"
   ]
  },
  {
   "cell_type": "markdown",
   "metadata": {},
   "source": [
    "## Functions in Python (Motivation) \n",
    "---\n",
    "\n",
    "In the code snippets above, a value of `x` serves as the input into a conditional statement that determines what output value `f` should be assigned based on the value of `x`. If we wish to use this functionality many times in the code, we would probably like to avoid writing the if/elif/else structure at each point where it is to be used for a variety of reasons including, but not limited to, the following:\n",
    "\n",
    "- If we ever decide to change how `f` is computed, then we would have to find/replace every instance of it within the code (likely leading to errors, or worse yet, code that does not crash but gives wrong outputs).\n",
    "\n",
    "- Even the most terse scientific code can easily become hundreds (if not thousands) of lines long, and we want to avoid making the code more difficult to read, use, and debug than is absolutely necessary. \n",
    "\n",
    "This motivates the development of user-defined functions in Python. The basic syntax is shown below.\n",
    "\n",
    "```\n",
    "def functionname( parameters ):\n",
    "   '''function_docstring'''\n",
    "   function_suite\n",
    "   return [expression]\n",
    "```"
   ]
  },
  {
   "cell_type": "markdown",
   "metadata": {},
   "source": [
    "### A brief discussion on docstrings and commenting in code\n",
    "---\n",
    "\n",
    "Between the (triple) tick marks ''' (you can also use quotation marks \"\"\" but it looks a little messier in my opinion) is where you put in a \"documentation string\" (a.k.a. ***docstring***) for your function.  \n",
    "It is entirely optional, but it is always a good idea to document your code even when it is entirely in the developmental/testing phase. There are some best practices that you can read about at https://docs.python.org/devguide/documenting.html or http://docs.python-guide.org/en/latest/writing/documentation/. \n",
    "\n",
    "***You will need to work with docstrings in your assignment.***\n",
    "\n",
    "Good tools such as Sphinx http://www.sphinx-doc.org/en/1.4.9/ can turn properly documented code into easy to read/navigate html files to help expand the community of users for any code you develop. \n",
    "For example, see http://ut-chg.github.io/BET/ where Sphinx was used to generate the documentation. \n",
    "These tools are outside the scope of this module, but we highly recommend that you learn a bit about them before attempting to make very sophisticated software packages. \n",
    "\n",
    "Knowledge of, and proficiency in, using these tools can help give you the edge in a competitive job market! "
   ]
  },
  {
   "cell_type": "markdown",
   "metadata": {},
   "source": [
    "### parameters and keyword arguments in a function\n",
    "Notice that in the definition of the function, there is a `parameters` variable, which is often a list of parameters (as shown below). These are normally ordered **UNLESS** you supplement them with *keyword args* in the function call (i.e., when you actually use the function you may specify which argument corresponds to which parameter).  \n",
    "\n",
    "The next few code snippet illustrates this."
   ]
  },
  {
   "cell_type": "code",
   "execution_count": null,
   "metadata": {},
   "outputs": [],
   "source": [
    "def myfun1(x,y):\n",
    "    '''\n",
    "    This function returns x+2y if x<y otherwise it returns x-2y.\n",
    "    '''\n",
    "    if x < y:\n",
    "        z = x + 2*y\n",
    "    else:\n",
    "        z = x - 2*y\n",
    "    return z"
   ]
  },
  {
   "cell_type": "code",
   "execution_count": null,
   "metadata": {},
   "outputs": [],
   "source": [
    "# Here is a good reason to have docstrings - you can now use help to recall what a function does!\n",
    "help(myfun1)"
   ]
  },
  {
   "cell_type": "code",
   "execution_count": null,
   "metadata": {},
   "outputs": [],
   "source": [
    "print( myfun1(2,3) )"
   ]
  },
  {
   "cell_type": "code",
   "execution_count": null,
   "metadata": {},
   "outputs": [],
   "source": [
    "print( myfun1(2.0,3.0) )"
   ]
  },
  {
   "cell_type": "code",
   "execution_count": null,
   "metadata": {},
   "outputs": [],
   "source": [
    "print( myfun1(3.0,2.0) ) #switching order of inputs"
   ]
  },
  {
   "cell_type": "code",
   "execution_count": null,
   "metadata": {},
   "outputs": [],
   "source": [
    "print( myfun1(x=2,y=3.0) ) #keyword argument"
   ]
  },
  {
   "cell_type": "code",
   "execution_count": null,
   "metadata": {},
   "outputs": [],
   "source": [
    "print( myfun1(y=3.0,x=2.0) ) #switching the order of inputs of keyword arguments does nothing"
   ]
  },
  {
   "cell_type": "code",
   "execution_count": null,
   "metadata": {},
   "outputs": [],
   "source": [
    "# Try printing myfun1(x=2,3.0). \n",
    "\n",
    "print( myfun1(x=2,3.0) )\n",
    "\n",
    "# The take home message? \n",
    "# Once you commit to using keywords in a function call, \n",
    "# then you better be all in."
   ]
  },
  {
   "cell_type": "code",
   "execution_count": null,
   "metadata": {},
   "outputs": [],
   "source": [
    "print( myfun1('silly ','test') )"
   ]
  },
  {
   "cell_type": "code",
   "execution_count": null,
   "metadata": {},
   "outputs": [],
   "source": [
    "z = myfun1(2,3)\n",
    "print( z )"
   ]
  },
  {
   "cell_type": "markdown",
   "metadata": {},
   "source": [
    "### Functions and type checking\n",
    "---\n",
    "\n",
    "<span style='background:rgba(255,0,255, 0.25); color:black'> ***Key Points:*** <span>\n",
    "\n",
    "- As the above code cells demonstrate, Python does *not* type check the inputs and will *attempt* to perform operations on whatever is passed to a function. This can be useful in terms of its flexibility, but it can cause some issues. \n",
    "<br>\n",
    "\n",
    "- You can incorporate logic along with the built-in function `type` at the beginning of a user-defined function to check if the expected variable types were passed to a function before any computations are performed. \n",
    "<br>\n",
    "\n",
    "    - Generally, a better approach is to use the [`isinstance`](https://docs.python.org/3/library/functions.html#isinstance) function instead of a combination of logic and `type` to check variable types. \n",
    "    <br>\n",
    "    \n",
    "We are not going to dwell on this anymore in this notebook. \n",
    "We simply want you to be aware that nothing is stopping a user from trying to pass the \"wrong\" types of arguments to a function (in fact, sometimes people try this just to see if they can). \n",
    "If this is something you are worried about, then there are ways to prevent this from causing a \"crash\" in the code by either\n",
    "\n",
    "1. checking variable types before computations are done, or\n",
    "2. Putting `try` commands in the function like seen in 02-Assignment-part-b. "
   ]
  },
  {
   "cell_type": "markdown",
   "metadata": {},
   "source": [
    "### Default parameter values\n",
    "---\n",
    "\n",
    "<span style='background:rgba(255,0,255, 0.25); color:black'> ***Key Points:*** <span>\n",
    "\n",
    "- Python allows you to set defaults within the parameter list of a function call.\n",
    "<br>\n",
    "\n",
    "- Defaults need to **come after** functions parameters with non-default values. So, if you have some function parameters that you do not want to set default values for, then you should put those *before* any parameters with default values.\n",
    "<br>\n",
    "\n",
    "    - A parameter without a default value is called a **positional argument** because we can evaluate the function by just passing the values of variables in the right *position* without using the parameter name as it appears in the function.\n",
    "\n",
    "\n",
    "Let's tweak `myfun1` a little to see this in action."
   ]
  },
  {
   "cell_type": "code",
   "execution_count": null,
   "metadata": {},
   "outputs": [],
   "source": [
    "def myfun2(x,y=2): #The default y=2 must occur after the non-default x variable\n",
    "    '''\n",
    "    This function is the same as myfun1 except with default values for parameters\n",
    "    '''\n",
    "    if x<y:\n",
    "        z = x + 2*y\n",
    "    else:\n",
    "        z = x - 2*y\n",
    "    return z"
   ]
  },
  {
   "cell_type": "code",
   "execution_count": null,
   "metadata": {},
   "outputs": [],
   "source": [
    "# THIS WILL PRODUCE AN ERROR BECAUSE NOT ALL PARAMETERS HAVE DEFAULT VALUES \n",
    "print( myfun2() )"
   ]
  },
  {
   "cell_type": "code",
   "execution_count": null,
   "metadata": {
    "scrolled": true
   },
   "outputs": [],
   "source": [
    "# We can pass the value of x positionally as the first input\n",
    "print( myfun2(1.0) ) # This will use the default value for y"
   ]
  },
  {
   "cell_type": "code",
   "execution_count": null,
   "metadata": {},
   "outputs": [],
   "source": [
    "print( myfun2(1.0, 3.0) ) # You can input everything in order without keywords"
   ]
  },
  {
   "cell_type": "code",
   "execution_count": null,
   "metadata": {},
   "outputs": [],
   "source": [
    "print( myfun2(y=3.0, x=1.0) ) # You can switch orders as long as you specify the keywords"
   ]
  },
  {
   "cell_type": "markdown",
   "metadata": {},
   "source": [
    "**We can even use function outputs directly as inputs to another function!**"
   ]
  },
  {
   "cell_type": "code",
   "execution_count": null,
   "metadata": {},
   "outputs": [],
   "source": [
    "print( myfun1(myfun2(1.0), myfun2(1.0, y=3) ) )"
   ]
  },
  {
   "cell_type": "markdown",
   "metadata": {},
   "source": [
    "<hr style=\"border:5px solid cyan\"> </hr>\n",
    "\n",
    "## <span style='background:rgba(0,255,255, 0.5); color:black'>Activity: A temperature converter function </span><a id='activity-temperature'>\n",
    "\n",
    "1. Complete the code below that either converts a temperature given in Celsius to Fahrenheit, a temperature given in Fahrenheit to Celsius, or if two temperatures are given (one in Celsius and one in Fahrenheit) will check if they are the same.\n",
    "\n",
    "2. Add a useful docstring to the function.\n",
    "\n",
    "3. Execute the code cells that follow."
   ]
  },
  {
   "cell_type": "code",
   "execution_count": null,
   "metadata": {},
   "outputs": [],
   "source": [
    "def tempFunc(F=None, C=None):\n",
    "    if F == None and C == None:\n",
    "        print('You want nothing?')\n",
    "    elif F == None: #So C is given\n",
    "        print( str(C) + ' Celsius = ' \n",
    "              + str(C * 9/5 + 32) + ' Fahrenheit' )\n",
    "    elif : #So F is given\n",
    "        print( )\n",
    "    else: #So F and C are both given\n",
    "        if np.abs(F - (C*9/5+32)) < np.finfo(np.float32).eps:\n",
    "            print('Those temperatures are the same!')\n",
    "        else:\n",
    "            print('Those temperatures are different!')"
   ]
  },
  {
   "cell_type": "code",
   "execution_count": null,
   "metadata": {},
   "outputs": [],
   "source": [
    "tempFunc(F=212, C = 100)"
   ]
  },
  {
   "cell_type": "code",
   "execution_count": null,
   "metadata": {},
   "outputs": [],
   "source": [
    "tempFunc(F=212)"
   ]
  },
  {
   "cell_type": "code",
   "execution_count": null,
   "metadata": {},
   "outputs": [],
   "source": [
    "tempFunc(C=100)"
   ]
  },
  {
   "cell_type": "code",
   "execution_count": null,
   "metadata": {},
   "outputs": [],
   "source": [
    "tempFunc()"
   ]
  },
  {
   "cell_type": "code",
   "execution_count": null,
   "metadata": {},
   "outputs": [],
   "source": [
    "tempFunc?"
   ]
  },
  {
   "cell_type": "code",
   "execution_count": null,
   "metadata": {
    "scrolled": true
   },
   "outputs": [],
   "source": [
    "help(tempFunc)"
   ]
  },
  {
   "cell_type": "markdown",
   "metadata": {},
   "source": [
    "<hr style=\"border:5px solid cyan\"> </hr>"
   ]
  },
  {
   "cell_type": "markdown",
   "metadata": {},
   "source": [
    "## Now for something weird. Pass by reference OR pass by value. \n",
    "---\n",
    "\n",
    "First, we want to say that it is okay if this does not make perfect sense the first (ten) time(s) you work through this. \n",
    "\n",
    "For more information on this, we encourage you to do some searching online (the answers provided here: https://stackoverflow.com/questions/373419/whats-the-difference-between-passing-by-reference-vs-passing-by-value are a good place to start) and playing around with the simple code below to build intuition.\n",
    "***Basically, there is very little substitute for some time and patience in learning this correctly. Here, we seek to just build some basic intuition about what is going on so that you can be aware of some potential pitfalls.***"
   ]
  },
  {
   "cell_type": "markdown",
   "metadata": {},
   "source": [
    "### Metaphorically speaking...\n",
    "---\n",
    "\n",
    "Suppose you are the function and I am passing you information metaphorically in terms of information written on paper:\n",
    "\n",
    "- ***Pass by value*** is where I copy something from one piece of paper onto another piece of paper and hand the copy to you. Maybe the information includes that `x=5`. This information is now on a piece of paper which I have given to you, so now it is effectively *your* piece of paper. You are now free to write on that piece of paper to use that information however you please. Maybe you decide to act upon this information by multiplying the variable `x` by 2, so that you write that now `x=10` on your piece of paper. Suppose you return that piece of paper to me. Does this change what was written on my *original* piece of paper? No! However, I may choose to use your information to then update the information on my original paper, but I need to explicitly make that choice. It is not made for me just because you gave me a piece of paper back.\n",
    "<br>\n",
    "   \n",
    "- ***Pass by reference*** is when I give you my original paper which has something written down on it like `x=5`. Now, if you decide that the value of `x` should be double so that you *erase and replace* `x=5` with `x=10` and then give me the paper back, my paper now contains this updated information about `x` regardless if I wanted it to or not. The choice has been made for me that `x=10`. \n",
    "<br>\n",
    "\n",
    "What is the moral here? If I do not want your function to change my information about `x` without my consent, then I should have passed it to you by value."
   ]
  },
  {
   "cell_type": "markdown",
   "metadata": {},
   "source": [
    "### Technically speaking...\n",
    "---\n",
    "\n",
    "####  *Pass by reference* ...\n",
    "means Python passes the reference to the variable, not just the value. Or, in other words, the location of the variable in memory (i.e., \"my original paper\") is passed. \n",
    "\n",
    "This can cause some different behavior when certain *in place* operators are used (we'll see an example below).\n",
    "\n",
    "Classes, lists, numpy arrays, etc. are passed by reference by default. \n",
    "\n",
    "Objects that are passed by reference are called *mutable* (meaning they can mutate, i.e., change after creation). \n",
    "\n",
    "#### *Pass by value* ...\n",
    "means Python passes the value and creates a new copy of the variable within the function. Or, in other words, a \"new paper\" is used to put the variable information so that the original variable information is not necessarily changed. \n",
    "\n",
    "Variables that are strings, floats, and ints are passed by value (*they are immutable data types* meaning that the value is left unchanged by the function).\n",
    "\n",
    "#### *scope*...\n",
    "Python variables created within a function also have local *scope*.\n",
    "- *scope* usually refers to the visibility of variables. In other words, which parts of your program can see or use it.  ***Local scope*** usually means only within the called function. "
   ]
  },
  {
   "cell_type": "code",
   "execution_count": null,
   "metadata": {},
   "outputs": [],
   "source": [
    "def scope_test(var):\n",
    "    print()\n",
    "    print( 'The variable passed to scope_test is ' +\n",
    "           '\\n var = ', var)\n",
    "    var *= 2 #if var is mutable, replaces in place (pass-by-reference)\n",
    "    print()\n",
    "    print( 'Within scope_test, the passed variable is ' +\n",
    "          'changed to \\n var = ', var)\n",
    "    a = 3\n",
    "    print()\n",
    "    print('Within scope_test, we set the variable \\n a =', a)\n",
    "    return"
   ]
  },
  {
   "cell_type": "code",
   "execution_count": null,
   "metadata": {},
   "outputs": [],
   "source": [
    "a = 2 #An integer is an immutable data type\n",
    "\n",
    "print( 'Before scope_test,\\n a =', a )\n",
    "scope_test(a)\n",
    "print()\n",
    "print( 'After scope_test,\\n a =', a )"
   ]
  },
  {
   "cell_type": "code",
   "execution_count": null,
   "metadata": {},
   "outputs": [],
   "source": [
    "a = np.ones([2,2]) # numpy arrays are mutable\n",
    "\n",
    "print( 'Before scope_test, \\n a =', a )\n",
    "scope_test(a)\n",
    "print()\n",
    "print( 'After scope_test, \\n a =', a )"
   ]
  },
  {
   "cell_type": "code",
   "execution_count": null,
   "metadata": {},
   "outputs": [],
   "source": [
    "a = np.ones([2,2]) # numpy arrays are mutable\n",
    "b = 2 * a\n",
    "print( 'Before scope_test, \\n a =', a )\n",
    "scope_test(b)\n",
    "print()\n",
    "print( 'After scope_test(2*a), \\n a =', a )\n",
    "print( b )"
   ]
  },
  {
   "cell_type": "markdown",
   "metadata": {},
   "source": [
    "### Wait a minute...\n",
    "---\n",
    "\n",
    "What if we want to do local work to a *mutable* data type (i.e. a numpy array) but not have the change reflected back after function exit?  \n",
    "\n",
    "The answer is to ***not*** use *in place* operators like `+=`, `\\=`, `*=`, etc.  `var = var*2` creates a local copy of var and multiplies 2 to every entry."
   ]
  },
  {
   "cell_type": "code",
   "execution_count": null,
   "metadata": {},
   "outputs": [],
   "source": [
    "def scope_test2(var):\n",
    "    var = var * 2  #if mutable, creates local copy of var.\n",
    "    return "
   ]
  },
  {
   "cell_type": "code",
   "execution_count": null,
   "metadata": {},
   "outputs": [],
   "source": [
    "a = np.eye(3) # creates 3x3 array with a_ii = 1, 0 otherwise.\n",
    "print('Before scope_test2,\\n a =', a)\n",
    "scope_test2(a)\n",
    "print()\n",
    "print('After scope_test2,\\n a =', a)"
   ]
  },
  {
   "cell_type": "code",
   "execution_count": null,
   "metadata": {},
   "outputs": [],
   "source": [
    "a = ['hi', 3, myfun1] #this is a strange list indeed!\n",
    "\n",
    "print( 'Before scope_test, \\n a =', a )\n",
    "scope_test(a)\n",
    "print()\n",
    "print( 'After scope_test(, \\n a =', a )"
   ]
  },
  {
   "cell_type": "code",
   "execution_count": null,
   "metadata": {},
   "outputs": [],
   "source": [
    "a = ['hi', 3, myfun1] #this is a strange list indeed!\n",
    "\n",
    "print( 'Before scope_test2, \\n a =', a )\n",
    "scope_test2(a)\n",
    "print()\n",
    "print( 'After scope_test2(, \\n a =', a )"
   ]
  },
  {
   "cell_type": "markdown",
   "metadata": {},
   "source": [
    "<hr style=\"border:5px solid cyan\"> </hr>\n",
    "\n",
    "## <span style='background:rgba(0,255,255, 0.5); color:black'>Activity: Investment functions</span><a id='activity-invest'>\n",
    "\n",
    "You have probably heard of the *power of compound interest*. \n",
    "The basic formula boils down to this:\n",
    "$$\n",
    "  \\large A = P\\left(1+\\frac{r}{n}\\right)^{nt}\n",
    "$$\n",
    "where\n",
    "- $A$ = final amount\n",
    "- $P$ = initial principal balance (e.g., 1000 USD)\n",
    "- $r$ = interest rate (e.g., 7.2%)\n",
    "- $n$ = number of times interest rate is applied per time period (e.g., if one time period is a year and interest is compounded quarterly, then $n=4$)\n",
    "- $t$ = number of time periods elapsed\n",
    "\n",
    "\n",
    "Make two functions `projected_balance` and `update_balance`  in individual code cells below that have the following properties:\n",
    "\n",
    "- Each function should use the formula above to perform elementwise operations on a list/numpy array of $P$, $r$, $n$, and $t$ values to generate a list/numpy array of $A$ values. \n",
    "\n",
    "- For `update_balance` use an in-place operator to update the list/array of $P$ values instead of creating a new $A$ list/array. Comment your code with some explanation as to why this is okay in `update_balance` but not in `projected_balance`.\n",
    "\n",
    "- Execute your functions with some different choices of the variables and print/interpret results (create new code cells to do this and a Markdown cell to more clearly explain results)."
   ]
  },
  {
   "cell_type": "code",
   "execution_count": null,
   "metadata": {},
   "outputs": [],
   "source": []
  },
  {
   "cell_type": "code",
   "execution_count": null,
   "metadata": {},
   "outputs": [],
   "source": []
  },
  {
   "cell_type": "markdown",
   "metadata": {},
   "source": [
    "<hr style=\"border:5px solid cyan\"> </hr>"
   ]
  },
  {
   "cell_type": "markdown",
   "metadata": {},
   "source": [
    "<hr style=\"border:5px solid cyan\"> </hr>\n",
    "\n",
    "## <span style='background:rgba(0,255,255, 0.5); color:black'>Activity: Summary</span> <a id='activity-summary'/>\n",
    "\n",
    "Summarize some of the key takeaways/points from this notebook in a list below and prepare a few code examples related to these takeaways/points in the code cells below. You need to have at least one examples for each of your summary points and you need at least three summary points.\n",
    "\n",
    "In this notebook, we have seen the following:\n",
    "\n",
    "- [Your summary point 1 goes here]\n",
    "\n",
    "\n",
    "- [Your summary point 2 goes here]\n",
    "\n",
    "\n",
    "- [Your summary point 3 goes here]"
   ]
  },
  {
   "cell_type": "code",
   "execution_count": null,
   "metadata": {},
   "outputs": [],
   "source": []
  },
  {
   "cell_type": "code",
   "execution_count": null,
   "metadata": {},
   "outputs": [],
   "source": []
  },
  {
   "cell_type": "code",
   "execution_count": null,
   "metadata": {},
   "outputs": [],
   "source": []
  },
  {
   "cell_type": "markdown",
   "metadata": {},
   "source": [
    "<hr style=\"border:5px solid cyan\"> </hr>"
   ]
  },
  {
   "cell_type": "markdown",
   "metadata": {},
   "source": [
    "### <a href='#Contents'>Click here to return to Notebook Contents</a>"
   ]
  }
 ],
 "metadata": {
  "anaconda-cloud": {},
  "kernelspec": {
   "display_name": "Python 3",
   "language": "python",
   "name": "python3"
  },
  "language_info": {
   "codemirror_mode": {
    "name": "ipython",
    "version": 3
   },
   "file_extension": ".py",
   "mimetype": "text/x-python",
   "name": "python",
   "nbconvert_exporter": "python",
   "pygments_lexer": "ipython3",
   "version": "3.7.6"
  }
 },
 "nbformat": 4,
 "nbformat_minor": 1
}
