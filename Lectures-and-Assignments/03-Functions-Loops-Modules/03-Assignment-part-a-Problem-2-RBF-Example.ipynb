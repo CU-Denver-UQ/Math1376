{
 "cells": [
  {
   "cell_type": "markdown",
   "metadata": {},
   "source": [
    "# Math  1376: Programming for Data Science\n",
    "---\n",
    "\n",
    "## Problem 2 example with RBFs for Assignment 03 (part a): functions and logic (due by 11:59 p.m. Friday of week 5 of class)\n",
    "---\n",
    "\n",
    "### The purpose of this notebook is to give you (the student) a template of what is expected for Problem 2 of Assignment 03 (part a)."
   ]
  },
  {
   "cell_type": "code",
   "execution_count": null,
   "metadata": {},
   "outputs": [],
   "source": [
    "import numpy as np"
   ]
  },
  {
   "cell_type": "markdown",
   "metadata": {},
   "source": [
    "## Problem 2: Radial Basis Functions (RBFs)\n",
    "---"
   ]
  },
  {
   "cell_type": "markdown",
   "metadata": {},
   "source": [
    "## Problem 2(a):  Some background on RBFs\n",
    "\n",
    "[Radial Basis Functions (RBFs)](https://en.wikipedia.org/wiki/Radial_basis_function) are used in many applications and disciplines such as non-parametric density estimation in statistics, approximations of function responses on unstructured data sets, and defining some types of artificial neural networks.\n",
    "In other words, they are [kind of a big deal](https://www.youtube.com/watch?v=H8OxKx6zKkQ).\n",
    "\n",
    "### What is the idea/purpose/features of an RBF?\n",
    "\n",
    "We summarize the <font size=5>big picture</font>  idea behind why RBFs are used as follows:\n",
    "\n",
    "> We have some information about \"what happens\" at a point in space, denoted by $\\mathbf{c}$, and we want to use this information to \"infer what may happen\" at a point $\\mathbf{x}$. \n",
    "\n",
    "In the context of the big picture idea, we expect RBFs to exhibit the following features:\n",
    "\n",
    "- If $\\mathbf{x}$ is \"close\" to $\\mathbf{c}$, then the knowledge we have about what happens at $\\mathbf{c}$ should play a big role in informing what we think may happen at $\\mathbf{x}$. \n",
    "\n",
    "- If $\\mathbf{x}$ is \"far away\" from $\\mathbf{c}$, then perhaps we should reduce how much we rely on the knowledge we have at $\\mathbf{c}$ to inform us about what may happen at $\\mathbf{x}$. \n",
    "\n",
    "### How do we go from concept to practice? \n",
    "\n",
    "A few things have to be made more concrete: what functions exhibit such desirable features, what do we mean by \"close\" and \"far away\", and how do we measure distance anyway?\n",
    "\n",
    "To make this a bit more mathematically precise, we formalize our notation. \n",
    "- Let $\\phi$ denote an RBF that maps a \"distance\" $r\\in[0,\\infty)$ into $\\mathbf{R}$ such that $\\phi(0)$ is the maximum and $\\phi(r_1)>\\phi(r_2)$ whenever $0\\leq r_1<r_2$.\n",
    "\n",
    "- Let $\\mathbf{c}$ denote some point in a vector space at which we \"know something.\"\n",
    "\n",
    "- Let $\\mathbf{x}$ denote some other point in the vector space where we would like to \"infer something.\"\n",
    "\n",
    "- Let $r=\\vert\\vert\\mathbf{x}-\\mathbf{c}\\vert\\vert$ denote the distance from $\\mathbf{x}$ to $\\mathbf{c}$ where $\\vert\\vert\\cdot\\vert\\vert$ denotes a norm on the vector space.\n",
    "\n",
    "The image below of a Gaussian RBF illustrates these concepts where we see that if $r=0$, this would mean the point $\\mathbf{x}=\\mathbf{c}$ and the RBF is \"maximized\" (this makes conceptual sense because the information we *know* at $\\mathbf{c}$ is what should be maximized when $\\mathbf{x}=\\mathbf{c}$). As $\\mathbf{x}$ moves away from $\\mathbf{c}$, the RBF decreases to indicate the reduction in trust we have in knowledge at $\\mathbf{c}$ applying at this point $\\mathbf{x}\\neq \\mathbf{c}$.\n",
    "\n",
    "### A note on important technical content: norms\n",
    "\n",
    "Wait, how do we compute $r$? What does $\\vert\\vert \\cdot \\vert\\vert$ being a norm mean? \n",
    "\n",
    "In many cases, it is fine to simply think of this as the \"straight line distance\" between two points that you are probably familiar with in 2- and 3-dimensional spaces. \n",
    "But, it is important to note that there are other useful ways of measuring distances.\n",
    "The interested reader is encouraged to examine the following resources for more information:\n",
    "\n",
    "- The [Euclidean distance](https://en.wikipedia.org/wiki/Euclidean_distance) generalizes the concept of a straight line distance in $\\mathbf{R}^k$ for $k$ beyond 3-dimensions. This is sometimes called the 2-norm distance. \n",
    "\n",
    "- The [taxicab distance](https://en.wikipedia.org/wiki/Taxicab_geometry) is useful when the distance measured in moving from one point to another is best described by moving along a \"grid of roads\". This is closely related to how we actually think of the \"real distance\" of two points on a map when the \"straight line path\" is impossible to traverse. This is sometimes called the 1-norm distance.\n",
    "\n",
    "- The [Chebyshev distance](https://en.wikipedia.org/wiki/Chebyshev_distance) is useful when the distance measured in moving from one point to another is best described by the longest distance we have to travel in any one direction. This is sometimes called the $\\infty$-norm distance. \n",
    "\n",
    "\n",
    "### Are there simple ways to compute norms?\n",
    "\n",
    "While norms are actually pretty simple functions to code up yourself, the subpackage `numpy.linalg` has a function [`norm`](https://docs.scipy.org/doc/numpy/reference/generated/numpy.linalg.norm.html) that allows you to pass an `ord` parameter to define which type of norm you want to use. \n",
    "Basically, this `ord` parameter allows you to choose which particular Minkowski distance function you want to use.\n",
    "\n",
    "- `ord=2` means you are using the 2-norm. \n",
    "\n",
    "- `ord=1` means you are using the 1-norm.\n",
    "\n",
    "- `ord=np.inf` means you are using the $\\infty$-norm (you pass the \"infinity\" variable stored in `numpy` as the `ord`)"
   ]
  },
  {
   "cell_type": "markdown",
   "metadata": {},
   "source": [
    "### Some examples\n",
    "---\n",
    "\n",
    "Read the Wiki page linked to above and summarize the following RBFs in the Markdown cell below: Gaussian and Bump function. Since we still have not addressed what is meant by \"close\" or \"far away\", your summary of these RBFs should attempt to explain the role of the shape parameter $\\epsilon$ in determining what is considered close and far away. \n",
    "\n",
    "\n",
    "(b) Create three functions: `my_Gaussian`, `my_Bump`, and a \"wrapper\" function called `my_RBFs` function that will choose which of these two RBFs to evaluate based on a string argument `which_RBF=my_Gaussian` that defaults to the Gaussian RBF. These functions should also take in as arguments the following: `x` and `c` (both `numpy` arrays of the same size), the shape parameter `eps`,  and `ord` (which determines the norm used to compute $r=\\vert \\vert \\mathbf{x}-\\mathbf{c} \\vert\\vert$ where you use the [`norm`](https://docs.scipy.org/doc/numpy/reference/generated/numpy.linalg.norm.html) function in `numpy.linalg` to compute this norm).\n",
    "\n",
    "\n",
    "(c) Use the wrapper function to verify that both RBFs can be evaluated on $\\mathbf{R}$, $\\mathbf{R}^2$, and $\\mathbf{R}^{10}$ with different choices of `ord`. This requires you to determine what the correct outputs should be for some \"suitable test inputs\". Think about how you would present this to a classmate, yourself a month from now, and me as your grader. How would you convince someone that what you coded is giving the correct outputs?\n",
    "\n",
    "\n",
    "(d) Use the wrapper function along with matplotlib to construct two 1-dimensional plots for each of these RBFs with different `eps` values. Interpret the results in a Markdown cell."
   ]
  },
  {
   "cell_type": "markdown",
   "metadata": {},
   "source": [
    "### Problem 2(a): Answers\n",
    "---\n",
    "\n",
    "YOUR ANSWERS GO HERE."
   ]
  },
  {
   "cell_type": "code",
   "execution_count": null,
   "metadata": {},
   "outputs": [],
   "source": [
    "# Code answers to problem 2(b), (c), and (d) here and below"
   ]
  },
  {
   "cell_type": "code",
   "execution_count": null,
   "metadata": {},
   "outputs": [],
   "source": []
  },
  {
   "cell_type": "code",
   "execution_count": null,
   "metadata": {},
   "outputs": [],
   "source": []
  },
  {
   "cell_type": "code",
   "execution_count": null,
   "metadata": {},
   "outputs": [],
   "source": []
  },
  {
   "cell_type": "markdown",
   "metadata": {},
   "source": [
    "### Problem 2(d): Answers\n",
    "---\n",
    "\n",
    "YOUR ANSWERS GO HERE."
   ]
  }
 ],
 "metadata": {
  "kernelspec": {
   "display_name": "Python 3",
   "language": "python",
   "name": "python3"
  },
  "language_info": {
   "codemirror_mode": {
    "name": "ipython",
    "version": 3
   },
   "file_extension": ".py",
   "mimetype": "text/x-python",
   "name": "python",
   "nbconvert_exporter": "python",
   "pygments_lexer": "ipython3",
   "version": "3.7.6"
  }
 },
 "nbformat": 4,
 "nbformat_minor": 2
}
