{
 "cells": [
  {
   "cell_type": "markdown",
   "metadata": {},
   "source": [
    "# Math  1376: Programming for Data Science\n",
    "---"
   ]
  },
  {
   "cell_type": "code",
   "execution_count": null,
   "metadata": {},
   "outputs": [],
   "source": [
    "import numpy as np #We will use numpy in this lecture"
   ]
  },
  {
   "cell_type": "markdown",
   "metadata": {},
   "source": [
    "## Module 03: Logic, functions, loops, and modules\n",
    "---"
   ]
  },
  {
   "cell_type": "markdown",
   "metadata": {},
   "source": [
    "## Learning Objectives for Part (c)\n",
    "\n",
    "- Understand what a module is in Python and when/how to import and use it.\n",
    "\n",
    "- Create your own module. \n",
    "\n",
    "- Implement the `differences` module to approximate derivatives of functions.\n",
    "\n",
    "- Understand the basic importance of derivatives.\n",
    "\n",
    "- Implement widgets to add more interactivity to functions."
   ]
  },
  {
   "cell_type": "markdown",
   "metadata": {},
   "source": [
    "## Notebook contents <a id='Contents'>\n",
    "\n",
    "* <a href='#Modules'>Part (c): Modules</a>\n",
    "<br>\n",
    "\n",
    "    * <a href='#activity-your-module'>Activity: Making and using your own module</a>\n",
    "    <br>\n",
    "    \n",
    "    * <a href='#activity-widgets'>Activity: Plotting with widgets</a>\n",
    "    <br>\n",
    "    \n",
    "    * <a href='#activity-summary'>Activity: Summary</a>\n",
    "<br>"
   ]
  },
  {
   "cell_type": "markdown",
   "metadata": {
    "collapsed": true
   },
   "source": [
    "## Part (c): Modules <a id='Modules'>\n",
    "\n",
    "<span style='background:rgba(255,255,0, 0.25); color:black'> Run the code cell below and click the \"play\" button to see the recorded lecture associated with this notebook.</span> "
   ]
  },
  {
   "cell_type": "code",
   "execution_count": null,
   "metadata": {},
   "outputs": [],
   "source": [
    "# 1. Running this cell with embed the short recorded lecture associated with this part of the notebook\n",
    "# 2. Press on the \"play\" button to start the video.\n",
    "\n",
    "from IPython.display import YouTubeVideo\n",
    "\n",
    "YouTubeVideo('mi1-ib6DKuY', width=800, height=300)"
   ]
  },
  {
   "cell_type": "markdown",
   "metadata": {
    "collapsed": true
   },
   "source": [
    "### What is it?\n",
    "* A file containing Python definitions and statements.\n",
    "* The file name is the module name with the suffix .py appended.\n",
    "* Within a module, the module's name is available as the global variable `__name__`.\n",
    "\n",
    "### When to use:\n",
    "* Your script gets very long and you want to have easier maintenance. \n",
    "* You want to reuse a function in several programs or scripts without copy/paste.\n",
    "* Performance reasons."
   ]
  },
  {
   "cell_type": "markdown",
   "metadata": {
    "collapsed": true
   },
   "source": [
    "Let's look at an example:\n",
    "\n",
    "Go to the main tab in your browser where you launched this notebook and left click on ``differences.py`` and then look at the code cell below.\n",
    "\n",
    "The `differences` module contains several functions for approximating the [derivative](https://en.wikipedia.org/wiki/Derivative) of a function using [finite differences](https://en.wikipedia.org/wiki/Finite_difference_method).\n",
    "\n",
    "Now, execute the code cells below."
   ]
  },
  {
   "cell_type": "code",
   "execution_count": null,
   "metadata": {},
   "outputs": [],
   "source": [
    "'''\n",
    "differences.py was included in the repo/Canvas and should be located within \n",
    "the same directory as this lecture before executing this code cell\n",
    "'''\n",
    "\n",
    "#Try changing inline to notebook. \n",
    "%matplotlib inline  \n",
    "\n",
    "import differences as diff # We import the module just like we import numpy\n",
    "import matplotlib.pyplot as plt"
   ]
  },
  {
   "cell_type": "code",
   "execution_count": null,
   "metadata": {},
   "outputs": [],
   "source": [
    "def myfun(x=0): # a function with a somewhat interesting plot\n",
    "    return np.exp(-x**2)*np.sin(np.pi*x)\n",
    "\n",
    "def myder(x=0): # the derivative of the function\n",
    "    return np.exp(-x**2)*(np.pi*np.cos(np.pi*x)-2*x*np.sin(np.pi*x))"
   ]
  },
  {
   "cell_type": "code",
   "execution_count": null,
   "metadata": {},
   "outputs": [],
   "source": [
    "x = np.linspace(0,1,100)\n",
    "\n",
    "fprime_FD = diff.for_diff(myfun,x,.1) #forward difference approximation to the derivative\n",
    "fprime_BD = diff.back_diff(myfun,x,.1) #backward difference approximation to the derivative\n",
    "fprime_CD = diff.cent_diff(myfun,x,.1) #centered difference approximation to the derivative"
   ]
  },
  {
   "cell_type": "code",
   "execution_count": null,
   "metadata": {},
   "outputs": [],
   "source": [
    "fig = plt.figure(figsize=(15, 10)) # create a figure for the plots\n",
    "\n",
    "ax1 = fig.add_subplot(2,2,1)\n",
    "ax1.plot(x, myfun(x))\n",
    "ax1.set_title('$f(x) = e^{-x^2}\\sin(\\pi x)$')\n",
    "\n",
    "ax2 = fig.add_subplot(2, 2, 3)\n",
    "ax2.plot(x, myder(x), label='$f^\\prime$')\n",
    "ax2.plot(x, fprime_FD, label='FD approx of $f^\\prime$')\n",
    "ax2.plot(x, fprime_BD, label='BD approx of $f^\\prime$')\n",
    "ax2.plot(x, fprime_CD, label='CD approx of $f^\\prime$')\n",
    "ax2.legend(loc='upper right', fontsize=14)\n",
    "\n",
    "ax3 = fig.add_subplot(2,2,4)\n",
    "ax3.plot(x, myder(x)-fprime_FD, label='Error in FD approx')\n",
    "ax3.plot(x, myder(x)-fprime_BD, label='Error in BD approx')\n",
    "ax3.plot(x, myder(x)-fprime_CD, label='Error in CD approx')\n",
    "ax3.legend(fontsize=14)"
   ]
  },
  {
   "cell_type": "markdown",
   "metadata": {},
   "source": [
    "### Important questions/answers and takeaways about derivatives\n",
    "---\n",
    "\n",
    "- Do you need to know how to compute derivatives in this class? *No*, you can just use the `differences` module.\n",
    "<br>\n",
    "\n",
    "- Why do we care about the derivative of a function? Because the derivative gives us very important information about the function. While you can read a lot about the [derivative on Wikipedia](https://en.wikipedia.org/wiki/Derivative) (and I recommend you do if you are unfamiliar with the concept), for the purposes of this class, we are more interested in the [applications of derivatives](https://en.wikipedia.org/wiki/Differential_calculus#Applications_of_derivatives).\n",
    "<br>\n",
    "\n",
    "- What is an important application of derivative? Briefly put: *optimization*. Where a derivative is equal to zero corresponds to what is called a *critical point* of the function. In other words, the *roots* of a derivative are *critical points* of the original function. What are critical points? For our purposes, these are the potential locations of maxima and minima of a function. \n",
    "\n",
    "Let's re-examine the previous example with these points."
   ]
  },
  {
   "cell_type": "code",
   "execution_count": null,
   "metadata": {},
   "outputs": [],
   "source": [
    "# Point 1: \n",
    "# We do NOT need to know the actual derivative of any \n",
    "# real-valued function f defined on real numbers. We can just\n",
    "# approximate it using the differences module. \n",
    "#\n",
    "# For example, below, we show how to create a user-defined function\n",
    "# that uses the differences module to construct an approximation\n",
    "# to the derivative of a function f at a value x given a \n",
    "# step-size h. The only thing you need to know about the step-size\n",
    "# h is that smaller values of h generally give more accurate \n",
    "# approximations of the derivative at x. \n",
    "\n",
    "def my_der_approx(f, x, h=0.01, which_approx='CD'):\n",
    "    if which_approx == 'CD':\n",
    "        return diff.cent_diff(f, x, h)\n",
    "    elif which_approx == 'FD':\n",
    "        return diff.for_diff(f, x, h)\n",
    "    else:\n",
    "        return diff.back_diff(f, x, h)"
   ]
  },
  {
   "cell_type": "code",
   "execution_count": null,
   "metadata": {},
   "outputs": [],
   "source": [
    "# Points 2 and 3:\n",
    "# Where the derivative is zero is where the function achieves\n",
    "# its maxima or minima. Below, it is a maximum. Pay attention\n",
    "# to where the derivative curve crosses the x-axis and where the\n",
    "# maxima of the function is.\n",
    "\n",
    "plt.figure()\n",
    "plt.plot(x, myfun(x), label='$f(x)$')\n",
    "plt.plot(x, my_der_approx(myfun, x), label=r'$\\approx f^\\prime(x)$')\n",
    "\n",
    "# Let's add some axes to the plot\n",
    "plt.axvline(0, linewidth=1, linestyle=':', c='k') #plot typical y-axis\n",
    "plt.axhline(0, linewidth=1, linestyle=':', c='k') #plot typical x-axis\n",
    "\n",
    "plt.legend(fontsize=16)"
   ]
  },
  {
   "cell_type": "code",
   "execution_count": null,
   "metadata": {},
   "outputs": [],
   "source": [
    "# Points 2 and 3 again:\n",
    "# Another example with quite a few maxima and minima\n",
    "\n",
    "def my_sine(x):\n",
    "    return np.sin(2*np.pi*x)\n",
    "\n",
    "plt.figure()\n",
    "x = np.linspace(0, 3, 200)\n",
    "plt.plot(x, my_sine(x), label='$f(x)$')\n",
    "plt.plot(x, my_der_approx(my_sine, x), label=r'$\\approx f^\\prime(x)$')\n",
    "\n",
    "# Let's add some axes to the plot\n",
    "plt.axvline(0, linewidth=1, linestyle=':', c='k') #plot typical y-axis\n",
    "plt.axhline(0, linewidth=1, linestyle=':', c='k') #plot typical x-axis\n",
    "\n",
    "plt.legend(fontsize=16)"
   ]
  },
  {
   "cell_type": "markdown",
   "metadata": {
    "collapsed": true
   },
   "source": [
    "## Back to details about modules: Where does a module file need to go?\n",
    "\n",
    "Say you are trying to `import spam`.\n",
    "\n",
    "When imported, the interpreter searches for `spam` in locations in the following order:\n",
    "1. A built-in module with that name. \n",
    "2. *spam.py* in a list of directories given by the variable *sys.path*. \n",
    "    1. The directory containing the input script (or the current directory when no file is specified).\n",
    "    2. PYTHONPATH (a list of directory names, syntax as shell variable PATH).\n",
    "    3. The installation-dependent default."
   ]
  },
  {
   "cell_type": "markdown",
   "metadata": {},
   "source": [
    "## What happens when you make changes to a module?\n",
    "\n",
    "If you find that you need to edit a function, add a new function, or just make any changes at all to a module that you want to have reflected in your notebook, then you **need** to do one of the following:\n",
    "\n",
    "- Restart the kernel and re-run all the code cells, or\n",
    "<br>\n",
    "\n",
    "- Import the library importlib as follows `import importlib` and then run `importlib.reload(BLAH)` where `BLAH` is whatever name you imported your module as. For example, if you make changes to the differences.py module that we imported as diff above, then you would run `importlib.reload(diff)`. "
   ]
  },
  {
   "cell_type": "markdown",
   "metadata": {},
   "source": [
    "<hr style=\"border:5px solid cyan\"> </hr>\n",
    "\n",
    "## <span style='background:rgba(0,255,255, 0.5); color:black'>Activity: making and using your own module</span><a id='activity-your-module'>\n",
    "\n",
    "1. Use the main Jupyter tab on your browser where you launched this notebook to create a new text file in the same directory as this lecture (watch the short lecture video if you need help with this). \n",
    "\n",
    "2. Copy/paste the `myfun1` and `myfun2` from 03-Lecture-part-a.ipynb into this file and save the file as `myModule.py` (pro tip: save the file with this name first to get some nice formatting/text color options as the text editor will now recognize this as a Python file once it is saved as a .py file).\n",
    "\n",
    "3. Create some more code cells below if necessary to import your module as `myMod` and execute some of the function calls seen in 03-Lecture-part-a.ipynb involving these functions using `myMod.myfun1` or `myMod.myfun2`."
   ]
  },
  {
   "cell_type": "code",
   "execution_count": null,
   "metadata": {},
   "outputs": [],
   "source": []
  },
  {
   "cell_type": "code",
   "execution_count": null,
   "metadata": {},
   "outputs": [],
   "source": []
  },
  {
   "cell_type": "markdown",
   "metadata": {},
   "source": [
    "<hr style=\"border:5px solid cyan\"> </hr>\n"
   ]
  },
  {
   "cell_type": "markdown",
   "metadata": {
    "collapsed": true
   },
   "source": [
    "## Generalizations of Modules: Packages\n",
    "---\n",
    "Packages (i.e., libraries) are modules with a *directory* structure.\n",
    "You can even make packages with subpackages and simply exploit the dot.dot reference to navigate through the package to get to the function you want (e.g. matplotlib.pyplot.plot).  \n",
    "\n",
    "If you want to develop a well-comparmentalized package you can look at online help: https://python-packaging.readthedocs.io/en/latest/.\n",
    "\n",
    "\n",
    "At the end of the semester, you may be asked to create your own package based on things you have learned."
   ]
  },
  {
   "cell_type": "markdown",
   "metadata": {},
   "source": [
    "## A (gentle) introduction to widgets\n",
    "---\n",
    "\n",
    "While widgets are used rather extensively in the next module, we introduce them here so that you become somewhat familiar with them.\n",
    "\n",
    "***We use widgets to create interactivity with functions. Widgets are very useful for illustrating concepts and exploring ideas. They are very useful when we are visualizing the impact of results in plots.***\n",
    "\n",
    "To read more about how we use `interact`, check out the documentation here: https://ipywidgets.readthedocs.io/en/latest/examples/Using%20Interact.html?highlight=interactive#\n",
    "\n",
    "To see different options for widgets, this is a good place to start: https://ipywidgets.readthedocs.io/en/latest/examples/Widget%20List.html\n",
    "\n",
    "**Read through the code comments below carefully as you run each code cell.**"
   ]
  },
  {
   "cell_type": "code",
   "execution_count": null,
   "metadata": {},
   "outputs": [],
   "source": [
    "# Usually place these at the top of a notebook if you know you are going to use widgets\n",
    "# This cell only needs to be executed once\n",
    "from ipywidgets import interact, interactive, fixed, interact_manual\n",
    "import ipywidgets as widgets"
   ]
  },
  {
   "cell_type": "code",
   "execution_count": null,
   "metadata": {},
   "outputs": [],
   "source": [
    "# Let's first interact with the myfun function from above to see ranges of outputs\n",
    "# for x-values ranging from -1 to 2 in increments of 0.1 with a default starting\n",
    "# value of 0\n",
    "interact(myfun, \n",
    "         x=widgets.FloatSlider(value=0, min=-1, max=2, step=0.1)\n",
    "        )"
   ]
  },
  {
   "cell_type": "code",
   "execution_count": null,
   "metadata": {},
   "outputs": [],
   "source": [
    "# What do you think the difference is between interact and interact_manual?\n",
    "interact_manual(myfun, \n",
    "                x=widgets.FloatSlider(value=0, min=-1, max=2, step=0.1)\n",
    "               )"
   ]
  },
  {
   "cell_type": "code",
   "execution_count": null,
   "metadata": {},
   "outputs": [],
   "source": [
    "# We can create the slider as a separate object\n",
    "xvals = widgets.FloatSlider(value=0, min=-1, max=2, step=0.1)\n",
    "interact(myfun, x=xvals)"
   ]
  },
  {
   "cell_type": "code",
   "execution_count": null,
   "metadata": {
    "scrolled": true
   },
   "outputs": [],
   "source": [
    "# We can restrict inputs to be integers\n",
    "x_int_vals = widgets.IntSlider(value=1, min=-5, max=10, step=1)\n",
    "interact(myfun, x=x_int_vals)"
   ]
  },
  {
   "cell_type": "code",
   "execution_count": null,
   "metadata": {},
   "outputs": [],
   "source": [
    "# We can have values range over orders of magnitude with the FloatLogSlider\n",
    "x_magnitudes = widgets.FloatLogSlider(value=1, base=10., min=-5, max=1, step=0.5)\n",
    "interact(myfun, x=x_magnitudes)"
   ]
  },
  {
   "cell_type": "markdown",
   "metadata": {},
   "source": [
    "<hr style=\"border:5px solid cyan\"> </hr>\n",
    "\n",
    "## <span style='background:rgba(0,255,255, 0.5); color:black'>Activity: Plotting with widgets</span> <a id='activity-widgets'/>\n",
    "\n",
    "We now do something a bit more fancy by creating a plot function that allows us some granular control over estimating the derivatives of the function and plotting results.\n",
    "\n",
    "Your job is to ***add comments to every line of code*** below to explain what is going on. "
   ]
  },
  {
   "cell_type": "code",
   "execution_count": null,
   "metadata": {},
   "outputs": [],
   "source": [
    "def plot_derivs(f, h, n):\n",
    "    fig = plt.figure(figsize=(15, 10)) # create a figure for the plots\n",
    "\n",
    "    x = np.linspace(0.05,1,n)\n",
    "\n",
    "    fprime_FD = diff.for_diff(f,x,h) \n",
    "    fprime_BD = diff.back_diff(f,x,h) \n",
    "    fprime_CD = diff.cent_diff(f,x,h) \n",
    "    \n",
    "    ax1 = fig.add_subplot(1,2,1)\n",
    "    ax1.plot(x, f(x))\n",
    "    ax1.set_title('The function $f(x)$')\n",
    "\n",
    "    ax2 = fig.add_subplot(1,2,2)\n",
    "    ax2.plot(x, fprime_FD, label='FD approx of $f^\\prime$')\n",
    "    ax2.plot(x, fprime_BD, label='BD approx of $f^\\prime$')\n",
    "    ax2.plot(x, fprime_CD, label='CD approx of $f^\\prime$')\n",
    "    ax2.legend(loc='upper right', fontsize=14)"
   ]
  },
  {
   "cell_type": "code",
   "execution_count": null,
   "metadata": {},
   "outputs": [],
   "source": [
    "def my_f(x):\n",
    "    return x**2*np.sin(np.pi*1/x)"
   ]
  },
  {
   "cell_type": "code",
   "execution_count": null,
   "metadata": {},
   "outputs": [],
   "source": [
    "%reset -f out \n",
    "\n",
    "interactive(plot_derivs, \n",
    "            f=fixed(my_f),\n",
    "            h=widgets.FloatLogSlider(value=0.1, min=-6, max=-1, base=10, step=1),\n",
    "            n=widgets.IntSlider(value=100, min=50, max=1000, step=50))"
   ]
  },
  {
   "cell_type": "markdown",
   "metadata": {},
   "source": [
    "<hr style=\"border:5px solid cyan\"> </hr>\n",
    "\n",
    "## <span style='background:rgba(0,255,255, 0.5); color:black'>Activity: Summary</span> <a id='activity-summary'/>\n",
    "\n",
    "Summarize some of the key takeaways/points from this notebook in a list below and prepare a few code examples related to these takeaways/points in the code cells below. You need to have at least one example for each of your summary points and you need at least three summary points.\n",
    "\n",
    "In this notebook, we have seen the following:\n",
    "\n",
    "- [Your summary point 1 goes here]\n",
    "\n"
   ]
  },
  {
   "cell_type": "code",
   "execution_count": null,
   "metadata": {},
   "outputs": [],
   "source": []
  },
  {
   "cell_type": "markdown",
   "metadata": {},
   "source": [
    "\n",
    "- [Your summary point 2 goes here]\n",
    "\n"
   ]
  },
  {
   "cell_type": "code",
   "execution_count": null,
   "metadata": {},
   "outputs": [],
   "source": []
  },
  {
   "cell_type": "markdown",
   "metadata": {},
   "source": [
    "\n",
    "- [Your summary point 3 goes here]"
   ]
  },
  {
   "cell_type": "code",
   "execution_count": null,
   "metadata": {},
   "outputs": [],
   "source": []
  },
  {
   "cell_type": "markdown",
   "metadata": {},
   "source": [
    "<hr style=\"border:5px solid cyan\"> </hr>"
   ]
  },
  {
   "cell_type": "markdown",
   "metadata": {},
   "source": [
    "### <a href='#Contents'>Click here to return to Notebook Contents</a>"
   ]
  }
 ],
 "metadata": {
  "anaconda-cloud": {},
  "kernelspec": {
   "display_name": "Python 3",
   "language": "python",
   "name": "python3"
  },
  "language_info": {
   "codemirror_mode": {
    "name": "ipython",
    "version": 3
   },
   "file_extension": ".py",
   "mimetype": "text/x-python",
   "name": "python",
   "nbconvert_exporter": "python",
   "pygments_lexer": "ipython3",
   "version": "3.8.6"
  }
 },
 "nbformat": 4,
 "nbformat_minor": 1
}
