{
 "cells": [
  {
   "cell_type": "markdown",
   "metadata": {},
   "source": [
    "# Math  1376: Programming for Data Science\n",
    "---"
   ]
  },
  {
   "cell_type": "code",
   "execution_count": null,
   "metadata": {},
   "outputs": [],
   "source": [
    "import numpy as np #We will use numpy in this lecture"
   ]
  },
  {
   "cell_type": "markdown",
   "metadata": {},
   "source": [
    "## Lecture 3: Logic, functions, loops, and modules (3 lectures for the price of 1! So much value. Just so much value.)\n",
    "---"
   ]
  },
  {
   "cell_type": "markdown",
   "metadata": {},
   "source": [
    "## Learning Objectives for Part (c)\n",
    "\n",
    "- Understand what a module is in Python and when/how to import and use it.\n",
    "\n",
    "\n",
    "- Create your own module. "
   ]
  },
  {
   "cell_type": "markdown",
   "metadata": {},
   "source": [
    "## Notebook contents <a id='Contents'>\n",
    "\n",
    "* <a href='#Modules'>Part (c): Modules</a>\n",
    "<br>\n",
    "\n",
    "    * <a href='#activity-your-module'>Activity: making and using your own module</a>\n",
    "    \n",
    "    * <a href='#activity-summary'>Activity: Summary</a>\n",
    "<br>"
   ]
  },
  {
   "cell_type": "markdown",
   "metadata": {
    "collapsed": true
   },
   "source": [
    "## Part (c): Modules <a id='Modules'>\n",
    "\n",
    "<span style='background:rgba(255,255,0, 0.25); color:black'> Run the code cell below and click the \"play\" button to see the recorded lecture associated with this notebook.</span> "
   ]
  },
  {
   "cell_type": "code",
   "execution_count": null,
   "metadata": {},
   "outputs": [],
   "source": [
    "# 1. Running this cell with embed the short recorded lecture associated with this part of the notebook\n",
    "# 2. Press on the \"play\" button to start the video.\n",
    "\n",
    "from IPython.display import YouTubeVideo\n",
    "\n",
    "YouTubeVideo('Still-need-to-create', width=800, height=300)"
   ]
  },
  {
   "cell_type": "markdown",
   "metadata": {
    "collapsed": true
   },
   "source": [
    "### What is it?\n",
    "* A file containing Python definitions and statements.\n",
    "* The file name is the module name with the suffix .py appended.\n",
    "* Within a module, the module's name is available as the global variable `__name__`.\n",
    "\n",
    "### When to use:\n",
    "* Your script gets very long and you want to have easier maintenance. \n",
    "* You want to reuse a function in several programs or scripts without copy/paste.\n",
    "* Performance reasons."
   ]
  },
  {
   "cell_type": "markdown",
   "metadata": {
    "collapsed": true
   },
   "source": [
    "Let's look at an example:\n",
    "\n",
    "Go to the main tab in your browser where you launched this notebook and left click on ``differences.py`` and then look at the code cell below.\n",
    "\n",
    "The `differences` module contains several functions for approximating the [derivative](https://en.wikipedia.org/wiki/Derivative) of a function using [finite differences](https://en.wikipedia.org/wiki/Finite_difference_method).\n",
    "\n",
    "Now, execute the code cells below."
   ]
  },
  {
   "cell_type": "code",
   "execution_count": null,
   "metadata": {},
   "outputs": [],
   "source": [
    "'''\n",
    "differences.py was included in the repo/Canvas and should be located within \n",
    "the same directory as this lecture before executing this code cell\n",
    "'''\n",
    "\n",
    "#Try changing inline to notebook. \n",
    "%matplotlib inline  \n",
    "\n",
    "import differences as diff # We import the module just like we import numpy\n",
    "import matplotlib.pyplot as plt"
   ]
  },
  {
   "cell_type": "code",
   "execution_count": null,
   "metadata": {},
   "outputs": [],
   "source": [
    "def myfun(x=0): # a function with a somewhat interesting plot\n",
    "    return np.exp(-x**2)*np.sin(np.pi*x)\n",
    "\n",
    "def myder(x=0): # the derivative of the function\n",
    "    return np.exp(-x**2)*(np.pi*np.cos(np.pi*x)-2*x*np.sin(np.pi*x))"
   ]
  },
  {
   "cell_type": "code",
   "execution_count": null,
   "metadata": {},
   "outputs": [],
   "source": [
    "x = np.linspace(0,1,100)\n",
    "\n",
    "fprime_FD = diff.for_diff(myfun,x,.1) #forward difference approximation to the derivative\n",
    "fprime_BD = diff.back_diff(myfun,x,.1) #backward difference approximation to the derivative\n",
    "fprime_CD = diff.cent_diff(myfun,x,.1) #centered difference approximation to the derivative"
   ]
  },
  {
   "cell_type": "code",
   "execution_count": null,
   "metadata": {},
   "outputs": [],
   "source": [
    "fig = plt.figure(figsize=(15, 10)) # create a figure for the plots\n",
    "\n",
    "ax1 = fig.add_subplot(2,2,1)\n",
    "ax1.plot(x, myfun(x))\n",
    "ax1.set_title('$f(x) = e^{-x^2}\\sin(\\pi x)$')\n",
    "\n",
    "ax2 = fig.add_subplot(2, 2, 3)\n",
    "ax2.plot(x, myder(x), label='$f^\\prime$')\n",
    "ax2.plot(x, fprime_FD, label='FD approx of $f^\\prime$')\n",
    "ax2.plot(x, fprime_BD, label='BD approx of $f^\\prime$')\n",
    "ax2.plot(x, fprime_CD, label='CD approx of $f^\\prime$')\n",
    "ax2.legend(loc='upper right', fontsize=14)\n",
    "\n",
    "ax3 = fig.add_subplot(2,2,4)\n",
    "ax3.plot(x, myder(x)-fprime_FD, label='Error in FD approx')\n",
    "ax3.plot(x, myder(x)-fprime_BD, label='Error in BD approx')\n",
    "ax3.plot(x, myder(x)-fprime_CD, label='Error in CD approx')\n",
    "ax3.legend(fontsize=14)"
   ]
  },
  {
   "cell_type": "markdown",
   "metadata": {
    "collapsed": true
   },
   "source": [
    "## Where does a module file need to go?\n",
    "\n",
    "Say you are trying to `import spam`.\n",
    "\n",
    "When imported, the interpreter searches for `spam` in locations in the following order:\n",
    "1. A built-in module with that name. \n",
    "2. *spam.py* in a list of directories given by the variable *sys.path*. \n",
    "    1. The directory containing the input script (or the current directory when no file is specified).\n",
    "    2. PYTHONPATH (a list of directory names, syntax as shell variable PATH).\n",
    "    3. The installation-dependent default."
   ]
  },
  {
   "cell_type": "markdown",
   "metadata": {},
   "source": [
    "<hr style=\"border:5px solid cyan\"> </hr>\n",
    "\n",
    "## <span style='background:rgba(0,255,255, 0.5); color:black'>Activity: making and using your own module</span><a id='activity-your-module'>\n",
    "\n",
    "1. Use the main Jupyter tab on your browser where you launched this notebook to create a new text file in the same directory as this lecture (watch the short lecture video if you need help with this). \n",
    "\n",
    "2. Copy/paste the `myfun1` and `myfun2` from 03-Lecture-part-a.ipynb into this file and save the file as `myModule.py` (pro tip: save the file with this name first to get some nice formatting/text color options as the text editor will now recognize this as a Python file once it is saved as a .py file).\n",
    "\n",
    "3. Create some more code cells below if necessary to import your module as `myMod` and execute some of the function calls seen in 03-Lecture-part-a.ipynb involving these functions using `myMod.myfun1` or `myMod.myfun2`."
   ]
  },
  {
   "cell_type": "code",
   "execution_count": null,
   "metadata": {},
   "outputs": [],
   "source": []
  },
  {
   "cell_type": "code",
   "execution_count": null,
   "metadata": {},
   "outputs": [],
   "source": []
  },
  {
   "cell_type": "markdown",
   "metadata": {},
   "source": [
    "<hr style=\"border:5px solid cyan\"> </hr>\n"
   ]
  },
  {
   "cell_type": "markdown",
   "metadata": {
    "collapsed": true
   },
   "source": [
    "## Generalizations of Modules: Packages\n",
    "\n",
    "Packages (i.e., libraries) are modules with a *directory* structure.\n",
    "You can even make packages with subpackages and simply exploit the dot.dot reference to navigate through the package to get to the function you want (e.g. matplotlib.pyplot.plot).  \n",
    "\n",
    "If you want to develop a well-comparmentalized package you can look at online help: https://python-packaging.readthedocs.io/en/latest/.\n",
    "\n",
    "\n",
    "At the end of the semester, you may be asked to create your own package based on things you have learned."
   ]
  },
  {
   "cell_type": "markdown",
   "metadata": {},
   "source": [
    "<hr style=\"border:5px solid cyan\"> </hr>\n",
    "\n",
    "## <span style='background:rgba(0,255,255, 0.5); color:black'>Activity: Summary</span> <a id='activity-summary'/>\n",
    "\n",
    "Summarize some of the key takeaways/points from this notebook in a list below and prepare a few code examples related to these takeaways/points in the code cells below. You need to have at least one examples for each of your summary points and you need at least three summary points.\n",
    "\n",
    "In this notebook, we have seen the following:\n",
    "\n",
    "- [Your summary point 1 goes here]\n",
    "\n",
    "\n",
    "- [Your summary point 2 goes here]\n",
    "\n",
    "\n",
    "- [Your summary point 3 goes here]"
   ]
  },
  {
   "cell_type": "code",
   "execution_count": null,
   "metadata": {},
   "outputs": [],
   "source": []
  },
  {
   "cell_type": "code",
   "execution_count": null,
   "metadata": {},
   "outputs": [],
   "source": []
  },
  {
   "cell_type": "code",
   "execution_count": null,
   "metadata": {},
   "outputs": [],
   "source": []
  },
  {
   "cell_type": "markdown",
   "metadata": {},
   "source": [
    "<hr style=\"border:5px solid cyan\"> </hr>"
   ]
  },
  {
   "cell_type": "markdown",
   "metadata": {},
   "source": [
    "### <a href='#Contents'>Click here to return to Notebook Contents</a>"
   ]
  }
 ],
 "metadata": {
  "anaconda-cloud": {},
  "kernelspec": {
   "display_name": "Python 3",
   "language": "python",
   "name": "python3"
  },
  "language_info": {
   "codemirror_mode": {
    "name": "ipython",
    "version": 3
   },
   "file_extension": ".py",
   "mimetype": "text/x-python",
   "name": "python",
   "nbconvert_exporter": "python",
   "pygments_lexer": "ipython3",
   "version": "3.7.6"
  }
 },
 "nbformat": 4,
 "nbformat_minor": 1
}
