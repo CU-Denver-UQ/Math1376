{
 "cells": [
  {
   "cell_type": "markdown",
   "metadata": {},
   "source": [
    "# Math  1376: Programming for Data Science\n",
    "---\n",
    "\n",
    "## Assignment 03 (for parts a and b): functions, logic, and a little bit of loops (due by 11:59 p.m. Friday of week 5 of class)\n",
    "---"
   ]
  },
  {
   "cell_type": "code",
   "execution_count": 1,
   "metadata": {},
   "outputs": [],
   "source": [
    "import numpy as np"
   ]
  },
  {
   "cell_type": "markdown",
   "metadata": {},
   "source": [
    "## Problem 1: Population growth\n",
    "---\n",
    "\n",
    "### Problem 1(a) \n",
    "---\n",
    "\n",
    "Use the Markdown cell below to summarize the population growth model and its solution described here: https://en.wikipedia.org/wiki/Logistic_function#In_ecology:_modeling_population_growth"
   ]
  },
  {
   "cell_type": "markdown",
   "metadata": {},
   "source": [
    "### Problem 1(a): Answers\n",
    "---\n",
    "\n",
    "YOUR ANSWERS GO HERE."
   ]
  },
  {
   "cell_type": "markdown",
   "metadata": {},
   "source": [
    "### Problem 1(b)\n",
    "---\n",
    "\n",
    "Finishing coding the function in the code cell below. The function should have keyword arguments for the model parameters $r$, $P_0$, and $K$ (described in your Markdown cell above) as well as for the time $t$ for which the solution is to be evaluated. "
   ]
  },
  {
   "cell_type": "code",
   "execution_count": null,
   "metadata": {},
   "outputs": [],
   "source": [
    "# Code solution function here to answer Problem 1(b) \n",
    "def P(  ): # PUT PARAMETERS INSIDE THE PARENTHESES\n",
    "    p_vals = # PUT POPULATION FUNCTION HERE\n",
    "    return p_vals"
   ]
  },
  {
   "cell_type": "markdown",
   "metadata": {},
   "source": [
    "### Problem 1(c)\n",
    "---\n",
    "\n",
    "Evaluate the function you coded in part (b) above with $r=0.01$, $P_0=.1$, $K=2$, at $t = 1, 10, 100$, and $1000$ and print results. Then, make $r=0.5$ and repeat. Discuss/interpret the results in terms of the sensitivity of the population to increasing $r$ values. "
   ]
  },
  {
   "cell_type": "code",
   "execution_count": null,
   "metadata": {},
   "outputs": [],
   "source": [
    "# Code for Problem 1(c) goes here"
   ]
  },
  {
   "cell_type": "markdown",
   "metadata": {},
   "source": [
    "YOUR DISCUSSION FOR PROBLEM 1(C) GO HERE."
   ]
  },
  {
   "cell_type": "markdown",
   "metadata": {},
   "source": [
    "### Problem 1(d)\n",
    "---\n",
    "\n",
    "Run the code cells below to use your function to compute and plot $P(t)$ for various values of $r, P_0$, and $K$. Add some comments to the code. Discuss/interpret the results in the Markdown cell that follows. "
   ]
  },
  {
   "cell_type": "code",
   "execution_count": null,
   "metadata": {},
   "outputs": [],
   "source": [
    "# We need to import pyplot from matplotlib\n",
    "%matplotlib inline\n",
    "import matplotlib.pyplot as plt "
   ]
  },
  {
   "cell_type": "code",
   "execution_count": null,
   "metadata": {},
   "outputs": [],
   "source": [
    "plt.figure(figsize=(8,8))\n",
    "t_f = 10\n",
    "rs = [.3, .3, .5, .5]\n",
    "P0 = .1\n",
    "Ks = [2, 4, 2, 4]\n",
    "for (r,K) in zip(rs,Ks):\n",
    "    t = np.linspace(0, t_f, 100)\n",
    "    label_str = '$(r,K)$ = (' + str(r) + ',' + str(K) + ')'\n",
    "    plt.plot(t, P(r, P0, K, t), label=label_str)\n",
    "plt.legend(fontsize=18)"
   ]
  },
  {
   "cell_type": "markdown",
   "metadata": {},
   "source": [
    "YOUR DISCUSSION FOR PROBLEM 1(D) GO HERE."
   ]
  },
  {
   "cell_type": "markdown",
   "metadata": {},
   "source": [
    "## Some background on RBFs (A preamble to Problem 2)\n",
    "\n",
    "### (Approx. time to read: 15 minutes)\n",
    "\n",
    "[Radial Basis Functions (RBFs)](https://en.wikipedia.org/wiki/Radial_basis_function) are used in many applications and disciplines such as non-parametric density estimation in statistics, approximations of function responses on unstructured data sets, and defining some types of artificial neural networks.\n",
    "In other words, they are [kind of a big deal](https://www.youtube.com/watch?v=H8OxKx6zKkQ).\n",
    "\n",
    "### What is the idea/purpose/features of an RBF?\n",
    "\n",
    "We summarize the <font size=5>big picture</font>  idea behind why RBFs are used as follows:\n",
    "\n",
    "> We have some information about \"what happens\" at a point in space, denoted by $\\mathbf{c}$, and we want to use this information to \"infer what may happen\" at a point $\\mathbf{x}$. \n",
    "\n",
    "In the context of the big picture idea, we expect RBFs to exhibit the following features:\n",
    "\n",
    "- If $\\mathbf{x}$ is \"close\" to $\\mathbf{c}$, then the knowledge we have about what happens at $\\mathbf{c}$ should play a big role in informing what we think may happen at $\\mathbf{x}$. \n",
    "\n",
    "- If $\\mathbf{x}$ is \"far away\" from $\\mathbf{c}$, then perhaps we should reduce how much we rely on the knowledge we have at $\\mathbf{c}$ to inform us about what may happen at $\\mathbf{x}$. \n",
    "\n",
    "### How do we go from concept to practice? \n",
    "\n",
    "A few things have to be made more concrete: what functions exhibit such desirable features, what do we mean by \"close\" and \"far away\", and how do we measure distance anyway?\n",
    "\n",
    "To make this a bit more mathematically precise, we formalize our notation. \n",
    "- Let $\\phi$ denote an RBF that maps a \"distance\" $r\\in[0,\\infty)$ into $\\mathbf{R}$ such that $\\phi(0)$ is the maximum and $\\phi(r_1)>\\phi(r_2)$ whenever $0\\leq r_1<r_2$.\n",
    "\n",
    "- Let $\\mathbf{c}$ denote some point in a vector space at which we \"know something.\"\n",
    "\n",
    "- Let $\\mathbf{x}$ denote some other point in the vector space where we would like to \"infer something.\"\n",
    "\n",
    "- Let $r=\\vert\\vert\\mathbf{x}-\\mathbf{c}\\vert\\vert$ denote the distance from $\\mathbf{x}$ to $\\mathbf{c}$ where $\\vert\\vert\\cdot\\vert\\vert$ denotes a norm on the vector space.\n",
    "\n",
    "The image below of a Gaussian RBF illustrates these concepts where we see that if $r=0$, this would mean the point $\\mathbf{x}=\\mathbf{c}$ and the RBF is \"maximized\" and the RBF decreases as $r$ increases (when $\\mathbf{x}$ moves away from $\\mathbf{c}$ either to the left or right).\n",
    "\n",
    "![Illustration of RBF](Gaussian-RBF-cartoon.png \"The items that make up a figure\")"
   ]
  },
  {
   "cell_type": "markdown",
   "metadata": {},
   "source": [
    "### A note on important technical content: norms\n",
    "\n",
    "Wait, how do we compute $r$? What does $\\vert\\vert \\cdot \\vert\\vert$ being a norm mean? \n",
    "\n",
    "In 1-dimension (such as in the image of an RBF shown above), $r=\\vert \\mathbf{x}-\\mathbf{c}\\vert$ is just given by the absolute value of the difference between the points $\\mathbf{x}$ and $\\mathbf{c}$. \n",
    "\n",
    "Things get a little trickier in higher-dimensional spaces.\n",
    "\n",
    "In many cases, it is fine to simply think of this as the \"straight line distance\" between two points that you are probably familiar with in 2- and 3-dimensional spaces. \n",
    "But, it is important to note that there are other useful ways of measuring distances.\n",
    "The interested reader is encouraged to examine the following resources for more information (click the links to see graphical representations of these distances as well):\n",
    "\n",
    "- The [Euclidean distance](https://en.wikipedia.org/wiki/Euclidean_distance) generalizes the concept of a straight line distance in $\\mathbf{R}^k$ for $k$ beyond 3-dimensions. This is sometimes called the 2-norm distance. \n",
    "\n",
    "- The [taxicab distance](https://en.wikipedia.org/wiki/Taxicab_geometry) is useful when the distance measured in moving from one point to another is best described by moving along a \"grid of roads\". This is closely related to how we actually think of the \"real distance\" of two points on a map when the \"straight line path\" is impossible to traverse. This is sometimes called the 1-norm distance.\n",
    "\n",
    "- The [Chebyshev distance](https://en.wikipedia.org/wiki/Chebyshev_distance) is useful when the distance measured in moving from one point to another is best described by the longest distance we have to travel in any one direction. This is sometimes called the $\\infty$-norm distance. "
   ]
  },
  {
   "cell_type": "markdown",
   "metadata": {},
   "source": [
    "### Are there simple ways to compute norms in Python?\n",
    "\n",
    "While norms are actually pretty simple functions to code up yourself, the subpackage `numpy.linalg` has a function [`norm`](https://docs.scipy.org/doc/numpy/reference/generated/numpy.linalg.norm.html) that allows you to pass an `ord` parameter to define which type of norm you want to use. \n",
    "Basically, this `ord` parameter allows you to choose which particular Minkowski distance function you want to use.\n",
    "\n",
    "- `ord=2` means you are using the 2-norm. \n",
    "\n",
    "- `ord=1` means you are using the 1-norm.\n",
    "\n",
    "- `ord=np.inf` means you are using the $\\infty$-norm (you pass the \"infinity\" variable stored in `numpy` as the `ord`)\n",
    "\n",
    "We show some examples of this below."
   ]
  },
  {
   "cell_type": "code",
   "execution_count": null,
   "metadata": {},
   "outputs": [],
   "source": [
    "from numpy.linalg import norm "
   ]
  },
  {
   "cell_type": "code",
   "execution_count": null,
   "metadata": {},
   "outputs": [],
   "source": [
    "# Some vectors (as 1-D numpy arrays of various shapes)\n",
    "\n",
    "a = np.array([5, 5]) # Shape is (2,) so interpret as a point/vector in 2-D space\n",
    "\n",
    "b = np.array([3, 7, 2]) # Shape is (3,) so interpret as a point/vector in 3-D space"
   ]
  },
  {
   "cell_type": "code",
   "execution_count": null,
   "metadata": {},
   "outputs": [],
   "source": [
    "# First some 2-dimensional distances between a point x and a\n",
    "\n",
    "x = np.array([2, 3]) \n",
    "\n",
    "print(norm(x-a)) # The 2-norm is the default, this gives the Euclidean distance\n",
    "print()\n",
    "\n",
    "print(norm(x-a, ord=2)) # Also gives the Euclidean distance\n",
    "print()\n",
    "\n",
    "print(norm(x-a, ord=1)) # This gives the 1-norm distance \n",
    "print()\n",
    "\n",
    "print(norm(x-a, ord=np.inf)) # This gives the infinity-norm distance "
   ]
  },
  {
   "cell_type": "code",
   "execution_count": null,
   "metadata": {},
   "outputs": [],
   "source": [
    "# Now some 2-dimensional distances between a point x and b\n",
    "\n",
    "x = np.array([2, 3, 5])\n",
    "\n",
    "print(norm(x-b, ord=2)) # Gives the Euclidean distance (recall, we do not need to specify ord here, but it is a good idea to do so)\n",
    "print()\n",
    "\n",
    "print(norm(x-b, ord=1)) # This gives the 1-norm distance \n",
    "print()\n",
    "\n",
    "print(norm(x-b, ord=np.inf)) # This gives the infinity-norm distance "
   ]
  },
  {
   "cell_type": "markdown",
   "metadata": {},
   "source": [
    "## Problem 2: Radial Basis Functions (RBFs)\n",
    "---\n",
    "\n",
    "### Problem 2(a)\n",
    "---\n",
    "\n",
    "Read the Wiki page on [Radial Basis Functions (RBFs)](https://en.wikipedia.org/wiki/Radial_basis_function) and summarize the following RBFs in the Markdown cell below: Gaussian and Bump function. Briefly explain the role of the shape parameter $\\epsilon$ in determining what is considered close and far away (hint: think of \"squeezing\" or \"stretching\" out the Gaussian RBF pictured above). "
   ]
  },
  {
   "cell_type": "markdown",
   "metadata": {},
   "source": [
    "### Problem 2(a) Answers:\n",
    "---\n",
    "\n",
    "YOUR ANSWERS GO HERE"
   ]
  },
  {
   "cell_type": "markdown",
   "metadata": {},
   "source": [
    "### Problem 2(b)\n",
    "\n",
    "Create three functions: `my_Gaussian`, `my_Bump`, and a \"wrapper\" function called `my_RBFs` function that will choose which of these two RBFs to evaluate based on a string argument `which_RBF` that defaults to the Gaussian RBF. All three of these functions should also take in as arguments the following: `x` and `c` (both `numpy` arrays of the same size), the shape parameter `eps`,  and `ord` (which determines the norm used to compute $r=\\vert \\vert \\mathbf{x}-\\mathbf{c} \\vert\\vert$ where you use the [`norm`](https://docs.scipy.org/doc/numpy/reference/generated/numpy.linalg.norm.html) function in `numpy.linalg` to compute this norm). The function should return the value of the RBF at the computed $r$ value.\n",
    "\n",
    "I will get you started on the `my_Gaussian` and `my_RBFs` functions, but they need to be completed. You need to write the `my_Bump` function in its entirety."
   ]
  },
  {
   "cell_type": "code",
   "execution_count": null,
   "metadata": {},
   "outputs": [],
   "source": [
    "# Code for my_Gaussian goes here\n",
    "\n",
    "def my_Gaussian(x, c, eps=1, ord=None):\n",
    "    r = norm(x-c, ord=ord) # Compute the distance from x to c\n",
    "    # Compute the Gaussian RBF with shape parameter eps below\n",
    "    phi = # YOU NEED TO FILL IN THIS PART!!!!\n",
    "    return phi"
   ]
  },
  {
   "cell_type": "code",
   "execution_count": null,
   "metadata": {},
   "outputs": [],
   "source": [
    "# Code for my_Bump goes here"
   ]
  },
  {
   "cell_type": "code",
   "execution_count": null,
   "metadata": {},
   "outputs": [],
   "source": [
    "# Code for my_RBFs goes here\n",
    "\n",
    "def my_RBFs(x, c, eps=1, ord=None, which_RBF='Gaussian'):\n",
    "    if which_RBF == 'Gaussian':\n",
    "        # Fill this in\n",
    "    elif which_RBF == 'Bump':\n",
    "        # Fill this in\n",
    "    else:\n",
    "        print('Uh, what RBF do you want? Choose Gaussian or Bump please.')\n",
    "        return\n",
    "    return phi"
   ]
  },
  {
   "cell_type": "markdown",
   "metadata": {},
   "source": [
    "### Problem 2(c)\n",
    "---\n",
    "\n",
    "Execute the code cells below to verify that both RBFs can be evaluated for the given points/vectors in $\\mathbf{R}$, $\\mathbf{R}^2$, and $\\mathbf{R}^{10}$ with different choices of `ord` and `eps`."
   ]
  },
  {
   "cell_type": "code",
   "execution_count": null,
   "metadata": {},
   "outputs": [],
   "source": [
    "# Create 1-D numpy arrays of shape (1,), (2,), and (10,) to test the code\n",
    "\n",
    "a_R = np.array([1])\n",
    "b_R = np.array([2])\n",
    "\n",
    "a_R2 = np.array([1, 2])\n",
    "b_R2 = np.array([3, 4])\n",
    "\n",
    "a_R10 = np.array([1, 2, 3, 4, 5, 6, 7, 8, 9, 10])\n",
    "b_R10 = np.array([2, 3, 4, 5, 6, 7, 8, 9, 10, 11])"
   ]
  },
  {
   "cell_type": "code",
   "execution_count": null,
   "metadata": {},
   "outputs": [],
   "source": [
    "# Showing 1-D results for Gaussian RBF\n",
    "\n",
    "phi = my_RBFs(a_R, b_R, eps=1, ord=2)\n",
    "print(phi)\n",
    "print()\n",
    "\n",
    "phi = my_RBFs(a_R, b_R, eps=0.5, ord=1)\n",
    "print(phi)\n",
    "print()\n",
    "\n",
    "phi = my_RBFs(a_R, b_R, eps=2, ord=np.inf)\n",
    "print(phi)"
   ]
  },
  {
   "cell_type": "code",
   "execution_count": null,
   "metadata": {},
   "outputs": [],
   "source": [
    "# Showing 1-D results for  Bump RBF\n",
    "\n",
    "phi = my_RBFs(a_R, b_R, eps=1, ord=2, which_RBF='Bump')\n",
    "print(phi)\n",
    "print()\n",
    "\n",
    "phi = my_RBFs(a_R, b_R, eps=0.5, ord=1, which_RBF='Bump')\n",
    "print(phi)\n",
    "print()\n",
    "\n",
    "phi = my_RBFs(a_R, b_R, eps=2, ord=np.inf, which_RBF='Bump')\n",
    "print(phi)"
   ]
  },
  {
   "cell_type": "code",
   "execution_count": null,
   "metadata": {},
   "outputs": [],
   "source": [
    "# Showing 2-D results for Gaussian RBF\n",
    "\n",
    "phi = my_RBFs(a_R2, b_R2, eps=1, ord=2)\n",
    "print(phi)\n",
    "print()\n",
    "\n",
    "phi = my_RBFs(a_R2, b_R2, eps=0.5, ord=1)\n",
    "print(phi)\n",
    "print()\n",
    "\n",
    "phi = my_RBFs(a_R2, b_R2, eps=2, ord=np.inf)\n",
    "print(phi)"
   ]
  },
  {
   "cell_type": "code",
   "execution_count": null,
   "metadata": {},
   "outputs": [],
   "source": [
    "# Showing 2-D results for Bump RBF\n",
    "\n",
    "phi = my_RBFs(a_R2, b_R2, eps=1, ord=2, which_RBF='Bump')\n",
    "print(phi)\n",
    "print()\n",
    "\n",
    "phi = my_RBFs(a_R2, b_R2, eps=0.5, ord=1, which_RBF='Bump')\n",
    "print(phi)\n",
    "print()\n",
    "\n",
    "phi = my_RBFs(a_R2, b_R2, eps=2, ord=np.inf, which_RBF='Bump')\n",
    "print(phi)"
   ]
  },
  {
   "cell_type": "code",
   "execution_count": null,
   "metadata": {},
   "outputs": [],
   "source": [
    "# Showing 10-D results for Gaussian RBF\n",
    "\n",
    "phi = my_RBFs(a_R10, b_R10, eps=1, ord=2)\n",
    "print(phi)\n",
    "print()\n",
    "\n",
    "phi = my_RBFs(a_R10, b_R10, eps=0.5, ord=1)\n",
    "print(phi)\n",
    "print()\n",
    "\n",
    "phi = my_RBFs(a_R10, b_R10, eps=2, ord=np.inf)\n",
    "print(phi)"
   ]
  },
  {
   "cell_type": "code",
   "execution_count": null,
   "metadata": {},
   "outputs": [],
   "source": [
    "# Showing 10-D results for Bump RBF\n",
    "\n",
    "phi = my_RBFs(a_R10, b_R10, eps=1, ord=2, which_RBF='Bump')\n",
    "print(phi)\n",
    "print()\n",
    "\n",
    "phi = my_RBFs(a_R10, b_R10, eps=0.5, ord=1, which_RBF='Bump')\n",
    "print(phi)\n",
    "print()\n",
    "\n",
    "phi = my_RBFs(a_R10, b_R10, eps=2, ord=np.inf, which_RBF='Bump')\n",
    "print(phi)"
   ]
  }
 ],
 "metadata": {
  "kernelspec": {
   "display_name": "Python 3",
   "language": "python",
   "name": "python3"
  },
  "language_info": {
   "codemirror_mode": {
    "name": "ipython",
    "version": 3
   },
   "file_extension": ".py",
   "mimetype": "text/x-python",
   "name": "python",
   "nbconvert_exporter": "python",
   "pygments_lexer": "ipython3",
   "version": "3.7.6"
  }
 },
 "nbformat": 4,
 "nbformat_minor": 2
}
