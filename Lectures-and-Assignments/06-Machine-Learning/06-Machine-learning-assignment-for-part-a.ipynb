{
 "cells": [
  {
   "cell_type": "markdown",
   "metadata": {},
   "source": [
    "# Math  1376: Programming for Data Science\n",
    "---\n",
    "\n",
    "## Assignment 06 (part a): Classes of classifiers\n",
    "---"
   ]
  },
  {
   "cell_type": "code",
   "execution_count": null,
   "metadata": {},
   "outputs": [],
   "source": [
    "import numpy as np #We will use numpy in this lecture\n",
    "import matplotlib.pyplot as plt\n",
    "%matplotlib inline\n",
    "\n",
    "from matplotlib.colors import ListedColormap\n",
    "\n",
    "from ipywidgets import interact, interactive, fixed, interact_manual\n",
    "import ipywidgets as widgets\n",
    "\n",
    "import pandas as pd"
   ]
  },
  {
   "cell_type": "markdown",
   "metadata": {},
   "source": [
    "## A short tutorial on [`classes`](https://docs.python.org/3/tutorial/classes.html) and objects [approx. read time: 45 minutes]\n",
    "---\n",
    "    \n",
    "<span style='background:rgba(255,255,0, 0.25); color:black'> Run the code cell below and click the \"play\" button to see the third recorded lecture associated with this notebook.</span>"
   ]
  },
  {
   "cell_type": "code",
   "execution_count": null,
   "metadata": {},
   "outputs": [],
   "source": [
    "# 1. Running this cell with embed the short recorded lecture associated with this part of the notebook\n",
    "# 2. Press on the \"play\" button to start the video.\n",
    "\n",
    "from IPython.display import YouTubeVideo\n",
    "\n",
    "YouTubeVideo('Y-XqXyUhl1k', width=800, height=300)"
   ]
  },
  {
   "cell_type": "markdown",
   "metadata": {},
   "source": [
    "### You are already familiar with objects and classes!\n",
    "---\n",
    "\n",
    "Yes, you really are! Lists, the pandas [DataFrame](https://pandas.pydata.org/pandas-docs/stable/reference/api/pandas.DataFrame.html) and NumPy [arrays](https://numpy.org/doc/stable/reference/generated/numpy.array.html) are *objects* from the DataFrame and array *classes*. \n",
    "For more information on the array objects, see here: https://scipy-lectures.org/intro/numpy/array_object.html.\n",
    "\n",
    "This means we are in a good position to now discuss some of the fundamentals of [object oriented programming (OOP)](https://en.wikipedia.org/wiki/Object-oriented_programming).\n",
    "Now is a particularly good time to do so since improving your familiarity with OOP can improve your understanding of how many machine learning libraries are designed."
   ]
  },
  {
   "cell_type": "markdown",
   "metadata": {},
   "source": [
    "<span style='background:rgba(255,0,255, 0.25); color:black'> ***Key points:*** <span>\n",
    "\n",
    "- What are objects and their relationship to classes? From the Wiki: \n",
    "\n",
    "> If two objects apple and orange are instantiated from the class Fruit, they are inherently fruits and it is guaranteed that you may handle them in the same way; e.g. a programmer can expect the existence of the same attributes such as color or sugar_content or is_ripe.\n",
    "\n",
    "- Abstracting that a bit more, we have that\n",
    "\n",
    "> Objects combine variables and functions into a single entity derived from a class. Classes are essentially a *template* to create your objects.\n",
    "\n",
    "<span style='background:rgba(255,0,255, 0.25); color:black'> ***A useful perspective:*** <span>\n",
    "\n",
    "\n",
    "If you approach programming as if you are an [architect](https://www.youtube.com/watch?v=cHZl2naX1Xk), then you can develop a deeper appreciation for OOP and the need for classes.\n",
    "Suppose you want to design a [neural network (NN)](https://en.wikipedia.org/wiki/Neural_network) to perform some complex task like image classification.\n",
    "This NN may involve *many* different \"neuron\" models that are all interconnected to perform the task.\n",
    "You may then decide it is worth constructing a \"neuron\" class from which all the neurons in your NN are just distinct objects (unique instantiations) from this class. \n",
    "Each object holds certain important variables that are unique to that object (e.g., perhaps a string variable stating whether the neuron is modeled as a perceptron or ADALINE along with the weights and bias for the net input function) along with certain functional capabilities (e.g., a \"fit\" function that learns the weights and bias from some training data).\n",
    "\n",
    "Your assignment involves some OOP. Below, we explore the basic concepts you will need for the assignment including an activity you should find useful before starting the assignment."
   ]
  },
  {
   "cell_type": "markdown",
   "metadata": {},
   "source": [
    "### Okay, how do I create my own classes and objects?\n",
    "---\n",
    "\n",
    "Good question! \n",
    "\n",
    "We will see through the use of a commented example. For more information, check this out: https://docs.python.org/3/tutorial/classes.html or Google some questions!\n",
    "\n",
    "In general, we will make our classes with an instantiation operation (i.e., an initialization function) that is run each type an object of that class type is created.\n",
    "\n",
    "> Many classes like to create objects with instances customized to a specific initial state. Therefore a class may define a special method named `__init__()`, like shown below. When a class defines an `__init__()` method, class instantiation automatically invokes `__init__()` for the newly-created class instance. While not necessary, the `__init()__` method may have arguments for greater flexibility. In that case, arguments given to the class instantiation operator are passed on to `__init__()`. ***We do this below.***\n",
    "\n",
    "<span style='background:rgba(255,0,255, 0.25); color:black'> ***Some useful notes about conventions:*** <span>\n",
    "\n",
    "\n",
    "- You will see that the \"variable\" `self` is used almost everywhere within classes. This in fact is often the first argument of a method. \n",
    "\n",
    "  This is nothing more than a convention: the name `self` has absolutely ***no special meaning*** to Python. But, it allows for more clear readability of code and understanding what in an object is essentially a \"self-referencing\" part of the class.\n",
    "<br><br>\n",
    "\n",
    "- We will initially see that `object` is a variable for a class. \n",
    "\n",
    "  This is not necessary in recent versions of Python (versions 3.+), but is a convention used to distinguish a \"base\" class (also called a \"super\" class) from a \"sub-class\". We will get into sub-classes in a bit because it is relevant for this assignment."
   ]
  },
  {
   "cell_type": "markdown",
   "metadata": {},
   "source": [
    "### A *silly* example\n",
    "---\n",
    "\n",
    "- Below, we create a class called `I_am_what_I_am` that is instantiated with a single input variable that we call `x`. The idea of this class is to turn a variable `x` into a more \"self-aware\" object that can report its type along with other information related to itself. \n",
    "<br><br>\n",
    "\n",
    "- The variable `x` becomes a data *attribute* of an instantiated object and is accessible using the dot convention (we will see examples of this below).\n",
    "<br><br>\n",
    "\n",
    "- The functions defined within the class are called methods and also are *attributes* of an instantiated object that are accessible using the dot convention (again, we will see examples of this below).\n",
    "<br><br>\n",
    "\n",
    "- If the last two points seem a bit strange, you may recall a numpy array also has some data attributes like `.shape` and method attributes such as `.min()` and `.max()`. "
   ]
  },
  {
   "cell_type": "code",
   "execution_count": null,
   "metadata": {},
   "outputs": [],
   "source": [
    "# Creating a self-aware object\n",
    "\n",
    "class I_am_what_I_am(object): #a class that turns anything into an object that tells you what type it is\n",
    "    def __init__(self, x): #this initializes the object to know what x is!\n",
    "        self.x = x # the object will keep as an attribute the variable x used to instantiate it\n",
    "    \n",
    "    def what_am_I(self): #print what type of variable x is\n",
    "        print(type(self.x))\n",
    "        \n",
    "    def what_created_me(self): #print the variable x\n",
    "        print(self.x)\n",
    "        \n",
    "    def my_purpose(self): #oh no, what have we created?!\n",
    "        print('That is...class-ified') #What a perverse sense of humor!"
   ]
  },
  {
   "cell_type": "code",
   "execution_count": null,
   "metadata": {},
   "outputs": [],
   "source": [
    "a = np.array([1, 2, 3])\n",
    "\n",
    "b = I_am_what_I_am(a)"
   ]
  },
  {
   "cell_type": "code",
   "execution_count": null,
   "metadata": {},
   "outputs": [],
   "source": [
    "b.what_am_I() #This attribute is a method (i.e., a function), so it requires the () "
   ]
  },
  {
   "cell_type": "code",
   "execution_count": null,
   "metadata": {},
   "outputs": [],
   "source": [
    "b.what_created_me()"
   ]
  },
  {
   "cell_type": "code",
   "execution_count": null,
   "metadata": {},
   "outputs": [],
   "source": [
    "b.my_purpose() "
   ]
  },
  {
   "cell_type": "code",
   "execution_count": null,
   "metadata": {},
   "outputs": [],
   "source": [
    "# The variable a is now the data attribute x. A data attribute is not a method/function, so \n",
    "# we do not use the () when calling it\n",
    "b.x"
   ]
  },
  {
   "cell_type": "code",
   "execution_count": null,
   "metadata": {},
   "outputs": [],
   "source": [
    "# What happens if we change the array a?\n",
    "a[2] = 7\n",
    "print(a)"
   ]
  },
  {
   "cell_type": "code",
   "execution_count": null,
   "metadata": {},
   "outputs": [],
   "source": [
    "b.x #can you explain this?! hint: mutable vs unmutable data types"
   ]
  },
  {
   "cell_type": "code",
   "execution_count": null,
   "metadata": {},
   "outputs": [],
   "source": [
    "del a #delete a from memory"
   ]
  },
  {
   "cell_type": "code",
   "execution_count": null,
   "metadata": {},
   "outputs": [],
   "source": [
    "a # This will return an error"
   ]
  },
  {
   "cell_type": "code",
   "execution_count": null,
   "metadata": {},
   "outputs": [],
   "source": [
    "b.x #can you explain this?! hint: the system has a memory..."
   ]
  },
  {
   "cell_type": "markdown",
   "metadata": {},
   "source": [
    "### What if I want my object to be more \"stable\"?\n",
    "---\n",
    "\n",
    "Imagine you instantiate an object using mutable data types (lists, numpy arrays, etc.), and you want the object to remain unchanged in the event that these data types change later in your code. (Why might these data types change? You may be creating a sequence of objects within a loop that is iteratively updating an array used in the instantiation of the object.)\n",
    "\n",
    "The [`copy`](https://docs.python.org/3/library/copy.html) function may just be what you want. \n",
    "\n",
    "> Assignment statements in Python do not copy objects, they create bindings between a target and an object. For collections that are mutable or contain mutable items, a copy is sometimes needed so one can change one copy without changing the other. \n",
    "\n",
    "There are \"shallow\" copies and \"deep\" copies that can be created. Read up on this for more information. We will use a deep copy below. (Honestly, I find it hard to think of a scenario where I would prefer a shallow to a deep copy.)"
   ]
  },
  {
   "cell_type": "code",
   "execution_count": null,
   "metadata": {},
   "outputs": [],
   "source": [
    "import copy #you could also import copy as cp and then change every instance of \"copy\" to \"cp\" below"
   ]
  },
  {
   "cell_type": "code",
   "execution_count": null,
   "metadata": {},
   "outputs": [],
   "source": [
    "# Creating a different class\n",
    "\n",
    "class I_am_what_I_am_no_matter_what_you_say(object): #a class that turns anything into an object that tells you what type it is\n",
    "    def __init__(self, x): #this initializes the object to know what x is!\n",
    "        self.x = copy.deepcopy(x) # the object will keep as an attribute the variable x used to instantiate it\n",
    "    \n",
    "    def what_am_I(self): #print what type of variable x is\n",
    "        print(type(self.x))\n",
    "        \n",
    "    def what_created_me(self): #print x\n",
    "        print(self.x)\n",
    "        \n",
    "    def my_purpose(self): #oh no, what have we created?!\n",
    "        print('That is...classified')"
   ]
  },
  {
   "cell_type": "code",
   "execution_count": null,
   "metadata": {},
   "outputs": [],
   "source": [
    "a = np.array([1, 2, 3])\n",
    "\n",
    "b = I_am_what_I_am_no_matter_what_you_say(a)"
   ]
  },
  {
   "cell_type": "code",
   "execution_count": null,
   "metadata": {},
   "outputs": [],
   "source": [
    "a[2] = 7\n",
    "print(a)"
   ]
  },
  {
   "cell_type": "code",
   "execution_count": null,
   "metadata": {},
   "outputs": [],
   "source": [
    "b.x"
   ]
  },
  {
   "cell_type": "code",
   "execution_count": null,
   "metadata": {},
   "outputs": [],
   "source": [
    "f = lambda x: x**2+2\n",
    "\n",
    "c = I_am_what_I_am_no_matter_what_you_say(f)"
   ]
  },
  {
   "cell_type": "code",
   "execution_count": null,
   "metadata": {},
   "outputs": [],
   "source": [
    "c.what_am_I()"
   ]
  },
  {
   "cell_type": "code",
   "execution_count": null,
   "metadata": {},
   "outputs": [],
   "source": [
    "c.what_created_me()"
   ]
  },
  {
   "cell_type": "code",
   "execution_count": null,
   "metadata": {},
   "outputs": [],
   "source": [
    "c.x(2)"
   ]
  },
  {
   "cell_type": "code",
   "execution_count": null,
   "metadata": {},
   "outputs": [],
   "source": [
    "def test(x):\n",
    "    return x**2+2\n",
    "\n",
    "d = I_am_what_I_am_no_matter_what_you_say(test)"
   ]
  },
  {
   "cell_type": "code",
   "execution_count": null,
   "metadata": {},
   "outputs": [],
   "source": [
    "d.what_am_I()"
   ]
  },
  {
   "cell_type": "code",
   "execution_count": null,
   "metadata": {},
   "outputs": [],
   "source": [
    "d.what_created_me()"
   ]
  },
  {
   "cell_type": "code",
   "execution_count": null,
   "metadata": {},
   "outputs": [],
   "source": [
    "d.x(2)"
   ]
  },
  {
   "cell_type": "markdown",
   "metadata": {},
   "source": [
    "### Sub-classes and super-classes\n",
    "---\n",
    "\n",
    "I like the following tutorial for an overview of sub-classes and super-classes because is not overly technical in its presentation: https://realpython.com/python-super/. \n",
    "\n",
    "We will work through and expand upon just part of the example from that tutorial below.\n",
    "\n",
    "For a simple use-case example that is kind of silly and easy to read, you may also want to check out this blog: https://pybit.es/python-subclasses.html\n",
    "\n",
    "---\n",
    "\n",
    "Imagine you have a class `polygon` used as a template for all [polygonal](https://en.wikipedia.org/wiki/Polygon) objects. \n",
    "\n",
    "It might look something like what we have below."
   ]
  },
  {
   "cell_type": "code",
   "execution_count": null,
   "metadata": {},
   "outputs": [],
   "source": [
    "class polygon(object):\n",
    "    def __init__(self, num_sides):\n",
    "        self.num_sides = num_sides \n",
    "        \n",
    "    def what_am_I(self):\n",
    "        s = 'I am a polygon with ' + str(self.num_sides) + ' sides.'\n",
    "        print(s)"
   ]
  },
  {
   "cell_type": "markdown",
   "metadata": {},
   "source": [
    "Now imagine you want to create classes `rectangle` and `square`. \n",
    "\n",
    "Well, these are just special types of 4-sided polygons. Moreover, a square is just a special type of rectangle! \n",
    "\n",
    "In that case, you can create `rectangle` as a sub-class of `polygon`, and you can create `square` as a sub-class of `rectangle`. See below and *pay attention to the arguments in these class declarations*."
   ]
  },
  {
   "cell_type": "code",
   "execution_count": null,
   "metadata": {},
   "outputs": [],
   "source": [
    "class rectangle(polygon): #rectangle is a sub-class of polygon \n",
    "    def __init__(self, length, width):\n",
    "        super().__init__(num_sides=4) #Now rectangle inherits from polygon\n",
    "        self.length = length\n",
    "        self.width = width\n",
    "        \n",
    "    def compute_area(self):\n",
    "        self.area = self.length * self.width\n",
    "    \n",
    "    def my_area(self):\n",
    "        try:\n",
    "            print(self.area)\n",
    "        except AttributeError:\n",
    "            self.compute_area()\n",
    "            print(self.area)\n",
    "            \n",
    "    def compute_perimeter(self):\n",
    "        self.perimeter = 2*self.length + 2*self.width\n",
    "        \n",
    "    def my_perimeter(self):\n",
    "        try:\n",
    "            print(self.perimeter)\n",
    "        except AttributeError:\n",
    "            self.compute_perimeter()\n",
    "            print(self.perimeter)\n",
    "            \n",
    "    def my_dimensions(self):\n",
    "        s = 'Length = ' + str(self.length) + '\\n' + 'Width = ' + str(self.width)\n",
    "        print(s)"
   ]
  },
  {
   "cell_type": "code",
   "execution_count": null,
   "metadata": {},
   "outputs": [],
   "source": [
    "A = rectangle(length=2, width=4)"
   ]
  },
  {
   "cell_type": "code",
   "execution_count": null,
   "metadata": {},
   "outputs": [],
   "source": [
    "A.what_am_I()"
   ]
  },
  {
   "cell_type": "code",
   "execution_count": null,
   "metadata": {},
   "outputs": [],
   "source": [
    "A.my_area()"
   ]
  },
  {
   "cell_type": "code",
   "execution_count": null,
   "metadata": {},
   "outputs": [],
   "source": [
    "A.my_perimeter()"
   ]
  },
  {
   "cell_type": "code",
   "execution_count": null,
   "metadata": {},
   "outputs": [],
   "source": [
    "A.my_dimensions()"
   ]
  },
  {
   "cell_type": "code",
   "execution_count": null,
   "metadata": {},
   "outputs": [],
   "source": [
    "class square(rectangle): #A square inherits from rectangle\n",
    "    def __init__(self, length): \n",
    "        super().__init__(length=length, width=length)\n",
    "    \n",
    "    def my_dimensions(self): #This over-rides the inherited method from rectangle\n",
    "        s = 'Length = Width = ' + str(self.length)\n",
    "        print(s)"
   ]
  },
  {
   "cell_type": "code",
   "execution_count": null,
   "metadata": {},
   "outputs": [],
   "source": [
    "B = square(length=2)"
   ]
  },
  {
   "cell_type": "code",
   "execution_count": null,
   "metadata": {},
   "outputs": [],
   "source": [
    "B.my_area()"
   ]
  },
  {
   "cell_type": "code",
   "execution_count": null,
   "metadata": {},
   "outputs": [],
   "source": [
    "B.my_dimensions()"
   ]
  },
  {
   "cell_type": "code",
   "execution_count": null,
   "metadata": {},
   "outputs": [],
   "source": [
    "B.what_am_I()"
   ]
  },
  {
   "cell_type": "markdown",
   "metadata": {},
   "source": [
    "### Venturing into the third-dimension!\n",
    "\n",
    "Below, we define a new class of objects: cubes. \n",
    "\n",
    "Since the face of a cube is a square, we may choose to initialize the face attribute as an object!"
   ]
  },
  {
   "cell_type": "code",
   "execution_count": null,
   "metadata": {},
   "outputs": [],
   "source": [
    "class cube(object):\n",
    "    def __init__(self, edge_length):\n",
    "        self.length = edge_length\n",
    "        self.faces = square(length=edge_length)  #faces are squares!\n",
    "        self.faces.compute_area()\n",
    "        self.compute_surface_area()\n",
    "        self.compute_volume()\n",
    "    \n",
    "    def compute_surface_area(self):\n",
    "        self.surf_area = self.faces.area * 6\n",
    "\n",
    "    def compute_volume(self):\n",
    "        self.volume = self.faces.area * self.length\n",
    "    \n",
    "    def what_am_I(self):\n",
    "        s = 'I am a cube with edge length = ' + str(self.length)\n",
    "        print(s)"
   ]
  },
  {
   "cell_type": "code",
   "execution_count": null,
   "metadata": {},
   "outputs": [],
   "source": [
    "C = cube(edge_length=2)"
   ]
  },
  {
   "cell_type": "code",
   "execution_count": null,
   "metadata": {},
   "outputs": [],
   "source": [
    "C.surf_area"
   ]
  },
  {
   "cell_type": "code",
   "execution_count": null,
   "metadata": {},
   "outputs": [],
   "source": [
    "C.what_am_I()"
   ]
  },
  {
   "cell_type": "code",
   "execution_count": null,
   "metadata": {},
   "outputs": [],
   "source": [
    "C.faces.what_am_I() # Not the same thing as C!"
   ]
  },
  {
   "cell_type": "code",
   "execution_count": null,
   "metadata": {},
   "outputs": [],
   "source": [
    "C.volume"
   ]
  },
  {
   "cell_type": "markdown",
   "metadata": {},
   "source": [
    "#### A suggested (but not required) activity/problem\n",
    "\n",
    "Make your own classes and sub-classes. You can build upon what we have here (maybe try creating a super-class of 3D objects called boxes), find examples to try or build upon by a simple Google search, or even just get super creative with your own (maybe a class of \"person\" with sub-classes of \"adult\", \"child\", and \"baby\"). Get creative! Share your class with the rest of the class that is working on classes (that made sense, right?)."
   ]
  },
  {
   "cell_type": "code",
   "execution_count": null,
   "metadata": {},
   "outputs": [],
   "source": []
  },
  {
   "cell_type": "markdown",
   "metadata": {},
   "source": [
    "## Problem: A class of classifiers\n",
    "---\n",
    "\n",
    "- Use some code cells below to construct a `neuron` class along with `perceptron` and `ADALINE` sub-classes. Refer to code above and the source material (https://github.com/rasbt/python-machine-learning-book/blob/master/code/ch02/ch02.ipynb) for help. \n",
    "\n",
    "  Figure out what common variables/functions should be attributes within the `neuron` class (e.g., the net input function and prediction/classification functions are the *same* for each neuron, and each one has an array of weights and a bias variable) and what should be unique to the sub-classes (e.g., the way in which we fit/learning of weights and bias). \n",
    "<br><br>\n",
    "- Instantiate some perceptron and ADALINE objects and apply them to data sets seen in the 06-a lecture notebook. Provide visualizations and analysis of results."
   ]
  },
  {
   "cell_type": "code",
   "execution_count": null,
   "metadata": {},
   "outputs": [],
   "source": []
  },
  {
   "cell_type": "code",
   "execution_count": null,
   "metadata": {},
   "outputs": [],
   "source": []
  },
  {
   "cell_type": "code",
   "execution_count": null,
   "metadata": {},
   "outputs": [],
   "source": []
  }
 ],
 "metadata": {
  "kernelspec": {
   "display_name": "Python 3",
   "language": "python",
   "name": "python3"
  },
  "language_info": {
   "codemirror_mode": {
    "name": "ipython",
    "version": 3
   },
   "file_extension": ".py",
   "mimetype": "text/x-python",
   "name": "python",
   "nbconvert_exporter": "python",
   "pygments_lexer": "ipython3",
   "version": "3.8.6"
  }
 },
 "nbformat": 4,
 "nbformat_minor": 2
}
