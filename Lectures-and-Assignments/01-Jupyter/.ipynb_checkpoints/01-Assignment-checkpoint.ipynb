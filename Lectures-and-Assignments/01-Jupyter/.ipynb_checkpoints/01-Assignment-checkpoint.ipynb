{
 "cells": [
  {
   "cell_type": "markdown",
   "metadata": {},
   "source": [
    "# Math  1376: Programming for Data Science\n",
    "---\n",
    "\n",
    "## Assignment 01: Some practice with Jupyter notebooks (due by 11:59 p.m. Friday of week 2 of class)\n",
    "---\n",
    "\n",
    "This homework gives you a chance to practice and build your basic Jupyter notebook skills while following instructions for how to submit homework.\n",
    "\n",
    "In general, each homework will be presented as a single Jupyter notebook like this one. "
   ]
  },
  {
   "cell_type": "markdown",
   "metadata": {},
   "source": [
    "***For each of the questions below, provide your answer in the separate Markdown cell provided below it or follow instructions on creating separate Markdown cells.***"
   ]
  },
  {
   "cell_type": "markdown",
   "metadata": {},
   "source": [
    "## Problem 1: Your programming background\n",
    "---\n",
    "\n",
    "a. Please list (by name and course number) any programming classes you have taken along with the semesters you took them (e.g., using the format Fall 2019 or Spring 2018)."
   ]
  },
  {
   "cell_type": "markdown",
   "metadata": {},
   "source": []
  },
  {
   "cell_type": "markdown",
   "metadata": {},
   "source": [
    "b. Are you familiar with any programming languages? If so, which ones?"
   ]
  },
  {
   "cell_type": "markdown",
   "metadata": {},
   "source": []
  },
  {
   "cell_type": "markdown",
   "metadata": {},
   "source": [
    "c. Have you used any mathematical software before (e.g., Mathematica, Maple, Matlab)? If so, in what way(s)?"
   ]
  },
  {
   "cell_type": "markdown",
   "metadata": {},
   "source": []
  },
  {
   "cell_type": "markdown",
   "metadata": {},
   "source": [
    "d. Feel free to make any more comments about your programming/math software background here, so we may better serve you."
   ]
  },
  {
   "cell_type": "markdown",
   "metadata": {},
   "source": []
  },
  {
   "cell_type": "markdown",
   "metadata": {},
   "source": [
    "## Problem 2: Your mathematical and statistical background\n",
    "---\n",
    "\n",
    "Please list (by name and course number) any math/stat courses you have taken at or above the college algebra level along with the semesters you took them."
   ]
  },
  {
   "cell_type": "markdown",
   "metadata": {},
   "source": []
  },
  {
   "cell_type": "markdown",
   "metadata": {},
   "source": [
    "## Problem 3: Office hours\n",
    "---\n",
    "\n",
    "Are you able to attend any of the scheduled office hours held via zoom? "
   ]
  },
  {
   "cell_type": "markdown",
   "metadata": {},
   "source": []
  },
  {
   "cell_type": "markdown",
   "metadata": {},
   "source": [
    "## Problem 4: Paradigms for mathematical software (your first open-ended/research question)\n",
    "---\n",
    "\n",
    "### To-Do: Explain the expectations for problems like this. Contextualize.\n",
    "\n",
    "Most problem sets will ask you to interpret/analyze results using Markdown cells. You can use links to useful online resources. Answer the following question using bullet lists that include relevant links to online resources. You may give some URLs explicitly (e.g., https://www.python.org/download/releases/3.0/) while other links may be embedded into the textual response more subtly to improve [readability](https://github.com/adam-p/markdown-here/wiki/Markdown-Cheatsheet)  \n",
    "\n",
    "4. In your own words, explain the differences between the following concepts:\n",
    "\n",
    "  - programming language (e.g., Python);\n",
    "  - computer algebra system (e.g., Mathematica);\n",
    "  - collaborative mathematics environment (e.g., JupyterHub)."
   ]
  },
  {
   "cell_type": "markdown",
   "metadata": {},
   "source": []
  },
  {
   "cell_type": "markdown",
   "metadata": {},
   "source": [
    "## Problem 5: What do you want for yourself? You can have it! *Assuming you can define it*\n",
    "---\n",
    "\n",
    "Write some text in the Markdown cell below to answer these important questions. Feel free to experiment with various formatting features such as *font* **choices** ***that emphasize*** what you are ~~saying~~writing, lists of numbered or bulleted responses, etc. (you can look at the 01-lecture and this assignment for ideas along with the [Markdown Cheatsheet](https://github.com/adam-p/markdown-here/wiki/Markdown-Cheatsheet).\n",
    "\n",
    "- Why are you taking this class? Answer in the context of how you see it helping you achieve some goal (career or life goal, educational goal, etc.)?\n",
    "\n",
    "- List what you consider to be your top three to five academic/personal strengths that can help you be successful in class.\n",
    "\n",
    "- What grade are you hoping to earn in this class?\n",
    "\n",
    "- What do you think is required to earn this grade? Answer these specific questions:\n",
    "  - What is the minimum number of hours per week that you think you need to devote to this class to earn this grade? \n",
    "  - Have you scheduled those hours into your calendar to make sure you are devoting at least this minimum amount of time towards achieving your goal?\n",
    "  - How many assignments, lecture preparation video quizzes, and lecture activities do you think you can miss and still earn this grade?\n",
    "  - Have you marked down on your calendar what the expected due dates are for each of these items that count towards your grade?\n",
    "  \n",
    "*Congratulations! You have defined what you want and how you can get it! To make sure you can get it, we need to carefully define what may prevent your success.*\n",
    "\n",
    "- List what you consider to be a few issues that may prevent you from achieving your goals for this class? (Procrastination, binge watching Netflix shows on baking cakes, lack of organization, noisy roommates, etc. are common issues.)\n",
    "\n",
    "- What is your plan to mitigate these issues so that they do not get in the way of your achieving your goals for this class?"
   ]
  },
  {
   "cell_type": "markdown",
   "metadata": {},
   "source": []
  },
  {
   "cell_type": "markdown",
   "metadata": {},
   "source": [
    "## Problem 6: TeX syntax\n",
    "Markdown cells can contain mathematical formatting using [TeX](https://en.wikipedia.org/wiki/TeX). Any text enclosed between a pair of dollar signs is parsed as TeX, for instance, $x^2$.\n",
    "\n",
    "I will get you started by showing how to do [Euler's identity](https://en.wikipedia.org/wiki/Euler%27s_identity) (according to Wikipedia) with a few formatting options you may find useful.\n",
    "\n",
    "--- \n",
    "\n",
    "### Format 1: inline math with bullet list\n",
    "\n",
    "Euler's Identity is $e^{i\\pi }+1=0$, where\n",
    "- $e$ is Euler's number, the base of natural logarithms,\n",
    "- $i$ is the imaginary unit, which by definition satisfies $\\sqrt{i} = -1$, and\n",
    "- $\\pi$ is pi, the ratio of the circumference of a circle to its diameter.\n",
    "\n",
    "---\n",
    "\n",
    "### Format 2: display math with bullet list\n",
    "\n",
    "Euler's Identity is \n",
    " $$e^{i\\pi }+1=0,$$ \n",
    " where\n",
    "- $e$ is Euler's number, the base of natural logarithms,\n",
    "- $i$ is the imaginary unit, which by definition satisfies $\\sqrt{i} = -1$, and\n",
    "- $\\pi$ is pi, the ratio of the circumference of a circle to its diameter.\n",
    "\n",
    "---\n",
    "\n",
    "### Format 3: larger display math with bullet list\n",
    "\n",
    "Euler's Identity is \n",
    " $$\\large e^{i\\pi }+1=0,$$ \n",
    " where\n",
    "- $e$ is Euler's number, the base of natural logarithms,\n",
    "- $i$ is the imaginary unit, which by definition satisfies $\\sqrt{i} = -1$, and\n",
    "- $\\pi$ is pi, the ratio of the circumference of a circle to its diameter.\n",
    "\n",
    "---\n"
   ]
  },
  {
   "cell_type": "markdown",
   "metadata": {},
   "source": [
    "\n",
    "You will pick up some additional TeX formatting techniques/tricks in other lectures/assignments. You do not need to become an expert at this, but it is good to start practicing this now.\n",
    "Use TeX to typeset the following (use any or all of the above Format options, or make up your own, it is completely up to you):\n",
    "\n",
    "### Stirling's approximation (the \"more precise variant\" according to Wikipedia)"
   ]
  },
  {
   "cell_type": "markdown",
   "metadata": {},
   "source": []
  }
 ],
 "metadata": {
  "kernelspec": {
   "display_name": "Python 3",
   "language": "python",
   "name": "python3"
  },
  "language_info": {
   "codemirror_mode": {
    "name": "ipython",
    "version": 3
   },
   "file_extension": ".py",
   "mimetype": "text/x-python",
   "name": "python",
   "nbconvert_exporter": "python",
   "pygments_lexer": "ipython3",
   "version": "3.7.6"
  }
 },
 "nbformat": 4,
 "nbformat_minor": 2
}
