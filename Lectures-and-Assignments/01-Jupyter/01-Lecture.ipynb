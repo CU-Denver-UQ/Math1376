{
 "cells": [
  {
   "cell_type": "markdown",
   "metadata": {},
   "source": [
    "# Math  1376: Programming for Data Science\n",
    "---"
   ]
  },
  {
   "cell_type": "markdown",
   "metadata": {},
   "source": [
    "## Lecture 01: Jupyter notebooks, the ins and outs (literally), and course info"
   ]
  },
  {
   "cell_type": "markdown",
   "metadata": {},
   "source": [
    "- This course uses files called ***Jupyter notebooks*** (files ending with a *.ipynb*) for lectures and assignments.\n",
    "\n",
    "\n",
    "- In this lecture we do the following:\n",
    "\n",
    "    - Explain the basics of using, editing, and navigating Jupyter notebooks\n",
    "    \n",
    "    - Discuss some big picture elements of this course\n",
    "    \n",
    "    \n",
    "- This lecture edits and builds upon material used in the course Math 157 at UC San Diego."
   ]
  },
  {
   "cell_type": "markdown",
   "metadata": {},
   "source": [
    "### [Project Jupyter](https://jupyter.org/) <--- Click on this"
   ]
  },
  {
   "cell_type": "markdown",
   "metadata": {},
   "source": [
    "> Project Jupyter exists to develop open-source software, open-standards, and services for interactive computing across dozens of programming languages."
   ]
  },
  {
   "cell_type": "markdown",
   "metadata": {},
   "source": [
    "### So what is a Notebook?"
   ]
  },
  {
   "cell_type": "markdown",
   "metadata": {},
   "source": [
    "A Jupyter notebook effectively turns your computing device into a *computational laboratory* where experiments (scientific computations) are not only *reproducible* but understandable and explainable as well. From Project Jupyter, notebooks allow us to\n",
    "\n",
    "> ... create and share documents that contain live code, equations, visualizations and narrative text. Uses include: data cleaning and transformation, numerical simulation, statistical modeling, data visualization, machine learning, and much more."
   ]
  },
  {
   "cell_type": "markdown",
   "metadata": {},
   "source": [
    "### It...is...alive!\n",
    "\n",
    "A notebook is **not static** even if it apperas that way. \n",
    "\n",
    "Think of a notebook as a *living* document made up of individual ***cells*** that respond to you. "
   ]
  },
  {
   "cell_type": "markdown",
   "metadata": {},
   "source": [
    "---\n",
    "Left-click on this piece of text (just once initially). \n",
    "\n",
    "\n",
    "You should see an outline appear around it and the color off to the lefthand side of the cell should be <font color='blue'>blue</font>. \n",
    "This outline delineates a ***cell that is selected but not being edited***. \n",
    "We'll discuss how to edit cells in just a bit.\n",
    "\n",
    "---\n",
    "\n",
    "A notebook is composed of a sequence of different kinds of cells.\n",
    "The two most important types are\n",
    " <br> \n",
    " \n",
    " - Markdown cells, like this one, display text with some formatting. For help with the formatting, go to the Help menu and select Markdown.\n",
    " <br>\n",
    " \n",
    "   Or, better yet, bookmark a [cheatsheet.](https://github.com/adam-p/markdown-here/wiki/Markdown-Cheatsheet \"Markdown-Cheatsheet\")\n",
    " \n",
    " <br>\n",
    " - Code cells contain code to be executed by a particular piece of software (the *kernel*). We'll start working with code cells below.\n",
    " \n",
    "There are also \"raw\" cells that are good for displaying code that does not run, but we will hardly (if ever) use these."
   ]
  },
  {
   "cell_type": "markdown",
   "metadata": {},
   "source": [
    "When a markdown cell is in ***edit mode***, it will appear much differently. \n",
    "\n",
    "- To enter this mode for a markdown cell, double-click on this cell (or any of the above cells). \n",
    "    \n",
    "    - It should be replaced by a text editing box containing the contents of the cell.\n",
    "    \n",
    "    - Moreover, the bounding box around it should turn <font color='green'>green</font>.\n",
    "    \n",
    "\n",
    "- You will be able to edit this text just as you would in a word processor except that you have to *know* or **look-up** various formatting options if you are not familiar with Markdown.\n",
    "    \n",
    "    - Don't worry, you are *not expected* to know this now, but you *will* get used to it. \n",
    "    \n",
    "    - It is fine to ~~mke mstaks~~ make mistakes. You learn by fixing them.\n",
    "    \n",
    "    - Looking at other people's notebooks is a good way to learn. \n",
    "    \n",
    "    - Learning how to enter the \"right type\" of question into your favorite search engine (e.g., Google) is another great way to learn.\n",
    "    \n",
    "    - Referencing a [cheatsheet](https://github.com/adam-p/markdown-here/wiki/Markdown-Cheatsheet \"Markdown Cheatsheet\") is always an option.\n",
    "\n",
    "---\n",
    "\n",
    "- Go ahead and try editing some text now (don't worry about messing up the original; you can always get it back from Canvas or Github). \n",
    "\n",
    "\n",
    "- To close the editor, you can either\n",
    "    - Press Shift-Enter on your keyboard. This will \"run\" the current cell and move on to the next cell.\n",
    "    - Select the \"Run\" option from the toolbar near the top of your screen. This is equivalent to pressing Shift-Enter.\n",
    "    - Press Ctrl-Enter on your keyboard. This will \"run\" the current cell, but will *not* move on to the next cell.\n",
    "   \n",
    "   \n",
    "- Note: The editor will not automatically close if you switch to another cell. If you have multiple open cells, the colored outline will indicate which one you have currently selected. Notice what happens to the color of the cell once you press the Esc key on your keyboard.\n",
    "\n",
    "\n",
    "You can also try editing the code and raw cells above. They behave slightly differently; for instance, Shift-Enter in a code cell causes it to execute."
   ]
  },
  {
   "cell_type": "code",
   "execution_count": null,
   "metadata": {},
   "outputs": [],
   "source": [
    "# Example of a code cell <---- this is a comment because it starts with a \"hash\"\n",
    "\n",
    "17*235 # Comments can also be to the righthand side of a piece of code"
   ]
  },
  {
   "cell_type": "code",
   "execution_count": null,
   "metadata": {},
   "outputs": [],
   "source": [
    "# But code cannot be to the righthand side of a comment \n",
    "\n",
    "# 17*235\n",
    "\n",
    "# This code cell will produce nothing"
   ]
  },
  {
   "cell_type": "raw",
   "metadata": {},
   "source": [
    "2+3 # Example of a raw cell, it looks like code but does not execute"
   ]
  },
  {
   "cell_type": "markdown",
   "metadata": {},
   "source": [
    "### How notebooks  are used in this course\n",
    "---\n",
    "\n",
    "All lectures and assignments are given as notebooks. \n",
    "These notebooks will be provided in the course Github repo ***at least*** two days before each lecture (announcements on Canvas will let you know when they are ready for you to download). \n",
    "It is expected that you download these notebooks and upload them into a directory titled \"Lecture-Notes\" for your account on the class Jupyter Hub. \n",
    "\n",
    "***25% of your grade depends on your interaction with these notebooks.***\n",
    "\n",
    "---\n",
    "\n",
    "#### Preparation credit (10% of course grade)\n",
    "\n",
    "- Each notebook will have a *short* (5 to 15 minute long) video associated with it created with TechSmith Relay that you are required to watch before class. \n",
    "<br>\n",
    "\n",
    "    - Each video will have a few short questions.\n",
    "<br>     \n",
    "<br>\n",
    "    - <font color='purple'>Your preparation grade for each lecture is determined by the percent of completed questions for each video.</font>\n",
    "    \n",
    "    > I am not saying you have to get any of the questions correct!\n",
    "      <br>\n",
    "      But, you should always try your best.\n",
    "\n",
    "    - <font color='red'>Your total preparation credit for the course is determined by the unweighted average of all of your preparation scores.</font>\n",
    "\n",
    "---\n",
    "\n",
    "#### Participation credit (20% of course grade)\n",
    "\n",
    "- Each notebook includes activities that are useful for checking your understanding. I will host live office hours each week to help with these. I will record these office hours if you are unable to attend. ***You are to complete these activities by 11:59 p.m. on Fridays.*** \n",
    "<br>\n",
    "\n",
    "    - I will check your files at the end of the week on the server to see that you did the in-class exercises. \n",
    "    <br>\n",
    "    \n",
    "    - <font color='purple'>Each week you get a weekly participation score computed as the percentage of completed in-class exercises.</font>\n",
    "    <br>\n",
    "    \n",
    "    - <font color='red'>Your participation credit for the course is computed as the unweighted average of your weekly participation scores.</font>"
   ]
  },
  {
   "cell_type": "markdown",
   "metadata": {},
   "source": [
    "# Activity\n",
    "\n",
    "1. Create a Markdown cell *directly* above this cell that has some text in a list format with some italicized, boldfaced, and strikethrough fonts.\n",
    "\n",
    "2. Create a code cell *directly* below this cell that computes `7*5` and execute that cell."
   ]
  },
  {
   "cell_type": "markdown",
   "metadata": {},
   "source": [
    "### Weekly assignments (70% of your grade)\n",
    "---\n",
    "\n",
    "- Assignments will \"lag\" the lecture material by approximately 1 week (so the material we cover this week will be used for assignment 1 due at the end of the next week). All assignments are due on Fridays by 11:59 p.m. on the Jupyter Hub within your directory \"Assignments\".\n",
    "\n",
    "\n",
    "- Each assignment should be completed as a Jupyter notebook."
   ]
  },
  {
   "cell_type": "markdown",
   "metadata": {},
   "source": [
    "## Kernels and cell execution"
   ]
  },
  {
   "cell_type": "markdown",
   "metadata": {},
   "source": [
    "So far we have mostly seen text in Jupyter notebooks, but of course the whole point is to integrate explanatory text with code that actually *does* something. So let's talk a bit about how that is going to work. We'll get into this in more detail later.\n",
    "\n",
    "The jupyter notebook environment supports the use of many different \"kernels\". \n",
    "\n",
    "A kernel is basically a programming language; different kernels have different syntaxes for input (what you type into the kernel) and output (what comes back from the kernel), and often are useful for very different purposes. At any given time, a notebook is set to use a particular kernel, which is named at the top right of the window (right now you should see \"Python 3\".) One can change the running kernel using the \"Kernel\" menu *if* the system you are working on has other kernels setup with the Jupyter environment.\n",
    "\n",
    "We are going to focus exclusively on Python 3 in this course."
   ]
  },
  {
   "cell_type": "markdown",
   "metadata": {},
   "source": [
    "Communication between the user and the kernel is broken down into *cells*. When editing a code cell, hit Shift-Enter to execute the contents of the cell and move on to the next cell (or Ctrl-Enter to execute the contents of the cell and stay in that same cell); the response from the kernel will be printed underneath *if* there is any output associated with the code."
   ]
  },
  {
   "cell_type": "code",
   "execution_count": null,
   "metadata": {},
   "outputs": [],
   "source": [
    "2+2 #Try 2+2; instead (i.e., add a semicolon to the end of the operation)"
   ]
  },
  {
   "cell_type": "markdown",
   "metadata": {},
   "source": [
    "Note the difference between Shift-Enter (or Ctrl-Enter) and just plain Enter.\n",
    "\n",
    "You can have multiple lines of code within a single cell.\n",
    "\n",
    "Blank lines and comments can help enhance the readability of code.\n",
    "\n",
    "Readability of code is ***very important.***"
   ]
  },
  {
   "cell_type": "code",
   "execution_count": null,
   "metadata": {},
   "outputs": [],
   "source": [
    "x=2\n",
    "x+3"
   ]
  },
  {
   "cell_type": "markdown",
   "metadata": {},
   "source": [
    "# Activity\n",
    "\n",
    "1. Add some comments to the above code cell.\n",
    "\n",
    "2. Add a blank line to separate the two lines of code."
   ]
  },
  {
   "cell_type": "markdown",
   "metadata": {},
   "source": [
    "Although the interaction is broken down into cells, in a single session of running a notebook all of the cell executions form a single \"dialogue\", with persistence of state between cells. \n",
    "\n",
    "For example, in the previous cell the line `x=2` was an assignment: it declared a new variable `x` and set it to have the value `2`. That value will persist if we perform another execution. (The \"Restart\" command under the \"Kernel\" menu can be used to end the current dialogue and start afresh.)"
   ]
  },
  {
   "cell_type": "code",
   "execution_count": null,
   "metadata": {},
   "outputs": [],
   "source": [
    "y = 3*x+1 #By itself, this will not produce an output\n",
    "print(y) #The print function is very useful for debugging or just providing the user information about outputs of the code"
   ]
  },
  {
   "cell_type": "markdown",
   "metadata": {},
   "source": [
    "One potential source of confusion: when you look at a notebook, you see a series of code cells in some order. However, in any given session, you can choose to execute the cells in any order; this includes repeatedly executing a single cell, or skipping one entirely. (Notice the \"In\" and \"Out\" tags in the left margin telling you about the execution order; this might look familiar if you have used Mathematica.) \n",
    "\n",
    "This is explored a bit more with the following in-class exercise. "
   ]
  },
  {
   "cell_type": "markdown",
   "metadata": {},
   "source": [
    "# Activity\n",
    "\n",
    "1. Go back to the code cell where `x` is declared. Copy/paste it directly below this markdown cell.\n",
    "\n",
    "2. Split the cell into two cells each with a single line of code.\n",
    "\n",
    "3. Change `x=2` to something else, execute it, and then execute the code cell above with `y=3*x+1` again."
   ]
  },
  {
   "cell_type": "markdown",
   "metadata": {},
   "source": [
    "That said, if you are preparing a notebook for someone else to read (e.g., when you are submitting homework!), you should assume that the user plans to execute the cells in the order they are given. \n",
    "\n",
    "In fact, there is an easy way to do exactly that: the \"Run all\" command in the \"Cell\" menu. (Note: this picks up from the current state of the kernel; if you want a fresh start, instead use the \"Restart & Run All\" command under the \"Kernel\" menu.)\n",
    "\n",
    "Often, if I am working on a notebook and things are starting to get messy, I will select the \"Restart & Run All\" command to make sure everything is working as it should, or to help me debug what I have done.\n",
    "\n",
    "When sending a notebook to someone else, I will often use the \"Restart & Clear Output\" command before saving the file to send. This results in a smaller file size. "
   ]
  },
  {
   "cell_type": "code",
   "execution_count": null,
   "metadata": {},
   "outputs": [],
   "source": [
    "# Try executing this repeatedly (Ctrl-Enter is better to use here), then one of the other cells above just for fun\n",
    "x=x+1 "
   ]
  },
  {
   "cell_type": "code",
   "execution_count": null,
   "metadata": {},
   "outputs": [],
   "source": []
  }
 ],
 "metadata": {
  "kernelspec": {
   "display_name": "Python 3",
   "language": "python",
   "name": "python3"
  },
  "language_info": {
   "codemirror_mode": {
    "name": "ipython",
    "version": 3
   },
   "file_extension": ".py",
   "mimetype": "text/x-python",
   "name": "python",
   "nbconvert_exporter": "python",
   "pygments_lexer": "ipython3",
   "version": "3.7.6"
  }
 },
 "nbformat": 4,
 "nbformat_minor": 1
}
