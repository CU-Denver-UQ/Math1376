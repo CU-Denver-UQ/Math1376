{
 "cells": [
  {
   "cell_type": "markdown",
   "metadata": {},
   "source": [
    "# Math  1376: Programming for Data Science\n",
    "---"
   ]
  },
  {
   "cell_type": "markdown",
   "metadata": {},
   "source": [
    "## Module 01: Jupyter notebooks, the ins and outs (literally), and course info\n",
    "---\n",
    "\n",
    "- This course uses files called ***Jupyter notebooks*** (files ending with a *.ipynb*) for lectures and assignments.\n",
    "\n",
    "\n",
    "- In this notebook we do the following:\n",
    "\n",
    "    - Explain the basics of using, editing, and navigating Jupyter notebooks.\n",
    "    \n",
    "    - Discuss some big picture elements of this course and its syllabus.\n",
    "    \n",
    "    \n",
    "- This particular notebook edits and builds upon material used in the course Math 157 at UC San Diego."
   ]
  },
  {
   "cell_type": "markdown",
   "metadata": {},
   "source": [
    "<span style='background:rgba(255, 255, 0, 0.25); color:black'> Left-click on the \"cell\" below, and then click the \"Run\" button on the toolbar located at the top of the page. Start the YouTube video.</span>"
   ]
  },
  {
   "cell_type": "code",
   "execution_count": null,
   "metadata": {
    "scrolled": true
   },
   "outputs": [],
   "source": [
    "# We will also embed useful YouTube videos directly into the notebooks\n",
    "# that summarize certain content.\n",
    "#\n",
    "# 1. Try running this cell to \"embed\" the YouTube video in the output below it.\n",
    "# 2. Press on the \"play\" button to start the video.\n",
    "\n",
    "from IPython.display import YouTubeVideo\n",
    "\n",
    "YouTubeVideo('ABthe-KmaEA', width=800, height=300)"
   ]
  },
  {
   "cell_type": "markdown",
   "metadata": {},
   "source": [
    "## Learning objectives for this notebook\n",
    "---\n",
    "\n",
    "- Understand the notebook environment and how notebooks are used in this course.\n",
    "<br>\n",
    "\n",
    "- Understand the difference between a code and Markdown cell.\n",
    "<br>\n",
    "\n",
    "- Create and execute code cells and understand how the order of execution impacts results.\n",
    "<br>\n",
    "\n",
    "- Create Markdown cells with some stylized text formats."
   ]
  },
  {
   "cell_type": "markdown",
   "metadata": {},
   "source": [
    "## Notebook contents\n",
    "\n",
    "* <a href='#notebooks and markdown'>Jupyter notebooks and Markdown</a>\n",
    "<br><br>\n",
    "* <a href='#course notebooks'>How notebooks are used in this course</a>\n",
    "<br><br>\n",
    "    * <a href='#activity-create-cells'>Activity: Creating Markdown and code cells</a>\n",
    "<br><br>\n",
    "* <a href='#kernels'>Kernels and cell execution</a>\n",
    "<br><br>\n",
    "    * <a href='#activity-code-comments'>Activity: Making code *readable* </a>\n",
    "    <br><br>\n",
    "    * <a href='#activity-code-order'>Activity: Playing with the order of code execution</a>"
   ]
  },
  {
   "cell_type": "markdown",
   "metadata": {},
   "source": [
    "## Jupyter notebooks and Markdown <a id='notebooks and markdown'></a>"
   ]
  },
  {
   "cell_type": "markdown",
   "metadata": {},
   "source": [
    "### [Project Jupyter](https://jupyter.org/) <--- Click on this\n",
    "\n",
    "> Project Jupyter exists to develop open-source software, open-standards, and services for interactive computing across dozens of programming languages."
   ]
  },
  {
   "cell_type": "markdown",
   "metadata": {},
   "source": [
    "### So what is a Notebook?\n",
    "\n",
    "A Jupyter notebook effectively turns your computing device into a *computational laboratory* where experiments (scientific computations) are not only *reproducible* but understandable and explainable as well. From Project Jupyter, notebooks allow us to\n",
    "\n",
    "> ... create and share documents that contain live code, equations, visualizations and narrative text. Uses include: data cleaning and transformation, numerical simulation, statistical modeling, data visualization, machine learning, and much more."
   ]
  },
  {
   "cell_type": "markdown",
   "metadata": {},
   "source": [
    "### It...is...alive!\n",
    "\n",
    "A notebook is **not static** even if it appears that way. \n",
    "\n",
    "Think of a notebook as a *living* document made up of individual ***cells*** that respond to how you choose to interact with them. "
   ]
  },
  {
   "cell_type": "markdown",
   "metadata": {},
   "source": [
    "---\n",
    "Left-click on this piece of text (just once initially). \n",
    "\n",
    "\n",
    "You should see an outline appear around it and the color off to the lefthand side of the cell should be <font color='blue'>blue</font>. \n",
    "This outline delineates a ***cell that is selected but not being edited***. \n",
    "We'll discuss how to edit cells in just a bit.\n",
    "\n",
    "---\n",
    "\n",
    "A notebook is composed of a sequence of different kinds of cells.\n",
    "The two most important types are\n",
    "\n",
    " - Markdown cells, like this one, display text with some formatting. For help with the formatting, go to the Help menu and select Markdown.\n",
    " \n",
    "   Or, better yet, bookmark a [cheatsheet.](https://github.com/adam-p/markdown-here/wiki/Markdown-Cheatsheet \"Markdown-Cheatsheet\")\n",
    " <br><br>\n",
    " - Code cells contain code to be executed by a particular piece of software (the *kernel*). We'll start working with code cells below.\n",
    " \n",
    "There are also \"raw\" cells that are good for displaying code that does not run, but we will hardly (if ever) use these."
   ]
  },
  {
   "cell_type": "markdown",
   "metadata": {},
   "source": [
    "When a markdown cell is in ***edit mode***, it will appear much differently. \n",
    "\n",
    "- To enter this mode for a markdown cell, double-click on this cell (or any of the above cells). \n",
    "    <br><br>\n",
    "    - It should be replaced by a text editing box containing the contents of the cell.\n",
    "    <br><br>\n",
    "    - Moreover, the bounding box around it should turn <font color='green'>green</font>.\n",
    "   <br><br> \n",
    "- You will be able to edit this text just as you would in a word processor except that you have to *know* or **look-up** various formatting options if you are not familiar with Markdown.\n",
    "    <br><br>\n",
    "    - Don't worry, you are *not expected* to know this now, but you *will* get used to it. \n",
    "    <br><br>\n",
    "    - It is fine to ~~mke mstaks~~ make mistakes. You learn by fixing them.\n",
    "    <br><br>\n",
    "    - Looking at other people's notebooks is a good way to learn. \n",
    "    <br><br>\n",
    "    - Learning how to enter the \"right type\" of question into your favorite search engine (e.g., Google) is another great way to learn.\n",
    "    <br><br>\n",
    "    - Referencing a [cheatsheet](https://github.com/adam-p/markdown-here/wiki/Markdown-Cheatsheet \"Markdown Cheatsheet\") is always an option.\n",
    "\n",
    "---\n",
    "\n",
    "- Go ahead and try editing some text now (don't worry about messing up the original; you can always get it back from Canvas or Github). \n",
    "<br><br>\n",
    "- To close the editor, you can either\n",
    "<br><br>\n",
    "    - Press Shift-Enter on your keyboard. This will \"run\" the current cell and move on to the next cell.\n",
    "    <br><br>\n",
    "    - Select the \"Run\" option from the toolbar near the top of your screen. This is equivalent to pressing Shift-Enter.\n",
    "    <br><br>\n",
    "    - Press Ctrl-Enter on your keyboard. This will \"run\" the current cell, but will *not* move on to the next cell.\n",
    "<br><br>   \n",
    "   \n",
    "- Note: The editor will not automatically close if you switch to another cell. If you have multiple open cells, the colored outline will indicate which one you have currently selected. Notice what happens to the color of the cell once you press the Esc key on your keyboard.\n",
    "\n",
    "\n",
    "You can also try editing the code and raw cells below. They behave slightly differently; for instance, Shift-Enter in a code cell causes it to execute."
   ]
  },
  {
   "cell_type": "code",
   "execution_count": null,
   "metadata": {},
   "outputs": [],
   "source": [
    "# Example of a code cell <---- this is a comment because it starts with a \"hash\"\n",
    "\n",
    "17*235 # Comments can also be to the righthand side of a piece of code"
   ]
  },
  {
   "cell_type": "code",
   "execution_count": null,
   "metadata": {},
   "outputs": [],
   "source": [
    "# But code cannot be to the righthand side of a comment \n",
    "\n",
    "# 17*235\n",
    "\n",
    "# This code cell will produce nothing"
   ]
  },
  {
   "cell_type": "raw",
   "metadata": {},
   "source": [
    "2+3 # Example of a raw cell, it looks like code but does not execute"
   ]
  },
  {
   "cell_type": "markdown",
   "metadata": {},
   "source": [
    "## How notebooks  are used for lecture materials <a id='course notebooks'></a>\n",
    "---\n",
    "\n",
    "<span style='background:rgba(255, 255, 0, 0.25); color:black'>Run the code cell below and press \"play\" to watch the video for a walk-through on this part of the notebook</span>"
   ]
  },
  {
   "cell_type": "code",
   "execution_count": null,
   "metadata": {},
   "outputs": [],
   "source": [
    "# 1. Try running this cell to \"embed\" the YouTube video in the output below it.\n",
    "# 2. Press on the \"play\" button to start the video.\n",
    "\n",
    "from IPython.display import YouTubeVideo\n",
    "\n",
    "YouTubeVideo('rujMXjYPQ98', width=800, height=300)"
   ]
  },
  {
   "cell_type": "markdown",
   "metadata": {},
   "source": [
    "- All lecture content for each module are prepared with notebooks. \n",
    "<br>\n",
    "\n",
    "    - All lecture notebooks for a module will be provided on Canvas ***at least*** two days before the start of the module (announcements on Canvas will let you know when they are ready for you to download). \n",
    "    \n",
    "    ***Only files/folders that are put within the \"work\" folder are saved.*** The work folder is the first folder you see when you login to your Jupyter Hub account. \n",
    "    \n",
    "    Once you are in your Jupyter Hub account, you should open the \"work\" folder and create a folder \"math1376\" to organize your notebooks. \n",
    "    \n",
    "    Create folders within the math1376 directory for each module's contents to keep things organized.\n",
    "    \n",
    "    For instance, this notebook should be in a folder named \"01-Jupyter\" according to the directions provided on Canvas. (Watch the video for more information.)\n",
    "    \n",
    "    It is expected that you download all materials from Canvas and upload them on the Hub into the appropriate module folder. \n",
    "    <br>\n",
    "\n",
    "        - <span style='background:rgba(255,255,0, 0.25); color:black'>While all \"lecture\" notebooks for a module are (generally) released at once, some modules span multiple weeks. While you are free to work through materials as fast as you like, it is recommended that you follow the suggested weekly schedule for working through these notebooks that will be provided on Canvas.</span>\n",
    "<br>\n",
    "\n",
    "\n",
    "- Lecture notebooks have short videos, quizzes, and embedded activities associated with them. <span style='background:rgba(255, 0, 255, 0.25); color:black'>  ***30% of your grade depends on your interaction with these notebooks which we detail below in terms of \"Preparation\" credit and \"Activity\" credit.*** </span>"
   ]
  },
  {
   "cell_type": "markdown",
   "metadata": {},
   "source": [
    "### Preparation credit (10% of course grade)\n",
    "---\n",
    "\n",
    "- Each notebook will have a *short* (i.e., generally not longer than 5 to 15 minute long) video associated with it that I recommend watching before you even begin working on the notebook. These videos will also be *embedded* within the notebooks for ease of reference. Longer notebooks may include several short videos to help break up the content in more manageable chunks.\n",
    "<br><br>\n",
    "\n",
    "    - Each video will have an associated quiz (on Canvas) with a few short questions. See Canvas for announcements of quizzes and due dates.\n",
    "    <br><br>     \n",
    "\n",
    "    - <font color='purple'>Your preparation grade for each lecture is determined by the percent of completed questions for each video.</font>\n",
    "    > I am not saying you have to get any of the questions correct!\n",
    "      <br>\n",
    "      But, you should always try your best.\n",
    "\n",
    "    - <span style='background:rgba(255, 0, 255, 0.25); color:black'> Your total preparation credit for the course is determined by the unweighted average of all of your preparation scores.</span>"
   ]
  },
  {
   "cell_type": "markdown",
   "metadata": {},
   "source": [
    "### Activity credit (20% of course grade)\n",
    "---\n",
    "\n",
    "- Each notebook includes activities that are useful for both checking your understanding and also exploring ideas you may have. I will host live office hours each week to help with these and also look over questions posted on Discussion boards on Canvas throughout the week. I will then choose a set of the most common/important/critical questions for which I will create short videos that help you address these questions. \n",
    "<br><br>\n",
    "\n",
    "    - I will check your files on the server at the end of the \"module completion date\" (see Canvas for these) to see that you did the in-class activities. In other words, you do *not* need to upload any of your lecture notebooks onto Canvas for me to grade. \n",
    "    <br><br>\n",
    "    \n",
    "    - The activity score for each notebook is simply computed as the percentage of completed in-class activities. An activity is deemed \"complete\" if each portion of the activity is completed (code runs to completion, Markdown cells contain an analysis of results, etc.). \n",
    "    <br><br>\n",
    "    \n",
    "    - <span style='background:rgba(255, 0, 255, 0.25); color:black'> Your activity credit for the course is computed as the unweighted average of all activity scores.</span>"
   ]
  },
  {
   "cell_type": "markdown",
   "metadata": {},
   "source": [
    "***Below is your first activity for participation credit. <span style='background:rgba(0,255,255, 0.5); color:black'>Activities will be highlighted</span> so that they are easily found in each notebook. They will also be linked to in the outline of the notebook contents presented at the top of each notebook.***"
   ]
  },
  {
   "cell_type": "markdown",
   "metadata": {},
   "source": [
    "<hr style=\"border:5px solid cyan\"> </hr>\n",
    "\n",
    "## <span style='background:rgba(0,255,255, 0.5); color:black'>Activity: Creating Markdown and code cells</span> <a id='activity-create-cells'/>\n",
    "\n",
    "1. Create a Markdown cell *directly* below this cell (i.e., before the next Markdown cell containing the cyan border line) that has some text in a list format with some italicized, boldfaced, and strikethrough fonts.\n",
    "\n",
    "2. Create a code cell *directly* below the new Markdown cell you created (and before the next Markdown cell after that containing the cyan border line) that computes `7*5` and execute that cell."
   ]
  },
  {
   "cell_type": "markdown",
   "metadata": {},
   "source": [
    "(Your cells should come before this cell.)\n",
    "\n",
    "<hr style=\"border:5px solid cyan\"> </hr>"
   ]
  },
  {
   "cell_type": "markdown",
   "metadata": {},
   "source": [
    "### Weekly assignments (70% of your grade)\n",
    "---\n",
    "\n",
    "- Assignments will \"lag\" the suggested schedule of completing lecture notebooks within a module by approximately 1 week. For example, the first homework assignment, which involves manipulating a notebook using what you have learned in this notebook is due at the end of week 2. \n",
    "<br>\n",
    "\n",
    "    - Assignments will be released on Canvas a week prior to their \"due week.\" So, you technically have up to two weeks to work on each assignment. For instance, the first assignment is already posted on Canvas, so you can start it right now if you like.\n",
    "<br>\n",
    "<br>\n",
    "\n",
    "- Each assignment must be completed as a Jupyter notebook and every code cell needs to be able to run to completion on the Jupyter Hub for it to be considered for grading.\n",
    "<br>\n",
    "\n",
    "- Each assignment will contribute equally to your total weekly assignment grade for the course.\n",
    "<br>\n",
    "\n",
    "- An assignment is considered \"turned in on time\" if it is uploaded to Canvas by 11:59 p.m. on the Friday of the week it is due. \n",
    "<br>\n",
    "\n",
    "    - <span style='background:rgba(255,255,0, 0.25); color:black'>Grace Period:</span> Assignments are accepted late without penalty if they are uploaded to Canvas by 11:59 p.m. two days later (on Sunday), but there may be delays in getting such assignments graded and returned to students. This is intended for you to use only as needed because, after all, \"life happens\" and we could all use a little grace from time to time. Please do not abuse it.\n",
    "    <br>\n",
    "    \n",
    "    - If you find that you need significantly more time to finish an assignment, please just let me know as soon as you realize this. Emergencies, illnesses, and other serious situations happen that may require even more individual grace periods. I can, on occasion, extend a grace period for an individual up to a week to finish an assignment or module. We will work together to try to come up with equitable solutions that are in everyone's best interests. \n",
    "    "
   ]
  },
  {
   "cell_type": "markdown",
   "metadata": {},
   "source": [
    "## Kernels and cell execution <a id=\"Kernels\"> </a>\n",
    "---\n",
    "\n",
    "<span style='background:rgba(255, 255, 0, 0.25); color:black'>Run the code cell below and press \"play\" to watch the video for a walk-through on this part of the notebook</span>"
   ]
  },
  {
   "cell_type": "code",
   "execution_count": null,
   "metadata": {},
   "outputs": [],
   "source": [
    "# 1. Try running this cell to \"embed\" the YouTube video in the output below it.\n",
    "# 2. Press on the \"play\" button to start the video.\n",
    "\n",
    "from IPython.display import YouTubeVideo\n",
    "\n",
    "YouTubeVideo('HGIx_hh3j60', width=800, height=300)"
   ]
  },
  {
   "cell_type": "markdown",
   "metadata": {},
   "source": [
    "So far we have mostly seen text in Jupyter notebooks, but of course the whole point is to integrate explanatory text with code that actually *does* something. So let's talk a bit about how that is going to work. We'll get into this in more detail later.\n",
    "\n",
    "The jupyter notebook environment supports the use of many different \"kernels\". \n",
    "\n",
    "A kernel is basically a programming language; different kernels have different syntaxes for input (what you type into the kernel) and output (what comes back from the kernel), and often are useful for very different purposes. At any given time, a notebook is set to use a particular kernel, which is named at the top right of the window (right now you should see \"Python 3\".) One can change the running kernel using the \"Kernel\" menu *if* the system you are working on has other kernels setup with the Jupyter environment.\n",
    "\n",
    "We are going to focus exclusively on Python 3 in this course."
   ]
  },
  {
   "cell_type": "markdown",
   "metadata": {},
   "source": [
    "Communication between the user and the kernel is broken down into *cells*. When editing a code cell, hit Shift-Enter to execute the contents of the cell and move on to the next cell (or Ctrl-Enter to execute the contents of the cell and stay in that same cell); the response from the kernel will be printed underneath *if* there is any output associated with the code."
   ]
  },
  {
   "cell_type": "code",
   "execution_count": null,
   "metadata": {},
   "outputs": [],
   "source": [
    "2+2 #Try 2+2; instead (i.e., add a semicolon to the end of the operation)"
   ]
  },
  {
   "cell_type": "markdown",
   "metadata": {},
   "source": [
    "Note the difference between Shift-Enter (or Ctrl-Enter) and just plain Enter.\n",
    "\n",
    "You can have multiple lines of code within a single cell.\n",
    "\n",
    "Blank lines and comments can help enhance the readability of code.\n",
    "\n",
    "Readability of code is ***very important.***"
   ]
  },
  {
   "cell_type": "code",
   "execution_count": null,
   "metadata": {},
   "outputs": [],
   "source": [
    "x=2\n",
    "x+3"
   ]
  },
  {
   "cell_type": "markdown",
   "metadata": {},
   "source": [
    "<hr style=\"border:5px solid cyan\"> </hr>\n",
    "\n",
    "## <span style='background:rgba(0,255,255, 0.5); color:black'> Activity: Making code *readable*</span> <a id='activity-code-comments'/>\n",
    "\n",
    "1. Add some comments to the above code cell.\n",
    "\n",
    "2. Add a blank line to separate the two lines of code.\n",
    "\n",
    "<hr style=\"border:5px solid cyan\"> </hr>\n"
   ]
  },
  {
   "cell_type": "markdown",
   "metadata": {},
   "source": [
    "Although the interaction is broken down into cells, in a single session of running a notebook all of the cell executions form a single \"dialogue\", with persistence of state between cells. \n",
    "\n",
    "For example, in the previous cell the line `x=2` was an assignment: it declared a new variable `x` and set it to have the value `2`. That value will persist if we perform another execution. (The \"Restart\" command under the \"Kernel\" menu can be used to end the current dialogue and start afresh.)"
   ]
  },
  {
   "cell_type": "code",
   "execution_count": null,
   "metadata": {},
   "outputs": [],
   "source": [
    "y = 3*x+1 #By itself, this will not produce an output\n",
    "print(y) #The print function is very useful for debugging or just providing the user information about outputs of the code"
   ]
  },
  {
   "cell_type": "markdown",
   "metadata": {},
   "source": [
    "One potential source of confusion: when you look at a notebook, you see a series of code cells in some order. However, in any given session, you can choose to execute the cells in any order; this includes repeatedly executing a single cell, or skipping one entirely. (Notice the \"In\" and \"Out\" tags in the left margin telling you about the execution order; this might look familiar if you have used Mathematica.) \n",
    "\n",
    "This is explored a bit more with the following in-class exercise. "
   ]
  },
  {
   "cell_type": "markdown",
   "metadata": {},
   "source": [
    "<hr style=\"border:5px solid cyan\"> </hr>\n",
    "\n",
    "## <span style='background:rgba(0,255,255, 0.5); color:black'>Activity: Playing with the order of code execution</span> <a id='activity-code-order'/>\n",
    "\n",
    "1. Go back to the code cell where `x` is declared. Copy/paste the contents into the code cell below.\n",
    "\n",
    "2. Split the code cell into two separate code cells each with a single line of code.\n",
    "\n",
    "3. Change `x=2` to something else, execute it, and then execute the code cell above with `y=3*x+1` again."
   ]
  },
  {
   "cell_type": "code",
   "execution_count": null,
   "metadata": {},
   "outputs": [],
   "source": []
  },
  {
   "cell_type": "markdown",
   "metadata": {},
   "source": [
    "<hr style=\"border:5px solid cyan\"> </hr>\n"
   ]
  },
  {
   "cell_type": "markdown",
   "metadata": {},
   "source": [
    "That said, if you are preparing a notebook for someone else to read (e.g., when you are submitting homework!), you should assume that the user plans to execute the cells in the order they are given. \n",
    "\n",
    "In fact, there is an easy way to do exactly that: the \"Run all\" command in the \"Cell\" menu. (Note: this picks up from the current state of the kernel; if you want a fresh start, instead use the \"Restart & Run All\" command under the \"Kernel\" menu.)\n",
    "\n",
    "Often, if I am working on a notebook and things are starting to get messy, I will select the \"Restart & Run All\" command to make sure everything is working as it should, or to help me debug what I have done.\n",
    "\n",
    "When sending a notebook to someone else, I will often use the \"Restart & Clear Output\" command before saving the file to send. This results in a smaller file size. "
   ]
  },
  {
   "cell_type": "code",
   "execution_count": null,
   "metadata": {},
   "outputs": [],
   "source": [
    "# Try executing this repeatedly (Ctrl-Enter is better to use here), then one of the other cells above just for fun\n",
    "x=x+1 "
   ]
  },
  {
   "cell_type": "code",
   "execution_count": null,
   "metadata": {},
   "outputs": [],
   "source": []
  }
 ],
 "metadata": {
  "kernelspec": {
   "display_name": "Python 3",
   "language": "python",
   "name": "python3"
  },
  "language_info": {
   "codemirror_mode": {
    "name": "ipython",
    "version": 3
   },
   "file_extension": ".py",
   "mimetype": "text/x-python",
   "name": "python",
   "nbconvert_exporter": "python",
   "pygments_lexer": "ipython3",
   "version": "3.7.6"
  }
 },
 "nbformat": 4,
 "nbformat_minor": 1
}
