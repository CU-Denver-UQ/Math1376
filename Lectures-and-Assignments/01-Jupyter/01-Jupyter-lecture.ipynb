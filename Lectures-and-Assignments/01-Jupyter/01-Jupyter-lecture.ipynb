{
 "cells": [
  {
   "cell_type": "markdown",
   "metadata": {},
   "source": [
    "# Math  1376: Programming for Data Science\n",
    "---"
   ]
  },
  {
   "cell_type": "markdown",
   "metadata": {},
   "source": [
    "## Module 01: Jupyter notebooks, the ins and outs, and course info\n",
    "---\n",
    "\n",
    "- This course uses files called ***Jupyter notebooks*** (files ending with a *.ipynb*) for lectures and assignments.\n",
    "\n",
    "\n",
    "- In this notebook we do the following:\n",
    "\n",
    "    - Explain the basics of using, editing, and navigating Jupyter notebooks.\n",
    "    \n",
    "    - Discuss some big picture elements of this course and its syllabus.\n",
    "    \n",
    "    \n",
    "- This particular notebook edits and builds upon material used in the course Math 157 at UC San Diego."
   ]
  },
  {
   "cell_type": "markdown",
   "metadata": {},
   "source": [
    "<span style='background:rgba(255, 255, 0, 0.25); color:black'> Left-click on the \"cell\" below, and then click the \"Run\" button on the toolbar located at the top of the page. Start the YouTube video.</span>"
   ]
  },
  {
   "cell_type": "code",
   "execution_count": null,
   "metadata": {
    "scrolled": true
   },
   "outputs": [],
   "source": [
    "# We will also embed useful YouTube videos directly into the notebooks\n",
    "# that summarize certain content.\n",
    "#\n",
    "# 1. Try running this cell to \"embed\" the YouTube video in the output below it.\n",
    "# 2. Press on the \"play\" button to start the video.\n",
    "\n",
    "from IPython.display import YouTubeVideo\n",
    "\n",
    "YouTubeVideo('ABthe-KmaEA', width=800, height=300)"
   ]
  },
  {
   "cell_type": "markdown",
   "metadata": {},
   "source": [
    "## Learning objectives for this notebook\n",
    "---\n",
    "\n",
    "- Understand the notebook environment and how notebooks are used in this course.\n",
    "<br>\n",
    "\n",
    "- Understand the difference between a code and Markdown cell.\n",
    "<br>\n",
    "\n",
    "- Create and execute code cells and understand how the order of execution impacts results.\n",
    "<br>\n",
    "\n",
    "- Create Markdown cells with some stylized text formats."
   ]
  },
  {
   "cell_type": "markdown",
   "metadata": {},
   "source": [
    "## Notebook contents <a id='Contents'></a>\n",
    "\n",
    "* <a href='#notebooks and markdown'>Jupyter notebooks and Markdown</a>\n",
    "<br><br>\n",
    "* <a href='#course notebooks'>How notebooks are used in this course</a>\n",
    "<br><br>\n",
    "    * <a href='#activity-create-cells'>Activity: Creating Markdown and code cells</a>\n",
    "<br><br>\n",
    "* <a href='#kernels'>Kernels and cell execution</a>\n",
    "<br><br>\n",
    "    * <a href='#activity-code-comments'>Activity: Making code *readable* </a>\n",
    "    <br><br>\n",
    "    * <a href='#activity-code-order'>Activity: Playing with the order of code execution</a>\n",
    "<br><br>\n",
    "* <a href='#bio'>A bit about you</a>\n",
    "<br><br>\n",
    "    * <a href='#activity-skills'>Activity: Your relevant academic/skills background  </a>\n",
    "    <br><br>\n",
    "    * <a href='#activity-goals'>Activity: What do you want for yourself? You can have it! *Assuming you can define it* </a>\n",
    "<br><br>\n",
    "* <A href='#TeX'>TeX </a>\n",
    "<br><br> \n",
    "    * <a href='#activity-tex'>Activity: TeX yourself </a>"
   ]
  },
  {
   "cell_type": "markdown",
   "metadata": {},
   "source": [
    "## Jupyter notebooks and Markdown <a id='notebooks and markdown'></a>"
   ]
  },
  {
   "cell_type": "markdown",
   "metadata": {},
   "source": [
    "### [Project Jupyter](https://jupyter.org/) <--- Click on this\n",
    "\n",
    "> Project Jupyter exists to develop open-source software, open-standards, and services for interactive computing across dozens of programming languages."
   ]
  },
  {
   "cell_type": "markdown",
   "metadata": {},
   "source": [
    "### So what is a Notebook?\n",
    "\n",
    "A Jupyter notebook effectively turns your computing device into a *computational laboratory* where experiments (scientific computations) are not only *reproducible* but understandable and explainable as well. From Project Jupyter, notebooks allow us to\n",
    "\n",
    "> ... create and share documents that contain live code, equations, visualizations and narrative text. Uses include: data cleaning and transformation, numerical simulation, statistical modeling, data visualization, machine learning, and much more."
   ]
  },
  {
   "cell_type": "markdown",
   "metadata": {},
   "source": [
    "### It...is...alive!\n",
    "\n",
    "A notebook is **not static** even if it appears that way. \n",
    "\n",
    "Think of a notebook as a *living* document made up of individual ***cells*** that respond to how you choose to interact with them. "
   ]
  },
  {
   "cell_type": "markdown",
   "metadata": {},
   "source": [
    "---\n",
    "Left-click on this piece of text (just once initially). \n",
    "\n",
    "\n",
    "You should see an outline appear around it and the color off to the lefthand side of the cell should be <font color='blue'>blue</font>. \n",
    "This outline delineates a ***cell that is selected but not being edited***. \n",
    "We'll discuss how to edit cells in just a bit.\n",
    "\n",
    "---"
   ]
  },
  {
   "cell_type": "markdown",
   "metadata": {},
   "source": [
    "### A notebook is composed of a sequence of different kinds of cells.\n",
    "**The two most important types are**\n",
    "\n",
    " - ***Markdown*** cells, like this one, display text with some formatting. For help with the formatting, go to the Help menu and select Markdown.\n",
    " \n",
    "   Or, better yet, bookmark a [cheatsheet.](https://github.com/adam-p/markdown-here/wiki/Markdown-Cheatsheet \"Markdown-Cheatsheet\")\n",
    " <br><br>\n",
    " - ***Code*** cells contain code to be executed by a particular piece of software (the *kernel*). We'll start working with code cells below.\n",
    " \n",
    "There are also \"raw\" cells that are good for displaying code that does not run, but we will hardly (if ever) use these."
   ]
  },
  {
   "cell_type": "markdown",
   "metadata": {},
   "source": [
    "### When a markdown cell is in ***edit mode***, it will appear much differently. \n",
    "\n",
    "- To enter this mode for a markdown cell, double-click on this cell (or any of the above cells). \n",
    "    <br><br>\n",
    "    - It should be replaced by a text editing box containing the contents of the cell.\n",
    "    <br><br>\n",
    "    - Moreover, the bounding box around it should turn <font color='green'>green</font>.\n",
    "   <br><br> \n",
    "- You will be able to edit this text just as you would in a word processor except that you have to *know* or **look-up** various formatting options if you are not familiar with Markdown.\n",
    "    <br><br>\n",
    "    - Don't worry, you are *not expected* to know this now, but you *will* get used to it. \n",
    "    <br><br>\n",
    "    - It is fine to ~~mke mstaks~~ make mistakes. You learn by fixing them.\n",
    "    <br><br>\n",
    "    - Looking at other people's notebooks is a good way to learn. \n",
    "    <br><br>\n",
    "    - Learning how to enter the \"right type\" of question into your favorite search engine (e.g., Google) is another great way to learn.\n",
    "    <br><br>\n",
    "    - Referencing a [cheatsheet](https://github.com/adam-p/markdown-here/wiki/Markdown-Cheatsheet \"Markdown Cheatsheet\") is always an option."
   ]
  },
  {
   "cell_type": "markdown",
   "metadata": {},
   "source": [
    "---\n",
    "\n",
    "**Go ahead and try editing some text now** (don't worry about messing up the original; you can always get it back from Canvas). \n",
    "<br><br>\n",
    "To close the editor, you can either\n",
    "   - Press Shift-Enter on your keyboard. This will \"run\" the current cell and move on to the next cell.\n",
    "    <br><br>\n",
    "   - Select the \"Run\" option from the toolbar near the top of your screen. This is equivalent to pressing Shift-Enter.\n",
    "    <br><br>\n",
    "   - Press Ctrl-Enter on your keyboard. This will \"run\" the current cell, but will *not* move on to the next cell."
   ]
  },
  {
   "cell_type": "markdown",
   "metadata": {},
   "source": [
    "  \n",
    "**Note:** The editor will not automatically close if you switch to another cell. If you have multiple open cells, the colored outline will indicate which one you have currently selected. Notice what happens to the color of the cell once you press the Esc key on your keyboard.\n",
    "\n",
    "\n",
    "You can also try editing the code and raw cells below. They behave slightly differently; for instance, Shift-Enter in a code cell causes it to execute."
   ]
  },
  {
   "cell_type": "code",
   "execution_count": null,
   "metadata": {},
   "outputs": [],
   "source": [
    "# Example of a code cell <---- this is a comment because it starts with a \"hash\"\n",
    "\n",
    "17*235 # Comments can also be to the righthand side of a piece of code"
   ]
  },
  {
   "cell_type": "code",
   "execution_count": null,
   "metadata": {},
   "outputs": [],
   "source": [
    "# But code cannot be to the righthand side of a comment \n",
    "\n",
    "# 17*235\n",
    "\n",
    "# This code cell will produce nothing"
   ]
  },
  {
   "cell_type": "raw",
   "metadata": {},
   "source": [
    "2+3 # Example of a raw cell, it looks like code but does not execute"
   ]
  },
  {
   "cell_type": "markdown",
   "metadata": {},
   "source": [
    "## How notebooks  are used for lecture materials <a id='course notebooks'></a>\n",
    "---\n",
    "\n",
    "<span style='background:rgba(255, 255, 0, 0.25); color:black'>Run the code cell below and press \"play\" to watch the video for a walk-through on this part of the notebook</span>"
   ]
  },
  {
   "cell_type": "code",
   "execution_count": null,
   "metadata": {},
   "outputs": [],
   "source": [
    "# 1. Try running this cell to \"embed\" the YouTube video in the output below it.\n",
    "# 2. Press on the \"play\" button to start the video.\n",
    "\n",
    "from IPython.display import YouTubeVideo\n",
    "\n",
    "YouTubeVideo('rujMXjYPQ98', width=800, height=300)"
   ]
  },
  {
   "cell_type": "markdown",
   "metadata": {},
   "source": [
    "### All lecture content for each module are prepared with notebooks. \n",
    "\n",
    "All lecture notebooks for a module will be provided on Canvas. \n",
    "    <br><br>\n",
    "   \n",
    "***Only files/folders that are put within the \"work\" folder are saved.*** The work folder is the first folder you see when you login to your Jupyter Hub account. \n",
    "    \n",
    "- Once you are in your Jupyter Hub account, you should open the \"work\" folder and create a folder \"math1376\" to organize your notebooks.\n",
    "    \n",
    "   Create folders within the math1376 folder to keep things organized for each module.\n",
    "    \n",
    "   For instance, this notebook should be in a folder named \"01-Jupyter\" within the \"math1376\" folder that is within the \"work\" folder according to the directions provided on Canvas. (Watch the video for more information.)\n",
    "    \n",
    "   It is expected that you download all materials from Canvas and upload them on the Hub into the appropriate module folder. \n",
    "    <br><br>\n",
    "\n",
    "- Lecture notebooks have videos and embedded activities associated with them. <span style='background:rgba(255, 0, 255, 0.25); color:black'>  ***30% of your grade depends on your interaction with these notebooks which we detail below in terms of \"Activity\" credit.*** </span>"
   ]
  },
  {
   "cell_type": "markdown",
   "metadata": {},
   "source": [
    "### Activity credit (50% of course grade)\n",
    "---\n",
    "\n",
    "Each notebook includes activities that are useful for checking your understanding and also exploring ideas you may have. \n",
    "<br><br>\n",
    "    \n",
    "   - The activity score for each notebook is simply computed as the percentage of completed activities. An activity is deemed \"complete\" if each portion of the activity is completed (code runs to completion, Markdown cells contain an analysis of results, etc.). \n",
    "    <br><br>\n",
    "    \n",
    "   - <span style='background:rgba(255, 0, 255, 0.25); color:black'> Your activity credit for the course is computed as the unweighted average of all lecture notebook activity scores.</span>"
   ]
  },
  {
   "cell_type": "markdown",
   "metadata": {},
   "source": [
    "***Below is your first activity for participation credit. <span style='background:rgba(0,255,255, 0.5); color:black'>Activities will be highlighted</span> so that they are easily found in each notebook.***"
   ]
  },
  {
   "cell_type": "markdown",
   "metadata": {},
   "source": [
    "<hr style=\"border:5px solid cyan\"> </hr>\n",
    "\n",
    "## <span style='background:rgba(0,255,255, 0.5); color:black'>Activity: Creating Markdown and code cells</span> <a id='activity-create-cells'/>\n",
    "\n",
    "1. Create a Markdown cell *directly* below this cell (i.e., before the next Markdown cell and put in some text in a *list* format (with bullet points) with some *italicized*, **boldfaced**, and ~~struck~~strikethrough fonts."
   ]
  },
  {
   "cell_type": "markdown",
   "metadata": {},
   "source": [
    "2. Create a code cell *directly* below the new Markdown cell you created (and before the next Markdown cell after that containing the cyan border line) that computes `7*5` and execute that cell."
   ]
  },
  {
   "cell_type": "markdown",
   "metadata": {},
   "source": [
    "(Your cells should come before this cell.)\n",
    "\n",
    "<hr style=\"border:5px solid cyan\"> </hr>"
   ]
  },
  {
   "cell_type": "markdown",
   "metadata": {},
   "source": [
    "### Weekly assignments (50% of your grade)\n",
    "---\n",
    "\n",
    "- *Each assignment must be completed using the Jupyter notebook assigned* and **every code cell needs to be able to run to completion** on the Jupyter Hub for it to be considered for grading.\n",
    "<br>\n",
    "\n",
    "- Each assignment will contribute equally to your total weekly assignment grade for the course.\n",
    "<br>\n",
    "\n",
    "- An assignment is considered \"turned in on time\" if it is uploaded to Canvas by 11:59 p.m. on the Friday of the week it is due. \n",
    "<br>\n",
    "\n",
    "    - <span style='background:rgba(255,255,0, 0.25); color:black'>Grace Period:</span> Assignments are accepted late without penalty if they are uploaded to Canvas by 11:59 p.m. two days later (on Sunday), but there may be delays in getting such assignments graded and returned to students. This is intended for you to use only as needed because, after all, \"life happens\" and we could all use a little grace from time to time. Please do not abuse it.\n",
    "    <br>\n",
    "    \n",
    "    - If you find that you need significantly more time to finish an assignment, please just let me know as soon as you realize this. Emergencies, illnesses, and other serious situations happen that may require even more individual grace periods. I can, on occasion, extend a grace period for an individual up to a week to finish an assignment or module. We will work together to try to come up with equitable solutions that are in everyone's best interests. \n",
    "    "
   ]
  },
  {
   "cell_type": "markdown",
   "metadata": {},
   "source": [
    "## Kernels and cell execution <a id=\"kernels\"> </a>\n",
    "---\n",
    "\n",
    "<span style='background:rgba(255, 255, 0, 0.25); color:black'>Run the code cell below and press \"play\" to watch the video for a walk-through on this part of the notebook</span>"
   ]
  },
  {
   "cell_type": "code",
   "execution_count": null,
   "metadata": {},
   "outputs": [],
   "source": [
    "# 1. Try running this cell to \"embed\" the YouTube video in the output below it.\n",
    "# 2. Press on the \"play\" button to start the video.\n",
    "\n",
    "from IPython.display import YouTubeVideo\n",
    "\n",
    "YouTubeVideo('HGIx_hh3j60', width=800, height=300)"
   ]
  },
  {
   "cell_type": "markdown",
   "metadata": {},
   "source": [
    "So far we have mostly seen text in Jupyter notebooks, but of course the whole point is to integrate explanatory text with code that actually *does* something. So let's talk a bit about how that is going to work. We'll get into this in more detail later.\n",
    "\n",
    "The jupyter notebook environment supports the use of many different \"kernels\". \n",
    "\n",
    "A kernel is basically a programming language; different kernels have different syntaxes for input (what you type into the kernel) and output (what comes back from the kernel), and often are useful for very different purposes. At any given time, a notebook is set to use a particular kernel, which is named at the top right of the window (right now you should see \"Python 3\".) One can change the running kernel using the \"Kernel\" menu *if* the system you are working on has other kernels setup with the Jupyter environment.\n",
    "\n",
    "***We focus exclusively on Python 3 in this course.***"
   ]
  },
  {
   "cell_type": "markdown",
   "metadata": {},
   "source": [
    "Communication between the user and the kernel is broken down into *cells*. When editing a code cell, hit Shift-Enter to execute the contents of the cell and move on to the next cell (or Ctrl-Enter to execute the contents of the cell and stay in that same cell); the response from the kernel will be printed underneath *if* there is any output associated with the code."
   ]
  },
  {
   "cell_type": "code",
   "execution_count": null,
   "metadata": {},
   "outputs": [],
   "source": [
    "2+2 #Try 2+2; instead (i.e., add a semicolon to the end of the operation)"
   ]
  },
  {
   "cell_type": "markdown",
   "metadata": {},
   "source": [
    "Note the difference between Shift-Enter (or Ctrl-Enter) and just plain Enter.\n",
    "\n",
    "You can have multiple lines of code within a single cell.\n",
    "\n",
    "***Blank lines and comments can help enhance the readability of code.***\n",
    "\n",
    "Readability of code is ***very important.***"
   ]
  },
  {
   "cell_type": "markdown",
   "metadata": {},
   "source": [
    "<hr style=\"border:5px solid cyan\"> </hr>\n",
    "\n",
    "## <span style='background:rgba(0,255,255, 0.5); color:black'> Activity: Making code *readable*</span> <a id='activity-code-comments'/> </a>\n",
    "\n",
    "1. Add a blank line to separate the two lines of code.\n",
    "<br><br>\n",
    "\n",
    "2. Add some comments to the code cell below.\n",
    "<br><br>\n",
    "\n",
    "3. Create a Markdown cell below this code cell (and before the cyan border) to explain the output of the code cell."
   ]
  },
  {
   "cell_type": "code",
   "execution_count": null,
   "metadata": {},
   "outputs": [],
   "source": [
    "x=2\n",
    "x+3"
   ]
  },
  {
   "cell_type": "markdown",
   "metadata": {},
   "source": [
    "<hr style=\"border:5px solid cyan\"> </hr>\n"
   ]
  },
  {
   "cell_type": "markdown",
   "metadata": {},
   "source": [
    "Although the interaction is broken down into cells, in a single session of running a notebook ***all of the cell executions form a single \"dialogue\", with persistence of state between cells.***\n",
    "\n",
    "For example, in the previous cell the line `x=2` was an assignment: it declared a new variable `x` and set it to have the value `2`. That value will persist if we perform another execution. (The \"Restart\" command under the \"Kernel\" menu can be used to end the current dialogue and start afresh.)"
   ]
  },
  {
   "cell_type": "code",
   "execution_count": null,
   "metadata": {},
   "outputs": [],
   "source": [
    "y = 3*x+1 #By itself, this will not produce an output\n",
    "\n",
    "print(y) #The print function is very useful for debugging or just providing the user information about outputs of the code"
   ]
  },
  {
   "cell_type": "markdown",
   "metadata": {},
   "source": [
    "**One potential source of confusion:** when you look at a notebook, you see a series of code cells in some order. However, in any given session, you can choose to execute the cells in any order; this includes repeatedly executing a single cell, or skipping one entirely. (Notice the \"In\" and \"Out\" tags in the left margin telling you about the execution order; this might look familiar if you have used Mathematica.) \n",
    "\n",
    "This is explored a bit more with the following activity. "
   ]
  },
  {
   "cell_type": "markdown",
   "metadata": {},
   "source": [
    "<hr style=\"border:5px solid cyan\"> </hr>\n",
    "\n",
    "## <span style='background:rgba(0,255,255, 0.5); color:black'>Activity: Playing with the order of code execution</span> <a id='activity-code-order'/> </a>\n",
    "\n",
    "1. Go back to the code cell where `x` is declared. Copy/paste the contents into the code cell below.\n",
    "<br><br>\n",
    "2. *Split* the code cell into two separate code cells each with a single line of code.\n",
    "<br><br>\n",
    "3. Change `x=2` to something else, execute it, and then execute the code cell above with `y=3*x+1` again."
   ]
  },
  {
   "cell_type": "code",
   "execution_count": null,
   "metadata": {},
   "outputs": [],
   "source": []
  },
  {
   "cell_type": "markdown",
   "metadata": {},
   "source": [
    "<hr style=\"border:5px solid cyan\"> </hr>\n"
   ]
  },
  {
   "cell_type": "code",
   "execution_count": null,
   "metadata": {},
   "outputs": [],
   "source": [
    "# Try executing this repeatedly (Ctrl-Enter is better to use here), then one of the other cells above just for fun\n",
    "x=x+1 "
   ]
  },
  {
   "cell_type": "markdown",
   "metadata": {},
   "source": [
    "That said, if you are preparing a notebook for someone else to read (e.g., when you are submitting homework!), ***you should assume that the user plans to execute the cells in the order they are given.***\n",
    "\n",
    "In fact, there is an easy way to do exactly that: the \"Run all\" command in the \"Cell\" menu. (Note: this picks up from the current state of the kernel; if you want a fresh start, instead use the \"Restart & Run All\" command under the \"Kernel\" menu.)\n",
    "\n",
    "Often, if I am working on a notebook and things are starting to get messy, I will select the \"Restart & Run All\" command to make sure everything is working as it should, or to help me debug what I have done.\n",
    "\n",
    "When sending a notebook to someone else, I will often use the \"Restart & Clear Output\" command before saving the file to send. This results in a smaller file size. "
   ]
  },
  {
   "cell_type": "markdown",
   "metadata": {},
   "source": [
    "## A bit about you  <a id=\"bio\"> </a>\n",
    "---\n",
    "\n",
    "The activities below give you some more practice with editing notebooks, using text formatting options within Markdown cells, and also lets me get to know you a bit better."
   ]
  },
  {
   "cell_type": "markdown",
   "metadata": {},
   "source": [
    "<hr style=\"border:5px solid cyan\"> </hr>\n",
    "\n",
    "## <span style='background:rgba(0,255,255, 0.5); color:black'> Activity: Your relevant academic/skills background <a id=\"activity-skills\"> </a>\n",
    "---\n",
    "\n",
    "a. List (by name and course number) any programming classes you have taken along with the semesters you took them (e.g., using the format Fall 2019 or Spring 2018) along with any other programming languages with which you are familiar."
   ]
  },
  {
   "cell_type": "markdown",
   "metadata": {},
   "source": [
    "<span style='background:rgba(255,255,0, 0.25); color:black'> YOUR ANSWER GOES HERE.</span>"
   ]
  },
  {
   "cell_type": "markdown",
   "metadata": {},
   "source": [
    "b. Have you used any mathematical or statistical software before (e.g., Mathematica, Maple, Matlab, SAS, STATA)? If so, in what way(s)?"
   ]
  },
  {
   "cell_type": "markdown",
   "metadata": {},
   "source": [
    "<span style='background:rgba(255,255,0, 0.25); color:black'> YOUR ANSWER GOES HERE.</span>"
   ]
  },
  {
   "cell_type": "markdown",
   "metadata": {},
   "source": [
    "c. List (by name and course number) any math/stat courses you have taken at or above the college algebra level along with the semesters you took them."
   ]
  },
  {
   "cell_type": "markdown",
   "metadata": {},
   "source": [
    "<span style='background:rgba(255,255,0, 0.25); color:black'> YOUR ANSWER GOES HERE.</span>"
   ]
  },
  {
   "cell_type": "markdown",
   "metadata": {},
   "source": [
    "<hr style=\"border:5px solid cyan\"> </hr>"
   ]
  },
  {
   "cell_type": "markdown",
   "metadata": {},
   "source": [
    "<hr style=\"border:5px solid cyan\"> </hr>\n",
    "\n",
    "## <span style='background:rgba(0,255,255, 0.5); color:black'>  Activity: What do you want for yourself? You can have it! *Assuming you can define it*  <a id=\"activity-goals\"> </a>\n",
    "---\n",
    "\n",
    "Feel free to experiment with various formatting features such as *font* **choices** ***that emphasize*** what you are ~~saying~~writing, lists of numbered or bulleted responses, etc. (you can look in this notebook along with the [Markdown Cheatsheet](https://github.com/adam-p/markdown-here/wiki/Markdown-Cheatsheet))."
   ]
  },
  {
   "cell_type": "markdown",
   "metadata": {},
   "source": [
    "- Why are you taking this class? Answer in the context of how you see it helping you achieve some goal (career or life goal, educational goal, etc.)?\n",
    "\n",
    "<span style='background:rgba(255,255,0, 0.25); color:black'> YOUR ANSWER GOES HERE.</span>"
   ]
  },
  {
   "cell_type": "markdown",
   "metadata": {},
   "source": [
    "- Create a bulleted list of what you consider your top academic and/or personal strengths that can help you be successful in class (include at least two items).\n",
    "\n",
    "<span style='background:rgba(255,255,0, 0.25); color:black'> YOUR ANSWER GOES HERE.</span>"
   ]
  },
  {
   "cell_type": "markdown",
   "metadata": {},
   "source": [
    "- What grade are you hoping to earn in this class?\n",
    "\n",
    "<span style='background:rgba(255,255,0, 0.25); color:black'> YOUR ANSWER GOES HERE.</span>"
   ]
  },
  {
   "cell_type": "markdown",
   "metadata": {},
   "source": [
    "- In general, the minimum number of hours students are expected to spend on a 3 credit class is 9 hours per week regardless of the class level. This is only the *minimum*. STEM (Science, Technology, Engineering, and Mathematics) courses often have higher expected minimum numbers of hours (many times between 12-15 hours per week). Learning programming is also like learning a foreign language with very strict rules on diction and syntax that require significant focus and study. Knowing all of that, what are the minimum number of hours per week, on average, that you think you need to devote to this class to earn the grade you are hoping to achieve? \n",
    "\n",
    "<span style='background:rgba(255,255,0, 0.25); color:black'> YOUR ANSWER GOES HERE.</span>"
   ]
  },
  {
   "cell_type": "markdown",
   "metadata": {},
   "source": [
    "  - It is a terrible idea to expect that you can sit down and work through all the material for the week in a single day. This will undoubtedly lead to failure at some point in the semester. Knowing this, how do you plan to manage your time so that you spend this minimum number of hours per week on this class spread out across multiple days in the week? Specifically, do you use a calendar/planner to make sure you are devoting at least this minimum amount of time towards achieving your goal spread out across two or more days in a week?\n",
    "\n",
    "<span style='background:rgba(255,255,0, 0.25); color:black'> YOUR ANSWER GOES HERE.</span> "
   ]
  },
  {
   "cell_type": "markdown",
   "metadata": {},
   "source": [
    "*Congratulations! You have defined what you want and how you can get it! To make sure you can get it, you should also carefully define what may prevent your success.*\n",
    "\n",
    "**You should answer these next two questions for yourself. You do not need to share your answers with me unless you feel comfortable doing so.**\n",
    "\n",
    "- List what you consider to be a few issues that may prevent you from achieving your goals for this class? (Procrastination, binge watching Netflix shows on baking cakes, lack of organization, noisy roommates, etc. are common issues.)\n",
    "<br>\n",
    "\n",
    "- What is your plan to mitigate these issues so that they do not get in the way of your achieving your goals for this class?\n",
    " \n",
    "\n",
    "<hr style=\"border:5px solid cyan\"> </hr>"
   ]
  },
  {
   "cell_type": "markdown",
   "metadata": {},
   "source": [
    "## TeX syntax  <a id=\"TeX\"> </a>\n",
    "---\n",
    "\n",
    "<span style='background:rgba(255, 255, 0, 0.25); color:black'>Run the code cell below and press \"play\" to watch the video for a walk-through on this part of the notebook</span>"
   ]
  },
  {
   "cell_type": "code",
   "execution_count": null,
   "metadata": {},
   "outputs": [],
   "source": [
    "# 1. Try running this cell to \"embed\" the YouTube video in the output below it.\n",
    "# 2. Press on the \"play\" button to start the video.\n",
    "\n",
    "from IPython.display import YouTubeVideo\n",
    "\n",
    "YouTubeVideo('still-need-to-create', width=800, height=300)"
   ]
  },
  {
   "cell_type": "markdown",
   "metadata": {},
   "source": [
    "Markdown cells can contain mathematical formatting using [TeX](https://en.wikipedia.org/wiki/TeX). Any text enclosed between a pair of dollar signs is parsed as TeX, for instance, $x^2$.\n",
    "\n",
    "I will get you started by showing how to do [Euler's identity](https://en.wikipedia.org/wiki/Euler%27s_identity) (according to Wikipedia) with a few formatting options you may find useful.\n",
    "\n",
    "You will probably find the 01-Markdown-TeX-Examples notebook provided to you useful to reference here.\n",
    "\n",
    "--- \n",
    "\n",
    "### Format 1: inline math with bullet list\n",
    "\n",
    "Euler's Identity is $e^{i\\pi }+1=0$, where\n",
    "- $e$ is Euler's number, the base of natural logarithms,\n",
    "- $i$ is the imaginary unit, which by definition satisfies $\\sqrt{i} = -1$, and\n",
    "- $\\pi$ is pi, the ratio of the circumference of a circle to its diameter.\n",
    "\n",
    "---\n",
    "\n",
    "### Format 2: display math with bullet list\n",
    "\n",
    "Euler's Identity is \n",
    " $$e^{i\\pi }+1=0,$$ \n",
    " where\n",
    "- $e$ is Euler's number, the base of natural logarithms,\n",
    "- $i$ is the imaginary unit, which by definition satisfies $\\sqrt{i} = -1$, and\n",
    "- $\\pi$ is pi, the ratio of the circumference of a circle to its diameter.\n",
    "\n",
    "---\n",
    "\n",
    "### Format 3: larger display math with bullet list\n",
    "\n",
    "Euler's Identity is \n",
    " $$\\large e^{i\\pi }+1=0,$$ \n",
    " where\n",
    "- $e$ is Euler's number, the base of natural logarithms,\n",
    "- $i$ is the imaginary unit, which by definition satisfies $\\sqrt{i} = -1$, and\n",
    "- $\\pi$ is pi, the ratio of the circumference of a circle to its diameter.\n",
    "\n",
    "---"
   ]
  },
  {
   "cell_type": "markdown",
   "metadata": {},
   "source": [
    "<hr style=\"border:5px solid cyan\"> </hr>\n",
    "\n",
    "## <span style='background:rgba(0,255,255, 0.5); color:black'> Activity: TeX yourself <a id='activity-tex'/> </a>\n",
    "\n",
    "**Part (a):** Use TeX to typeset Stirling's approximation (the \"more precise formula\" according to Wikipedia) using **at least two of the above Format options**."
   ]
  },
  {
   "cell_type": "markdown",
   "metadata": {},
   "source": [
    "<span style='background:rgba(255,255,0, 0.25); color:black'> YOUR ANSWER FOR PART (A) GOES HERE.</span>  "
   ]
  },
  {
   "cell_type": "markdown",
   "metadata": {},
   "source": [
    "**Part (b):** Use TeX to typeset *both* the differential equation for population growth as well as the solution to this differential equation. Both of these can be found on the [Wikipedia page for the logistic function](https://en.wikipedia.org/wiki/Logistic_function#In_ecology:_modeling_population_growth). Remember to use a bullet list to describe what each term means that appears in the differential equation and solution."
   ]
  },
  {
   "cell_type": "markdown",
   "metadata": {},
   "source": [
    "<span style='background:rgba(255,255,0, 0.25); color:black'> YOUR ANSWER FOR PART (B) GOES HERE.</span>  "
   ]
  },
  {
   "cell_type": "markdown",
   "metadata": {},
   "source": [
    "<hr style=\"border:5px solid cyan\"> </hr>"
   ]
  },
  {
   "cell_type": "markdown",
   "metadata": {},
   "source": [
    "### <a href='#Contents'>Click here to return to Notebook Contents</a>"
   ]
  }
 ],
 "metadata": {
  "kernelspec": {
   "display_name": "Python 3",
   "language": "python",
   "name": "python3"
  },
  "language_info": {
   "codemirror_mode": {
    "name": "ipython",
    "version": 3
   },
   "file_extension": ".py",
   "mimetype": "text/x-python",
   "name": "python",
   "nbconvert_exporter": "python",
   "pygments_lexer": "ipython3",
   "version": "3.8.6"
  }
 },
 "nbformat": 4,
 "nbformat_minor": 1
}
