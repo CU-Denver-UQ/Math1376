{
 "cells": [
  {
   "cell_type": "markdown",
   "metadata": {},
   "source": [
    "# Math  1376: Programming for Data Science\n",
    "---\n",
    "\n",
    "## Assignment 01: Some practice with Jupyter notebooks\n",
    "---\n",
    "\n",
    "This homework gives you a chance to practice and build your basic Jupyter notebook skills while following instructions for how to submit homework.\n",
    "\n",
    "In general, each homework will be presented as a single Jupyter notebook like this one. "
   ]
  },
  {
   "cell_type": "markdown",
   "metadata": {},
   "source": [
    "## Problem 1: Your programming background\n",
    "---\n",
    "\n",
    "a. Please list (by name and course number) any programming classes you have taken along with the semesters you took them (e.g., using the format Fall 2019 or Spring 2018)."
   ]
  },
  {
   "cell_type": "markdown",
   "metadata": {},
   "source": [
    "<span style='background:rgba(255,255,0, 0.25); color:black'> YOUR ANSWER GOES HERE.</span>"
   ]
  },
  {
   "cell_type": "markdown",
   "metadata": {},
   "source": [
    "b. Are you familiar with any programming languages? If so, which ones?"
   ]
  },
  {
   "cell_type": "markdown",
   "metadata": {},
   "source": [
    "<span style='background:rgba(255,255,0, 0.25); color:black'> YOUR ANSWER GOES HERE.</span>"
   ]
  },
  {
   "cell_type": "markdown",
   "metadata": {},
   "source": [
    "c. Have you used any mathematical software before (e.g., Mathematica, Maple, Matlab)? If so, in what way(s)?"
   ]
  },
  {
   "cell_type": "markdown",
   "metadata": {},
   "source": [
    "<span style='background:rgba(255,255,0, 0.25); color:black'> YOUR ANSWER GOES HERE.</span>"
   ]
  },
  {
   "cell_type": "markdown",
   "metadata": {},
   "source": [
    "## Problem 2: Your mathematical and statistical background\n",
    "---\n",
    "\n",
    "Please list (by name and course number) any math/stat courses you have taken at or above the college algebra level along with the semesters you took them."
   ]
  },
  {
   "cell_type": "markdown",
   "metadata": {},
   "source": [
    "<span style='background:rgba(255,255,0, 0.25); color:black'> YOUR ANSWER GOES HERE.</span>"
   ]
  },
  {
   "cell_type": "markdown",
   "metadata": {},
   "source": [
    "## Problem 3: What do you want for yourself? You can have it! *Assuming you can define it*\n",
    "---\n",
    "\n",
    "Write some text in the Markdown cells containing the important questions below. \n",
    "\n",
    "Feel free to experiment with various formatting features such as *font* **choices** ***that emphasize*** what you are ~~saying~~writing, lists of numbered or bulleted responses, etc. (you can look at the 01-Jupyter notebook and this assignment for ideas along with the [Markdown Cheatsheet](https://github.com/adam-p/markdown-here/wiki/Markdown-Cheatsheet))."
   ]
  },
  {
   "cell_type": "markdown",
   "metadata": {},
   "source": [
    "- Why are you taking this class? Answer in the context of how you see it helping you achieve some goal (career or life goal, educational goal, etc.)?\n",
    "\n",
    "<span style='background:rgba(255,255,0, 0.25); color:black'> YOUR ANSWER GOES HERE.</span>"
   ]
  },
  {
   "cell_type": "markdown",
   "metadata": {},
   "source": [
    "- Create a bulleted list of what you consider your top academic and/or personal strengths that can help you be successful in class (include at least two items).\n",
    "\n",
    "<span style='background:rgba(255,255,0, 0.25); color:black'> YOUR ANSWER GOES HERE.</span>"
   ]
  },
  {
   "cell_type": "markdown",
   "metadata": {},
   "source": [
    "- What grade are you hoping to earn in this class?\n",
    "\n",
    "<span style='background:rgba(255,255,0, 0.25); color:black'> YOUR ANSWER GOES HERE.</span>"
   ]
  },
  {
   "cell_type": "markdown",
   "metadata": {},
   "source": [
    "- In general, the minimum number of hours students are expected to spend on a 3 credit class is 9 hours per week. This is only the *minimum*. STEM (Science, Technology, Engineering, and Mathematics) courses often have higher expected minimum numbers of hours (many times between 12-15 hours per week). Learning programming is also like learning a foreign language with very strict rules on diction and syntax that require significant focus and study. Knowing all of that, what are the minimum number of hours per week, on average, that you think you need to devote to this class to earn the grade you are hoping to achieve? \n",
    "\n",
    "<span style='background:rgba(255,255,0, 0.25); color:black'> YOUR ANSWER GOES HERE.</span>"
   ]
  },
  {
   "cell_type": "markdown",
   "metadata": {},
   "source": [
    "  - It is a terrible idea to expect that you can sit down and work through all the material for the week in a single day. This will undoubtedly lead to failure at some point in the semester. Knowing this, how do you plan to manage your time so that you spend this minimum number of hours per week on this class spread out across multiple days in the week? Specifically, do you use a calendar/planner to make sure you are devoting at least this minimum amount of time towards achieving your goal spread out across two or more days in a week?\n",
    "\n",
    "<span style='background:rgba(255,255,0, 0.25); color:black'> YOUR ANSWER GOES HERE.</span>  "
   ]
  },
  {
   "cell_type": "markdown",
   "metadata": {},
   "source": [
    "*Congratulations! You have defined what you want and how you can get it! To make sure you can get it, you should also carefully define what may prevent your success.*\n",
    "\n",
    "**You should answer these next two questions for yourself. You do not need to share your answers with me unless you feel comfortable doing so.**\n",
    "\n",
    "- List what you consider to be a few issues that may prevent you from achieving your goals for this class? (Procrastination, binge watching Netflix shows on baking cakes, lack of organization, noisy roommates, etc. are common issues.)\n",
    "<br>\n",
    "\n",
    "<span style='background:rgba(255,255,0, 0.25); color:black'> YOUR ANSWER GOES HERE ONLY IF YOU WANT IT TO.</span>  \n",
    "\n",
    "- What is your plan to mitigate these issues so that they do not get in the way of your achieving your goals for this class?\n",
    "\n",
    "<span style='background:rgba(255,255,0, 0.25); color:black'> YOUR ANSWER GOES HERE ONLY IF YOU WANT IT TO.</span>  "
   ]
  },
  {
   "cell_type": "markdown",
   "metadata": {},
   "source": [
    "## Problem 4: TeX syntax\n",
    "Markdown cells can contain mathematical formatting using [TeX](https://en.wikipedia.org/wiki/TeX). Any text enclosed between a pair of dollar signs is parsed as TeX, for instance, $x^2$.\n",
    "\n",
    "I will get you started by showing how to do [Euler's identity](https://en.wikipedia.org/wiki/Euler%27s_identity) (according to Wikipedia) with a few formatting options you may find useful.\n",
    "\n",
    "--- \n",
    "\n",
    "### Format 1: inline math with bullet list\n",
    "\n",
    "Euler's Identity is $e^{i\\pi }+1=0$, where\n",
    "- $e$ is Euler's number, the base of natural logarithms,\n",
    "- $i$ is the imaginary unit, which by definition satisfies $\\sqrt{i} = -1$, and\n",
    "- $\\pi$ is pi, the ratio of the circumference of a circle to its diameter.\n",
    "\n",
    "---\n",
    "\n",
    "### Format 2: display math with bullet list\n",
    "\n",
    "Euler's Identity is \n",
    " $$e^{i\\pi }+1=0,$$ \n",
    " where\n",
    "- $e$ is Euler's number, the base of natural logarithms,\n",
    "- $i$ is the imaginary unit, which by definition satisfies $\\sqrt{i} = -1$, and\n",
    "- $\\pi$ is pi, the ratio of the circumference of a circle to its diameter.\n",
    "\n",
    "---\n",
    "\n",
    "### Format 3: larger display math with bullet list\n",
    "\n",
    "Euler's Identity is \n",
    " $$\\large e^{i\\pi }+1=0,$$ \n",
    " where\n",
    "- $e$ is Euler's number, the base of natural logarithms,\n",
    "- $i$ is the imaginary unit, which by definition satisfies $\\sqrt{i} = -1$, and\n",
    "- $\\pi$ is pi, the ratio of the circumference of a circle to its diameter.\n",
    "\n",
    "---\n"
   ]
  },
  {
   "cell_type": "markdown",
   "metadata": {},
   "source": [
    "You will pick up some additional TeX formatting techniques/tricks in other lectures/assignments. \n",
    "\n",
    "You do not need to become an expert at this, but it is good to start practicing this now. You should refer to the 01-Markdown-Tex-Examples notebook for some useful symbols that may help you finish this problem."
   ]
  },
  {
   "cell_type": "markdown",
   "metadata": {},
   "source": [
    "**Part (a):** Use the Markdown cell below along with TeX to typeset Stirling's approximation (the \"more precise formula\" according to Wikipedia) using at least two of the above Format options, or make up your own, it is completely up to you).**"
   ]
  },
  {
   "cell_type": "markdown",
   "metadata": {},
   "source": [
    "<span style='background:rgba(255,255,0, 0.25); color:black'> YOUR ANSWER FOR PART (A) GOES HERE.</span>  "
   ]
  },
  {
   "cell_type": "markdown",
   "metadata": {},
   "source": [
    "**Part (b):** Use the Markdown cell below along with TeX to typeset *both* the differential equation for population growth as well as the solution to this differential equation. Both of these can be found on the [Wikipedia page for the logistic function](https://en.wikipedia.org/wiki/Logistic_function#In_ecology:_modeling_population_growth). Remember to use a bullet list to describe what each term means that appears in the differential equation and solution."
   ]
  },
  {
   "cell_type": "markdown",
   "metadata": {},
   "source": [
    "<span style='background:rgba(255,255,0, 0.25); color:black'> YOUR ANSWER FOR PART (B) GOES HERE.</span>  "
   ]
  }
 ],
 "metadata": {
  "kernelspec": {
   "display_name": "Python 3",
   "language": "python",
   "name": "python3"
  },
  "language_info": {
   "codemirror_mode": {
    "name": "ipython",
    "version": 3
   },
   "file_extension": ".py",
   "mimetype": "text/x-python",
   "name": "python",
   "nbconvert_exporter": "python",
   "pygments_lexer": "ipython3",
   "version": "3.8.6"
  }
 },
 "nbformat": 4,
 "nbformat_minor": 2
}
