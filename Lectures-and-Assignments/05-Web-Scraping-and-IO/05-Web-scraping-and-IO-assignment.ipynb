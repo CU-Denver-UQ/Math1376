{
 "cells": [
  {
   "cell_type": "markdown",
   "metadata": {},
   "source": [
    "# Math  1376: Programming for Data Science\n",
    "---\n",
    "\n",
    "## Assignment 05: Web scraping and IO (due by 11:59 p.m. Friday of week 9 of class)\n",
    "---"
   ]
  },
  {
   "cell_type": "code",
   "execution_count": null,
   "metadata": {},
   "outputs": [],
   "source": [
    "import numpy as np\n",
    "import matplotlib.pyplot as plt\n",
    "%matplotlib inline"
   ]
  },
  {
   "cell_type": "markdown",
   "metadata": {},
   "source": [
    "## Making your own assignment with pandas and `read_html()`\n",
    "---\n",
    "\n",
    "This is a fairly open-ended assignment. \n",
    "\n",
    "First, go check out the GitHub repo https://github.com/LBBL96/Pandas-Web-Scraping-Tutorial and in particular read through the [Jupyter notebook](https://github.com/LBBL96/Pandas-Web-Scraping-Tutorial/blob/master/Web%20Scraping%20with%20Pandas.ipynb) (it is quite short). You may even want to download the notebook from the repo and experiment with it. \n",
    "While not as thorough as our lecture, it does introduce a few tricks for working with a pandas DataFrame that were not covered in our lecture.\n",
    "\n",
    "Your problem is to fill in the rest of this Jupyter notebook with a mixture of Markdown and code cells that walk through an analysis of data you scrape from the web.\n",
    "Describe what the data represents. Discuss questions you want to answer (and then answer them of course). Basically, make this into a type of report/tutorial that you could hand to a classmate, present to a friend or family member, etc. Show off problems/limitations with the data, how to address these issues (or explain why these issues cannot be fixed), etc. In other words, show off your skills and have fun! At the end, save your dataset as a csv file and show how it can be loaded and analyzed from this file. \n",
    "\n",
    "The notebook linked to above has some recommended web sites to try scraping, so you can choose one (or more) of those to explore below. Here are some more to check out:\n",
    "\n",
    "- https://coronavirus.jhu.edu/data/mortality\n",
    "\n",
    "- https://www.worldometers.info/geography/how-many-countries-are-there-in-the-world/\n",
    "\n",
    "You are also free to choose your own. Choose a few. It is up to you. If you find some that are cool, then please post on the discussion boards of Canvas to share with your classmates. I look forward to seeing what you do."
   ]
  },
  {
   "cell_type": "code",
   "execution_count": null,
   "metadata": {},
   "outputs": [],
   "source": []
  },
  {
   "cell_type": "code",
   "execution_count": null,
   "metadata": {},
   "outputs": [],
   "source": []
  },
  {
   "cell_type": "code",
   "execution_count": null,
   "metadata": {},
   "outputs": [],
   "source": []
  }
 ],
 "metadata": {
  "kernelspec": {
   "display_name": "Python 3",
   "language": "python",
   "name": "python3"
  },
  "language_info": {
   "codemirror_mode": {
    "name": "ipython",
    "version": 3
   },
   "file_extension": ".py",
   "mimetype": "text/x-python",
   "name": "python",
   "nbconvert_exporter": "python",
   "pygments_lexer": "ipython3",
   "version": "3.7.6"
  }
 },
 "nbformat": 4,
 "nbformat_minor": 2
}
