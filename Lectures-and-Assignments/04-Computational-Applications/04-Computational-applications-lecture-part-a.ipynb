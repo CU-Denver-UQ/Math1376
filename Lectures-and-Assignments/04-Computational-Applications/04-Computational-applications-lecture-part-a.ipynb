{
 "cells": [
  {
   "cell_type": "markdown",
   "metadata": {},
   "source": [
    "# Math  1376: Programming for Data Science\n",
    "---"
   ]
  },
  {
   "cell_type": "code",
   "execution_count": null,
   "metadata": {},
   "outputs": [],
   "source": [
    "import numpy as np #We will use numpy in this lecture\n",
    "import matplotlib.pyplot as plt\n",
    "%matplotlib inline"
   ]
  },
  {
   "cell_type": "markdown",
   "metadata": {},
   "source": [
    "## Module 04: Some useful applications of Modules 01-03\n",
    "---\n",
    "\n",
    "In this module, we will now pull together material across our first three modules to solve some practical problems. \n",
    "\n",
    "You may find it useful to review the notebooks in those modules beforehand or just simply open some of the notebooks to have their contents available to review as necessary. \n",
    "\n",
    "While there are a seemingly endless number of practical problems we can attempt to solve with what we have learned so far, we will focus on three ubiquitous problems in the computational sciences.\n",
    "\n",
    "- Root-finding. (The content of Part (a) of this module.)\n",
    "<br>\n",
    "\n",
    "- Numerical integration. (The content of Part (b) of this module.)\n",
    "<br>\n",
    "\n",
    "- Optimization. (This content is pursued in the assignments of this module.)\n",
    "<br>\n",
    "\n",
    "### A note about calculus concepts and interactive visualizations (i.e., widgets)\n",
    "---\n",
    "\n",
    "These topics are commonly studied as applications of calculus concepts. \n",
    "However, while we may make passing reference to certain calculus concepts, you do *not* need to know calculus to follow the narratives. (This, of course, is not to say that you should not seek to master calculus at some point.)\n",
    "Our focus is on the *big picture ideas* and we use interactive graphics (powered by a widgets module) to help us explore these ideas."
   ]
  },
  {
   "cell_type": "markdown",
   "metadata": {},
   "source": [
    "## Learning Objectives for Part (a)\n",
    "\n",
    "- Understand what a root-finding problem means and how they arise in practice.\n",
    "\n",
    "\n",
    "- Apply different types of root-finding algorithms to various functions written as `lambda` Python functions.\n",
    "\n",
    "\n",
    "- Create code that implements root-finding algorithms of different types.\n",
    "\n",
    "\n",
    "- Create annotations and interactive widgets to enhance visualizations of data.\n",
    "\n",
    "\n",
    "### Some larger \"in situ\" learning objectives (i.e., learning that will occur by design of activities)\n",
    "\n",
    "While we are going to explore how to implement some of these algorithms as activities below, our learning objectives go beyond simple correct implementation. We will also consider what it means to do the following:\n",
    "\n",
    "- *compare* and *analyze* different algorithms developed for solving the same generic problem;\n",
    "<br>\n",
    "\n",
    "- use this comparison to *choose* the \"right\" algorithm for solving a *specific* problem;\n",
    "<br>\n",
    "\n",
    "- create a module that encodes various algorithms and a *wrapper* function that automatically chooses which algorithm to apply based on the inputs.\n",
    "<br>\n",
    "\n",
    "Some of this is done in the notebook while other parts are left for homework."
   ]
  },
  {
   "cell_type": "markdown",
   "metadata": {},
   "source": [
    "## Notebook contents <a id='Contents'>\n",
    "\n",
    "* <a href='#Root-finding'>Part (a): Root-finding</a>\n",
    "<br>\n",
    "\n",
    "    * <a href='#Introduction'>Part (a)(i): An introduction to concepts</a>\n",
    "    <br>\n",
    "    \n",
    "    * <a href='#Bracketing'>Part (a)(ii): Bracketing methods</a>\n",
    "    <br>\n",
    "        \n",
    "        * <a href='#activity-bisection'>Activity: Implementing the bisection algorithm</a>\n",
    "        <br>\n",
    "        \n",
    "        * <a href='#activity-bisection-variant'>Activity: Implementing a bisection variant</a>\n",
    "        <br>\n",
    "        \n",
    "        * <a href='#activity-bracketing-compare'>Activity: Comparing bracketing methods</a>\n",
    "        <br>\n",
    "        \n",
    "    * <a href='#Iterative'> Part (a)(iii): \"Iterative\" methods </a>\n",
    "    <br>\n",
    "    \n",
    "        * <a href='#activity-secant'>Activity: Implementing the secant algorithm</a>\n",
    "        <br>\n",
    "        \n",
    "        * <a href='activity-linear-methods-compare'>Activity: Comparing secant to false point</a>\n",
    "        <br>\n",
    "    \n",
    "    * <a href='#activity-summary'>Activity: Summary</a>"
   ]
  },
  {
   "cell_type": "markdown",
   "metadata": {},
   "source": [
    "## Part (a): Root-finding <a id='Root-finding'>\n",
    "---\n",
    "    \n",
    "    \n",
    "<span style='background:rgba(255,255,0, 0.25); color:black'> Run the code cell below and click the \"play\" button to see the first recorded lecture associated with this notebook.</span>"
   ]
  },
  {
   "cell_type": "code",
   "execution_count": null,
   "metadata": {},
   "outputs": [],
   "source": [
    "# 1. Running this cell with embed the short recorded lecture associated with this part of the notebook\n",
    "# 2. Press on the \"play\" button to start the video.\n",
    "\n",
    "from IPython.display import YouTubeVideo\n",
    "\n",
    "YouTubeVideo('_kROMq3pDzA', width=800, height=300)"
   ]
  },
  {
   "cell_type": "markdown",
   "metadata": {},
   "source": [
    "## Part (a)(i): An introduction to concepts <a id='Introduction'>"
   ]
  },
  {
   "cell_type": "markdown",
   "metadata": {},
   "source": [
    "### What does root-finding mean?\n",
    "\n",
    "Simply put, given $f(x)$, a root of the function is some point $x=c$ such that $f(c)=0$. \n",
    "\n",
    "In other words, the ***roots*** of a function are the *inputs* that make the *output* equal to zero. "
   ]
  },
  {
   "cell_type": "markdown",
   "metadata": {},
   "source": [
    "### lambda functions for simple examples\n",
    "\n",
    "We only mentioned these briefly in 03-Lecture-part-b.ipynb in the context of list comprehensions, so you may want to review that quickly.\n",
    "They do prove to be useful things in the context of this notebook, so we dive into them a bit more here. \n",
    "\n",
    "What is a `lambda` function? You can read quite a bit about such functions [here](https://www.w3schools.com/python/python_lambda.asp) or [here](https://realpython.com/python-lambda/).\n",
    "\n",
    "<span style='background:rgba(255,0,255, 0.25); color:black'> ***Key Points:*** <span>\n",
    "\n",
    "- The main takeaway is that if you have a simple type of \"anonymous\" function that you just need for a short period of time in your code, then a lambda function is probably right for you. It is *not* necessary to use these, but they are useful. \n",
    "<br>\n",
    "\n",
    "- A generic use syntax we care about would look something like this:\n",
    "\n",
    "  > ```f = lambda arguments : expression ```"
   ]
  },
  {
   "cell_type": "markdown",
   "metadata": {},
   "source": [
    "Run the code cells below to see an example of a `lambda` function in the context of plotting the roots of a polynomial.\n",
    "\n",
    "Pay attention to how we use these types of functions in this lecture. They are completely anonymous functions that we pass as arguments into algorithms so that we can study how the algorithms perform on different types of functions without having to formally declare/create the functions elsewhere in the code.\n",
    "In other words, they are simply a matter of convenience."
   ]
  },
  {
   "cell_type": "code",
   "execution_count": null,
   "metadata": {},
   "outputs": [],
   "source": [
    "f = lambda x : x**3 - x - 2  #defining f(x) = x^3-x-2"
   ]
  },
  {
   "cell_type": "code",
   "execution_count": null,
   "metadata": {},
   "outputs": [],
   "source": [
    "x = np.linspace(-1,2,100)\n",
    "\n",
    "plt.figure(figsize=(10,5))\n",
    "plt.plot(x,f(x),'b',linewidth=2) #plot of function f\n",
    "plt.axvline(0, linewidth=1, linestyle=':', c='k') #plot typical y-axis\n",
    "plt.axhline(0, linewidth=1, linestyle=':', c='k') #plot typical x-axis\n",
    "\n",
    "c = 1.521 #approximate root\n",
    "plt.scatter(c,f(c),s=70,c='r',marker='s') #plot approximate root\n",
    "\n",
    "###########################################\n",
    "## Now for some fancier plotting options ##\n",
    "###########################################\n",
    "\n",
    "# Let's create a text string for the title that formats certain floating point numbers\n",
    "title_str = 'Approx. root at c=' + '{:.3}'.format(c) + r' with f(c)$\\approx$' + '{:.2e}'.format(f(c))\n",
    "plt.title(title_str, fontsize=14)\n",
    "\n",
    "# Now let's annotate the plot with some text and arrows\n",
    "\n",
    "# First, we define the dict (dictionary) of properties of items used in the annotation\n",
    "bbox = dict(boxstyle=\"round\", fc='b', color='r', alpha=0.5, linewidth=2) #This is the property dict for bounding box of text\n",
    "arrowprops = dict(arrowstyle='->', color='k', alpha=.5, linewidth=2) #This is the property dict for the arrow\n",
    "\n",
    "# Now annotate the plot\n",
    "plt.annotate('Approx. root', fontsize=12, xy=(c,f(c)), xytext=(c-1.25,1), color='w',\n",
    "             bbox = bbox, arrowprops=arrowprops);"
   ]
  },
  {
   "cell_type": "markdown",
   "metadata": {},
   "source": [
    "***Of course, the above example just gives us more of the idea of the \"what\" but not the \"why.\"***\n",
    "\n",
    "### Why should we care about roots?\n",
    "\n",
    "Is there anything particularly important about a function being zero? In general, the answer is no. However, it depends on the function and the goals of the problem/application for which the function models system behavior. \n",
    "The assignment discusses how root problems arise naturally in many optimization problems.\n",
    "Below, we provide some simpler motivating examples.\n",
    "\n",
    "<span style='background:rgba(255,0,255, 0.25); color:black'> ***Some motivating examples:*** <span>\n",
    "\n",
    "- Suppose there are two launched projectiles with two height functions denoted by $h_1(t)$ and $h_2(t)$, and we are very interested when, or even *if*, there is a time where $h_1(t)=h_2(t)$ (i.e., is there a time where the objects collide)? This is an important question that arises in missile defense systems, satellite monitoring, and autonomous vehicle guidance systems. Well, define $f(t)=h_1(t)-h_2(t)$. Guess what, now you are interested in knowing whether or not $f(t)=0$. \n",
    "<br>\n",
    "\n",
    "- Suppose $p(t)$ describes a model you develop for the price of a potential investment (it could be in a savings/money market account, stock, or mutual fund to name just a few). You are probably interested in knowing when your model predicts the price to reach a certain target value, $p_{target}$, so that you can develop certain financial plans/goals around this time frame (e.g., having enough for a down payment on a car or house, take a vacation, or retire). Defining $f(t)=p(t)-p_{target}$ means you are interested in determining when $f(t)=0$."
   ]
  },
  {
   "cell_type": "markdown",
   "metadata": {},
   "source": [
    "### And these root problems are solved how?\n",
    "\n",
    "There are lots of algorithms that attempt to approximate the roots of a function, e.g., see https://en.wikipedia.org/wiki/Root-finding_algorithms. \n",
    "\n",
    "<span style='background:rgba(255,0,255, 0.25); color:black'> ***Key Points:*** <span>\n",
    "\n",
    "- Most algorithms are *iterative*. (Meaning we need to write *loops* to implement them.)\n",
    "<br>\n",
    "\n",
    "- Some algorithms are very easy to implement. Some are more difficult. Generally, the easier something is to implement, the more restrictive the conditions are under which we expect it to produce anything meaningful. "
   ]
  },
  {
   "cell_type": "markdown",
   "metadata": {},
   "source": [
    "## Part (a)(ii): Bracketing methods <a id='Bracketing'>\n",
    "---\n",
    "\n",
    "<span style='background:rgba(255,255,0, 0.25); color:black'> Run the code cell below and click the \"play\" button to see the second recorded lecture associated with this notebook.</span>"
   ]
  },
  {
   "cell_type": "code",
   "execution_count": null,
   "metadata": {},
   "outputs": [],
   "source": [
    "# 1. Running this cell with embed the short recorded lecture associated with this part of the notebook\n",
    "# 2. Press on the \"play\" button to start the video.\n",
    "\n",
    "from IPython.display import YouTubeVideo\n",
    "\n",
    "YouTubeVideo('gvPYZdsLaBI', width=800, height=300)"
   ]
  },
  {
   "cell_type": "markdown",
   "metadata": {},
   "source": [
    "## Bisection algorithm (https://en.wikipedia.org/wiki/Bisection_method)\n",
    "\n",
    "---\n",
    "\n",
    "The basic idea is best illustrated by an interactive demo and playing the video above.\n",
    "\n",
    "***We use widgets to create the interactivity. Widgets are very useful for illustrating concepts and exploring ideas.***"
   ]
  },
  {
   "cell_type": "code",
   "execution_count": null,
   "metadata": {},
   "outputs": [],
   "source": [
    "# Usually place these at the top of a notebook if you know you are going to use widgets\n",
    "# This cell only needs to be executed once\n",
    "from ipywidgets import interact, interactive, fixed, interact_manual\n",
    "import ipywidgets as widgets"
   ]
  },
  {
   "cell_type": "code",
   "execution_count": null,
   "metadata": {},
   "outputs": [],
   "source": [
    "def compute_bisection(f, a, b, n=10, tol_interval=1e-5, tol_f=1e-8):\n",
    "    '''This simple function applies up to n iterations of the bisection algorithm'''\n",
    "    \n",
    "    # Let us first check the conditions to apply the bisection alg. are satisfied\n",
    "    if a >= b:\n",
    "        raise ValueError('The bisec. alg. requires a<b')\n",
    "    if f(a)*f(b) > 0:\n",
    "        raise ValueError('The bisec. alg. requires f(a) and f(b) are different signs')\n",
    "        \n",
    "    # Now, perform the bisection algorithm\n",
    "    current_iter = 0\n",
    "    while current_iter < n:\n",
    "        c = (b+a)/2 # bisect the interval [a,b], i.e., compute mid-point\n",
    "        \n",
    "        # Check if c is an (approx.) root\n",
    "        if np.abs(f(c)) < tol_f:\n",
    "            break\n",
    "        \n",
    "        # Check if dividing [a,b] in half makes the interval too small to continue\n",
    "        if (b-a)/2 < tol_interval:\n",
    "            break\n",
    "            \n",
    "        # Determine if a or b should be replaced with c\n",
    "        if f(a)*f(c) < 0:\n",
    "            b = c\n",
    "        else:\n",
    "            a = c\n",
    "        \n",
    "        current_iter += 1\n",
    "    \n",
    "    return (a, b, c)"
   ]
  },
  {
   "cell_type": "code",
   "execution_count": null,
   "metadata": {},
   "outputs": [],
   "source": [
    "# This cell creates a plotting function that we use widgets to interact with in the following cell\n",
    "\n",
    "def plot_bisection(f, a, b, n, x_min, x_max, grid_pts = 100, show_final_interval = False):\n",
    "    # Compute approximate root with bisec. alg. \n",
    "    (a_n, b_n, c) = compute_bisection(f, a, b, n)\n",
    "    \n",
    "    ############################################\n",
    "    # Everything below this line involves making plots of the results \n",
    "    ############################################\n",
    "    fig = plt.figure(figsize=(10,5))\n",
    "    x = np.linspace(x_min,x_max,grid_pts)\n",
    "    \n",
    "    # First, plot function and axes\n",
    "    plt.plot(x,f(x),'b',linewidth=2) #plot of function f\n",
    "    plt.axvline(0, linewidth=1, linestyle=':', c='k') #plot typical y-axis\n",
    "    plt.axhline(0, linewidth=1, linestyle=':', c='k') #plot typical x-axis\n",
    "    \n",
    "    # Title information\n",
    "    title_str = 'Approx. root is ' + '{:.6}'.format(c) + '. Use this to update interval [a,b].'\n",
    "    plt.title(title_str, fontsize=14)\n",
    "    \n",
    "    # Create a dict (dictionary) of properties of items used in annotations\n",
    "    bbox_pt = dict(boxstyle='round', fc='0.9')\n",
    "    bbox_text = dict(boxstyle=\"round\", fc='b', color='r', alpha=0.25, linewidth=2) \n",
    "    arrowprops = dict(arrowstyle='->', facecolor='black', alpha=0.5, linewidth=2) \n",
    "    y_min, y_max = plt.ylim() #get min and max y-values from plot to offset annotations\n",
    "    y_range = y_max - y_min\n",
    "    x_range = x_max - x_min\n",
    "    \n",
    "    # Now plot relevant points and annotate\n",
    "    \n",
    "    # First annotate parts of the plot involving the points a and b\n",
    "    if show_final_interval:\n",
    "        plt.scatter(a_n,f(a_n),s=70,c='k')\n",
    "        \n",
    "        plt.annotate(r'$(a_n,f(a_n))$', fontsize=12, xy=(a_n,f(a_n)), xytext=(a_n+0.2*x_range,f(a_n)-0.35*y_range),\n",
    "                 bbox=bbox_pt, arrowprops=arrowprops)\n",
    "        \n",
    "        plt.scatter(b_n,f(b_n),s=70,c='k')\n",
    "        \n",
    "        plt.annotate(r'$(b_n,f(b_n))$', fontsize=12, xy=(b_n,f(b_n)), xytext=(b_n+0.2*x_range,f(b_n)-0.35*y_range),\n",
    "                 bbox=bbox_pt, arrowprops=arrowprops)\n",
    "        \n",
    "    else:\n",
    "        plt.scatter(a,f(a),s=70,c='k')\n",
    "        \n",
    "        plt.annotate(r'$(a,f(a))$', fontsize=12, xy=(a,f(a)), xytext=(a+0.1*x_range,f(a)-0.25*y_range),\n",
    "                     bbox=bbox_pt, arrowprops=arrowprops)\n",
    "        \n",
    "        plt.scatter(b,f(b),s=70,c='k')\n",
    "        \n",
    "        plt.annotate(r'$(b,f(b))$', fontsize=12, xy=(b,f(b)), xytext=(b+0.1*x_range,f(b)-0.25*y_range),\n",
    "                 bbox=bbox_pt, arrowprops=arrowprops)\n",
    "\n",
    "    # Now annotate the part of the plot involving the approximate root c    \n",
    "    plt.scatter(c,f(c),s=70,c='r')\n",
    "    \n",
    "    plt.annotate('Approx. root\\nfrom ' + str(n) + '\\nstep(s) of bisec.\\nalgorithm', fontsize=12, xy=(c,f(c)), \n",
    "                     xytext=(c-0.2*x_range,f(c)+0.25*y_range), color='w',\n",
    "                     bbox = bbox_text, arrowprops=arrowprops)\n",
    "    \n",
    "    plt.annotate(r'$(c,f(c))$', fontsize=12, xy=(c,f(c)), xytext=(c+0.1*x_range,f(c)-0.25*y_range),\n",
    "                 bbox=bbox_pt, arrowprops=arrowprops)\n",
    "  "
   ]
  },
  {
   "cell_type": "code",
   "execution_count": null,
   "metadata": {},
   "outputs": [],
   "source": [
    "# This magic command below with help \"flush\" outputs to keep memory sizes small if this cell is repeatedly executed\n",
    "%reset -f out\n",
    "\n",
    "interact(plot_bisection, \n",
    "         f = widgets.fixed(lambda x: x**3-x-2),\n",
    "         a = widgets.FloatSlider(value=0.5, min=-1, max=1.52, step=0.01),\n",
    "         b = widgets.FloatSlider(value=1.75, min=1.53, max=2, step=0.01),\n",
    "         n = widgets.IntSlider(value=1, min=1, max=20),\n",
    "         x_min = widgets.fixed(-1),\n",
    "         x_max = widgets.fixed(2),\n",
    "         grid_pts = widgets.fixed(100),\n",
    "         show_final_interval = widgets.Checkbox(False))"
   ]
  },
  {
   "cell_type": "code",
   "execution_count": null,
   "metadata": {},
   "outputs": [],
   "source": [
    "%reset -f out\n",
    "\n",
    "interact(plot_bisection, \n",
    "         f = widgets.fixed(lambda x: np.sin(x**3-x-2)),\n",
    "         a = widgets.FloatSlider(value=0.5, min=-1, max=1.52, step=0.01),\n",
    "         b = widgets.FloatSlider(value=1.75, min=1.53, max=2, step=0.01),\n",
    "         n = widgets.IntSlider(value=1, min=1, max=20),\n",
    "         x_min = widgets.fixed(0),\n",
    "         x_max = widgets.fixed(3),\n",
    "         grid_pts = widgets.fixed(1000),\n",
    "         show_final_interval = widgets.Checkbox(False))"
   ]
  },
  {
   "cell_type": "markdown",
   "metadata": {},
   "source": [
    "<hr style=\"border:5px solid cyan\"> </hr>\n",
    "\n",
    "## <span style='background:rgba(0,255,255, 0.5); color:black'>Activity: Playing with the bisection algorithm</span><a id='activity-bisection'>\n",
    "\n",
    "Note: You may want to create additional code cells below as you work your way through this activity.\n",
    "\n",
    "- Test the bisection plotting function on some `lambda` functions of your choosing both with and without widgets for interactivity.\n",
    "<br><br>\n",
    "\n",
    "- Create an `improved_plot_bisection` function that allows for all of the parameters in the `compute_bisection` function to be set by the user.\n",
    "<br><br>\n",
    "\n",
    "- Test your `improved_plot_bisection` function on some `lambda` functions of your choosing both with and without widgets where you show results for different choices of these new parameters."
   ]
  },
  {
   "cell_type": "code",
   "execution_count": null,
   "metadata": {},
   "outputs": [],
   "source": []
  },
  {
   "cell_type": "code",
   "execution_count": null,
   "metadata": {},
   "outputs": [],
   "source": []
  },
  {
   "cell_type": "code",
   "execution_count": null,
   "metadata": {},
   "outputs": [],
   "source": []
  },
  {
   "cell_type": "code",
   "execution_count": null,
   "metadata": {},
   "outputs": [],
   "source": []
  },
  {
   "cell_type": "markdown",
   "metadata": {},
   "source": [
    "<hr style=\"border:5px solid cyan\"> </hr>"
   ]
  },
  {
   "cell_type": "markdown",
   "metadata": {},
   "source": [
    "## A bisection variant (https://en.wikipedia.org/wiki/Regula_falsi)\n",
    "\n",
    "The basic idea of *regula falsi* (i.e., the false position method) is quite simple. It follows 3 steps starting with an initial guess of an interval $[a,b]$ that may contain a root. \n",
    "\n",
    "1. Make a straight line between $(a,f(a))$ and $(b,f(b))$. \n",
    "\n",
    "2. Compute the $x$-intercept of this line and call that point $c$. \n",
    "\n",
    "3. Compute $f(c)$ and compare the sign to $f(a)$ (or $f(b)$) and update the interval to either $[a,c]$ or $[c,b]$ depending on the result of this comparison.\n",
    "\n",
    "Thus, this is just a variant of the bisection algorithm. The fundamental difference is that instead of using the midpoint of the interval $[a,b]$ as the guess for the root $c$, we use *interpolation* to approximate the function with a simple function (a line) for which it is easy to determine the root. The exact root of this approximating function is then an approximate root of the exact function."
   ]
  },
  {
   "cell_type": "markdown",
   "metadata": {},
   "source": [
    "<hr style=\"border:5px solid cyan\"> </hr>\n",
    "\n",
    "## <span style='background:rgba(0,255,255, 0.5); color:black'>Activity: Implementing a bisection variant</span><a id='activity-bisection-variant'>\n",
    "\n",
    "Note: You may want to create additional code cells below as you work your way through this activity.\n",
    "\n",
    "- Create a new function `plot_falsept` based on the `plot_bisection` function above to visualize the false point method using widgets. \n",
    "<br>\n",
    "\n",
    "    - Visualize results with some `lambda` functions. \n",
    "<br>\n",
    "<br>\n",
    "\n",
    "- Create a function `my_falsept` that performs the false point method. Make sure it tests that the conditions are appropriate for running this algorithm. The output show include an annotated plot of results.\n",
    "<br>\n",
    "\n",
    "    - Test your `my_falsept` code on some `lambda` functions. "
   ]
  },
  {
   "cell_type": "code",
   "execution_count": null,
   "metadata": {},
   "outputs": [],
   "source": []
  },
  {
   "cell_type": "code",
   "execution_count": null,
   "metadata": {},
   "outputs": [],
   "source": []
  },
  {
   "cell_type": "code",
   "execution_count": null,
   "metadata": {},
   "outputs": [],
   "source": []
  },
  {
   "cell_type": "code",
   "execution_count": null,
   "metadata": {},
   "outputs": [],
   "source": []
  },
  {
   "cell_type": "markdown",
   "metadata": {},
   "source": [
    "<hr style=\"border:5px solid cyan\"> </hr>"
   ]
  },
  {
   "cell_type": "markdown",
   "metadata": {},
   "source": [
    "<hr style=\"border:5px solid cyan\"> </hr>\n",
    "\n",
    "## <span style='background:rgba(0,255,255, 0.5); color:black'>Activity: Comparing bracketing methods</span><a id='activity-bracketing-compare'>\n",
    "\n",
    "Use a mixture of markdown and code cells below to compare the bisection algorithm and false point method. \n",
    "\n",
    "You may find the wiki articles useful to reference here as well as doing some searching on Google or your favorite search engine. \n",
    "\n",
    "Can you describe and implement problems where one method seemingly does better than another? Can you explain why that is happening? When would you consider using one over another? What questions about these methods and comparing them seem worth exploring to you? This is intentionally left as open as possible for you to pursue what you think are intriguing questions to pose, research, and answer."
   ]
  },
  {
   "cell_type": "code",
   "execution_count": null,
   "metadata": {},
   "outputs": [],
   "source": []
  },
  {
   "cell_type": "markdown",
   "metadata": {},
   "source": []
  },
  {
   "cell_type": "markdown",
   "metadata": {},
   "source": [
    "<hr style=\"border:5px solid cyan\"> </hr>"
   ]
  },
  {
   "cell_type": "markdown",
   "metadata": {},
   "source": [
    "## Part (a)(iii) \"Iterative\" methods <a id='Iterative'>\n",
    "---\n",
    "    \n",
    "<span style='background:rgba(255,255,0, 0.25); color:black'> Run the code cell below and click the \"play\" button to see the third recorded lecture associated with this notebook.</span>"
   ]
  },
  {
   "cell_type": "code",
   "execution_count": null,
   "metadata": {},
   "outputs": [],
   "source": [
    "# 1. Running this cell with embed the short recorded lecture associated with this part of the notebook\n",
    "# 2. Press on the \"play\" button to start the video.\n",
    "\n",
    "from IPython.display import YouTubeVideo\n",
    "\n",
    "YouTubeVideo('F-RLSHmC69o', width=800, height=300)"
   ]
  },
  {
   "cell_type": "markdown",
   "metadata": {},
   "source": [
    "Iterative methods in root-finding problems generally refer to approaches that require an *initial guess of the root* instead of an initial interval/set containing the root. \n",
    "These methods generally rely on defining an *auxiliary* function (i.e., an approximation to the function) that is constructed at the current guess in order to form the next \"best\" guess at the root of the true function. \n",
    "\n",
    "\n",
    "I imagine the incredulity you must feel. After all, weren't the above methods iterative?\n",
    "Well, yes they were in a very technical sense that they implement loops. \n",
    "In fact, the false-point method somewhat hints at the basic idea of these methods and looks similar to the *secant* method.\n",
    "The difference is that bracketing methods also require a description of a set that contains the root you are looking for, which is significantly more information to specify at the start of a problem than just a single initial guess at the root.\n",
    "\n",
    "One of the things you will need to consider, and which the instructions for the previous activity above hints at, is why some methods may be preferred to others in various scenarios. "
   ]
  },
  {
   "cell_type": "markdown",
   "metadata": {},
   "source": [
    "## The secant method (https://en.wikipedia.org/wiki/Secant_method)\n",
    "\n",
    "This is perhaps best explained via an interactive demo and playing the video above. \n",
    "\n",
    "The wiki article actually includes Python code on this simple algorithm, which we copy below before the demo.\n",
    "\n",
    "<span style='background:rgba(255,0,255, 0.25); color:black'> ***Good questions to keep in mind:*** <span>\n",
    "\n",
    "- Can you see where this code can immediately have some difficulty? \n",
    "<br>\n",
    "\n",
    "- What would be a good initial check to ensure that the code does not \"crash\"? \n",
    "<br>\n",
    "\n",
    "    - Should a similar check be done at the end of each iteration? "
   ]
  },
  {
   "cell_type": "code",
   "execution_count": null,
   "metadata": {},
   "outputs": [],
   "source": [
    "#Copied from the wiki article\n",
    "def secant_method(f, x0, x1, iterations):\n",
    "    \"\"\"Return the root calculated using the secant method.\"\"\"\n",
    "    for i in range(iterations):\n",
    "        x2 = x1 - f(x1) * (x1 - x0) / float(f(x1) - f(x0))\n",
    "        x0, x1 = x1, x2\n",
    "    return x2"
   ]
  },
  {
   "cell_type": "code",
   "execution_count": null,
   "metadata": {
    "code_folding": []
   },
   "outputs": [],
   "source": [
    "#Copied and edited from the wiki article for demo purposes\n",
    "def secant_method_4_demo(f, x0, x1, iterations):\n",
    "    \"\"\"Return the root calculated using the secant method.\"\"\"\n",
    "    xs = [x0, x1]\n",
    "    fs = [f(x0), f(x1)]\n",
    "    for i in range(iterations):\n",
    "        x2 = x1 - f(x1) * (x1 - x0) / float(f(x1) - f(x0))\n",
    "        x0, x1 = x1, x2\n",
    "        xs.append(x2)\n",
    "        fs.append(f(x2))\n",
    "    return xs, fs"
   ]
  },
  {
   "cell_type": "code",
   "execution_count": null,
   "metadata": {},
   "outputs": [],
   "source": [
    "def plot_secant(f, x0, x1, n,  x_min, x_max, grid_pts = 100):\n",
    "    # Perform the secant method\n",
    "    xs, fs = secant_method_4_demo(f, x0, x1, n)\n",
    "    \n",
    "    ############################################\n",
    "    # Everything below this line involves making plots of the results \n",
    "    ############################################\n",
    "    fig = plt.figure(figsize=(15,7.5))\n",
    "    x = np.linspace(x_min,x_max,grid_pts)\n",
    "    \n",
    "    # Plot function and axes\n",
    "    plt.plot(x,f(x),'b',linewidth=2) #plot of function f\n",
    "    plt.axvline(0, linewidth=1, linestyle=':', c='k') #plot typical y-axis\n",
    "    plt.axhline(0, linewidth=1, linestyle=':', c='k') #plot typical x-axis\n",
    "    \n",
    "    # Title information\n",
    "    title_str = 'The n=' + str(n) + r' iter. of the sec. mtd. gives $f(x_{n+1})\\approx$' + '{:.2e}'.format(fs[-1])\n",
    "    plt.title(title_str, fontsize=18)\n",
    "    \n",
    "    # Plot all the n secant lines\n",
    "    for i in range(n):\n",
    "        min_idx = np.argmin(xs[i:i+3])\n",
    "        max_idx = np.argmax(xs[i:i+3])\n",
    "        if (min_idx != 2) and (max_idx != 2):\n",
    "            plt.plot([xs[i:i+3][min_idx], xs[i:i+3][max_idx]], \n",
    "                     [fs[i:i+3][min_idx], fs[i:i+3][max_idx]],\n",
    "                     'k', linewidth=1, alpha=0.5)\n",
    "        elif min_idx == 2:\n",
    "            plt.plot([xs[i:i+3][min_idx], xs[i:i+3][max_idx]], \n",
    "                     [0, fs[i:i+3][max_idx]],\n",
    "                     'k', linewidth=1, alpha=0.5)\n",
    "        else:\n",
    "            plt.plot([xs[i:i+3][min_idx], xs[i:i+3][max_idx]], \n",
    "                     [fs[i:i+3][min_idx], 0],\n",
    "                     'k', linewidth=1, alpha=0.5)\n",
    "            \n",
    "    # Make clear what the final interval is        \n",
    "    plt.plot([xs[i], xs[i]], [0, fs[i]], 'r', linewidth=1, alpha=0.5)\n",
    "    plt.plot([xs[i+1], xs[i+1]], [0, fs[i+1]], 'r', linewidth=1, alpha=0.5)    \n",
    "    plt.scatter(np.array(xs),0*np.array(xs))\n",
    "    \n",
    "    # Annotate relevant points in the plot\n",
    "    bbox = dict(boxstyle=\"round\", fc='b', color='r', alpha=0.25, linewidth=2)\n",
    "    y_min, y_max = plt.ylim() #get min and max y-values from plot to offset annotations\n",
    "    y_range = y_max - y_min\n",
    "    for i in range(n+2):\n",
    "        if fs[i] < 0:\n",
    "            plt.annotate(r'$x_' + str(i) + '$', fontsize=12, xy=(xs[i],y_range*0.05), color='w', bbox = bbox)\n",
    "        else:\n",
    "            plt.annotate(r'$x_' + str(i) + '$', fontsize=12, xy=(xs[i],-y_range*0.05), color='w', bbox = bbox)"
   ]
  },
  {
   "cell_type": "code",
   "execution_count": null,
   "metadata": {},
   "outputs": [],
   "source": [
    "interact(plot_secant,\n",
    "         f = widgets.fixed(lambda x: x**3-x-2),\n",
    "         x0 = widgets.FloatSlider(value=0.5, min=0, max=2.5, step=0.01),\n",
    "         x1 = widgets.FloatSlider(value=2, min=0, max=2.5, step=0.01),\n",
    "         n = widgets.IntSlider(value=1, min=1, max=10),\n",
    "         x_min = widgets.fixed(0),\n",
    "         x_max = widgets.fixed(2.5),\n",
    "         grid_pts = widgets.fixed(1000))"
   ]
  },
  {
   "cell_type": "markdown",
   "metadata": {},
   "source": [
    "<hr style=\"border:5px solid cyan\"> </hr>\n",
    "\n",
    "## <span style='background:rgba(0,255,255, 0.5); color:black'>Activity: Improving the secant algorithm</span><a id='activity-secant'>\n",
    "\n",
    "Note: You may want to create additional code cells below as you work your way through this activity.\n",
    "\n",
    "- Create a `my_secant` function that is *improved* from what is implemented in `plot_secant` in the sense that it checks for and avoids any potential errors that may occur during runtime. \n",
    "<br>\n",
    "\n",
    "    - The output should include an annotated plot. \n",
    "    <br>\n",
    "    \n",
    "    - Test your code on some `lambda` functions."
   ]
  },
  {
   "cell_type": "code",
   "execution_count": null,
   "metadata": {},
   "outputs": [],
   "source": []
  },
  {
   "cell_type": "markdown",
   "metadata": {},
   "source": [
    "<hr style=\"border:5px solid cyan\"> </hr>"
   ]
  },
  {
   "cell_type": "markdown",
   "metadata": {},
   "source": [
    "<hr style=\"border:5px solid cyan\"> </hr>\n",
    "\n",
    "## <span style='background:rgba(0,255,255, 0.5); color:black'>Activity: Comparing secant to false point</span><a id='activity-linear-methods-compare'>\n",
    "\n",
    "Use a mixture of code and markdown cells to compare the secant and false point methods across a variety of `lambda` functions. \n",
    "\n",
    "You may find the wiki articles useful to reference here as well as doing some searching on Google or your favorite search engine. \n",
    "\n",
    "Can you describe and implement problems where one method seemingly does better than another? Can you explain why that is happening? When would you consider using one over another? What questions about these methods and comparing them seem worth exploring to you? This is intentionally left as open as possible for you to pursue what you think are intriguing questions to pose, research, and answer."
   ]
  },
  {
   "cell_type": "code",
   "execution_count": null,
   "metadata": {},
   "outputs": [],
   "source": []
  },
  {
   "cell_type": "markdown",
   "metadata": {},
   "source": []
  },
  {
   "cell_type": "markdown",
   "metadata": {},
   "source": [
    "<hr style=\"border:5px solid cyan\"> </hr>"
   ]
  },
  {
   "cell_type": "markdown",
   "metadata": {},
   "source": [
    "<hr style=\"border:5px solid cyan\"> </hr>\n",
    "\n",
    "## <span style='background:rgba(0,255,255, 0.5); color:black'>Activity: Summary</span> <a id='activity-summary'/>\n",
    "\n",
    "Summarize some of the key takeaways/points from this notebook in a list below and prepare a few code examples related to these takeaways/points in the code cells below. You need to have at least one examples for each of your summary points and you need at least three summary points.\n",
    "\n",
    "In this notebook, we have seen the following:\n",
    "\n",
    "- [Your summary point 1 goes here]\n",
    "\n",
    "\n",
    "- [Your summary point 2 goes here]\n",
    "\n",
    "\n",
    "- [Your summary point 3 goes here]"
   ]
  },
  {
   "cell_type": "code",
   "execution_count": null,
   "metadata": {},
   "outputs": [],
   "source": []
  },
  {
   "cell_type": "code",
   "execution_count": null,
   "metadata": {},
   "outputs": [],
   "source": []
  },
  {
   "cell_type": "code",
   "execution_count": null,
   "metadata": {},
   "outputs": [],
   "source": []
  },
  {
   "cell_type": "markdown",
   "metadata": {},
   "source": [
    "<hr style=\"border:5px solid cyan\"> </hr>"
   ]
  },
  {
   "cell_type": "markdown",
   "metadata": {},
   "source": [
    "### <a href='#Contents'>Click here to return to Notebook Contents</a>"
   ]
  }
 ],
 "metadata": {
  "anaconda-cloud": {},
  "kernelspec": {
   "display_name": "Python 3",
   "language": "python",
   "name": "python3"
  },
  "language_info": {
   "codemirror_mode": {
    "name": "ipython",
    "version": 3
   },
   "file_extension": ".py",
   "mimetype": "text/x-python",
   "name": "python",
   "nbconvert_exporter": "python",
   "pygments_lexer": "ipython3",
   "version": "3.7.6"
  }
 },
 "nbformat": 4,
 "nbformat_minor": 4
}
