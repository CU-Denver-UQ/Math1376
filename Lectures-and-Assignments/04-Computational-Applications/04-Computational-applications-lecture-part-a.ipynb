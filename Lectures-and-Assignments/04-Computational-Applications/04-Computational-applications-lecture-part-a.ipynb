{
 "cells": [
  {
   "cell_type": "markdown",
   "metadata": {},
   "source": [
    "# Math  1376: Programming for Data Science\n",
    "---"
   ]
  },
  {
   "cell_type": "code",
   "execution_count": 1,
   "metadata": {},
   "outputs": [],
   "source": [
    "import numpy as np #We will use numpy in this lecture\n",
    "import matplotlib.pyplot as plt\n",
    "%matplotlib inline"
   ]
  },
  {
   "cell_type": "markdown",
   "metadata": {},
   "source": [
    "## Module 04: Some useful applications of Modules 01-03\n",
    "---\n",
    "\n",
    "In this module, we will now pull together material across our first three modules to solve some practical problems. \n",
    "\n",
    "You may find it useful to review the notebooks in those modules beforehand or just simply open some of the notebooks to have their contents available to review as necessary. \n",
    "\n",
    "While there are a seemingly endless number of practical problems we can attempt to solve with what we have learned so far, we will focus on three ubiquitous problems in the computational sciences.\n",
    "\n",
    "- Root-finding. (The content of Part (a) of this module.)\n",
    "<br>\n",
    "\n",
    "- Numerical integration. (The content of Part (b) of this module.)\n",
    "<br>\n",
    "\n",
    "- Optimization. (This content is pursued in the homework of this module.)\n",
    "<br>\n",
    "\n",
    "### A note about calculus concepts and interactive visualizations (i.e., widgets)\n",
    "---\n",
    "\n",
    "These topics are commonly studied as applications of calculus concepts. \n",
    "However, while we may make passing reference to certain calculus concepts, you do *not* need to know calculus to follow the narratives. (This, of course, is not to say that you should not seek to master calculus at some point.)\n",
    "Our focus is on the *big picture ideas* and we use interactive graphics (powered by a widgets module) to help us explore these ideas."
   ]
  },
  {
   "cell_type": "markdown",
   "metadata": {},
   "source": [
    "## Learning Objectives for Part (a)\n",
    "\n",
    "- Understand what a root-finding problem means and how they arise in practice.\n",
    "\n",
    "\n",
    "- Apply different types of root-finding algorithms to various functions written as `lambda` Python functions.\n",
    "\n",
    "\n",
    "- Create code that implements root-finding algorithms of different types.\n",
    "\n",
    "\n",
    "- Create annotations and interactive widgets to enhance visualizations of data.\n",
    "\n",
    "\n",
    "### Some larger \"in situ\" learning objectives (i.e., learning that will occur by design of activities)\n",
    "\n",
    "While we are going to explore how to implement some of these algorithms as activities below, our learning objectives go beyond simple correct implementation. We will also consider what it means to do the following:\n",
    "\n",
    "- *compare* and *analyze* different algorithms developed for solving the same generic problem;\n",
    "<br>\n",
    "\n",
    "- use this comparison to *choose* the \"right\" algorithm for solving a *specific* problem;\n",
    "<br>\n",
    "\n",
    "- create a module that encodes various algorithms and a *wrapper* function that automatically chooses which algorithm to apply based on the inputs.\n",
    "<br>\n",
    "\n",
    "Some of this is done in the notebook while other parts are left for homework."
   ]
  },
  {
   "cell_type": "markdown",
   "metadata": {},
   "source": [
    "## Notebook contents <a id='Contents'>\n",
    "\n",
    "* <a href='#Root-finding'>Part (a): Root-finding</a>\n",
    "<br>\n",
    "\n",
    "    * <a href='#Introduction'>Part (a)(i): An introduction to concepts</a>\n",
    "    <br>\n",
    "    \n",
    "    * <a href='#Bracketing'>Part (a)(ii): Bracketing methods</a>\n",
    "    <br>\n",
    "        \n",
    "        * <a href='#activity-bisection'>Activity: Implementing the bisection algorithm</a>\n",
    "        <br>\n",
    "        \n",
    "        * <a href='#activity-bisection-variant'>Activity: Implementing a bisection variant</a>\n",
    "        <br>\n",
    "        \n",
    "        * <a href='#activity-bracketing-compare'>Activity: Comparing bracketing methods</a>\n",
    "        <br>\n",
    "        \n",
    "    * <a href='#Iterative'> Part (a)(iii): \"Iterative\" methods </a>\n",
    "    <br>\n",
    "    \n",
    "        * <a href='#activity-secant'>Activity: Implementing the secant algorithm</a>\n",
    "        <br>\n",
    "        \n",
    "        * <a href='activity-linear-methods-compare'>Activity: Comparing secant to false point</a>\n",
    "        <br>\n",
    "    \n",
    "    * <a href='#activity-summary'>Activity: Summary</a>"
   ]
  },
  {
   "cell_type": "markdown",
   "metadata": {},
   "source": [
    "## Part (a): Root-finding <a id='Root-finding'>\n",
    "---\n",
    "\n",
    "**Expected time to completion: 6-9 hours**\n",
    "    \n",
    "<span style='background:rgba(255,255,0, 0.25); color:black'> Run the code cell below and click the \"play\" button to see the first recorded lecture associated with this notebook.</span>"
   ]
  },
  {
   "cell_type": "code",
   "execution_count": 2,
   "metadata": {},
   "outputs": [
    {
     "data": {
      "image/jpeg": "[encoded data removed]",
      "text/html": [
       "\n",
       "        <iframe\n",
       "            width=\"800\"\n",
       "            height=\"300\"\n",
       "            src=\"https://www.youtube.com/embed/_kROMq3pDzA\"\n",
       "            frameborder=\"0\"\n",
       "            allowfullscreen\n",
       "        ></iframe>\n",
       "        "
      ],
      "text/plain": [
       "<IPython.lib.display.YouTubeVideo at 0x7f4a9065bd60>"
      ]
     },
     "execution_count": 2,
     "metadata": {},
     "output_type": "execute_result"
    }
   ],
   "source": [
    "# 1. Running this cell with embed the short recorded lecture associated with this part of the notebook\n",
    "# 2. Press on the \"play\" button to start the video.\n",
    "\n",
    "from IPython.display import YouTubeVideo\n",
    "\n",
    "YouTubeVideo('_kROMq3pDzA', width=800, height=300)"
   ]
  },
  {
   "cell_type": "markdown",
   "metadata": {},
   "source": [
    "## Part (a)(i): An introduction to concepts <a id='Introduction'>"
   ]
  },
  {
   "cell_type": "markdown",
   "metadata": {},
   "source": [
    "### What does root-finding mean?\n",
    "\n",
    "Simply put, given $f(x)$, a root of the function is some point $x=c$ such that $f(c)=0$. \n",
    "\n",
    "In other words, the ***roots*** of a function are the *inputs* that make the *output* equal to zero. "
   ]
  },
  {
   "cell_type": "markdown",
   "metadata": {},
   "source": [
    "### lambda functions for simple examples\n",
    "\n",
    "We only mentioned these briefly in 03-Lecture-part-b.ipynb in the context of list comprehensions, so you may want to review that quickly.\n",
    "\n",
    "A lambda function is very useful in the context of this notebook, so we dive into them a bit more here. \n",
    "\n",
    "What is a `lambda` function? You can read quite a bit about such functions [here](https://www.w3schools.com/python/python_lambda.asp) or [here](https://realpython.com/python-lambda/).\n",
    "\n",
    "<span style='background:rgba(255,0,255, 0.25); color:black'> ***Key Points:*** <span>\n",
    "\n",
    "- The main takeaway is that if you have a simple type of \"anonymous\" function that you just need for a short period of time in your code, then a lambda function is probably right for you. It is *not* necessary to use these, but they are useful. \n",
    "<br>\n",
    "\n",
    "- A generic use syntax we care about would look something like this:\n",
    "\n",
    "  > ```f = lambda arguments : expression ```"
   ]
  },
  {
   "cell_type": "markdown",
   "metadata": {},
   "source": [
    "Run the code cells below to see an example of a `lambda` function in the context of plotting the roots of a polynomial.\n",
    "\n",
    "Pay attention to how we use these types of functions in this lecture. They are completely anonymous functions that we pass as arguments into algorithms so that we can study how the algorithms perform on different types of functions without having to formally declare/create the functions elsewhere in the code.\n",
    "In other words, they are simply a matter of convenience."
   ]
  },
  {
   "cell_type": "code",
   "execution_count": 3,
   "metadata": {},
   "outputs": [],
   "source": [
    "f = lambda x : x**3 - x - 2  #defining f(x) = x^3-x-2"
   ]
  },
  {
   "cell_type": "code",
   "execution_count": 4,
   "metadata": {},
   "outputs": [
    {
     "data": {
      "image/png": "[encoded data removed]",
      "text/plain": [
       "<Figure size 720x360 with 1 Axes>"
      ]
     },
     "metadata": {
      "needs_background": "light"
     },
     "output_type": "display_data"
    }
   ],
   "source": [
    "plt.figure(figsize=(10,5))\n",
    "\n",
    "x = np.linspace(-1,2,100) # Create 100 uniformly spaced points between -1 and 2\n",
    "plt.plot(x,f(x),'b',linewidth=2) #plot of function f vs x\n",
    "\n",
    "# Let's add some axes to the plot\n",
    "plt.axvline(0, linewidth=1, linestyle=':', c='k') #plot typical y-axis\n",
    "plt.axhline(0, linewidth=1, linestyle=':', c='k') #plot typical x-axis\n",
    "\n",
    "# Let's add the root to the plot using a scatter plot\n",
    "c = 1.521 #approximate root\n",
    "plt.scatter(c,f(c),s=70,c='r',marker='s') #plot approximate root\n",
    "\n",
    "###########################################\n",
    "## Now for some fancier plotting options ##\n",
    "###########################################\n",
    "\n",
    "# Let's create a text string for the title that formats certain floating point numbers\n",
    "title_str = 'Approx. root at c=' + '{:.3}'.format(c) + r' with f(c)$\\approx$' + '{:.2e}'.format(f(c))\n",
    "plt.title(title_str, fontsize=14)\n",
    "\n",
    "# Now let's annotate the plot with some text and arrows\n",
    "\n",
    "# First, we define the dict (dictionary) of properties of items used in the annotation\n",
    "bbox = dict(boxstyle=\"round\", fc='b', color='r', alpha=0.5, linewidth=2) #This is the property dict for bounding box of text\n",
    "arrowprops = dict(arrowstyle='->', color='k', alpha=.5, linewidth=2) #This is the property dict for the arrow\n",
    "\n",
    "# Now annotate the plot\n",
    "plt.annotate('Approx. root', fontsize=12, xy=(c,f(c)), xytext=(c-1.25,1), color='w',\n",
    "             bbox = bbox, arrowprops=arrowprops);"
   ]
  },
  {
   "cell_type": "markdown",
   "metadata": {},
   "source": [
    "***Of course, the above example just gives us more of the idea of the \"what\" but not the \"why.\"***\n",
    "\n",
    "### Why should we care about roots?\n",
    "\n",
    "Is there anything particularly important about a function being zero? In general, the answer is no. However, it depends on the function and the goals of the problem/application for which the function models system behavior. \n",
    "The assignment discusses how root problems arise naturally in many optimization problems.\n",
    "Below, we provide some simpler motivating examples.\n",
    "\n",
    "<span style='background:rgba(255,0,255, 0.25); color:black'> ***Some motivating examples:*** <span>\n",
    "\n",
    "- Suppose there are two launched projectiles with two height functions denoted by $h_1(t)$ and $h_2(t)$, and we are very interested when, or even *if*, there is a time where $h_1(t)=h_2(t)$. In other words, is there a time where the objects collide? This is an important question that arises in missile defense systems, satellite monitoring, and autonomous vehicle guidance systems. If we define $f(t)=h_1(t)-h_2(t)$, then we are interested in knowing whether or not $f(t)=0$. \n",
    "<br>\n",
    "\n",
    "- Suppose $p(t)$ describes a model you develop for the price of a potential investment (it could be in a savings/money market account, stock, or mutual fund to name just a few). You are probably interested in knowing when your model predicts the price to reach a certain target value, $p_{target}$, so that you can develop certain financial plans/goals around this time frame (e.g., having enough for a down payment on a car or house, take a vacation, or retire). Defining $f(t)=p(t)-p_{target}$ means you are interested in determining when $f(t)=0$."
   ]
  },
  {
   "cell_type": "markdown",
   "metadata": {},
   "source": [
    "### And these root problems are solved how?\n",
    "\n",
    "There are lots of algorithms that attempt to approximate the roots of a function, e.g., see https://en.wikipedia.org/wiki/Root-finding_algorithms. \n",
    "\n",
    "<span style='background:rgba(255,0,255, 0.25); color:black'> ***Key Points:*** <span>\n",
    "\n",
    "- Most algorithms are *iterative*. (Meaning we need to write *loops* to implement them.)\n",
    "<br>\n",
    "\n",
    "- Some algorithms are very easy to implement. Some are more difficult. Generally, the easier something is to implement, the more restrictive the conditions are under which we expect it to produce anything meaningful. "
   ]
  },
  {
   "cell_type": "markdown",
   "metadata": {},
   "source": [
    "## Part (a)(ii): Bracketing methods <a id='Bracketing'>\n",
    "---\n",
    "\n",
    "<span style='background:rgba(255,255,0, 0.25); color:black'> Run the code cell below and click the \"play\" button to see the second recorded lecture associated with this notebook.</span>"
   ]
  },
  {
   "cell_type": "code",
   "execution_count": 5,
   "metadata": {},
   "outputs": [
    {
     "data": {
      "image/jpeg": "[encoded data removed]",
      "text/html": [
       "\n",
       "        <iframe\n",
       "            width=\"800\"\n",
       "            height=\"300\"\n",
       "            src=\"https://www.youtube.com/embed/gvPYZdsLaBI\"\n",
       "            frameborder=\"0\"\n",
       "            allowfullscreen\n",
       "        ></iframe>\n",
       "        "
      ],
      "text/plain": [
       "<IPython.lib.display.YouTubeVideo at 0x7f4a77977850>"
      ]
     },
     "execution_count": 5,
     "metadata": {},
     "output_type": "execute_result"
    }
   ],
   "source": [
    "# 1. Running this cell with embed the short recorded lecture associated with this part of the notebook\n",
    "# 2. Press on the \"play\" button to start the video.\n",
    "\n",
    "from IPython.display import YouTubeVideo\n",
    "\n",
    "YouTubeVideo('gvPYZdsLaBI', width=800, height=300)"
   ]
  },
  {
   "cell_type": "markdown",
   "metadata": {},
   "source": [
    "## Bisection algorithm (https://en.wikipedia.org/wiki/Bisection_method)\n",
    "\n",
    "---\n",
    "\n",
    "The basic idea is best illustrated by an interactive demo and playing the video above.\n",
    "\n",
    "***Recall that we use widgets to create the interactivity. Widgets are very useful for illustrating concepts and exploring ideas.***"
   ]
  },
  {
   "cell_type": "code",
   "execution_count": 6,
   "metadata": {},
   "outputs": [],
   "source": [
    "# Usually place these at the top of a notebook if you know you are going to use widgets\n",
    "# This cell only needs to be executed once\n",
    "from ipywidgets import interact, interactive, fixed, interact_manual\n",
    "import ipywidgets as widgets"
   ]
  },
  {
   "cell_type": "markdown",
   "metadata": {},
   "source": [
    "<span style='background:rgba(0,255,255, 0.5); color:black'> Suggested activity:</span> \n",
    "If you really want to understand things, do the following:\n",
    "- Update the docstring in `compute_bisection` to describe the (1) role of the various parameters, and (2) what variables (if any) the function returns.\n",
    "\n",
    "- Add at least one doctest."
   ]
  },
  {
   "cell_type": "code",
   "execution_count": 7,
   "metadata": {},
   "outputs": [],
   "source": [
    "def compute_bisection(f, a, b, n=10, tol_interval=1e-5, tol_f=1e-8):\n",
    "    '''\n",
    "    This simple function applies up to n iterations of the \n",
    "    bisection algorithm\n",
    "    '''\n",
    "    \n",
    "    # Let us first check the conditions to apply the bisection\n",
    "    # algorithm are satisfied\n",
    "    if a >= b:\n",
    "        raise ValueError('The bisec. alg. requires a<b')\n",
    "    if f(a)*f(b) > 0:\n",
    "        raise ValueError('The bisec. alg. requires f(a) and f(b)' +\\\n",
    "                         'are different signs')\n",
    "        \n",
    "    # Now, perform the bisection algorithm\n",
    "    current_iter = 0\n",
    "    while current_iter < n:\n",
    "        current_iter += 1\n",
    "        \n",
    "        # bisect the interval [a,b], i.e., compute mid-point\n",
    "        c = (b+a)/2 \n",
    "        \n",
    "        # Check if c is an (approx.) root\n",
    "        if np.abs(f(c)) < tol_f:\n",
    "            break\n",
    "        \n",
    "        # Determine if a or b should be replaced with c\n",
    "        if f(a)*f(c) < 0:\n",
    "            b = c\n",
    "        else:\n",
    "            a = c\n",
    "            \n",
    "        # Check if dividing [a,b] in half made the interval \n",
    "        # too small to continue\n",
    "        if (b-a) < tol_interval:\n",
    "            break\n",
    "        \n",
    "    return (a, b, c) # Returns a tuple"
   ]
  },
  {
   "cell_type": "code",
   "execution_count": 8,
   "metadata": {},
   "outputs": [
    {
     "name": "stdout",
     "output_type": "stream",
     "text": [
      "1.521484375\n"
     ]
    }
   ],
   "source": [
    "# This uses the lambda function f previously defined\n",
    "# as well as default values for three of the parameters\n",
    "a, b, c = compute_bisection(f, 0, 2)\n",
    "\n",
    "# Print the approximate root\n",
    "print(c)"
   ]
  },
  {
   "cell_type": "code",
   "execution_count": 9,
   "metadata": {},
   "outputs": [
    {
     "name": "stdout",
     "output_type": "stream",
     "text": [
      "<class 'tuple'>\n",
      "3\n",
      "1.521484375\n"
     ]
    }
   ],
   "source": [
    "# We can also return the tuple of outputs as a single variable\n",
    "bisec_results = compute_bisection(f, 0, 2)\n",
    "\n",
    "# The output is a tuple\n",
    "print(type(bisec_results))\n",
    "\n",
    "# The length of the tuple\n",
    "print(len(bisec_results))\n",
    "\n",
    "# The last component of the tuple has the approx. root\n",
    "print(bisec_results[-1]) "
   ]
  },
  {
   "cell_type": "code",
   "execution_count": 10,
   "metadata": {},
   "outputs": [
    {
     "name": "stdout",
     "output_type": "stream",
     "text": [
      "1.521484375\n"
     ]
    }
   ],
   "source": [
    "# We could just ignore all the c value returned by the function as follows\n",
    "_, _, c = compute_bisection(f, 0, 2)\n",
    "\n",
    "print(c)"
   ]
  },
  {
   "cell_type": "code",
   "execution_count": 11,
   "metadata": {},
   "outputs": [
    {
     "name": "stdout",
     "output_type": "stream",
     "text": [
      "1.521484375\n"
     ]
    }
   ],
   "source": [
    "# OR, we could just return only the last value of the tuple\n",
    "c = compute_bisection(f, 0, 2)[2]\n",
    "\n",
    "print(c)"
   ]
  },
  {
   "cell_type": "code",
   "execution_count": 12,
   "metadata": {},
   "outputs": [
    {
     "name": "stdout",
     "output_type": "stream",
     "text": [
      "1.521484375\n"
     ]
    }
   ],
   "source": [
    "# If we did not know how many components were in the tuple, \n",
    "# BUT we did know that the last one had the value we were after, \n",
    "# then we could use the following line of code\n",
    "c = compute_bisection(f, 0, 2)[-1]\n",
    "\n",
    "print(c)"
   ]
  },
  {
   "cell_type": "markdown",
   "metadata": {},
   "source": [
    "**Now let's add some interactivity.** Watch what if you choose `b` (or `a`) such that `f(b)` and `f(a)` have the same sign. But, how do know when that will happen? (*Hint*: refer to the plot.)"
   ]
  },
  {
   "cell_type": "code",
   "execution_count": 13,
   "metadata": {},
   "outputs": [
    {
     "data": {
      "application/vnd.jupyter.widget-view+json": {
       "model_id": "3f74b3c1f3604d5f8738dddb891cef03",
       "version_major": 2,
       "version_minor": 0
      },
      "text/plain": [
       "interactive(children=(FloatSlider(value=0.0, description='a', max=2.0, min=-1.0), FloatSlider(value=2.0, descr…"
      ]
     },
     "metadata": {},
     "output_type": "display_data"
    },
    {
     "data": {
      "text/plain": [
       "<function __main__.compute_bisection(f, a, b, n=10, tol_interval=1e-05, tol_f=1e-08)>"
      ]
     },
     "execution_count": 13,
     "metadata": {},
     "output_type": "execute_result"
    }
   ],
   "source": [
    "interact(compute_bisection, \n",
    "         f = fixed(f),\n",
    "         a = widgets.FloatSlider(value=0, min=-1, max=2, step=0.1), \n",
    "         b = widgets.FloatSlider(value=2, min=0, max=3, step=0.1),\n",
    "         n = widgets.IntSlider(value=10, min=1, max=100, step=1),\n",
    "         tol_interval = fixed(1e-5),\n",
    "         tol_f = fixed(1e-8))"
   ]
  },
  {
   "cell_type": "markdown",
   "metadata": {},
   "source": [
    "**We can easily play with other lambda functions.**\n",
    "\n",
    "***But,*** what is going on with all of the errors as we try different values of `b` in the code below for the lambda function used?"
   ]
  },
  {
   "cell_type": "code",
   "execution_count": 14,
   "metadata": {},
   "outputs": [
    {
     "data": {
      "application/vnd.jupyter.widget-view+json": {
       "model_id": "4f5f9e4137bb4c99af4d0b72c5e6ec71",
       "version_major": 2,
       "version_minor": 0
      },
      "text/plain": [
       "interactive(children=(FloatSlider(value=0.0, description='a', max=2.0, min=-1.0), FloatSlider(value=2.0, descr…"
      ]
     },
     "metadata": {},
     "output_type": "display_data"
    },
    {
     "data": {
      "text/plain": [
       "<function __main__.compute_bisection(f, a, b, n=10, tol_interval=1e-05, tol_f=1e-08)>"
      ]
     },
     "execution_count": 14,
     "metadata": {},
     "output_type": "execute_result"
    }
   ],
   "source": [
    "interact(compute_bisection, \n",
    "         f = fixed(lambda x: np.sin(x**3 - x - 2)),\n",
    "         a = widgets.FloatSlider(value=0, min=-1, max=2, step=0.1), \n",
    "         b = widgets.FloatSlider(value=2, min=0, max=3, step=0.1),\n",
    "         n = widgets.IntSlider(value=10, min=1, max=100, step=1),\n",
    "         tol_interval = fixed(1e-5),\n",
    "         tol_f = fixed(1e-8))"
   ]
  },
  {
   "cell_type": "markdown",
   "metadata": {},
   "source": [
    "**Let's plot the lambda function from the previous code cell to see what is going on.**"
   ]
  },
  {
   "cell_type": "code",
   "execution_count": 15,
   "metadata": {},
   "outputs": [
    {
     "data": {
      "text/plain": [
       "<matplotlib.lines.Line2D at 0x7f4a777700d0>"
      ]
     },
     "execution_count": 15,
     "metadata": {},
     "output_type": "execute_result"
    },
    {
     "data": {
      "image/png": "[encoded data removed]",
      "text/plain": [
       "<Figure size 720x360 with 1 Axes>"
      ]
     },
     "metadata": {
      "needs_background": "light"
     },
     "output_type": "display_data"
    }
   ],
   "source": [
    "f_new = lambda x: np.sin(x**3 - x - 2)\n",
    "\n",
    "x = np.linspace(-1,3,200)\n",
    "\n",
    "plt.figure(figsize=(10,5))\n",
    "plt.plot(x,f_new(x), 'b', linewidth=2) #plot of function f\n",
    "plt.axvline(0, linewidth=1, linestyle=':', c='k') #plot typical y-axis\n",
    "plt.axhline(0, linewidth=1, linestyle=':', c='k') #plot typical x-axis"
   ]
  },
  {
   "cell_type": "markdown",
   "metadata": {},
   "source": [
    "**Let's plot a different function that never crosses the x-axis.**"
   ]
  },
  {
   "cell_type": "code",
   "execution_count": 16,
   "metadata": {},
   "outputs": [
    {
     "data": {
      "text/plain": [
       "<matplotlib.lines.Line2D at 0x7f4a776e26a0>"
      ]
     },
     "execution_count": 16,
     "metadata": {},
     "output_type": "execute_result"
    },
    {
     "data": {
      "image/png": "[encoded data removed]",
      "text/plain": [
       "<Figure size 720x360 with 1 Axes>"
      ]
     },
     "metadata": {
      "needs_background": "light"
     },
     "output_type": "display_data"
    }
   ],
   "source": [
    "f_new = lambda x: x**4 - 2*x**3 + x + 1\n",
    "\n",
    "x = np.linspace(-3,4,200)\n",
    "\n",
    "plt.figure(figsize=(10,5))\n",
    "plt.plot(x,f_new(x), 'b', linewidth=2) #plot of function f\n",
    "plt.axvline(0, linewidth=1, linestyle=':', c='k') #plot typical y-axis\n",
    "plt.axhline(0, linewidth=1, linestyle=':', c='k') #plot typical x-axis"
   ]
  },
  {
   "cell_type": "markdown",
   "metadata": {},
   "source": [
    "**We HOPE to get an error when we try to find a root to the function above.**\n",
    "\n",
    "Remember, `compute_bisection` **is working PROPERLY if it gives us an error in this case.**"
   ]
  },
  {
   "cell_type": "code",
   "execution_count": 17,
   "metadata": {},
   "outputs": [
    {
     "data": {
      "application/vnd.jupyter.widget-view+json": {
       "model_id": "900fb7d371964d20bfe9f56ac04ba4b7",
       "version_major": 2,
       "version_minor": 0
      },
      "text/plain": [
       "interactive(children=(FloatSlider(value=0.0, description='a', max=2.0, min=-1.0), FloatSlider(value=2.0, descr…"
      ]
     },
     "metadata": {},
     "output_type": "display_data"
    },
    {
     "data": {
      "text/plain": [
       "<function __main__.compute_bisection(f, a, b, n=10, tol_interval=1e-05, tol_f=1e-08)>"
      ]
     },
     "execution_count": 17,
     "metadata": {},
     "output_type": "execute_result"
    }
   ],
   "source": [
    "interact(compute_bisection, \n",
    "         f = fixed(f_new),\n",
    "         a = widgets.FloatSlider(value=0, min=-1, max=2, step=0.1), \n",
    "         b = widgets.FloatSlider(value=2, min=0, max=3, step=0.1),\n",
    "         n = widgets.IntSlider(value=10, min=1, max=100, step=1),\n",
    "         tol_interval = fixed(1e-5),\n",
    "         tol_f = fixed(1e-8))"
   ]
  },
  {
   "cell_type": "markdown",
   "metadata": {},
   "source": [
    "***What is the lesson here?*** \n",
    "\n",
    "Plots are *really* useful and we should often do some initial \"grunt\" work on examining the problem we are asked to solve to make sure that we actually set it up correctly. \n",
    "\n",
    "The `compute_bisection` was *not* failing just because it output errors. It was functioning just as it should. We gave it *bad* choices of `a` and `b` as the default values in the widget. Simply looking at the plot would have revealed that to us right away. \n",
    "\n",
    "While we may not always be able to plot a function for many reasons (e.g., it takes too long to evaluate the hundreds to thousands of times necessary to make a reasonable looking plot, the dimension of the input space is simply too high to properly visualize, etc.), **we should always try to visualize the data** associated with a problem *somehow* and in *someway* to orient ourselves properly on the problem.\n",
    "\n",
    "With this in mind, we create a plotting function that *wraps* around the `compute_bisection` algorithm to add some illustration to the process. **Read the comments in the code cell below.**"
   ]
  },
  {
   "cell_type": "code",
   "execution_count": 18,
   "metadata": {},
   "outputs": [],
   "source": [
    "# This cell creates a plotting function that we \n",
    "# then use widgets to interact with\n",
    "\n",
    "def plot_bisection(f, a, b, n, x_min, x_max, grid_pts = 100, show_final_interval = False):\n",
    "    # Compute approximate root with bisec. alg. \n",
    "    (a_n, b_n, c) = compute_bisection(f, a, b, n)\n",
    "    \n",
    "    #############################################################\n",
    "    # I cannot emphasize enough that the whole of the scientific\n",
    "    # computation for approximating the root of f occurs in the \n",
    "    # single line of code above that calls the separate function\n",
    "    # compute_bisection.\n",
    "    #############################################################\n",
    "    \n",
    "    ###############################################################\n",
    "    # Everything below is just to make fancy illustrative plots of \n",
    "    # the results. Read through it carefully. Add/edit comments\n",
    "    # as you do to make sure you understand what each line of code\n",
    "    # is doing, but keep in mind that all the scientific computation\n",
    "    # was already done above. We often put significant effort into\n",
    "    # visualizing results so that we can properly \"tell the story\"\n",
    "    # of the solution.\n",
    "    ################################################################\n",
    "    fig = plt.figure(figsize=(10,5))\n",
    "    x = np.linspace(x_min, x_max, grid_pts)\n",
    "    \n",
    "    # First, plot function and axes\n",
    "    plt.plot(x,f(x),'b',linewidth=2) #plot of function f\n",
    "    plt.axvline(0, linewidth=1, linestyle=':', c='k') #plot typical y-axis\n",
    "    plt.axhline(0, linewidth=1, linestyle=':', c='k') #plot typical x-axis\n",
    "    \n",
    "    # Title information\n",
    "    title_str = 'Approx. root is ' + '{:.6}'.format(c) + '. Use this to update interval [a,b].'\n",
    "    plt.title(title_str, fontsize=14)\n",
    "    \n",
    "    # Create a dict (dictionary) of properties of items used in annotations\n",
    "    bbox_pt = dict(boxstyle='round', fc='0.9')\n",
    "    bbox_text = dict(boxstyle=\"round\", fc='b', color='r', alpha=0.25, linewidth=2) \n",
    "    arrowprops = dict(arrowstyle='->', facecolor='black', alpha=0.5, linewidth=2) \n",
    "    y_min, y_max = plt.ylim() #get min and max y-values from plot to offset annotations\n",
    "    y_range = y_max - y_min\n",
    "    x_range = x_max - x_min\n",
    "    \n",
    "    # Now plot relevant points and annotate\n",
    "    \n",
    "    # First annotate parts of the plot involving the points a and b\n",
    "    if show_final_interval:\n",
    "        plt.scatter(a_n,f(a_n),s=70,c='k')\n",
    "        \n",
    "        plt.annotate(r'$(a_n,f(a_n))$', fontsize=12, xy=(a_n,f(a_n)), xytext=(a_n+0.2*x_range,f(a_n)-0.35*y_range),\n",
    "                 bbox=bbox_pt, arrowprops=arrowprops)\n",
    "        \n",
    "        plt.scatter(b_n,f(b_n),s=70,c='k')\n",
    "        \n",
    "        plt.annotate(r'$(b_n,f(b_n))$', fontsize=12, xy=(b_n,f(b_n)), xytext=(b_n+0.2*x_range,f(b_n)-0.35*y_range),\n",
    "                 bbox=bbox_pt, arrowprops=arrowprops)\n",
    "        \n",
    "    else:\n",
    "        plt.scatter(a,f(a),s=70,c='k')\n",
    "        \n",
    "        plt.annotate(r'$(a,f(a))$', fontsize=12, xy=(a,f(a)), xytext=(a+0.1*x_range,f(a)-0.25*y_range),\n",
    "                     bbox=bbox_pt, arrowprops=arrowprops)\n",
    "        \n",
    "        plt.scatter(b,f(b),s=70,c='k')\n",
    "        \n",
    "        plt.annotate(r'$(b,f(b))$', fontsize=12, xy=(b,f(b)), xytext=(b+0.1*x_range,f(b)-0.25*y_range),\n",
    "                 bbox=bbox_pt, arrowprops=arrowprops)\n",
    "\n",
    "    # Now annotate the part of the plot involving the approximate root c    \n",
    "    plt.scatter(c,f(c),s=70,c='r')\n",
    "    \n",
    "    plt.annotate('Approx. root\\nfrom ' + str(n) + '\\nstep(s) of bisec.\\nalgorithm', fontsize=12, xy=(c,f(c)), \n",
    "                     xytext=(c-0.2*x_range,f(c)+0.25*y_range), color='w',\n",
    "                     bbox = bbox_text, arrowprops=arrowprops)\n",
    "    \n",
    "    plt.annotate(r'$(c,f(c))$', fontsize=12, xy=(c,f(c)), xytext=(c+0.1*x_range,f(c)-0.25*y_range),\n",
    "                 bbox=bbox_pt, arrowprops=arrowprops)\n",
    "  "
   ]
  },
  {
   "cell_type": "code",
   "execution_count": 19,
   "metadata": {},
   "outputs": [
    {
     "name": "stdout",
     "output_type": "stream",
     "text": [
      "Flushing output cache (7 entries)\n"
     ]
    },
    {
     "data": {
      "application/vnd.jupyter.widget-view+json": {
       "model_id": "19667884274740df887699a4661753ec",
       "version_major": 2,
       "version_minor": 0
      },
      "text/plain": [
       "interactive(children=(FloatSlider(value=0.5, description='a', max=1.52, min=-1.0, step=0.01), FloatSlider(valu…"
      ]
     },
     "metadata": {},
     "output_type": "display_data"
    },
    {
     "data": {
      "text/plain": [
       "<function __main__.plot_bisection(f, a, b, n, x_min, x_max, grid_pts=100, show_final_interval=False)>"
      ]
     },
     "execution_count": 19,
     "metadata": {},
     "output_type": "execute_result"
    }
   ],
   "source": [
    "# This magic command below with help \"flush\" outputs to keep memory sizes small if this cell is repeatedly executed\n",
    "%reset -f out\n",
    "\n",
    "interact(plot_bisection, \n",
    "         f = widgets.fixed(lambda x: x**3-x-2),\n",
    "         a = widgets.FloatSlider(value=0.5, min=-1, max=1.52, step=0.01),\n",
    "         b = widgets.FloatSlider(value=1.75, min=1.53, max=2, step=0.01),\n",
    "         n = widgets.IntSlider(value=1, min=1, max=20),\n",
    "         x_min = widgets.fixed(-1),\n",
    "         x_max = widgets.fixed(2),\n",
    "         grid_pts = widgets.fixed(100),\n",
    "         show_final_interval = widgets.Checkbox(False))"
   ]
  },
  {
   "cell_type": "code",
   "execution_count": 20,
   "metadata": {},
   "outputs": [
    {
     "name": "stdout",
     "output_type": "stream",
     "text": [
      "Flushing output cache (1 entries)\n"
     ]
    },
    {
     "data": {
      "application/vnd.jupyter.widget-view+json": {
       "model_id": "b0be4122206947dbb15f7a8143599eb9",
       "version_major": 2,
       "version_minor": 0
      },
      "text/plain": [
       "interactive(children=(FloatSlider(value=0.5, description='a', max=1.52, min=-1.0, step=0.01), FloatSlider(valu…"
      ]
     },
     "metadata": {},
     "output_type": "display_data"
    },
    {
     "data": {
      "text/plain": [
       "<function __main__.plot_bisection(f, a, b, n, x_min, x_max, grid_pts=100, show_final_interval=False)>"
      ]
     },
     "execution_count": 20,
     "metadata": {},
     "output_type": "execute_result"
    }
   ],
   "source": [
    "%reset -f out\n",
    "\n",
    "interact(plot_bisection, \n",
    "         f = widgets.fixed(lambda x: np.sin(x**3-x-2)),\n",
    "         a = widgets.FloatSlider(value=0.5, min=-1, max=1.52, step=0.01),\n",
    "         b = widgets.FloatSlider(value=1.75, min=1.53, max=2, step=0.01),\n",
    "         n = widgets.IntSlider(value=1, min=1, max=20),\n",
    "         x_min = widgets.fixed(0),\n",
    "         x_max = widgets.fixed(3),\n",
    "         grid_pts = widgets.fixed(1000),\n",
    "         show_final_interval = widgets.Checkbox(False))"
   ]
  },
  {
   "cell_type": "markdown",
   "metadata": {},
   "source": [
    "<hr style=\"border:5px solid cyan\"> </hr>\n",
    "\n",
    "## <span style='background:rgba(0,255,255, 0.5); color:black'>Activity: Playing with the bisection algorithm</span><a id='activity-bisection'>\n",
    "\n",
    "**Note 1**: You may want to create additional code cells below as you work your way through this activity.\n",
    "    \n",
    "**Note 2**: You may need to adjust the `a`, `b`, and parameters used for plotting (e.g., `xmin` and `xmax`) in order to capture the root for the functions you are playing with. Suppose the root is $100$, then you need to setup the problem and any associated plots around this value to get things to work properly. \n",
    "    \n",
    "**Note 3**: It is okay to show examples that produce errors. This is in fact *encouraged* as long as you explain the errors. But, you should also show results that did not produce errors.\n",
    "\n",
    "**In this activity, you should do the following (by the way, \"some\" always means at least two):**    \n",
    "    \n",
    "- Test the `plot_bisection` function on **some** `lambda` functions of your choosing **with and without widgets** for interactivity.\n",
    "<br><br>\n",
    "\n",
    "- Notice that `plot_bisection` does not have `tol_interval` or `tol_f` as parameters. When it calls `compute_bisection`, it is simply relying upon default values for these parameters. \n",
    "    \n",
    "  **Create an `improved_plot_bisection` function that allows for all of the parameters in the `compute_bisection` function to be set by the user.**\n",
    "<br><br>\n",
    "\n",
    "- Test your `improved_plot_bisection` function on **some** `lambda` functions of your choosing both **with and without widgets** where you show results for different choices of these new parameters. \n",
    "    \n",
    "   **You should use a FloatLogSlider for the tolerance parameters** since we often vary such tolerance parameters by orders of magnitude when we are testing out an algorithm."
   ]
  },
  {
   "cell_type": "code",
   "execution_count": null,
   "metadata": {},
   "outputs": [],
   "source": []
  },
  {
   "cell_type": "code",
   "execution_count": null,
   "metadata": {},
   "outputs": [],
   "source": []
  },
  {
   "cell_type": "code",
   "execution_count": null,
   "metadata": {},
   "outputs": [],
   "source": []
  },
  {
   "cell_type": "code",
   "execution_count": null,
   "metadata": {
    "scrolled": true
   },
   "outputs": [],
   "source": []
  },
  {
   "cell_type": "code",
   "execution_count": null,
   "metadata": {},
   "outputs": [],
   "source": []
  },
  {
   "cell_type": "markdown",
   "metadata": {},
   "source": [
    "<hr style=\"border:5px solid cyan\"> </hr>"
   ]
  },
  {
   "cell_type": "markdown",
   "metadata": {},
   "source": [
    "## A bisection variant (https://en.wikipedia.org/wiki/Regula_falsi)\n",
    "\n",
    "The basic idea of *regula falsi* (i.e., the false position method) is quite simple. It follows 3 steps starting with an initial guess of an interval $[a,b]$ that may contain a root. \n",
    "\n",
    "1. Make a straight line between $(a,f(a))$ and $(b,f(b))$. \n",
    "\n",
    "2. Compute the $x$-intercept of this line and call that point $c$. \n",
    "\n",
    "3. Compute $f(c)$ and compare the sign to $f(a)$ (or $f(b)$) and update the interval to either $[a,c]$ or $[c,b]$ depending on the result of this comparison.\n",
    "\n",
    "Thus, this is just a variant of the bisection algorithm. The fundamental difference is that instead of using the midpoint of the interval $[a,b]$ as the guess for the root $c$, we use *interpolation* to approximate the function with a simple function (a line) for which it is easy to determine the root. The exact root of this approximating function is then an approximate root of the exact function."
   ]
  },
  {
   "cell_type": "markdown",
   "metadata": {},
   "source": [
    "<hr style=\"border:5px solid cyan\"> </hr>\n",
    "\n",
    "## <span style='background:rgba(0,255,255, 0.5); color:black'>Activity: Implementing a bisection variant</span><a id='activity-bisection-variant'>\n",
    "\n",
    "**The same three notes as the previous activity also apply here.**\n",
    "\n",
    "- Create a function `compute_false` that performs the false position method. **Make sure it tests that the conditions are appropriate for running this algorithm.** While not required, it is highly suggested that you also put in a useful docstring and doctests for this function. \n",
    "    \n",
    "    *Hint*: You can do this by copying/pasting the `compute_bisection` function below, editing its name, and editing the single line of code involved with computing `c` (the wiki article tells you exactly what the value of `c` should be in the false position algorithm). You should also edit some of the code comments and the docstring.\n",
    "<br>\n",
    "\n",
    "- Test your `compute_false` code on some `lambda` functions with and without widgets. \n",
    "<br>\n",
    "\n",
    "- Create a new function `plot_false` based on the `plot_bisection` function above to visualize the output of the false position method using widgets. \n",
    "    \n",
    "  If you want to get *really* fancy, then try to plot the \"last\" line used to approximate the root. This is *not* required, but it is also not that difficult. You may want to try that after viewing the secant method plots in the next part of this notebook.\n",
    "<br>\n",
    "\n",
    "- Visualize results with some `lambda` functions with and without widgets. \n",
    "\n",
    "\n"
   ]
  },
  {
   "cell_type": "code",
   "execution_count": null,
   "metadata": {},
   "outputs": [],
   "source": []
  },
  {
   "cell_type": "code",
   "execution_count": null,
   "metadata": {},
   "outputs": [],
   "source": []
  },
  {
   "cell_type": "code",
   "execution_count": null,
   "metadata": {},
   "outputs": [],
   "source": []
  },
  {
   "cell_type": "code",
   "execution_count": null,
   "metadata": {},
   "outputs": [],
   "source": []
  },
  {
   "cell_type": "code",
   "execution_count": null,
   "metadata": {},
   "outputs": [],
   "source": []
  },
  {
   "cell_type": "code",
   "execution_count": null,
   "metadata": {},
   "outputs": [],
   "source": []
  },
  {
   "cell_type": "markdown",
   "metadata": {},
   "source": [
    "<hr style=\"border:5px solid cyan\"> </hr>"
   ]
  },
  {
   "cell_type": "markdown",
   "metadata": {},
   "source": [
    "<hr style=\"border:5px solid cyan\"> </hr>\n",
    "\n",
    "## <span style='background:rgba(0,255,255, 0.5); color:black'>Activity: Comparing bracketing methods</span><a id='activity-bracketing-compare'>\n",
    "\n",
    "In computational and data science, we often must *choose* between implementing competing algorithms that solve the same problem in different ways. An important lesson is that if two or more algorithms exist to solve a problem, then there will be cases where one is preferable to the other. The question then becomes, which should you apply for a particular problem?   \n",
    "    \n",
    "- Use a mixture of markdown and code cells below to compare the bisection algorithm and false position method. \n",
    "\n",
    "  You may find the wiki articles useful to reference here as well as doing some searching on Google (or your favorite search engine). \n",
    "\n",
    "  Describe and implement problems where one method seemingly does better than another (e.g., what happens if the function is approximately linear near its root? what happens if the function is very \"flat\" near its root?)? Can you explain why that is happening? When would you consider using one method over another? What questions about these methods and comparing them seem worth exploring to you? This is intentionally left as open as possible for you to pursue what you think are intriguing questions to pose, research, and answer."
   ]
  },
  {
   "cell_type": "code",
   "execution_count": null,
   "metadata": {},
   "outputs": [],
   "source": []
  },
  {
   "cell_type": "markdown",
   "metadata": {},
   "source": []
  },
  {
   "cell_type": "markdown",
   "metadata": {},
   "source": [
    "<hr style=\"border:5px solid cyan\"> </hr>"
   ]
  },
  {
   "cell_type": "markdown",
   "metadata": {},
   "source": [
    "## Part (a)(iii) \"Iterative\" methods <a id='Iterative'>\n",
    "---\n",
    "    \n",
    "<span style='background:rgba(255,255,0, 0.25); color:black'> Run the code cell below and click the \"play\" button to see the third recorded lecture associated with this notebook.</span>"
   ]
  },
  {
   "cell_type": "code",
   "execution_count": 21,
   "metadata": {},
   "outputs": [
    {
     "data": {
      "image/jpeg": "[encoded data removed]",
      "text/html": [
       "\n",
       "        <iframe\n",
       "            width=\"800\"\n",
       "            height=\"300\"\n",
       "            src=\"https://www.youtube.com/embed/F-RLSHmC69o\"\n",
       "            frameborder=\"0\"\n",
       "            allowfullscreen\n",
       "        ></iframe>\n",
       "        "
      ],
      "text/plain": [
       "<IPython.lib.display.YouTubeVideo at 0x7f4a77698a60>"
      ]
     },
     "execution_count": 21,
     "metadata": {},
     "output_type": "execute_result"
    }
   ],
   "source": [
    "# 1. Running this cell with embed the short recorded lecture associated with this part of the notebook\n",
    "# 2. Press on the \"play\" button to start the video.\n",
    "\n",
    "from IPython.display import YouTubeVideo\n",
    "\n",
    "YouTubeVideo('F-RLSHmC69o', width=800, height=300)"
   ]
  },
  {
   "cell_type": "markdown",
   "metadata": {},
   "source": [
    "Iterative methods in root-finding problems generally refer to approaches that require an *initial guess of the root* instead of an initial interval/set containing the root. \n",
    "These methods generally rely on defining an *auxiliary* function (i.e., an approximation to the function) that is constructed at the current guess in order to form the next \"best\" guess at the root of the true function. \n",
    "\n",
    "\n",
    "I imagine the incredulity you must feel. After all, weren't the above methods iterative?\n",
    "Well, yes they were in a very technical sense that they implement loops. \n",
    "In fact, the false-point method somewhat hints at the basic idea of these methods and looks similar to the *secant* method.\n",
    "The difference is that bracketing methods also require a description of a set that contains the root you are looking for, which is significantly more information to specify at the start of a problem than just a single initial guess at the root.\n",
    "\n",
    "One of the things you will need to consider, and which the instructions for the previous activity above hints at, is why some methods may be preferred to others in various scenarios. "
   ]
  },
  {
   "cell_type": "markdown",
   "metadata": {},
   "source": [
    "## The secant method (https://en.wikipedia.org/wiki/Secant_method)\n",
    "\n",
    "This is perhaps best explained via an interactive demo and playing the video above. \n",
    "\n",
    "The wiki article actually includes Python code on this simple algorithm, which we copy below before the demo.\n",
    "\n",
    "<span style='background:rgba(255,0,255, 0.25); color:black'> ***Good questions to keep in mind:*** <span>\n",
    "\n",
    "- Can you see where this code can immediately have some difficulty? \n",
    "<br>\n",
    "\n",
    "- What would be a good initial check to ensure that the code does not \"crash\"? \n",
    "<br>\n",
    "\n",
    "    - Should a similar check be done at the end of each iteration? "
   ]
  },
  {
   "cell_type": "code",
   "execution_count": 22,
   "metadata": {},
   "outputs": [],
   "source": [
    "# Copied/edited from the wiki article\n",
    "def secant_method(f, x0, x1, n):\n",
    "    \"\"\"Return the root calculated using the secant method.\"\"\"\n",
    "    for i in range(n):\n",
    "        x2 = x1 - f(x1) * (x1 - x0) / float(f(x1) - f(x0))\n",
    "        x0, x1 = x1, x2\n",
    "    return x2"
   ]
  },
  {
   "cell_type": "code",
   "execution_count": 23,
   "metadata": {
    "code_folding": []
   },
   "outputs": [],
   "source": [
    "# Copied and edited from the wiki article for demo purposes.\n",
    "# We keep track of the iterative results (approx. roots and\n",
    "# the function values of these approx. roots) by appending\n",
    "# to a list so that we can (1) examine all the results, and \n",
    "# (2) create some fancy plots.\n",
    "def secant_method_4_demo(f, x0, x1, n):\n",
    "    \"\"\"Return the root calculated using the secant method.\"\"\"\n",
    "    xs = [x0, x1]\n",
    "    fs = [f(x0), f(x1)]\n",
    "    for i in range(n):\n",
    "        x2 = x1 - f(x1) * (x1 - x0) / float(f(x1) - f(x0))\n",
    "        x0, x1 = x1, x2\n",
    "        xs.append(x2)\n",
    "        fs.append(f(x2))\n",
    "    return xs, fs"
   ]
  },
  {
   "cell_type": "markdown",
   "metadata": {},
   "source": [
    "**The most difficult thing to understand in the code below is how the `n` secant lines are plotted. Students should try to comment those lines and make sense of how that is working.**"
   ]
  },
  {
   "cell_type": "code",
   "execution_count": 24,
   "metadata": {},
   "outputs": [],
   "source": [
    "def plot_secant(f, x0, x1, n,  x_min, x_max, grid_pts = 100):\n",
    "    # Perform the secant method\n",
    "    xs, fs = secant_method_4_demo(f, x0, x1, n)\n",
    "    \n",
    "    ############################################\n",
    "    # Everything below this line involves making plots of the results \n",
    "    ############################################\n",
    "    fig = plt.figure(figsize=(15,7.5))\n",
    "    x = np.linspace(x_min,x_max,grid_pts)\n",
    "    \n",
    "    # Plot function and axes\n",
    "    plt.plot(x,f(x),'b',linewidth=2) #plot of function f\n",
    "    plt.axvline(0, linewidth=1, linestyle=':', c='k') #plot typical y-axis\n",
    "    plt.axhline(0, linewidth=1, linestyle=':', c='k') #plot typical x-axis\n",
    "    \n",
    "    # Title information\n",
    "    title_str = 'The n=' + str(n) + r' iter. of the sec. mtd. gives $f(x_{n+1})\\approx$' + '{:.2e}'.format(fs[-1])\n",
    "    plt.title(title_str, fontsize=18)\n",
    "    \n",
    "    # Plot all the n secant lines\n",
    "    for i in range(n):\n",
    "        min_idx = np.argmin(xs[i:i+3])\n",
    "        max_idx = np.argmax(xs[i:i+3])\n",
    "        if (min_idx != 2) and (max_idx != 2):\n",
    "            plt.plot([xs[i:i+3][min_idx], xs[i:i+3][max_idx]], \n",
    "                     [fs[i:i+3][min_idx], fs[i:i+3][max_idx]],\n",
    "                     'k', linewidth=1, alpha=0.5)\n",
    "        elif min_idx == 2:\n",
    "            plt.plot([xs[i:i+3][min_idx], xs[i:i+3][max_idx]], \n",
    "                     [0, fs[i:i+3][max_idx]],\n",
    "                     'k', linewidth=1, alpha=0.5)\n",
    "        else:\n",
    "            plt.plot([xs[i:i+3][min_idx], xs[i:i+3][max_idx]], \n",
    "                     [fs[i:i+3][min_idx], 0],\n",
    "                     'k', linewidth=1, alpha=0.5)\n",
    "            \n",
    "    # Make clear what the final interval is        \n",
    "    plt.plot([xs[i], xs[i]], [0, fs[i]], 'r', linewidth=1, alpha=0.5)\n",
    "    plt.plot([xs[i+1], xs[i+1]], [0, fs[i+1]], 'r', linewidth=1, alpha=0.5)    \n",
    "    plt.scatter(np.array(xs),0*np.array(xs))\n",
    "    \n",
    "    # Annotate relevant points in the plot\n",
    "    bbox = dict(boxstyle=\"round\", fc='b', color='r', alpha=0.25, linewidth=2)\n",
    "    y_min, y_max = plt.ylim() #get min and max y-values from plot to offset annotations\n",
    "    y_range = y_max - y_min\n",
    "    for i in range(n+2):\n",
    "        if fs[i] < 0:\n",
    "            plt.annotate(r'$x_' + str(i) + '$', fontsize=12, xy=(xs[i],y_range*0.05), color='w', bbox = bbox)\n",
    "        else:\n",
    "            plt.annotate(r'$x_' + str(i) + '$', fontsize=12, xy=(xs[i],-y_range*0.05), color='w', bbox = bbox)"
   ]
  },
  {
   "cell_type": "code",
   "execution_count": 25,
   "metadata": {},
   "outputs": [
    {
     "data": {
      "application/vnd.jupyter.widget-view+json": {
       "model_id": "f0cf050b7ddb4ec8b5ce04bf93348880",
       "version_major": 2,
       "version_minor": 0
      },
      "text/plain": [
       "interactive(children=(FloatSlider(value=0.5, description='x0', max=2.5, step=0.01), FloatSlider(value=2.0, des…"
      ]
     },
     "metadata": {},
     "output_type": "display_data"
    },
    {
     "data": {
      "text/plain": [
       "<function __main__.plot_secant(f, x0, x1, n, x_min, x_max, grid_pts=100)>"
      ]
     },
     "execution_count": 25,
     "metadata": {},
     "output_type": "execute_result"
    }
   ],
   "source": [
    "interact(plot_secant,\n",
    "         f = widgets.fixed(lambda x: x**3-x-2),\n",
    "         x0 = widgets.FloatSlider(value=0.5, min=0, max=2.5, step=0.01),\n",
    "         x1 = widgets.FloatSlider(value=2, min=0, max=2.5, step=0.01),\n",
    "         n = widgets.IntSlider(value=1, min=1, max=10),\n",
    "         x_min = widgets.fixed(0),\n",
    "         x_max = widgets.fixed(2.5),\n",
    "         grid_pts = widgets.fixed(1000))"
   ]
  },
  {
   "cell_type": "markdown",
   "metadata": {},
   "source": [
    "<hr style=\"border:5px solid cyan\"> </hr>\n",
    "\n",
    "## <span style='background:rgba(0,255,255, 0.5); color:black'>Activity: Improving the secant algorithm</span><a id='activity-secant'>\n",
    "\n",
    "The same notes as the first two activities apply here.\n",
    "\n",
    "- Create a `my_secant` function that is *improved* from what is implemented in `secant_method_4_demo` in the sense that it checks for and avoids any potential errors (e.g., division by zero?) that may occur both before any computation takes place and also during runtime. \n",
    "<br>\n",
    "\n",
    "- Create a `my_plot_secant` based on the `plot_secant` above that utilizes this `my_secant` instead of `secant_method_4_demo`.\n",
    "<br>\n",
    "    \n",
    "- Test your code on some `lambda` functions and using the interact widget on your `my_plot_secant` function."
   ]
  },
  {
   "cell_type": "code",
   "execution_count": null,
   "metadata": {},
   "outputs": [],
   "source": []
  },
  {
   "cell_type": "code",
   "execution_count": null,
   "metadata": {},
   "outputs": [],
   "source": []
  },
  {
   "cell_type": "code",
   "execution_count": null,
   "metadata": {},
   "outputs": [],
   "source": []
  },
  {
   "cell_type": "code",
   "execution_count": null,
   "metadata": {},
   "outputs": [],
   "source": []
  },
  {
   "cell_type": "code",
   "execution_count": null,
   "metadata": {},
   "outputs": [],
   "source": []
  },
  {
   "cell_type": "markdown",
   "metadata": {},
   "source": [
    "<hr style=\"border:5px solid cyan\"> </hr>"
   ]
  },
  {
   "cell_type": "markdown",
   "metadata": {},
   "source": [
    "<hr style=\"border:5px solid cyan\"> </hr>\n",
    "\n",
    "## <span style='background:rgba(0,255,255, 0.5); color:black'>Activity: Comparing secant to false position</span><a id='activity-linear-methods-compare'>\n",
    "\n",
    "- Use a mixture of code and markdown cells to compare the secant and false position methods across a variety of `lambda` functions. \n",
    "\n",
    "  You may find the wiki articles useful to reference here as well as doing some searching on Google or your favorite search engine. \n",
    "\n",
    "  Can you describe and implement problems where one method seemingly does better than another? Can you explain why that is happening? When would you consider using one method over another? What questions about these methods and comparing them seem worth exploring to you? This is intentionally left as open as possible for you to pursue what you think are intriguing questions to pose, research, and answer."
   ]
  },
  {
   "cell_type": "code",
   "execution_count": null,
   "metadata": {},
   "outputs": [],
   "source": []
  },
  {
   "cell_type": "markdown",
   "metadata": {},
   "source": []
  },
  {
   "cell_type": "markdown",
   "metadata": {},
   "source": [
    "<hr style=\"border:5px solid cyan\"> </hr>"
   ]
  },
  {
   "cell_type": "markdown",
   "metadata": {},
   "source": [
    "<hr style=\"border:5px solid cyan\"> </hr>\n",
    "\n",
    "## <span style='background:rgba(0,255,255, 0.5); color:black'>Activity: Summary</span> <a id='activity-summary'/>\n",
    "\n",
    "Summarize some of the key takeaways/points from this notebook in a list below and prepare a few code examples related to these takeaways/points in the code cells below. You need to have at least one example for each of your summary points and you need at least three summary points.\n",
    "\n",
    "In this notebook, we have seen the following:\n",
    "\n",
    "- [Your summary point 1 goes here]\n",
    "\n"
   ]
  },
  {
   "cell_type": "code",
   "execution_count": null,
   "metadata": {},
   "outputs": [],
   "source": []
  },
  {
   "cell_type": "markdown",
   "metadata": {},
   "source": [
    "\n",
    "- [Your summary point 2 goes here]\n",
    "\n"
   ]
  },
  {
   "cell_type": "code",
   "execution_count": null,
   "metadata": {},
   "outputs": [],
   "source": []
  },
  {
   "cell_type": "markdown",
   "metadata": {},
   "source": [
    "\n",
    "- [Your summary point 3 goes here]"
   ]
  },
  {
   "cell_type": "code",
   "execution_count": null,
   "metadata": {},
   "outputs": [],
   "source": []
  },
  {
   "cell_type": "markdown",
   "metadata": {},
   "source": [
    "<hr style=\"border:5px solid cyan\"> </hr>"
   ]
  },
  {
   "cell_type": "markdown",
   "metadata": {},
   "source": [
    "### <a href='#Contents'>Click here to return to Notebook Contents</a>"
   ]
  }
 ],
 "metadata": {
  "anaconda-cloud": {},
  "kernelspec": {
   "display_name": "Python 3",
   "language": "python",
   "name": "python3"
  },
  "language_info": {
   "codemirror_mode": {
    "name": "ipython",
    "version": 3
   },
   "file_extension": ".py",
   "mimetype": "text/x-python",
   "name": "python",
   "nbconvert_exporter": "python",
   "pygments_lexer": "ipython3",
   "version": "3.8.6"
  }
 },
 "nbformat": 4,
 "nbformat_minor": 4
}
