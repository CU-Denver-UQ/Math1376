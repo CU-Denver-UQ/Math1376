{
 "cells": [
  {
   "cell_type": "markdown",
   "metadata": {},
   "source": [
    "# Math  1376: Programming for Data Science\n",
    "---\n",
    "\n",
    "## Assignment 04 (part a): Root finding applications (due by 11:59 p.m. Friday of week 7 of class)\n",
    "---"
   ]
  },
  {
   "cell_type": "code",
   "execution_count": null,
   "metadata": {},
   "outputs": [],
   "source": [
    "import numpy as np\n",
    "import matplotlib.pyplot as plt\n",
    "%matplotlib inline"
   ]
  },
  {
   "cell_type": "markdown",
   "metadata": {},
   "source": [
    "## A brief discussion on roots and optimization\n",
    "---\n",
    "\n",
    "Root-problems naturally arise in optimization of *smooth* phenomena.\n",
    "\n",
    "Before we discuss how this happens, we address some terminology. What does *smooth* mean? For the purposes of this discussion, it means the function has as many *derivatives* as we require. What is a *derivative*? It is a concept from calculus, but here you can just think of it in very physical terms: the derivative of position as a function of time is velocity, the derivative of velocity as a function of time is acceleration, etc. (is there a physically meaningful derivative of acceleration? Yes! It is called the *jerk*, and I do not mean in the context \"This lying jerk said we didn't need to know calculus!\").\n",
    "\n",
    "<span style='background:rgba(255,0,255, 0.25); color:black'> ***Some motivating examples:*** <span>\n",
    "\n",
    "- Suppose a function $h(t)$ describes the *height* of a launched projectile (e.g., a ball, missile, satellite, etc.) and we wish to know the times $t$ over some range of times $[t_0,t_f]$ when the projectile reaches its maximum and minimum heights. Let $f(t)$ denote the first derivative of $h(t)$. Then, the solutions to $f(t)=0$ (i.e., the roots of $f(t)$) give the potential times of maximum/minimum heights. We can then evaluate $h$ at all the roots of $f$ to determine what the heights are at these *critical* values. \n",
    "<br>\n",
    "\n",
    "- Suppose a function $I(t)$ describes the number of people infected with a virus at any given time $t$. Knowing when the infected number \"spikes\" (produces a value that is maximum relative to other nearby values in time) is useful for guiding public healthy policy and direction of resources. Like the example above, this requires knowing when the derivative of $I(t)$ is zero. \n",
    "\n",
    "<span style='background:rgba(255,0,255, 0.25); color:black'> ***Do we need derivatives?*** <span>\n",
    "    \n",
    "No! We can use estimates of derivatives instead. You may recall that we developed a Python module `differences.py` in our third content module. \n",
    "We will use that instead!"
   ]
  },
  {
   "cell_type": "markdown",
   "metadata": {},
   "source": [
    "## Problem 1: Minimize your cost to maximize your profits\n",
    "---\n",
    "\n",
    "You just discovered that you are the world's best pasta sauce maker.\n",
    "You should profit on this discovery. \n",
    "People love your sauce so much that they want to buy it a liter at a time.\n",
    "A liter is 1000 cm$^3$. \n",
    "That is a lot of sauce!\n",
    "You can almost taste the profits.\n",
    "\n",
    "There is only one problem, you need to find liter sized glass containers for your sauce.\n",
    "You talk with your [copacker](https://en.wikipedia.org/wiki/Contract_packager#:~:text=A%20contract%20packager%2C%20or%20copacker,household%20products%2C%20and%20industrial%20products.), and they cannot find a distributor of glass containers that makes the quality and quantity of liter sized containers you need.\n",
    "But, your copacker has a suggestion: we can design and make our own containers!\n",
    "This is a great idea!\n",
    "\n",
    "Your objective is to design a liter sized glass container that minimizes the cost of production and thus maximizes your profits!\n",
    "\n",
    "However, there are some constraints. \n",
    "\n",
    "This is a glass container! It can NOT have edges or corners!\n",
    "\n",
    "The shape required is a [right-circular cylinder](https://en.wikipedia.org/wiki/Cylinder) (we will ignore the slight curvature that you always see near the bottom/top of the container for simplicity) with a solid glass bottom (otherwise the sauce will not stay in the container) and an open top (where the sauce is poured into the container during production before a lid is screwed on to secure the contents). \n",
    "\n",
    "This means that you have to determine the radius $r$ of the circular base and the height $h$ of the container. \n",
    "\n",
    "Assume that the thickness of the glass is the same for all shapes of containers so that the cost of the commercial-grade raw materials used to make any glass container can be expressed in terms of the surface area of the cylinder. \n",
    "Your objective is then clear: design a 1000 cm$^3$ container with minimal surface area.\n",
    "\n",
    "The surface area of a container you specify with base radius $r$ and height $h$ is given by\n",
    "$$\n",
    " \\large   S = \\pi r^2 + 2\\pi r h,\n",
    "$$\n",
    "while the volume is given by\n",
    "$$\n",
    "   \\large V = \\pi r^2 h.\n",
    "$$\n",
    "\n",
    "Since the volume needs to be 1000 cm$^3$, the (constrained) optimization problem is summarized as\n",
    "$$\n",
    "\\large    \\begin{array}{c} \n",
    "        \\text{minimize  } S=\\pi r^2 + 2\\pi rh \\\\\n",
    "        \\text{subject to  } 1000 = \\pi r^2h.\n",
    "    \\end{array}\n",
    "$$\n",
    "\n",
    "Using the constraint, we have that $h=\\frac{1000}{\\pi r^2}$, so we can substitute this into the surface area equation to simplify this problem to the following\n",
    "$$\n",
    "\\large \\text{minimize } S=\\pi r^2 + \\frac{2000}{r}.\n",
    "$$\n",
    "\n",
    "The only \"obvious\" constraint now is that $r>0$ (the circular base has to have a positive radius). Otherwise, all positive values of $r$ are now \"fair game\" in the optimal design of the container. Once $r$ is determined, we can use $h=\\frac{1000}{\\pi r^2}$ to determine $h$.\n",
    "\n",
    "To two decimal places (assuming that our machines can only be set to tolerances of $.01$ cm), the value of $r$ that minimizes the surface area is $6.83$ cm.\n",
    "We use what we have learned in the 04-Lecture-part-a notebook as well as previous notebooks to arrive at this answer.\n",
    "\n",
    "---"
   ]
  },
  {
   "cell_type": "markdown",
   "metadata": {},
   "source": [
    "### Problem 1(a): Developing intuition about this problem\n",
    "---\n",
    "\n",
    "It is always good to build some intuition about a problem. We do that here.\n",
    "\n",
    "<span style='background:rgba(255,255,0, 0.25); color:black'> Add a docstring, doctest, and comments to the function `surfArea` shown in the code cell below to explain what is going on.</span>"
   ]
  },
  {
   "cell_type": "code",
   "execution_count": null,
   "metadata": {},
   "outputs": [],
   "source": [
    "# Add comments to this\n",
    "def surfArea(r):\n",
    "    \n",
    "    if np.any(r <= 0):\n",
    "        raise ValueError('The circular base requires r>0')\n",
    "    \n",
    "    S = np.pi*r**2 + 2000/r\n",
    "    \n",
    "    return S"
   ]
  },
  {
   "cell_type": "markdown",
   "metadata": {},
   "source": [
    "<span style='background:rgba(255,255,0, 0.25); color:black'> Add some comments to the code cells below to explain what is going on any any Markdown cells you may find useful to contextualize the results.</span>"
   ]
  },
  {
   "cell_type": "code",
   "execution_count": null,
   "metadata": {},
   "outputs": [],
   "source": [
    "r = np.linspace(0, 40, 100)\n",
    "\n",
    "plt.figure(figsize=(7,7))\n",
    "plt.plot(r[1:],surfArea(r[1:]))\n",
    "plt.title('Surf. Area of 1 L container vs. base radius', fontsize=16)\n",
    "plt.ylabel('Surf. Area [cm$^2$]', fontsize=14)\n",
    "plt.xlabel('Radius [cm] of base', fontsize=14)"
   ]
  },
  {
   "cell_type": "code",
   "execution_count": null,
   "metadata": {},
   "outputs": [],
   "source": [
    "import differences as diff"
   ]
  },
  {
   "cell_type": "code",
   "execution_count": null,
   "metadata": {},
   "outputs": [],
   "source": [
    "fig, ax1 = plt.subplots(figsize=(8,8))\n",
    "\n",
    "ax1.set_xlabel('Radius [cm] of base', fontsize=14)\n",
    "ax1.set_ylabel('Surf. Area [cm$^2$]', color='b', fontsize=14)\n",
    "ax1.plot(r[1:],surfArea(r[1:]), color='b')\n",
    "ax1.tick_params(axis='y', labelcolor='b')\n",
    "\n",
    "ax2 = ax1.twinx()  # instantiate a second axes that shares the same x-axis\n",
    "\n",
    "ax2.set_ylabel('Finite diff. approx. of $dS/dr$', color='r', fontsize=14)  # we already handled the x-label with ax1\n",
    "ax2.plot(r[1:],diff.cent_diff(surfArea,r[1:], h=0.01), color='r')\n",
    "ax2.tick_params(axis='y', labelcolor='r')\n",
    "\n",
    "ax2.axhline(0, linewidth=1, linestyle=':', c='k') #plot typical x-axis\n",
    "ax2.axvline(6.83, linewidth=1, linestyle=':', c='k')"
   ]
  },
  {
   "cell_type": "markdown",
   "metadata": {},
   "source": [
    "<span style='background:rgba(255,255,0, 0.25); color:black'>  Your interpretation of what is shown in the above plot goes here. </span>"
   ]
  },
  {
   "cell_type": "markdown",
   "metadata": {},
   "source": [
    "### Problem 1(b): Approximating the optimal radius through brute force\n",
    "---\n",
    "\n",
    "Since $r>0$, we may be tempted to search for an optimal $r$ in the interval (0,40] (units in cm). \n",
    "\n",
    "We could do this in a brute-force fashion as shown below that avoids any approximation of the derivative.\n",
    "\n",
    "<span style='background:rgba(255,255,0, 0.25); color:black'> Comment the code cells below and explain what is going on in a Markdown cell </span>"
   ]
  },
  {
   "cell_type": "code",
   "execution_count": null,
   "metadata": {},
   "outputs": [],
   "source": [
    "r_search = np.linspace(0,40,100)\n",
    "\n",
    "S_search = surfArea(r_search[1:])"
   ]
  },
  {
   "cell_type": "code",
   "execution_count": null,
   "metadata": {},
   "outputs": [],
   "source": [
    "idx_min = np.argmin(S_search)\n",
    "\n",
    "print(np.around(r_search[idx_min+1],2))"
   ]
  },
  {
   "cell_type": "code",
   "execution_count": null,
   "metadata": {},
   "outputs": [],
   "source": [
    "r_refined_search = np.linspace(0,40,1000)\n",
    "\n",
    "S_refined_search = surfArea(r_refined_search[1:])"
   ]
  },
  {
   "cell_type": "code",
   "execution_count": null,
   "metadata": {},
   "outputs": [],
   "source": [
    "idx_refined_min = np.argmin(S_refined_search)\n",
    "\n",
    "print(np.around(r_refined_search[idx_refined_min+1],2))"
   ]
  },
  {
   "cell_type": "code",
   "execution_count": null,
   "metadata": {},
   "outputs": [],
   "source": [
    "r_super_refined_search = np.linspace(0,40,10000)\n",
    "\n",
    "S_super_refined_search = surfArea(r_super_refined_search[1:])"
   ]
  },
  {
   "cell_type": "code",
   "execution_count": null,
   "metadata": {},
   "outputs": [],
   "source": [
    "idx_super_refined_min = np.argmin(S_super_refined_search)\n",
    "\n",
    "print(np.around(r_super_refined_search[idx_super_refined_min+1],2))"
   ]
  },
  {
   "cell_type": "markdown",
   "metadata": {},
   "source": [
    "<span style='background:rgba(255,255,0, 0.25); color:black'>Your interpretations of what the code shows above goes here.</span>"
   ]
  },
  {
   "cell_type": "markdown",
   "metadata": {},
   "source": [
    "### Problem 1(c): A bracketing approach\n",
    "---\n",
    "\n",
    "The brute-force approach is not elegant, but it does \"get the job done.\"\n",
    "\n",
    "Can it always get the job done?\n",
    "\n",
    "While this function $S$ is not \"expensive\" to compute (i.e., it does not take a lot of time for the computer to evaluate $S$), there are many functions in practice that are *very* expensive to compute in terms of the amount of time/resources required to evaluate them.\n",
    "\n",
    "For example, in reservoir engineering, simulating optimal net present value (NPV) of a new project is critical in management decisions about whether a project is worth pursuing or not. Simulations of subsurface flow often involve complex partial differential equations discretized over large physical domains that may require a supercomputer to solve.\n",
    "Subsequently, it may not be feasible to compute more than a few simulations. \n",
    "In other words, the brute-force option shown above is not only inelegant, it is also impractical in many settings. \n",
    "\n",
    "\n",
    "<span style='background:rgba(255,255,0, 0.25); color:black'> Below, implement the algorithms for the bisection and false-point variant discussed from the 04-Lecture-part-a notebook to approximate the $r$ that makes the centered-difference approximation of $dS/dr=0$ (use $h=0.001$ when calling this finite-difference function). \n",
    "Use an interval of $(0,40]$ and a tolerance of $0.01$ in both algorithms.\n",
    "Comment on the number of times $S$ must be evaluated to achieve the desired tolerance for each algorithm (hint: look at the total number of iterations and check how many times $S$ must be evaluated by the finite-different function).\n",
    "Compare this to the brute-force approach.</span>"
   ]
  },
  {
   "cell_type": "code",
   "execution_count": null,
   "metadata": {
    "code_folding": []
   },
   "outputs": [],
   "source": [
    "# Code for Problem 1(c) goes here and other cells you should make below"
   ]
  },
  {
   "cell_type": "markdown",
   "metadata": {},
   "source": [
    "<span style='background:rgba(255,255,0, 0.25); color:black'> Your comments/comparisons for Problem 1(c) go here.</span>"
   ]
  },
  {
   "cell_type": "markdown",
   "metadata": {},
   "source": [
    "### Problem 1(d): Secant method\n",
    "---\n",
    "\n",
    "Below, implement a version of the secant algorithm from the 04-Lecture-part-a notebook that also checks if the magnitude of the difference between successive estimates is below a tolerance to approximate the $r$ that makes the centered-difference approximation of $dS/dr=0$ (use $h=0.01$ when calling this finite-difference function). \n",
    "To initialize this algorithm, use initial guesses of\n",
    "- 1 and 1.1\n",
    "- 5 and 5.1\n",
    "- 10 and 10.1\n",
    "- 20 and 20.1\n",
    "- 30 and 30.1\n",
    "    \n",
    "Use a maximum number of iterations of $100$ and set the tolerance to $0.01$.\n",
    "Comment on the number of times $S$ must be evaluated to achieve the desired tolerance for each different set of initial guesses.\n",
    "Compare this to the approaches above.</span>"
   ]
  },
  {
   "cell_type": "code",
   "execution_count": null,
   "metadata": {},
   "outputs": [],
   "source": [
    "# Code for Problem 1(d) goes here and other cells you should make below"
   ]
  },
  {
   "cell_type": "markdown",
   "metadata": {},
   "source": [
    "<span style='background:rgba(255,255,0, 0.25); color:black'> Your comments/comparisons for Problem 1(d) go here.</span>"
   ]
  },
  {
   "cell_type": "markdown",
   "metadata": {},
   "source": [
    "## Problem 2: We forgot the lid! How did we forget the lid?!\n",
    "---\n",
    "\n",
    "So, yeah, we kind of forget to account for the cost of the lid in the container.\n",
    "\n",
    "Suppose that the cost of the materials for making the glass part of the container is given as $\\$.001$/cm$^2$, in other words, it costs one-tenth of one penny per square centimeter of glass needed. \n",
    "\n",
    "Now suppose the cost of the materials for making an aluminum lid is given in terms of $\\$.002$/cm$^2$, in other words, it costs two-tenths of one penny per square centimeter of aluminum needed.\n",
    "\n",
    "Now, the *total cost* (in USD) to produce a single 1 L container (with lid) is given by\n",
    "$$\n",
    "   \\large C = 0.001\\left(\\pi r^2 + \\frac{2000}{r}\\right) + 0.002 \\pi r^2.\n",
    "$$\n",
    "\n",
    "This is produced in the function `total_cost` below. \n",
    "\n",
    "<span style='background:rgba(255,255,0, 0.25); color:black'>Repeat the various parts of problem 1 below with `total_cost` replacing the `surfArea` function.\n",
    "Compare the optimal dimensions (both $r$ and $h$) for this problem and problem 1. \n",
    "A quick online search will reveal that a typical 24 oz pasta jar (equivalent to about 0.7 L) has a height of about 6.61 inches with a base diameter of about 3.37 inches. \n",
    "Recall that a diameter is just two times the radius.\n",
    "Which of these problems is producing results that look more like a typical pasta jar in terms of the ratio of height to diameter?\n",
    "</span>"
   ]
  },
  {
   "cell_type": "code",
   "execution_count": null,
   "metadata": {},
   "outputs": [],
   "source": [
    "# Add comments to this\n",
    "def total_cost(r):\n",
    "    \n",
    "    if np.any(r <= 0):\n",
    "        raise ValueError('The circular base requires r>0')\n",
    "    \n",
    "    cost_of_glass = 0.001*surfArea(r)\n",
    "    cost_of_lid = 0.002*np.pi*r**2\n",
    "    \n",
    "    return cost_of_glass + cost_of_lid"
   ]
  },
  {
   "cell_type": "code",
   "execution_count": null,
   "metadata": {},
   "outputs": [],
   "source": []
  },
  {
   "cell_type": "code",
   "execution_count": null,
   "metadata": {},
   "outputs": [],
   "source": []
  },
  {
   "cell_type": "markdown",
   "metadata": {},
   "source": [
    "## Problem 3: Exploring built-in optimization routines in `scipy`\n",
    "---\n",
    "\n",
    "The `scipy` library has an `optimization` sublibrary that you can import and play with.\n",
    "\n",
    "A thorough tutorial is here: https://docs.scipy.org/doc/scipy/reference/tutorial/optimize.html\n",
    "\n",
    "But the best initial reference may just be the documentation: https://docs.scipy.org/doc/scipy/reference/optimize.html\n",
    "\n",
    "Below, I get you started on a useful function in this sublibrary. \n",
    "\n",
    "Read up on the documentation for this. Play around. See if you can figure out how to choose which algorithm to use and how you can force this or other built-in optimization functions to use certain algorithms. \n",
    "\n",
    "This is open ended. Comment, experiment, and explore. How deep you get into it is up to you."
   ]
  },
  {
   "cell_type": "code",
   "execution_count": null,
   "metadata": {},
   "outputs": [],
   "source": [
    "import scipy.optimize as opt"
   ]
  },
  {
   "cell_type": "code",
   "execution_count": null,
   "metadata": {},
   "outputs": [],
   "source": [
    "opt.minimize(surfArea, x0=1)"
   ]
  },
  {
   "cell_type": "code",
   "execution_count": null,
   "metadata": {},
   "outputs": [],
   "source": [
    "opt.minimize(total_cost, x0=1)"
   ]
  },
  {
   "cell_type": "code",
   "execution_count": null,
   "metadata": {},
   "outputs": [],
   "source": []
  }
 ],
 "metadata": {
  "kernelspec": {
   "display_name": "Python 3",
   "language": "python",
   "name": "python3"
  },
  "language_info": {
   "codemirror_mode": {
    "name": "ipython",
    "version": 3
   },
   "file_extension": ".py",
   "mimetype": "text/x-python",
   "name": "python",
   "nbconvert_exporter": "python",
   "pygments_lexer": "ipython3",
   "version": "3.7.6"
  }
 },
 "nbformat": 4,
 "nbformat_minor": 2
}
