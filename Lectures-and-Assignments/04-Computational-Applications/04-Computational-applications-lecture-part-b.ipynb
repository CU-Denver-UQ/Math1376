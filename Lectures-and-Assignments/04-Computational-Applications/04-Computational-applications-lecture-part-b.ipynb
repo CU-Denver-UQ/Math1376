{
 "cells": [
  {
   "cell_type": "markdown",
   "metadata": {},
   "source": [
    "# Math  1376: Programming for Data Science\n",
    "---"
   ]
  },
  {
   "cell_type": "code",
   "execution_count": null,
   "metadata": {},
   "outputs": [],
   "source": [
    "import numpy as np #We will use numpy in this lecture\n",
    "import matplotlib.pyplot as plt\n",
    "%matplotlib inline\n",
    "\n",
    "from matplotlib.patches import Polygon \n",
    "from matplotlib.patches import Rectangle\n",
    "from matplotlib.collections import PatchCollection\n",
    "\n",
    "from ipywidgets import interact, interactive, fixed, interact_manual\n",
    "import ipywidgets as widgets"
   ]
  },
  {
   "cell_type": "markdown",
   "metadata": {},
   "source": [
    "## Module 04: Some useful applications of Modules 01-03\n",
    "---\n",
    "\n",
    "In this module, we will now pull together material across our first three modules to solve some practical problems. \n",
    "\n",
    "You may find it useful to review the notebooks in those modules beforehand or just simply open some of the notebooks to have their contents available to review as necessary. \n",
    "\n",
    "While there are a seemingly endless number of practical problems we can attempt to solve with what we have learned so far, we will focus on three ubiquitous problems in the computational sciences.\n",
    "\n",
    "- Root-finding. (The content of Part (a) of this module.)\n",
    "<br>\n",
    "\n",
    "- Numerical integration. (The content of Part (b) of this module.)\n",
    "<br>\n",
    "\n",
    "- Optimization. (This content is pursued in the assignments of this module.)\n",
    "<br>\n",
    "\n",
    "### A note about calculus concepts and interactive visualizations (i.e., widgets)\n",
    "---\n",
    "\n",
    "These topics are commonly studied as applications of calculus concepts. \n",
    "However, while we may make passing reference to certain calculus concepts, you do *not* need to know calculus to follow the narratives. (This, of course, is not to say that you should not seek to master calculus at some point.)\n",
    "Our focus is on the *big picture ideas* and we use interactive graphics (powered by a widgets module) to help us explore these ideas."
   ]
  },
  {
   "cell_type": "markdown",
   "metadata": {},
   "source": [
    "## Learning Objectives for Part (b)\n",
    "\n",
    "- Understand what integration means and how it arises in practical applications.\n",
    "\n",
    "\n",
    "- Implement different types of numerical integration algorithms to various functions written either as `lambda` Python functions or more complicated user-defined functions.\n",
    "\n",
    "\n",
    "- Create code that implements numerical integration algorithms of different types.\n",
    "\n",
    "\n",
    "- Create annotations and interactive widgets to enhance visualizations of data.\n",
    "\n",
    "\n",
    "### Some larger \"in situ\" learning objectives (i.e., learning that will occur by design of activities)\n",
    "\n",
    "While we are going to explore how to implement some of these algorithms as activities below, our learning objectives go beyond simple correct implementation. We will also consider what it means to do the following:\n",
    "\n",
    "- *compare* and *analyze* different algorithms developed for solving the same generic problem;\n",
    "<br>\n",
    "\n",
    "- use this comparison to *choose* the \"right\" algorithm for solving a *specific* problem;\n",
    "<br>\n",
    "\n",
    "- create a module that encodes various algorithms and a *wrapper* function that automatically chooses which algorithm to apply based on the inputs.\n",
    "<br>\n",
    "\n",
    "Some of this is done in the notebook while other parts are left for homework."
   ]
  },
  {
   "cell_type": "markdown",
   "metadata": {},
   "source": [
    "## Notebook contents <a id='Contents'>\n",
    "\n",
    "* <a href='#Integration'>Part (b): Numerical integration</a>\n",
    "<br>\n",
    "\n",
    "    * <a href='#concepts'>Part (b)(i): The basic concepts of integration</a>\n",
    "    <br>\n",
    "    \n",
    "    * <a href='#numerical-integration'>Part (b)(ii): Numerical integration algorithms</a>\n",
    "    <br>\n",
    "        \n",
    "        * <a href='#activity-rectangle-rules'>Activity: Rectangle rules</a>\n",
    "        <br>\n",
    "        \n",
    "        * <a href='#activity-MC'>Activity: Monte Carlo integration</a>\n",
    "        <br>\n",
    "        \n",
    "        * <a href='#activity-MC-darts'>Activity: Integration over the dart board</a>\n",
    "        <br>\n",
    "        \n",
    "    * <a href='#activity-summary'>Activity: Summary</a>"
   ]
  },
  {
   "cell_type": "markdown",
   "metadata": {},
   "source": [
    "## Part (b): Numerical integration <a id='Integration'>\n",
    "---\n",
    "\n",
    "<span style='background:rgba(255,255,0, 0.25); color:black'> Run the code cell below and click the \"play\" button to see the first recorded lecture associated with this notebook.</span>"
   ]
  },
  {
   "cell_type": "code",
   "execution_count": null,
   "metadata": {},
   "outputs": [],
   "source": [
    "# 1. Running this cell with embed the short recorded lecture associated with this part of the notebook\n",
    "# 2. Press on the \"play\" button to start the video.\n",
    "\n",
    "from IPython.display import YouTubeVideo\n",
    "\n",
    "YouTubeVideo('X1YOV6VgpLQ', width=800, height=300)"
   ]
  },
  {
   "cell_type": "markdown",
   "metadata": {},
   "source": [
    "## Part (b)(i): The basic concepts of integration <a id='concepts'>"
   ]
  },
  {
   "cell_type": "markdown",
   "metadata": {},
   "source": [
    "### What is it and why should we care?\n",
    "\n",
    "What *the integral* of a function means can depend a bit on context, which also helps to explain the *why* of an integral. \n",
    "Typically, it refers to transforming a function into a scalar quantity that describes some type of important aggregate behavior of the function over a set.\n",
    "It is *kind of like* summing up the behavior of a function over a set in order to make important inferences. \n",
    "Some examples of what integrals mean in different contexts are given below. \n",
    "\n",
    "- In probability theory, the functions that quantify scalar outputs of an experiment are called random variables. \n",
    "The integrals of random variables weighted by their probability density functions give the expected value of the experiment.\n",
    "Other standard statistical quantities such as variance also involve integrals.\n",
    "<br>\n",
    "\n",
    "- In engineering design and manufacturing processes, it is often important to compute the length of a curve, the area of a region, or the volume of an object (e.g. to determine the amount of resources/cost in constructing an object). Such quantities are given by integrals.\n",
    "<br>\n",
    "\n",
    "- In physics, integrals are used to determine important quantities like velocity (which is given as an integral of acceleration) and displacement (an integral of velocity). \n",
    "<br>\n",
    "\n",
    "- In finance, integrals are sometimes used to determine options pricing.\n",
    "<br>\n",
    "\n",
    "- Many models of complex physical phenomena involve partial differential equations that are solved via numerical methods (e.g., finite element methods) that require computations of many integrals to construct accurate approximations. \n",
    "<br>\n",
    "\n",
    "- In data science, statistical/machine learning, and any other data-driven discipline where proposed models are *fitted* to data, the *goodness of fit* of a model can usually be described in terms of an integral (or its discrete counterpart: summation). \n",
    "\n",
    "<span style='background:rgba(255,0,255, 0.25); color:black'> ***Notation:*** <span>\n",
    "\n",
    "There are a few different notational conventions, but here we will use the following: Let $f(x)$ be a function and $A\\subset dom(f)$ (i.e., $A$ is some set of acceptable inputs taken from the domain of the function $f$), then the integral of $f$ over $A$ is denoted by\n",
    "$$\n",
    "  \\large  \\int_A f(x)\n",
    "$$"
   ]
  },
  {
   "cell_type": "markdown",
   "metadata": {},
   "source": [
    "### A standard motivating example\n",
    "\n",
    "We are going to avoid any complicating calculus details.\n",
    "But, to build intuition, we are going to consider some simple examples that also serve to make all of this less abstract and more concrete. \n",
    "\n",
    "<span style='background:rgba(255,0,255, 0.25); color:black'> ***General details:*** <span>\n",
    "\n",
    "- Suppose $v(t)$ describes the velocity of an object moving either forward/backward on some path over the time interval $[t_0,t_f]$ (here $t_0$ denotes an initial time and $t_f$ denotes the final time).\n",
    "<br>\n",
    "\n",
    "- Suppose we are interested in how far along the path the object ultimately ends up relative to its starting position, which is given by\n",
    "$$\n",
    "  \\large  \\int_{[t_0,t_f]} v(t)\n",
    "$$\n",
    "\n",
    "<span style='background:rgba(255,0,255, 0.25); color:black'> ***Examples with intuitive solutions:*** <span>\n",
    "\n",
    "For simple functions of $v(t)$, we can easily conceptualize the problem and intuit the solution with little difficulty (i.e., without referring to anything from calculus). Consider the following scenarios:\n",
    "\n",
    "- $v(t)=0$ (i.e., the object is not moving). \n",
    "<br><br>\n",
    "\n",
    "    - Then, $\\int_{[t_0,t_f]} v(t) = 0$, which means the final displacement of the object from its initial position is zero units of length. Not surprising. The object did not move.\n",
    "   <br><br>\n",
    "    \n",
    "- Suppose now that\n",
    "$$\n",
    "    v(t) = \\begin{cases}\n",
    "                5, & t_0<t<\\frac{t_f+t_0}{2}, \\\\\n",
    "                -5, & \\frac{t_f+t_0}{2}<t<t_f,\n",
    "            \\end{cases}\n",
    "$$\n",
    "which simply means that the object is moving forward at a constant speed of 5 (ignoring units) for half the time and then moving at the same speed *but backwards* (i.e., in the other direction) the other half of time. \n",
    "<br>\n",
    "\n",
    "    - Then, $\\int_{[t_0,t_f]} v(t) = 0$ because the object just did a simple \"round trip\" back to where it started. \n",
    "<br>\n",
    "\n",
    "\n",
    "- Suppose we have the same velocity as the previous example, but we instead we wanted to know the *total distance* traveled instead of just the final displacement from the starting position? Then, we would want to know $$\\large \\int_{[0,t_f]} \\vert v(t) \\vert$$ which means we want to integrate the absolute value of velocity. \n",
    "   <br><br>\n",
    "   \n",
    "   But, what is $\\int_{[t_0,t_f]}\\vert v(t) \\vert$?\n",
    "   <br><br>\n",
    "   \n",
    "   In this case, we know that this means we are integrating a function that is constant over all time (in this case a constant 5). If an object moves at a constant *speed* (speed is the absolute value of velocity), then we should be able to figure out the total distance it traveled. This is easier when considering units. Suppose $v(t)$ is described in miles per hour, which we rewrite as $\\frac{\\text{miles}}{\\text{hour}}$. It sure seems like if we just multiplied by the total number of hours the object was moving, then we would get the total number of miles the object traveled because \n",
    "   $$\n",
    "       \\frac{\\text{miles}}{\\text{hour}}\\text{hour} = \\text{miles},\n",
    "   $$\n",
    "   i.e., the \"hours cancel out.\"\n",
    "   <br><br>\n",
    "   \n",
    "   So, in this example, $\\int_{[t_0,t_f]} \\vert v(t) \\vert| = 5(t_f-t_0)$.\n",
    "   <br><br>\n",
    "   \n",
    "   Let's visualize these last two results."
   ]
  },
  {
   "cell_type": "code",
   "execution_count": null,
   "metadata": {},
   "outputs": [],
   "source": [
    "def v(t,t_f):\n",
    "    n = len(t)\n",
    "    vs = np.zeros(n)\n",
    "    for i in range(n):\n",
    "        if t[i]<t_f/2:\n",
    "            vs[i] = 5\n",
    "        else:\n",
    "            vs[i] = -5\n",
    "    return vs"
   ]
  },
  {
   "cell_type": "code",
   "execution_count": null,
   "metadata": {},
   "outputs": [],
   "source": [
    "t_0 = 0\n",
    "t_f = 10 # integral limits\n",
    "t = np.linspace(t_0, t_f)\n",
    "\n",
    "fig, ax = plt.subplots()\n",
    "ax.plot(t, np.abs(v(t,t_f)), 'r', linewidth=2)\n",
    "ax.set_ylim(bottom=0)\n",
    "\n",
    "# Make the shaded region\n",
    "it = np.linspace(t_0, t_f)\n",
    "iv = np.abs(v(it,t_f))\n",
    "verts = [(t_0, 0), *zip(it, iv), (t_f, 0)]\n",
    "poly = Polygon(verts, facecolor='0.9', edgecolor='0.5')\n",
    "ax.add_patch(poly)\n",
    "\n",
    "ax.text(0.5 * (t_0 + t_f), 2.5, r\"$\\int_{[t_0,t_f]} \\vert v(t)\\vert=5(t_f-t_0)$\",\n",
    "        horizontalalignment='center', fontsize=20)\n",
    "\n",
    "\n",
    "\n",
    "ax.spines['right'].set_visible(False)\n",
    "ax.spines['top'].set_visible(False)\n",
    "ax.xaxis.set_ticks_position('bottom')\n",
    "\n",
    "ax.set_xticks((t_0, t_f))\n",
    "ax.set_xticklabels(('$t_0$', '$t_f$'), fontsize=20);"
   ]
  },
  {
   "cell_type": "code",
   "execution_count": null,
   "metadata": {},
   "outputs": [],
   "source": [
    "t_0 = 0\n",
    "t_f = 10 # integral limits\n",
    "t = np.linspace(t_0, t_f, 101)\n",
    "\n",
    "fig, ax = plt.subplots()\n",
    "ax.plot(t, v(t,t_f), 'r', linewidth=2)\n",
    "\n",
    "# Make the shaded region\n",
    "it = np.linspace(t_0, t_f, 101)\n",
    "iv = v(it,t_f)\n",
    "verts = [(t_0, 0), *zip(it, iv), (t_f, 0)]\n",
    "poly = Polygon(verts, facecolor='0.9', edgecolor='0.5')\n",
    "ax.add_patch(poly)\n",
    "\n",
    "ax.text(0.75 * (t_0 + t_f), 2.5, r\"$\\int_{[t_0,t_f]} v(t)=0$\",\n",
    "        horizontalalignment='center', fontsize=20)\n",
    "\n",
    "ax.axhline(0, linewidth=1, c='k') #plot $v=0$ line to more clearly demonstrate the positive/negative parts\n",
    "\n",
    "ax.spines['right'].set_visible(False)\n",
    "ax.spines['top'].set_visible(False)\n",
    "ax.xaxis.set_ticks_position('bottom')\n",
    "\n",
    "ax.set_xticks((t_0, t_f))\n",
    "ax.set_xticklabels(('$t_0$', '$t_f$'), fontsize=20);"
   ]
  },
  {
   "cell_type": "markdown",
   "metadata": {},
   "source": [
    "## What do we see?\n",
    "\n",
    "- It appears that these integrals are related to the *areas* of the shaded rectangles. \n",
    "\n",
    "    In particular, $\\int_{[t_0,t_f]} |v(t)|$ is exactly the area of the single shaded rectangle.\n",
    "<br>\n",
    "\n",
    "- On the other hand, $\\int_{[t_0,t_f]} v(t)$ is given by the area of the rectangle above the $t$-axis *minus* the area of the rectangle below the $t$-axis. They appear to *cancel* each other out. In fact, if we think of areas as being *signed* so that any area above a horizontal axis is positive and any area below the horizontal axis is negative, then we see that $\\int_{[t_0,t_f]} v(t)$ is actually the sum of the *signed* areas. \n",
    "<br>\n",
    "\n",
    "- These observations actually lead us to a useful conceptualization of integrals in terms of \"sizes\" of positive and negative regions of a function over a set. \n",
    "\n",
    "Below, we visualize what the sign of an integral is for a function in terms of what dominates: the positive or negative areas.\n",
    "\n",
    "You should review the documentation on the `quad` function within the `integrate` subpackage of `scipy`: https://docs.scipy.org/doc/scipy/reference/generated/scipy.integrate.quad.html\n",
    "\n",
    "The `quad` function returns a tuple as an output (much like our `compute_bisection` function from the previous lecture notebook). \n",
    "The first component is the approximation of the integral. The second component is an approximation of the error in the integral.\n",
    "\n",
    "If you peruse the source code for the `quad` function, then you will see some nice docstrings, doctests, etc. https://github.com/scipy/scipy/blob/v1.5.3/scipy/integrate/quadpack.py#L49-L442\n",
    "\n",
    "The `integrate` subpackage is itself rather interesting and useful to familiarize yourself with: https://docs.scipy.org/doc/scipy/reference/tutorial/integrate.html"
   ]
  },
  {
   "cell_type": "code",
   "execution_count": null,
   "metadata": {},
   "outputs": [],
   "source": [
    "from scipy.integrate import quad"
   ]
  },
  {
   "cell_type": "code",
   "execution_count": null,
   "metadata": {},
   "outputs": [],
   "source": [
    "def plot_integral(f, x_min, x_max, a, b):\n",
    "    # Estimate the integral with quad function\n",
    "    # The quad returns a tuple and the first component is\n",
    "    # the estimate of the integral we are after\n",
    "    int_ab = quad(f, a, b)[0] \n",
    "    \n",
    "    #### EVERYTHING ELSE BELOW IS JUST PLOTTING\n",
    "    x = np.linspace(x_min, x_max, 101)\n",
    "    y = f(x)\n",
    "\n",
    "    fig, ax = plt.subplots(figsize=(10,10))\n",
    "    ax.plot(x, y, 'r', linewidth=2)\n",
    "\n",
    "    plt.axhline(0, linewidth=1, linestyle=':', c='k') #plot typical x-axis\n",
    "    \n",
    "    # Make the shaded region\n",
    "    ix = np.linspace(a, b, 101)\n",
    "    iy = f(ix)\n",
    "    # A * before the zip will \"unpack\" the tuples in the \n",
    "    # list of tuples created by zip\n",
    "    verts = [(a, 0), *zip(ix, iy), (b, 0)]\n",
    "    poly = Polygon(verts, facecolor='0.9', edgecolor='0.5')\n",
    "    ax.add_patch(poly)\n",
    "    \n",
    "    ax.set_title(r\"$\\int_a^b f(x)\\mathrm{d}x \\approx $ %3.2f\" %int_ab, fontsize=20)\n",
    "\n",
    "    ax.spines['right'].set_visible(False)\n",
    "    ax.spines['top'].set_visible(False)\n",
    "    ax.xaxis.set_ticks_position('bottom')\n",
    "\n",
    "    ax.set_xticks((a, b))\n",
    "    ax.set_xticklabels(('$a$', '$b$'))"
   ]
  },
  {
   "cell_type": "code",
   "execution_count": null,
   "metadata": {},
   "outputs": [],
   "source": [
    "%reset -f out\n",
    "\n",
    "interact(plot_integral, \n",
    "         f = widgets.fixed(lambda x: (x + 1) * (x - 5) * np.sin(3*x)),\n",
    "         x_min = widgets.fixed(-1),\n",
    "         x_max = widgets.fixed(5),\n",
    "         a = widgets.FloatSlider(value=2, min=-1, max=5, step=0.1),\n",
    "         b = widgets.FloatSlider(value=4, min=-1, max=5, step=0.1));"
   ]
  },
  {
   "cell_type": "markdown",
   "metadata": {},
   "source": [
    "### Context is everything and these are just 1-dimensional examples\n",
    "\n",
    "Above, we have just looked at functions with univariate inputs. Subsequently, we observed that the integral is related to the *signed* area between the curve defined by the function and the axis defined by the input.\n",
    "\n",
    "\n",
    "This observation can be conceptually extended to functions with multivariate inputs. Suppose $f(x)$ is a real-valued function, but $x=(x_1,x_2)$ is a point in $\\mathbb{R}^2$. Then, for a set $A\\subset\\mathbb{R}^2$, the integral $\\int_A f(x)$ is related to the *signed volume* between the *surface* given by the graph of $f(x)$ over $A$ and the horizontal *plane* defined by the 2-dimensional input.\n",
    "\n",
    "Generalizing the concept of area/volume is necessary to describe integrals in geometric terms when the inputs are three-dimensional or higher. \n",
    "\n",
    "We can pretty much stick with 1-dimensional examples to explore the typical numerical algorithms used to estimate integrals although some of the strengths and weaknesses of these algorithms are not apparent until we get to higher dimensions. Keep that in mind."
   ]
  },
  {
   "cell_type": "markdown",
   "metadata": {},
   "source": [
    "## Part (b)(ii): Numerical integration algorithms <a id='numerical-integration'>\n",
    "    \n",
    "        \n",
    "<span style='background:rgba(255,255,0, 0.25); color:black'> Run the code cell below and click the \"play\" button to see the second recorded lecture associated with this notebook.</span>"
   ]
  },
  {
   "cell_type": "code",
   "execution_count": null,
   "metadata": {},
   "outputs": [],
   "source": [
    "# 1. Running this cell with embed the short recorded lecture associated with this part of the notebook\n",
    "# 2. Press on the \"play\" button to start the video.\n",
    "\n",
    "from IPython.display import YouTubeVideo\n",
    "\n",
    "YouTubeVideo('CpzuOx1OTS8', width=800, height=300)"
   ]
  },
  {
   "cell_type": "markdown",
   "metadata": {},
   "source": [
    "There are lots of algorithms to perform numerical integration, e.g., see https://en.wikipedia.org/wiki/Numerical_integration."
   ]
  },
  {
   "cell_type": "markdown",
   "metadata": {},
   "source": [
    "## Geometric (deterministic) methods\n",
    "---\n",
    "\n",
    "Many of the deterministic approaches to estimating integrals are based on partitioning $A$ (i.e., cutting up the set $A$ into a non-overlapping collection of subsets although we allow for shared boundaries between the subsets) such that the signed \"areas\" (or \"volume\" or generalizations of volume) between the graph of $f(x)$ and these subsets drawn on the horizontal axis (or plane or hyperplane) defined by the inputs are well-approximated by a simple geometric object for which we know the area (or volume or generalization of volume).\n",
    "\n",
    "<span style='background:rgba(255,0,255, 0.25); color:black'> ***Key Points:*** <span>\n",
    "\n",
    "- The simplest such methods for 1-D problems involve the use of rectangles or trapezoids where the areas are easily computed from rules we learned in geometry.\n",
    "<br>\n",
    "\n",
    "- When $A$ is simply an interval, we typically choose the partition of $A$ to be equally sized sub-intervals and approximate the signed area of $f(x)$ over each subinterval using a rectangle that is as wide as the sub-interval with height given by the evaluation of $f(x)$ at some point in the sub-interval. \n",
    "<br>\n",
    "\n",
    "- Adding up all the signed areas of rectangles gives an approximation to the integral. This is visualized below where we provide some options about where we can evaluate the function $f(x)$. "
   ]
  },
  {
   "cell_type": "markdown",
   "metadata": {},
   "source": [
    "<span style='background:rgba(0,255,255, 0.5); color:black'> Suggested activity:</span> Add a useful docstring to `compute_rect_rules` to describe the role of the various parameters. Add some doctests."
   ]
  },
  {
   "cell_type": "code",
   "execution_count": null,
   "metadata": {},
   "outputs": [],
   "source": [
    "def compute_rect_rules(f, a, b, n, rule='left'):\n",
    "    '''\n",
    "    Add a useful docstring here and doctest!\n",
    "    '''\n",
    "    ix = np.linspace(a, b, n+1) #create the x-values to create the base of each rectangle \n",
    "    Delta_x = ix[1]-ix[0] #compute the length of the base of each rectangle\n",
    "    \n",
    "    # Now determine the height of the rectangle by evaluating the\n",
    "    # function f at some point along its base.\n",
    "    if rule == 'left':\n",
    "        iy = f(ix[0:-1]) #evaluate function at left-hand side of its base\n",
    "    elif rule == 'right':\n",
    "        iy = f(ix[1:]) #evaluate the function at right-hand side of its base\n",
    "    else:\n",
    "        iy = f(ix[0:-1]+0.5*Delta_x) #evaluate the function at midpoint of its base\n",
    "    \n",
    "    # Now compute the approximate integral by adding up all \n",
    "    # the areas of the rectangles\n",
    "    int_approx = np.sum(iy)*Delta_x\n",
    "    \n",
    "    return (ix, Delta_x, iy, int_approx)"
   ]
  },
  {
   "cell_type": "code",
   "execution_count": null,
   "metadata": {},
   "outputs": [],
   "source": [
    "def plot_rectangle_rules(f, a, b, n, rule='left', x_min=0, x_max=1):\n",
    "    # First get the approximation from a rectangle rule\n",
    "    ix, Delta_x, iy, int_approx = compute_rect_rules(f, a, b, n, rule)\n",
    "    \n",
    "    # Get a more accurate approximation from quad\n",
    "    # This is not necessary, but we use it for comparison sake\n",
    "    int_ab = quad(f, a, b)[0] \n",
    "    \n",
    "    ################# EVERYTHING BELOW IS JUST FOR PLOTTING\n",
    "    x = np.linspace(x_min, x_max, 101)\n",
    "    y = f(x)\n",
    "\n",
    "    fig, ax = plt.subplots(figsize=(10,10))\n",
    "    ax.plot(x, y, 'r', linewidth=2)\n",
    "\n",
    "    plt.axhline(0, linewidth=1, linestyle=':', c='k') #plot typical x-axis\n",
    "    \n",
    "    rects = []\n",
    "    for i in range(n):\n",
    "        rects.append(Rectangle((ix[i],0), Delta_x, iy[i]))    \n",
    "    # Create patch collection with specified colour/alpha\n",
    "    pc = PatchCollection(rects, facecolor='0.9', alpha=0.5,\n",
    "                         edgecolor='0.5')\n",
    "    ax.add_collection(pc)\n",
    "   \n",
    "    ax.set_title(r\"$\\int_a^b f(x)\\mathrm{d}x = %3.2f \\approx $ Sum of Rect. Areas = %3.2f\" \n",
    "                 %(int_ab, int_approx), fontsize=20)\n",
    "\n",
    "    ax.spines['right'].set_visible(False)\n",
    "    ax.spines['top'].set_visible(False)\n",
    "    ax.xaxis.set_ticks_position('bottom')\n",
    "\n",
    "    ax.set_xticks((a, b))\n",
    "    ax.set_xticklabels(('$a$', '$b$'))"
   ]
  },
  {
   "cell_type": "code",
   "execution_count": null,
   "metadata": {},
   "outputs": [],
   "source": [
    "%reset -f out\n",
    "\n",
    "interact(plot_rectangle_rules, \n",
    "         f = widgets.fixed(lambda x: (x + 1) * (x - 5) * np.sin(3*x)),\n",
    "         a = widgets.FloatSlider(value=2, min=-1, max=5, step=0.1),\n",
    "         b = widgets.FloatSlider(value=4, min=-1, max=5, step=0.1),\n",
    "         n = widgets.IntSlider(value=3, min=1, max=50),\n",
    "         rule=['left', 'right', 'middle'],\n",
    "         x_min = widgets.fixed(-1),\n",
    "         x_max = widgets.fixed(5));"
   ]
  },
  {
   "cell_type": "code",
   "execution_count": null,
   "metadata": {},
   "outputs": [],
   "source": [
    "%reset -f out\n",
    "\n",
    "interact(plot_rectangle_rules, \n",
    "         f = widgets.fixed(lambda x: x**2),\n",
    "         a = widgets.FloatSlider(value=0, min=-1, max=5, step=0.1),\n",
    "         b = widgets.FloatSlider(value=1, min=-1, max=5, step=0.1),\n",
    "         n = widgets.IntSlider(value=10, min=1, max=1000),\n",
    "         x_min = widgets.fixed(-1),\n",
    "         x_max = widgets.fixed(2),\n",
    "         rule=['left', 'right', 'middle']);"
   ]
  },
  {
   "cell_type": "markdown",
   "metadata": {},
   "source": [
    "<hr style=\"border:5px solid cyan\"> </hr>\n",
    "\n",
    "## <span style='background:rgba(0,255,255, 0.5); color:black'>Activity: Rectangle rules</span><a id='activity-rectangle-rules'></a>\n",
    "\n",
    "Feel free to create many new code and markdown cells below as you work through this activity.\n",
    "\n",
    "- Create a wrapper function, `multiple_rect_approx`, which has all the same parameters as `compute_rect_rules` except that the `n` parameter is now assumed to be a *list* of integers containing different numbers of rectangles for which the approximate integrals should be computed. \n",
    "\n",
    "  This wrapper function should loop through all the values in the list of `n` values, call `compute_rect_rules` to obtain the associated approximate integral, and store all of the approximate integrals in a list that is returned by the wrapper function."
   ]
  },
  {
   "cell_type": "code",
   "execution_count": null,
   "metadata": {},
   "outputs": [],
   "source": []
  },
  {
   "cell_type": "markdown",
   "metadata": {},
   "source": [
    "- For a number of different `lambda` functions including `f(x)=x`, `f(x)=x**2`, and some of your own choosing, compute the errors for the left-, right, and midpoint-rule approximations for `n=[10, 100, 1000]` for `a=0` and `b=1`. Store the errors as either a list or numpy array. \n",
    "\n",
    "    *Hint*: To compute the errors, you need to either know the exact value (or a very accurate approximation) of the integral of the function to compare to the rectangle rule approximations. Use the imported `quad` function from `scipy.integrate` as the \"exact\" value (it is a very good approximation in almost all cases).\n",
    "<br>\n",
    "\n",
    "- For each of your different `lambda` functions, create a log-log plot with a legend that shows the errors for each rectangle rule approximation vs. the number of rectangles. A log-log plot of errors is useful for analyzing the rate of convergence of a method. We like to see the errors *decrease* as we *increase* the computational effort. \n",
    "\n",
    "   *Hint*: To use a log-log plot, everything must be non-negative, so you should use the `np.abs` function on the y-values of this plot.\n",
    "<br>\n",
    "\n",
    "- Comment on/interpret your results in a Markdown cell. Which method appears to be most accurate/converge faster?"
   ]
  },
  {
   "cell_type": "code",
   "execution_count": null,
   "metadata": {},
   "outputs": [],
   "source": []
  },
  {
   "cell_type": "code",
   "execution_count": null,
   "metadata": {},
   "outputs": [],
   "source": []
  },
  {
   "cell_type": "code",
   "execution_count": null,
   "metadata": {},
   "outputs": [],
   "source": []
  },
  {
   "cell_type": "code",
   "execution_count": null,
   "metadata": {},
   "outputs": [],
   "source": []
  },
  {
   "cell_type": "code",
   "execution_count": null,
   "metadata": {},
   "outputs": [],
   "source": []
  },
  {
   "cell_type": "code",
   "execution_count": null,
   "metadata": {},
   "outputs": [],
   "source": []
  },
  {
   "cell_type": "code",
   "execution_count": null,
   "metadata": {},
   "outputs": [],
   "source": []
  },
  {
   "cell_type": "markdown",
   "metadata": {},
   "source": []
  },
  {
   "cell_type": "markdown",
   "metadata": {},
   "source": [
    "<hr style=\"border:5px solid cyan\"> </hr>"
   ]
  },
  {
   "cell_type": "markdown",
   "metadata": {},
   "source": [
    "## [Monte Carlo (MC) Integration](https://en.wikipedia.org/wiki/Monte_Carlo_integration) \n",
    "---"
   ]
  },
  {
   "cell_type": "markdown",
   "metadata": {},
   "source": [
    "The basic idea is to estimate $\\int_A f(x)$ using the *average* of a random sample of $f(x)$ values. \n",
    "\n",
    "The question is this: how do we generate a random sample of $f(x)$ values to do this?\n",
    "\n",
    "Well, we generate a random sample of $x$ values in the set $A$, and then evaluate the function $f$ at these random inputs. Then, we simply compute the sample average of $A$. \n",
    "\n",
    "Are there any sticky points to this?\n",
    "\n",
    "Well, a few simple examples will illustrate just about all you possibly need to know.\n",
    "\n",
    "Suppose $f(x)=5$ on $[0,1]$. From our previous example involving velocity and conceptualizing the integral of a real-valued function with a univariate input as the signed area between the curve and horizontal axis, we know that $\\int_{[0,1]} 5 = 5(1-0)=5$. So, this is what our MC estimate should be approximating.\n",
    "\n",
    "In fact, for any random sample of $x$-values between $[0,1]$, we will *always* get that the corresponding function values are *all* 5 because $f(x)$ is a constant 5 on this interval. So, what would the sample average be of these randomly sampled function values? Well, 5 of course! Whoa! The MC estimate is *exact* in this case. Great!\n",
    "\n",
    "What if $f(x)=5$ on $[0,2]$? So, all we have done is change the set from $[0,1]$ to $[0,2]$. We know the exact answer should now be $\\int_{[0,2]} 5 = 5(2-0)=10$. However, by the same reasoning, any random sample of $f(x)$ values will produce a sample average of $5$ not $10$. \n",
    "\n",
    "What if $f(x)=5$ on $[0,0.5]$? Again, the exact answer is $\\int_{[0,0.5]} 5 = 5(0.5-2)=2.5$, yet any sample average of $f(x)$ values will produce $5$ not $2.5$. \n",
    "\n",
    "So, what is going on? Well, we need to *weight* the sample average by the *size* of the set $A$. \n",
    "\n",
    "In summary, if $\\{x_i\\}_{i=1}^N \\subset A$ is a *uniform* random sample from the set $A$, and we let $\\mu(A)$ denote the *measure* (i.e., size) of $A$, then an MC estimate of the integral is given by\n",
    "$$\n",
    "    \\int_A f(x) \\approx \\mu(A)\\frac{1}{N}\\sum_{i=1}^N f(x_i).\n",
    "$$\n",
    "\n",
    "Let's play with this below and discuss what we are seeing."
   ]
  },
  {
   "cell_type": "code",
   "execution_count": null,
   "metadata": {},
   "outputs": [],
   "source": [
    "def compute_1D_MC_approx(f, a, b, n):\n",
    "    x_random = np.random.uniform(low=a, high=b, size=int(n))\n",
    "    mu_A = b-a #mu_A=measure (size) of A\n",
    "    avg_func = np.mean(f(x_random))\n",
    "    MC_est = mu_A * avg_func\n",
    "    return (avg_func, MC_est)"
   ]
  },
  {
   "cell_type": "code",
   "execution_count": null,
   "metadata": {},
   "outputs": [],
   "source": [
    "def plot_MC_1D(f, a, b, n, x_min, x_max):\n",
    "    avg_func, MC_est = compute_1D_MC_approx(f, a, b, n)\n",
    "        \n",
    "    ####### Everything below is for plotting\n",
    "    x = np.linspace(x_min, x_max, 101)\n",
    "    y = f(x)\n",
    "    \n",
    "    fig, ax = plt.subplots()\n",
    "    ax.plot(x, y, 'r', linewidth=2)\n",
    "\n",
    "    plt.axhline(0, linewidth=1, linestyle=':', c='k') #plot typical x-axis\n",
    "    \n",
    "    # Make the shaded region\n",
    "    ix = np.linspace(a, b, 101)\n",
    "    iy = f(ix)\n",
    "    verts = [(a, 0), *zip(ix, iy), (b, 0)]\n",
    "    poly = Polygon(verts, facecolor='0.9', edgecolor='0.5')\n",
    "    ax.add_patch(poly)\n",
    "    \n",
    "    # Make an \"average\" rectangle corresponding to the MC_est\n",
    "    verts = [(a, 0), (a, avg_func), (b, avg_func) , (b, 0)]\n",
    "    rect = Polygon(verts, facecolor='b', alpha=0.25, edgecolor='0.5')\n",
    "    ax.add_patch(rect)\n",
    "    \n",
    "    ax.set_title(r\"$\\int_a^b f(x)\\mathrm{d}x \\approx \\frac{b-a}{N}\\sum_{i=1}^N f(x_i) =$ %3.2f\" %MC_est, fontsize=20)\n",
    "\n",
    "    ax.spines['right'].set_visible(False)\n",
    "    ax.spines['top'].set_visible(False)\n",
    "    ax.xaxis.set_ticks_position('bottom')\n",
    "\n",
    "    ax.set_xticks((a, b))\n",
    "    ax.set_xticklabels(('$a$', '$b$'))"
   ]
  },
  {
   "cell_type": "code",
   "execution_count": null,
   "metadata": {},
   "outputs": [],
   "source": [
    "%reset -f out\n",
    "\n",
    "# Using an interact_manual widget so that we can re-run easily to observe\n",
    "# the variations in the MC estimates due to random sampling.\n",
    "\n",
    "interact_manual(plot_MC_1D, \n",
    "         f = widgets.fixed(lambda x: (x + 1) * (x - 5) * np.sin(3*x)),\n",
    "         a = widgets.FloatSlider(value=1, min=-1, max=5, step=0.1),\n",
    "         b = widgets.FloatSlider(value=2.5, min=-1, max=5, step=0.1),\n",
    "         n = widgets.IntSlider(value=1E2, min=10, max=1E5, step=10),\n",
    "         x_min = widgets.fixed(-1),\n",
    "         x_max = widgets.fixed(5))"
   ]
  },
  {
   "cell_type": "markdown",
   "metadata": {},
   "source": [
    "<hr style=\"border:5px solid cyan\"> </hr>\n",
    "\n",
    "## <span style='background:rgba(0,255,255, 0.5); color:black'>Activity: Monte Carlo integration</span><a id='activity-MC'></a>\n",
    "\n",
    "Feel free to create many new code and markdown cells below as you work through this activity.\n",
    "\n",
    "- Complete the wrapper function, `multiple_1D_MC_approx`, in the code cell below except that we now assume `n` is a list of integers containing the different numbers of random points used to approximate the integral. The wrapper function also has an additional parameter `num_trials`, which is an `int` type that specifies the number of times (i.e., the number of trials) to repeat the approximations for each value in the list `n` values. The default `num_trials` is set to 10. \n",
    "    \n",
    "  The function should output a 2-dimensional numpy array of shape `(len(n),num_trials)` where the `[i,j]` component (in Python syntax) gives the (j+1)th MC approximation of the integral using `n[i]` random points.  "
   ]
  },
  {
   "cell_type": "code",
   "execution_count": null,
   "metadata": {},
   "outputs": [],
   "source": [
    "def multiple_1D_MC_approx(f, a, b, n, num_trials=10):\n",
    "    \n",
    "    int_f_approx = np.zeros(( , )) #COMPLETE THIS PART TO INITIALIZE THE ARRAY TO ALL ZEROS\n",
    "        \n",
    "    for i in range(len(n)):\n",
    "        \n",
    "        for j in range(num_trials):\n",
    "            \n",
    "            int_f_approx[i,j] = compute_1D_MC_approx() #COMPLETE THIS PART\n",
    "            \n",
    "    return int_f_approx"
   ]
  },
  {
   "cell_type": "markdown",
   "metadata": {},
   "source": [
    "   \n",
    "- For a number of different `lambda` functions including `f(x)=x`, `f(x)=x**2`, and some of your own choosing, compute the errors for the MC approximations of the integrals with `n=[int(1E1), int(1E2), int(1E3), int(1E4)]`, `a=0`, and `b=1`. For each function, create a numpy array of shape `(len(n),num_trials)` to store the errors. \n",
    "<br>\n",
    "\n",
    "- For each of your different `lambda` functions, create two separate log-log plots with a legend that shows the *means* and *variances* (over the number of trials) of the computed errors vs. the number of random points used in the MC approximations.\n",
    "<br>\n",
    "\n",
    "- Comment on your results in a Markdown cell."
   ]
  },
  {
   "cell_type": "code",
   "execution_count": null,
   "metadata": {},
   "outputs": [],
   "source": []
  },
  {
   "cell_type": "code",
   "execution_count": null,
   "metadata": {},
   "outputs": [],
   "source": []
  },
  {
   "cell_type": "code",
   "execution_count": null,
   "metadata": {},
   "outputs": [],
   "source": []
  },
  {
   "cell_type": "code",
   "execution_count": null,
   "metadata": {},
   "outputs": [],
   "source": []
  },
  {
   "cell_type": "code",
   "execution_count": null,
   "metadata": {},
   "outputs": [],
   "source": []
  },
  {
   "cell_type": "code",
   "execution_count": null,
   "metadata": {},
   "outputs": [],
   "source": []
  },
  {
   "cell_type": "markdown",
   "metadata": {},
   "source": []
  },
  {
   "cell_type": "markdown",
   "metadata": {},
   "source": [
    "<hr style=\"border:5px solid cyan\"> </hr>"
   ]
  },
  {
   "cell_type": "markdown",
   "metadata": {},
   "source": [
    "## What if the set $A$ is complicated?\n",
    "\n",
    "The typical built-in random number generators available in `numpy.random` or `scipy.stats` are great for generating random numbers/vectors in *nice* geometric sets like intervals in 1-D, rectangles in 2-D, rectangular boxes in 3-D, and generalizations of rectangular boxes in higher-dimensions. \n",
    "\n",
    "But, what if $A$ is not an interval or box-shaped? What if we can only describe $A$ in terms of relationships to other points or other geometric shapes? \n",
    "\n",
    "Well, we can do something referred to as accept-reject (sometimes just called rejection) sampling. \n",
    "\n",
    "Basically, we create a \"dart board\" out of a simple object (like a box) that *contains* the set $A$. The set $A$ is the \"target\" of the dart board. We generate random numbers/vectors in the simple object (i.e., we \"throw darts at the board\") and *check* if these are in $A$ (i.e., we check if a \"dart hits the target\"). \n",
    "\n",
    "The proprtion of darts that fall in $A$ times the size of the circumscribing box gives an estimate of the size of $A$.\n",
    "\n",
    "Let's illustrate when $A$ is a unit disk in $\\mathbb{R}^2$ that we fit into the dart board defined by the square $[-1,1]\\times[-1,1]$."
   ]
  },
  {
   "cell_type": "code",
   "execution_count": null,
   "metadata": {},
   "outputs": [],
   "source": [
    "def plot_MC_disk_dart(n):\n",
    "    #First throw darts at circumscribing square\n",
    "    darts = np.random.uniform(low=-1, high=1, size=(int(n),2))\n",
    "    \n",
    "    #check which darts hit the target: a disk called \"A\"\n",
    "    idx_in_A = []\n",
    "    idx_not_in_A = []\n",
    "    for i in range(n):\n",
    "        if np.sqrt((darts[i,0]-0)**2 + (darts[i,1]-0)**2) < 1:\n",
    "            idx_in_A.append(i)\n",
    "        else:\n",
    "            idx_not_in_A.append(i)\n",
    "    \n",
    "    mu_A_est = len(idx_in_A)/n * 4 # Estimates the area of A\n",
    "    \n",
    "    ### Everything below is plotting\n",
    "    fig, ax = plt.subplots(figsize=(10,10))\n",
    "    \n",
    "    ax.set_xlim([-1,1])\n",
    "    ax.set_ylim([-1,1])\n",
    "    ax.set_aspect(1)\n",
    "    \n",
    "    A = plt.Circle((0, 0), 1, color='r', alpha=0.1)\n",
    "    ax.add_artist(A)\n",
    "\n",
    "    ax.scatter(darts[idx_in_A,0], darts[idx_in_A,1], s=20, marker='x', c='k')    \n",
    "    ax.scatter(darts[idx_not_in_A,0], darts[idx_not_in_A,1], s=20, marker='o', c='b')\n",
    "\n",
    "    ax.set_title(r\"$\\mu(A)\\approx \\mu$(dart board)$\\times$(percent of darts in $A$) $\\approx$ %3.2f\" \n",
    "                 %mu_A_est, fontsize=20)"
   ]
  },
  {
   "cell_type": "code",
   "execution_count": null,
   "metadata": {},
   "outputs": [],
   "source": [
    "%reset -f out\n",
    "\n",
    "# Using an interact_manual widget so that we can re-run easily to observe\n",
    "# the variations in the MC estimates due to random sampling.\n",
    "\n",
    "interact_manual(plot_MC_disk_dart, \n",
    "                n = widgets.IntSlider(value=1E2, min=10, max=1E4, step=10))"
   ]
  },
  {
   "cell_type": "markdown",
   "metadata": {},
   "source": [
    "<hr style=\"border:5px solid cyan\"> </hr>\n",
    "\n",
    "## <span style='background:rgba(0,255,255, 0.5); color:black'>Activity: Integration over the dart board</span><a id='activity-MC-darts'></a>\n",
    "\n",
    "- Based on the code above, create a new function, `my_MC_disk`, in the code cell below that estimates the integral of a function $f$ over the unit disk. This function should have as inputs parameters `f` and `n` where `f` is the function to be integrated. It should output the \"dart board\" and in the title it should include an estimate of the integral of `f` over the dart board. \n",
    "\n",
    "  *Hint*: Two parts of the code need to be edited and two lines of code need to be added to the `plot_MC_disk_dart` function to turn it into the `my_MC_disk` function. The two lines of code that need to be added are:\n",
    "\n",
    " `avg_func = np.mean(f(darts[idx_in_A,:]))`\n",
    "\n",
    "  and \n",
    "\n",
    "  `int_f_approx = mu_A_est * avg_func`\n",
    "  \n",
    "  and the two parts that need to be edited are the first line (change the name of the function and have `f` be an input parameter) and the part of the code where the title is set.\n",
    "<br><br>\n",
    "\n",
    "- Run some tests for different `lambda` functions of your choosing. \n",
    "<br><br>\n",
    "\n",
    "- ***Recommended but not required:*** Try to create new functions `plot_MC_ellipse_dart` and `my_MC_ellipse` that do the same computations, but over ellipses instead of disks. You may find reviewing the formula for a standard ellipse useful in doing this."
   ]
  },
  {
   "cell_type": "code",
   "execution_count": null,
   "metadata": {},
   "outputs": [],
   "source": []
  },
  {
   "cell_type": "code",
   "execution_count": null,
   "metadata": {},
   "outputs": [],
   "source": []
  },
  {
   "cell_type": "code",
   "execution_count": null,
   "metadata": {},
   "outputs": [],
   "source": []
  },
  {
   "cell_type": "code",
   "execution_count": null,
   "metadata": {},
   "outputs": [],
   "source": []
  },
  {
   "cell_type": "code",
   "execution_count": null,
   "metadata": {},
   "outputs": [],
   "source": []
  },
  {
   "cell_type": "code",
   "execution_count": null,
   "metadata": {},
   "outputs": [],
   "source": []
  },
  {
   "cell_type": "code",
   "execution_count": null,
   "metadata": {},
   "outputs": [],
   "source": []
  },
  {
   "cell_type": "markdown",
   "metadata": {},
   "source": [
    "<hr style=\"border:5px solid cyan\"> </hr>"
   ]
  },
  {
   "cell_type": "markdown",
   "metadata": {},
   "source": [
    "<hr style=\"border:5px solid cyan\"> </hr>\n",
    "\n",
    "## <span style='background:rgba(0,255,255, 0.5); color:black'>Activity: Summary</span> <a id='activity-summary'/>\n",
    "\n",
    "Summarize some of the key takeaways/points from this notebook in a list below and prepare a few code examples related to these takeaways/points in the code cells below. You need to have at least one example for each of your summary points and you need at least three summary points.\n",
    "\n",
    "In this notebook, we have seen the following:\n",
    "\n",
    "- [Your summary point 1 goes here]\n",
    "\n"
   ]
  },
  {
   "cell_type": "code",
   "execution_count": null,
   "metadata": {},
   "outputs": [],
   "source": []
  },
  {
   "cell_type": "markdown",
   "metadata": {},
   "source": [
    "\n",
    "- [Your summary point 2 goes here]\n",
    "\n"
   ]
  },
  {
   "cell_type": "code",
   "execution_count": null,
   "metadata": {},
   "outputs": [],
   "source": []
  },
  {
   "cell_type": "markdown",
   "metadata": {},
   "source": [
    "\n",
    "- [Your summary point 3 goes here]"
   ]
  },
  {
   "cell_type": "code",
   "execution_count": null,
   "metadata": {},
   "outputs": [],
   "source": []
  },
  {
   "cell_type": "markdown",
   "metadata": {},
   "source": [
    "<hr style=\"border:5px solid cyan\"> </hr>"
   ]
  },
  {
   "cell_type": "markdown",
   "metadata": {},
   "source": [
    "### <a href='#Contents'>Click here to return to Notebook Contents</a>"
   ]
  }
 ],
 "metadata": {
  "anaconda-cloud": {},
  "kernelspec": {
   "display_name": "Python 3",
   "language": "python",
   "name": "python3"
  },
  "language_info": {
   "codemirror_mode": {
    "name": "ipython",
    "version": 3
   },
   "file_extension": ".py",
   "mimetype": "text/x-python",
   "name": "python",
   "nbconvert_exporter": "python",
   "pygments_lexer": "ipython3",
   "version": "3.8.6"
  }
 },
 "nbformat": 4,
 "nbformat_minor": 4
}
