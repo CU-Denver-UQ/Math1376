{
 "cells": [
  {
   "cell_type": "markdown",
   "metadata": {},
   "source": [
    "# Math  1376: Programming for Data Science\n",
    "---"
   ]
  },
  {
   "cell_type": "code",
   "execution_count": null,
   "metadata": {},
   "outputs": [],
   "source": [
    "import numpy as np #We will use numpy in this lecture\n",
    "import matplotlib.pyplot as plt\n",
    "%matplotlib inline\n",
    "\n",
    "from matplotlib.patches import Polygon \n",
    "from matplotlib.patches import Rectangle\n",
    "from matplotlib.collections import PatchCollection\n",
    "\n",
    "from ipywidgets import interact, interactive, fixed, interact_manual\n",
    "import ipywidgets as widgets"
   ]
  },
  {
   "cell_type": "markdown",
   "metadata": {},
   "source": [
    "## Lecture 4: Some useful applications of Lectures 1-3\n",
    "\n",
    "In this lecture, we will now pull together material across our first three lectures to solve some practical problems. \n",
    "\n",
    "You may find it useful to review those lectures beforehand or just simply open the notebooks corresponding to each lecture as necessary. \n",
    "\n",
    "While there are a seemingly endless number of practical problems we can attempt to solve with what we have learned so far, we will focus on three ubiquitous problems in the computational sciences.\n",
    "\n",
    "- Root-finding. \n",
    "- Numerical integration.\n",
    "- Optimization.\n",
    "\n",
    "While we may make passing reference to certain calculus concepts, you do *not* need to know calculus to follow the narratives. (This, of course, is not to say that you should not seek to master calculus at some point.)\n",
    "\n",
    "To make this lecture more manageable, we will break it up into three smaller notebooks focused on each of these problems. To make this lecture more manageable, we will break it up into two smaller notebooks focused on root-finding and numerical integration. The homework assignments will make connections to optimization."
   ]
  },
  {
   "cell_type": "markdown",
   "metadata": {},
   "source": [
    "## Part (b): Numerical Integration\n",
    "\n",
    "---\n",
    "\n",
    "### Part (i): The basic concepts of integration (Approx. time: 30 minutes)\n",
    "\n",
    "### What is it and why should we care?\n",
    "\n",
    "What *the integral* of a function means can depend a bit on context, which also helps to explain the *why* of an integral. \n",
    "Typically, it refers to transforming a function into a scalar quantity that describes some type of important aggregate behavior of the function over a set.\n",
    "It is *kind of like* summing up the behavior of a function over a set in order to make important inferences. \n",
    "Some examples of what integrals mean in different contexts are given below. \n",
    "\n",
    "- In probability theory, the functions that quantify scalar outputs of an experiment are called random variables. \n",
    "The integrals of random variables weighted by their probability density functions give the expected value of the experiment.\n",
    "Other standard statistical quantities such as variance also involve integrals.\n",
    "\n",
    "- In engineering design and manufacturing processes, it is often important to compute the length of a curve, the area of a region, or the volume of an object (e.g. to determine the amount of resources/cost in constructing an object). Such quantities are given by integrals.\n",
    "\n",
    "- In physics, integrals are used to determine important quantities like velocity (which is given as an integral of acceleration) and displacement (an integral of velocity). \n",
    "\n",
    "- In finance, integrals are sometimes used to determine options pricing.\n",
    "\n",
    "- Many models of complex physical phenomena involve partial differential equations that are solved via numerical methods (e.g., finite element methods) that require computations of many integrals to construct accurate approximations. \n",
    "\n",
    "- In data science, statistical/machine learning, and any other data-driven discipline where proposed models are *fitted* to data, the *goodness of fit* of a model can usually be described in terms of an integral (or its discrete counterpart: summation). \n",
    "\n",
    "There are a few notational conventions, but here we will use the following: Let $f(x)$ be a function and $A\\subset dom(f)$ (i.e., $A$ is some set of acceptable inputs to the function $f$), then the integral of $f$ over $A$ is denoted by\n",
    "$$\n",
    "    \\int_A f(x).\n",
    "$$\n",
    "We are going to avoid any complicating calculus details.\n",
    "But, to build intuition, we are going to consider some simple examples that also serve to make all of this less abstract and more concrete. "
   ]
  },
  {
   "cell_type": "markdown",
   "metadata": {},
   "source": [
    "### A standard motivating example\n",
    "\n",
    "Suppose $v(t)$ describes the velocity of an object moving either forward/backward on some path over the time interval $[t_0,t_f]$ (here $t_0$ denotes an initial time and $t_f$ denotes the final time) and we are interested in how far along the path the object ultimately ends up relative to its starting position, which is given by\n",
    "$$\n",
    "    \\int_{[t_0,t_f]} v(t)\n",
    "$$\n",
    "For simple functions of $v(t)$, we can easily conceptualize the problem and intuit the solution with little difficulty (i.e., without referring to anything we learned from calculus). Consider the following scenarios:\n",
    "\n",
    "- $v(t)=0$ (i.e., the object is not moving). Then $\\int_{[t_0,t_f]} v(t) = 0$, which means the final displacement of the object from its initial position is zero units of length. Not surprising. The object did not move.\n",
    "\n",
    "- Suppose now that\n",
    "$$\n",
    "    v(t) = \\begin{cases}\n",
    "                5, & t_0<t<\\frac{t_f+t_0}{2}, \\\\\n",
    "                -5, & \\frac{t_f+t_0}{2}<t<t_f,\n",
    "            \\end{cases}\n",
    "$$\n",
    "which simply means that the object is moving forward at a constant speed of 5 (ignoring units) for half the time and then moving at the same speed *but backwards* (i.e., in the other direction) the other half of time. Of course, this just means that $\\int_{[t_0,t_f]} v(t) = 0$ because the object just did a simple \"round trip\" back to where it started. \n",
    "\n",
    "   Suppose instead we wanted to know the *total distance* traveled instead of just the final displacement from the starting position? Then, we would want to know $\\int_{[0,t_f]} \\vert v(t) \\vert$, i.e., we would want to integrate the absolute value of velocity. \n",
    "   \n",
    "   What is $\\int_{[t_0,t_f]}\\vert v(t) \\vert$?\n",
    "   \n",
    "   In this case, we know that this means we are integrating a function that is constant over all time. If an object moves at a constant *speed* (speed is the absolute value of velocity), then we should be able to figure out the total distance it traveled. This is easier when considering units. Suppose $v(t)$ is described in miles per hour, which we rewrite as $\\frac{\\text{miles}}{\\text{hour}}$. It sure seems like if we just multiplied by the total number of hours the object was moving, then we would get the total number of miles the object traveled because \n",
    "   $$\n",
    "       \\frac{\\text{miles}}{\\text{hour}}\\text{hour} = \\text{miles},\n",
    "   $$\n",
    "   i.e., the \"hours\" cancel out.\n",
    "   \n",
    "   So, in this example, $\\int_{[t_0,t_f]} \\vert v(t) \\vert| = 5(t_f-t_0)$.\n",
    "   \n",
    "   Let's visualize these last two results."
   ]
  },
  {
   "cell_type": "code",
   "execution_count": null,
   "metadata": {},
   "outputs": [],
   "source": [
    "def v(t,t_f):\n",
    "    n = len(t)\n",
    "    vs = np.zeros(n)\n",
    "    for i in range(n):\n",
    "        if t[i]<t_f/2:\n",
    "            vs[i] = 5\n",
    "        else:\n",
    "            vs[i] = -5\n",
    "    return vs"
   ]
  },
  {
   "cell_type": "code",
   "execution_count": null,
   "metadata": {},
   "outputs": [],
   "source": [
    "t_0 = 0\n",
    "t_f = 10 # integral limits\n",
    "t = np.linspace(t_0, t_f)\n",
    "\n",
    "fig, ax = plt.subplots()\n",
    "ax.plot(t, np.abs(v(t,t_f)), 'r', linewidth=2)\n",
    "ax.set_ylim(bottom=0)\n",
    "\n",
    "# Make the shaded region\n",
    "it = np.linspace(t_0, t_f)\n",
    "iv = np.abs(v(it,t_f))\n",
    "verts = [(t_0, 0), *zip(it, iv), (t_f, 0)]\n",
    "poly = Polygon(verts, facecolor='0.9', edgecolor='0.5')\n",
    "ax.add_patch(poly)\n",
    "\n",
    "ax.text(0.5 * (t_0 + t_f), 2.5, r\"$\\int_{[t_0,t_f]} \\vert v(t)\\vert=5(t_f-t_0)$\",\n",
    "        horizontalalignment='center', fontsize=20)\n",
    "\n",
    "\n",
    "\n",
    "ax.spines['right'].set_visible(False)\n",
    "ax.spines['top'].set_visible(False)\n",
    "ax.xaxis.set_ticks_position('bottom')\n",
    "\n",
    "ax.set_xticks((t_0, t_f))\n",
    "ax.set_xticklabels(('$t_0$', '$t_f$'), fontsize=20);"
   ]
  },
  {
   "cell_type": "code",
   "execution_count": null,
   "metadata": {},
   "outputs": [],
   "source": [
    "t_0 = 0\n",
    "t_f = 10 # integral limits\n",
    "t = np.linspace(t_0, t_f, 101)\n",
    "\n",
    "fig, ax = plt.subplots()\n",
    "ax.plot(t, v(t,t_f), 'r', linewidth=2)\n",
    "\n",
    "# Make the shaded region\n",
    "it = np.linspace(t_0, t_f, 101)\n",
    "iv = v(it,t_f)\n",
    "verts = [(t_0, 0), *zip(it, iv), (t_f, 0)]\n",
    "poly = Polygon(verts, facecolor='0.9', edgecolor='0.5')\n",
    "ax.add_patch(poly)\n",
    "\n",
    "ax.text(0.75 * (t_0 + t_f), 2.5, r\"$\\int_{[t_0,t_f]} v(t)=0$\",\n",
    "        horizontalalignment='center', fontsize=20)\n",
    "\n",
    "ax.axhline(0, linewidth=1, c='k') #plot $v=0$ line to more clearly demonstrate the positive/negative parts\n",
    "\n",
    "ax.spines['right'].set_visible(False)\n",
    "ax.spines['top'].set_visible(False)\n",
    "ax.xaxis.set_ticks_position('bottom')\n",
    "\n",
    "ax.set_xticks((t_0, t_f))\n",
    "ax.set_xticklabels(('$t_0$', '$t_f$'), fontsize=20);"
   ]
  },
  {
   "cell_type": "markdown",
   "metadata": {},
   "source": [
    "## What do we see?\n",
    "\n",
    "It appears that these integrals are just given by numbers associated with the *areas* of the shaded rectangles. \n",
    "\n",
    "In particular, $\\int_{[t_0,t_f]} |v(t)|$ is exactly the area of the single shaded rectangle.\n",
    "\n",
    "On the other hand, $\\int_{[t_0,t_f]} v(t)$ is given by the area of the rectangle above the $t$-axis *minus* the area of the rectangle below the $t$-axis. They appear to *cancel* each other out. In fact, if we think of areas as being *signed* so that any area above a horizontal axis is positive and any area below the horizontal axis is negative, then we see that $\\int_{[t_0,t_f]} v(t)$ is actually the sum of the *signed* areas. \n",
    "\n",
    "This actually leads us to a useful conceptualization of integrals in terms of \"sizes\" of positive and negative regions of a function over a set. \n",
    "\n",
    "Below, we visualize what the sign of an integral is for a function in terms of what dominates: the positive or negative areas."
   ]
  },
  {
   "cell_type": "code",
   "execution_count": null,
   "metadata": {},
   "outputs": [],
   "source": [
    "from scipy.integrate import quad"
   ]
  },
  {
   "cell_type": "code",
   "execution_count": null,
   "metadata": {},
   "outputs": [],
   "source": [
    "def plot_integral(f, x_min, x_max, a, b):\n",
    "    x = np.linspace(x_min, x_max, 101)\n",
    "    y = f(x)\n",
    "\n",
    "    fig, ax = plt.subplots(figsize=(10,10))\n",
    "    ax.plot(x, y, 'r', linewidth=2)\n",
    "\n",
    "    plt.axhline(0, linewidth=1, linestyle=':', c='k') #plot typical x-axis\n",
    "    \n",
    "    # Make the shaded region\n",
    "    ix = np.linspace(a, b, 101)\n",
    "    iy = f(ix)\n",
    "    verts = [(a, 0), *zip(ix, iy), (b, 0)]\n",
    "    poly = Polygon(verts, facecolor='0.9', edgecolor='0.5')\n",
    "    ax.add_patch(poly)\n",
    "\n",
    "    int_ab = quad(f, a, b)[0]\n",
    "    \n",
    "    ax.set_title(r\"$\\int_a^b f(x)\\mathrm{d}x \\approx $ %3.2f\" %int_ab, fontsize=20)\n",
    "\n",
    "    ax.spines['right'].set_visible(False)\n",
    "    ax.spines['top'].set_visible(False)\n",
    "    ax.xaxis.set_ticks_position('bottom')\n",
    "\n",
    "    ax.set_xticks((a, b))\n",
    "    ax.set_xticklabels(('$a$', '$b$'))"
   ]
  },
  {
   "cell_type": "code",
   "execution_count": null,
   "metadata": {
    "scrolled": false
   },
   "outputs": [],
   "source": [
    "%reset -f out\n",
    "\n",
    "interact(plot_integral, \n",
    "         f = widgets.fixed(lambda x: (x + 1) * (x - 5) * np.sin(3*x)),\n",
    "         x_min = widgets.fixed(-1),\n",
    "         x_max = widgets.fixed(5),\n",
    "         a = widgets.FloatSlider(value=2, min=-1, max=5, step=0.1),\n",
    "         b = widgets.FloatSlider(value=4, min=-1, max=5, step=0.1));"
   ]
  },
  {
   "cell_type": "markdown",
   "metadata": {},
   "source": [
    "### These are just 1-dimensional examples\n",
    "\n",
    "Above, we have just looked at functions with univariate inputs. We see that the integral is related to the *signed* area between the curve defined by the function and the axis defined by the input.\n",
    "\n",
    "This can be conceptually extended to functions with multivariate inputs. Suppose $f(x)$ is a real-valued function, but $x=(x_1,x_2)$ is a point in $\\mathbb{R}^2$. Then, for a set $A\\subset\\mathbb{R}^2$, the integral $\\int_A f(x)$ is related to the *signed volume* between the *surface* given by the graph of $f(x)$ over $A$ and the horizontal *plane* defined by the 2-dimensional input.\n",
    "\n",
    "Generalizing the concept of area/volume is necessary to describe integrals in geometric terms when the inputs are three-dimensional or higher. \n",
    "\n",
    "We can pretty much stick with 1-dimensional examples to explore the typical numerical algorithms used to estimate integrals although some of the strengths and weaknesses of these algorithms are not apparent until we get to higher dimensions. Keep that in mind."
   ]
  },
  {
   "cell_type": "markdown",
   "metadata": {},
   "source": [
    "## Part (ii) Numerical integration algorithms\n",
    "\n",
    "There are lots of algorithms to perform numerical integration, e.g., see https://en.wikipedia.org/wiki/Numerical_integration\n",
    "\n",
    "While we are going to explore how to implement some of these algorithms as in-class exercises, our learning objectives go beyond simple correct implementation. We will also consider what it means to do the following:\n",
    "\n",
    "- *compare* different algorithms developed for solving the same generic problem;\n",
    "\n",
    "- use this comparison to *choose* the \"right\" algorithm for solving a *specific* problem;\n",
    "\n",
    "- develop a module that encodes various algorithms and a *wrapper* function that automatically chooses which algorithm to apply based on the inputs.\n",
    "\n",
    "Some of this is done in-class while other parts are left for homework."
   ]
  },
  {
   "cell_type": "markdown",
   "metadata": {},
   "source": [
    "## Geometric methods (Approx. time: 45 minutes)\n",
    "---\n",
    "\n",
    "Many of the deterministic approaches to estimating integrals are based on partitioning $A$ (i.e., cutting up the set $A$ into a non-overlapping collection of subsets although we allow for shared boundaries between the subsets) such that the signed \"areas\" (or \"volume\" or generalizations of volume) between the graph of $f(x)$ and these subsets drawn on the horizontal axis (or plane or hyperplane) defined by the inputs are well-approximated by a simple geometric object for which we know the area (or volume or generalization of volume).\n",
    "\n",
    "The simplest such methods for 1-D problems involve the use of rectangles. Moreover, when $A$ is simply an interval, we typically choose the partition of $A$ to be equally sized sub-intervals and approximate the signed area of $f(x)$ over each subinterval using a rectangle that is as wide as the sub-interval with height given by the evaluation of $f(x)$ at some point in the sub-interval. Then, adding up all the signed areas of rectangles gives an approximation to the integral. This is visualized below where we provide some options about where we can evaluate the function $f(x)$. "
   ]
  },
  {
   "cell_type": "code",
   "execution_count": null,
   "metadata": {},
   "outputs": [],
   "source": [
    "def plot_rectangle_rules(f, x_min, x_max, a, b, N_rect, rule='left'):\n",
    "    x = np.linspace(x_min, x_max, 101)\n",
    "    y = f(x)\n",
    "\n",
    "    fig, ax = plt.subplots(figsize=(10,10))\n",
    "    ax.plot(x, y, 'r', linewidth=2)\n",
    "\n",
    "    plt.axhline(0, linewidth=1, linestyle=':', c='k') #plot typical x-axis\n",
    "    \n",
    "    # Make the rectangles and approximate integral\n",
    "    ix = np.linspace(a, b, N_rect+1)\n",
    "    Delta_x = ix[1]-ix[0]\n",
    "    \n",
    "    if rule == 'left':\n",
    "        iy = f(ix[0:-1])\n",
    "    elif rule == 'right':\n",
    "        iy = f(ix[1:])\n",
    "    else:\n",
    "        iy = f(ix[0:-1]+0.5*Delta_x)\n",
    "    \n",
    "    rects = []\n",
    "    for i in range(N_rect):\n",
    "        rects.append(Rectangle((ix[i],0), Delta_x, iy[i]))\n",
    "        \n",
    "    # Create patch collection with specified colour/alpha\n",
    "    pc = PatchCollection(rects, facecolor='0.9', alpha=0.5,\n",
    "                         edgecolor='0.5')\n",
    "    ax.add_collection(pc)\n",
    "    \n",
    "    int_approx = np.sum(iy)*Delta_x           \n",
    "    \n",
    "    int_ab = quad(f, a, b)[0]\n",
    "    \n",
    "    ax.set_title(r\"$\\int_a^b f(x)\\mathrm{d}x = %3.2f \\approx $ Sum of Rect. Areas = %3.2f\" \n",
    "                 %(int_ab, int_approx), fontsize=20)\n",
    "\n",
    "    ax.spines['right'].set_visible(False)\n",
    "    ax.spines['top'].set_visible(False)\n",
    "    ax.xaxis.set_ticks_position('bottom')\n",
    "\n",
    "    ax.set_xticks((a, b))\n",
    "    ax.set_xticklabels(('$a$', '$b$'))"
   ]
  },
  {
   "cell_type": "code",
   "execution_count": null,
   "metadata": {},
   "outputs": [],
   "source": [
    "%reset -f out\n",
    "\n",
    "interact(plot_rectangle_rules, \n",
    "         f = widgets.fixed(lambda x: (x + 1) * (x - 5) * np.sin(3*x)),\n",
    "         x_min = widgets.fixed(-1),\n",
    "         x_max = widgets.fixed(5),\n",
    "         a = widgets.FloatSlider(value=2, min=-1, max=5, step=0.1),\n",
    "         b = widgets.FloatSlider(value=4, min=-1, max=5, step=0.1),\n",
    "         N_rect = widgets.IntSlider(value=3, min=1, max=10),\n",
    "         rule=['left', 'right', 'middle']);"
   ]
  },
  {
   "cell_type": "markdown",
   "metadata": {},
   "source": [
    "## Activity\n",
    "\n",
    "Create a function that computes the left-, right-, and midpoint-rules over a list/array of number of rectangles and compute/plot the errors as a function of number of rectangles on a log-log plot. Do this for a number of lambda functions."
   ]
  },
  {
   "cell_type": "code",
   "execution_count": null,
   "metadata": {},
   "outputs": [],
   "source": []
  },
  {
   "cell_type": "code",
   "execution_count": null,
   "metadata": {},
   "outputs": [],
   "source": []
  },
  {
   "cell_type": "markdown",
   "metadata": {},
   "source": [
    "## [Monte Carlo (MC) Integration](https://en.wikipedia.org/wiki/Monte_Carlo_integration) (Approx. time: 1 hour and 30 minutes)\n",
    "---\n"
   ]
  },
  {
   "cell_type": "markdown",
   "metadata": {},
   "source": [
    "The basic idea is to estimate $\\int_A f(x)$ using the *average* of a random sample of $f(x)$ values. \n",
    "\n",
    "The question is this: how do we generate a random sample of $f(x)$ values to do this?\n",
    "\n",
    "Well, we generate a random sample of $x$ values in the set $A$, and then evaluate the function $f$ at these random inputs. Then, we simply compute the sample average of $A$. \n",
    "\n",
    "Are there any sticky points to this?\n",
    "\n",
    "Well, a few simple examples will illustrate just about all you possibly need to know.\n",
    "\n",
    "Suppose $f(x)=5$ on $[0,1]$. From our previous example involving velocity and conceptualizing the integral of a real-valued function with a univariate input as the signed area between the curve and horizontal axis, we know that $\\int_{[0,1]} 5 = 5(1-0)=5$. So, this is what our MC estimate should be approximating.\n",
    "\n",
    "In fact, for any random sample of $x$-values between $[0,1]$, we will *always* get that the corresponding function values are *all* 5 because $f(x)$ is a constant 5 on this interval. So, what would the sample average be of these randomly sampled function values? Well, 5 of course! Whoa! The MC estimate is *exact* in this case. Great!\n",
    "\n",
    "What if $f(x)=5$ on $[0,2]$? So, all we have done is change the set from $[0,1]$ to $[0,2]$. We know the exact answer should now be $\\int_{[0,2]} 5 = 5(2-0)=10$. However, by the same reasoning, any random sample of $f(x)$ values will produce a sample average of $5$ not $10$. \n",
    "\n",
    "What if $f(x)=5$ on $[0,0.5]$? Again, the exact answer is $\\int_{[0,0.5]} 5 = 5(0.5-2)=2.5$, yet any sample average of $f(x)$ values will produce $5$ not $2.5$. \n",
    "\n",
    "So, what is going on? Well, we need to *weight* the sample average by the *size* of the set $A$. \n",
    "\n",
    "In summary, if $\\{x_i\\}_{i=1}^N \\subset A$ is a *uniform* random sample from the set $A$, and we let $\\mu(A)$ denote the *measure* (i.e., size) of $A$, then an MC estimate of the integral is given by\n",
    "$$\n",
    "    \\int_A f(x) \\approx \\mu(A)\\frac{1}{N}\\sum_{i=1}^N f(x_i).\n",
    "$$\n",
    "\n",
    "Let's play with this below and discuss what we are seeing."
   ]
  },
  {
   "cell_type": "code",
   "execution_count": null,
   "metadata": {},
   "outputs": [],
   "source": [
    "def plot_MC_1D(f, a, b, x_min, x_max, N_MC):\n",
    "    x = np.linspace(x_min, x_max, 101)\n",
    "    y = f(x)\n",
    "    \n",
    "    x_random = np.random.uniform(low=a, high=b, size=int(N_MC))\n",
    "    mu_A = b-a #mu_A=measure (size) of A\n",
    "    \n",
    "    fig, ax = plt.subplots()\n",
    "    ax.plot(x, y, 'r', linewidth=2)\n",
    "\n",
    "    plt.axhline(0, linewidth=1, linestyle=':', c='k') #plot typical x-axis\n",
    "    \n",
    "    # Make the shaded region\n",
    "    ix = np.linspace(a, b, 101)\n",
    "    iy = f(ix)\n",
    "    verts = [(a, 0), *zip(ix, iy), (b, 0)]\n",
    "    poly = Polygon(verts, facecolor='0.9', edgecolor='0.5')\n",
    "    ax.add_patch(poly)\n",
    "\n",
    "    avg_func = np.mean(f(x_random))\n",
    "    MC_est = mu_A * avg_func\n",
    "    \n",
    "    # Make a rectangle corresponding to the MC_est\n",
    "    verts = [(a, 0), (a, avg_func), (b, avg_func) , (b, 0)]\n",
    "    rect = Polygon(verts, facecolor='b', alpha=0.25, edgecolor='0.5')\n",
    "    ax.add_patch(rect)\n",
    "    \n",
    "    ax.set_title(r\"$\\int_a^b f(x)\\mathrm{d}x \\approx \\frac{b-a}{N}\\sum_{i=1}^N f(x_i)$ %3.2f\" %MC_est, fontsize=20)\n",
    "\n",
    "    ax.spines['right'].set_visible(False)\n",
    "    ax.spines['top'].set_visible(False)\n",
    "    ax.xaxis.set_ticks_position('bottom')\n",
    "\n",
    "    ax.set_xticks((a, b))\n",
    "    ax.set_xticklabels(('$a$', '$b$'))\n",
    "  "
   ]
  },
  {
   "cell_type": "code",
   "execution_count": null,
   "metadata": {},
   "outputs": [],
   "source": [
    "%reset -f out\n",
    "\n",
    "# Using an interact_manual widget so that we can re-run easily to observe\n",
    "# the variations in the MC estimates due to random sampling.\n",
    "\n",
    "interact_manual(plot_MC_1D, \n",
    "         f = widgets.fixed(lambda x: (x + 1) * (x - 5) * np.sin(3*x)),\n",
    "         x_min = widgets.fixed(-1),\n",
    "         x_max = widgets.fixed(5),\n",
    "         a = widgets.FloatSlider(value=1, min=-1, max=5, step=0.1),\n",
    "         b = widgets.FloatSlider(value=2.5, min=-1, max=5, step=0.1),\n",
    "         N_MC = widgets.IntSlider(value=1E2, min=10, max=1E4, step=10))"
   ]
  },
  {
   "cell_type": "markdown",
   "metadata": {},
   "source": [
    "## Activity\n",
    "\n",
    "***To-Do:*** Something with a function computing 1-D MC estimates over intervals and repeating the computation to compute statistics of errors that are plotted. "
   ]
  },
  {
   "cell_type": "code",
   "execution_count": null,
   "metadata": {},
   "outputs": [],
   "source": []
  },
  {
   "cell_type": "code",
   "execution_count": null,
   "metadata": {},
   "outputs": [],
   "source": []
  },
  {
   "cell_type": "markdown",
   "metadata": {},
   "source": [
    "## What if the set $A$ is complicated?\n",
    "\n",
    "The typical built-in random number generators available in `numpy.random` or `scipy.stats` are great for generating random numbers/vectors in *nice* geometric sets like intervals in 1-D, rectangles in 2-D, rectangular boxes in 3-D, and generalizations of rectangular boxes in higher-dimensions. \n",
    "\n",
    "But, what if $A$ is not an interval or box-shaped? What if we can only describe $A$ in terms of relationships to other points or other geometric shapes? \n",
    "\n",
    "Well, we can do something referred to as accept-reject (sometimes just called rejection) sampling. \n",
    "\n",
    "Basically, we create a \"dart board\" out of a simple object (like a box) that *contains* the set $A$. The set $A$ is the \"target\" of the dart board. We generate random numbers/vectors in the simple object (i.e., we \"throw darts at the board\") and *check* if these are in $A$ (i.e., we check if a \"dart hits the target\"). \n",
    "\n",
    "Let's illustrate when $A$ is a unit disk in $\\mathbb{R}^2$ that we fit into the dart board defined by the square $[-1,1]\\times[-1,1]$."
   ]
  },
  {
   "cell_type": "code",
   "execution_count": null,
   "metadata": {},
   "outputs": [],
   "source": [
    "def plot_MC_disk_dart(N_MC):\n",
    "\n",
    "    fig, ax = plt.subplots(figsize=(10,10))\n",
    "    \n",
    "    ax.set_xlim([-1,1])\n",
    "    ax.set_ylim([-1,1])\n",
    "    ax.set_aspect(1)\n",
    "    \n",
    "    A = plt.Circle((0, 0), 1, color='r', alpha=0.1)\n",
    "    ax.add_artist(A)\n",
    "    \n",
    "    #throw darts at circumscribing square\n",
    "    darts = np.random.uniform(low=-1, high=1, size=(int(N_MC),2))\n",
    "    \n",
    "    #check which darts hit the target\n",
    "    idx_in_A = np.where(np.linalg.norm(darts,2,axis=1)<1)[0]\n",
    "    idx_not_in_A = np.where(np.linalg.norm(darts,2,axis=1)>1)[0]\n",
    "    \n",
    "    ax.scatter(darts[idx_in_A,0], darts[idx_in_A,1], s=20, marker='x', c='k')\n",
    "    \n",
    "    ax.scatter(darts[idx_not_in_A,0], darts[idx_not_in_A,1], s=20, marker='o', c='b')\n",
    "    \n",
    "    mu_A_est = len(idx_in_A)/N_MC * 4\n",
    "\n",
    "    ax.set_title(r\"$\\mu(A)\\approx \\mu$(dart board)$\\times$(percent of darts in $A$) $\\approx$ %3.2f\" \n",
    "                 %mu_A_est, fontsize=20)"
   ]
  },
  {
   "cell_type": "code",
   "execution_count": null,
   "metadata": {},
   "outputs": [],
   "source": [
    "%reset -f out\n",
    "\n",
    "# Using an interact_manual widget so that we can re-run easily to observe\n",
    "# the variations in the MC estimates due to random sampling.\n",
    "\n",
    "interact_manual(plot_MC_disk_dart, \n",
    "                N_MC = widgets.IntSlider(value=1E2, min=10, max=1E4, step=10))"
   ]
  },
  {
   "cell_type": "markdown",
   "metadata": {},
   "source": [
    "## Activity\n",
    "\n",
    "1. Based on the code above, create a new function in the code cell below that estimates and visualizes the values of integrals of some functions $f$ over the unit circle.\n",
    "\n",
    "2. Run some tests for different `lambda` functions. \n",
    "\n",
    "3. Repeat this for different types of sets $A$ such as ellipses."
   ]
  },
  {
   "cell_type": "code",
   "execution_count": null,
   "metadata": {},
   "outputs": [],
   "source": []
  },
  {
   "cell_type": "code",
   "execution_count": null,
   "metadata": {},
   "outputs": [],
   "source": []
  },
  {
   "cell_type": "code",
   "execution_count": null,
   "metadata": {},
   "outputs": [],
   "source": []
  },
  {
   "cell_type": "markdown",
   "metadata": {},
   "source": [
    "## Activity\n",
    "\n",
    "1. Write a function to perform MC integration to estimate the \"amount of yellow\" in pacman (shown below) for different values of `mouth_angle`. Test this function.\n",
    "\n",
    "2. Write a modified function to perform MC integration of a function defined on the yellow parts of pacman for different values of `mouth_angle`. Test this function."
   ]
  },
  {
   "cell_type": "code",
   "execution_count": null,
   "metadata": {},
   "outputs": [],
   "source": [
    "def plot_pacman(mouth_angle = np.pi/4):\n",
    "    fig, ax = plt.subplots(figsize=(10,10))\n",
    "    \n",
    "    ax.set_xlim([-1,1])\n",
    "    ax.set_ylim([-1,1])\n",
    "    ax.set_aspect(1)\n",
    "    \n",
    "    resolution = 200\n",
    "    pacman_x = np.zeros(resolution)\n",
    "    pacman_y = np.zeros(resolution)\n",
    "    \n",
    "    theta = np.linspace(mouth_angle, 2*np.pi-mouth_angle, 199)\n",
    "    pacman_x[1:] = np.cos(theta)\n",
    "    pacman_y[1:] = np.sin(theta)\n",
    "           \n",
    "    verts = [*zip(pacman_x, pacman_y)]\n",
    "    \n",
    "    head = Polygon(verts, facecolor='y', edgecolor='0.5', alpha=0.75)\n",
    "    ax.add_patch(head)\n",
    "    \n",
    "    #Let's add an eye :-)\n",
    "    eye = plt.Circle((-0.25, 0.5), 0.1, color='w')# edgecolor='k')\n",
    "    ax.add_artist(eye)"
   ]
  },
  {
   "cell_type": "code",
   "execution_count": null,
   "metadata": {
    "scrolled": false
   },
   "outputs": [],
   "source": [
    "%reset -f out\n",
    "\n",
    "interact(plot_pacman,\n",
    "         mouth_angle = widgets.FloatSlider(value=np.pi/6,min=0,max=np.pi/3,step=np.pi/100));"
   ]
  },
  {
   "cell_type": "code",
   "execution_count": null,
   "metadata": {},
   "outputs": [],
   "source": []
  }
 ],
 "metadata": {
  "anaconda-cloud": {},
  "kernelspec": {
   "display_name": "Python 3",
   "language": "python",
   "name": "python3"
  },
  "language_info": {
   "codemirror_mode": {
    "name": "ipython",
    "version": 3
   },
   "file_extension": ".py",
   "mimetype": "text/x-python",
   "name": "python",
   "nbconvert_exporter": "python",
   "pygments_lexer": "ipython3",
   "version": "3.7.6"
  }
 },
 "nbformat": 4,
 "nbformat_minor": 1
}
