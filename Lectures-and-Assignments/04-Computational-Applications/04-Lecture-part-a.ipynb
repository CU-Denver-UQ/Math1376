{
 "cells": [
  {
   "cell_type": "markdown",
   "metadata": {},
   "source": [
    "# Math  1376: Programming for Data Science\n",
    "---"
   ]
  },
  {
   "cell_type": "code",
   "execution_count": 1,
   "metadata": {},
   "outputs": [],
   "source": [
    "import numpy as np #We will use numpy in this lecture\n",
    "import matplotlib.pyplot as plt\n",
    "%matplotlib inline"
   ]
  },
  {
   "cell_type": "markdown",
   "metadata": {},
   "source": [
    "## Lecture 4: Some useful applications of Lectures 1-3\n",
    "\n",
    "In this lecture, we will now pull together material across our first three lectures to solve some practical problems. \n",
    "\n",
    "You may find it useful to review those lectures beforehand or just simply open the notebooks corresponding to each lecture as necessary. \n",
    "\n",
    "While there are a seemingly endless number of practical problems we can attempt to solve with what we have learned so far, we will focus on three ubiquitous problems in the computational sciences.\n",
    "\n",
    "- Root-finding. \n",
    "- Numerical integration.\n",
    "- Optimization.\n",
    "\n",
    "While we may make passing reference to certain calculus concepts, you do *not* need to know calculus to follow the narratives. (This, of course, is not to say that you should not seek to master calculus at some point.)\n",
    "\n",
    "To make this lecture more manageable, we will break it up into two smaller notebooks focused on root-finding and numerical integration. The homework assignments will make connections to optimization.\n",
    "\n",
    "In this notebook, we further break-up the root-finding into two types of algorithms to help you manage your time."
   ]
  },
  {
   "cell_type": "markdown",
   "metadata": {},
   "source": [
    "## Part (a): Root-finding\n",
    "\n",
    "---\n",
    "\n",
    "### What is it?\n",
    "\n",
    "Simply put, given $f(x)$, a root of the function is some point $x=c$ such that $f(c)=0$. \n",
    "\n",
    "In other words, the ***roots*** of a function are the *inputs* that make the *output* equal to zero. \n",
    "\n"
   ]
  },
  {
   "cell_type": "markdown",
   "metadata": {},
   "source": [
    "### lambda functions for simple examples\n",
    "\n",
    "We only mentioned these briefly in the last lecture in the context of list comprehensions. They do prove to be useful things in the context of this lecture. \n",
    "\n",
    "What is a `lambda` function? You can read quite a bit about such functions [here](https://www.w3schools.com/python/python_lambda.asp) or [here](https://realpython.com/python-lambda/).\n",
    "\n",
    "The main takeaway is that if you have a simple type of \"anonymous\" function that you just need for a short period of time in your code, then a lambda function is probably right for you. It is *not* necessary to use these, but they are useful. \n",
    "\n",
    "A generic use syntax we care about would look something like this:\n",
    "\n",
    "> ```f = lambda arguments : expression ```\n",
    "\n",
    "See below for an example in the context of plotting the roots of a function `f` defined using a `lambda`.\n",
    "\n",
    "Pay attention to how we use these types of functions in this lecture. They are completely anonymous functions that we pass as arguments into algorithms so that we can study how the algorithms perform on different types of functions without having to formally declare/create the functions elsewhere in the code."
   ]
  },
  {
   "cell_type": "code",
   "execution_count": 2,
   "metadata": {},
   "outputs": [],
   "source": [
    "f = lambda x : x**3 - x - 2  #defining f(x) = x^3-x-2"
   ]
  },
  {
   "cell_type": "code",
   "execution_count": 3,
   "metadata": {},
   "outputs": [
    {
     "data": {
      "image/png": "[encoded data removed]",
      "text/plain": [
       "<Figure size 720x360 with 1 Axes>"
      ]
     },
     "metadata": {
      "needs_background": "light"
     },
     "output_type": "display_data"
    }
   ],
   "source": [
    "x = np.linspace(-1,2,100)\n",
    "\n",
    "plt.figure(figsize=(10,5))\n",
    "plt.plot(x,f(x),'b',linewidth=2) #plot of function f\n",
    "plt.axvline(0, linewidth=1, linestyle=':', c='k') #plot typical y-axis\n",
    "plt.axhline(0, linewidth=1, linestyle=':', c='k') #plot typical x-axis\n",
    "\n",
    "c = 1.521 #approximate root\n",
    "plt.scatter(c,f(c),s=70,c='r',marker='s') #plot approximate root\n",
    "\n",
    "###########################################\n",
    "## Now for some fancier plotting options ##\n",
    "###########################################\n",
    "\n",
    "# Let's create a text string for the title that formats certain floating point numbers\n",
    "title_str = 'Approx. root at c=' + str(c) + r' with f(c)$\\approx$' + '{:.2e}'.format(f(c))\n",
    "plt.title(title_str, fontsize=14)\n",
    "\n",
    "# Now let's annotate the plot with some text and arrows\n",
    "\n",
    "# First, we define the dict (dictionary) of properties of items used in the annotation\n",
    "bbox = dict(boxstyle=\"round\", fc='b', color='r', alpha=0.25, linewidth=2) #This is the property dict for bounding box of text\n",
    "arrowprops = dict(arrowstyle='->', facecolor='black', alpha=0.5, linewidth=2) #This is the property dict for the arrow\n",
    "\n",
    "# Now annotate the plot\n",
    "plt.annotate('Approx. root', fontsize=12, xy=(c,f(c)), xytext=(c-1.25,1), color='w',\n",
    "             bbox = bbox, arrowprops=arrowprops);"
   ]
  },
  {
   "cell_type": "markdown",
   "metadata": {},
   "source": [
    "Of course, the above just gives the *what* but not the *why*. \n",
    "\n",
    "### Why should we care?\n",
    "\n",
    "Is there anything particularly important about a function being zero? In general, the answer is no. However, it depends on the function and the goals of the problem/application for which the function is some model of system behavior. \n",
    "\n",
    "Root-problems naturally arise in optimization of *smooth* phenomena. Before we discuss how this happens, let's address some terminology. What does *smooth* mean? For the purposes of this discussion, it means the function has as many *derivatives* as we require. What is a *derivative*? It is a concept from calculus, but here you can just think of it in very physical terms: the derivative of position as a function of time is velocity, the derivative of velocity as a function of time is acceleration, etc. (is there a physically meaningful derivative of acceleration? Yes! It is called the *jerk*, and I do not mean in the context \"This lying jerk said we didn't need to know calculus!\"). \n",
    "\n",
    "Anyway, suppose a function $h(t)$ describes the *height* of a launched projectile (e.g., a ball, missile, satellite, etc.) and we wish to know the times $t$ over some range of times $[t_0,t_f]$ when the projectile reaches its maximum and minimum heights. Let $f(t)$ denote the first derivative of $h(t)$. Then, the solutions to $f(t)=0$ (i.e., the roots of $f(t)$) give the potential times of maximum/minimum heights. We can then evaluate $h$ at all the roots of $f$ to determine what the heights are at these *critical* values. \n",
    "\n",
    "What if there are two launched projectiles with two height functions denoted by $h_1(t)$ and $h_2(t)$, and we are very interested when, or even *if*, there is a time where $h_1(t)=h_2(t)$ (i.e., is there a time where the objects collide)? This is an important question that arises in missile defense systems, satellite monitoring, and autonomous vehicle guidance systems. Well, define $f(t)=h_1(t)-h_2(t)$. Guess what, now you are interested in knowing whether or not $f(t)=0$. \n",
    "\n",
    "A simple variant of the previous problem description comes from the world of finance. Suppose $p(t)$ describes a model you develop for the price of an investment that you are considering (it could be in a savings/money market account, stock, or mutual fund to name just a few). You are probably interested in knowing when your model predicts the price to reach a certain target value, $p_{target}$, so that you can develop certain financial plans/goals around this time frame (e.g., having enough for a down payment on a car or house, take a vacation, or retire). "
   ]
  },
  {
   "cell_type": "markdown",
   "metadata": {},
   "source": [
    "### And these are solved how?\n",
    "\n",
    "There are lots of algorithms that attempt to approximate the roots of a function, e.g., see https://en.wikipedia.org/wiki/Root-finding_algorithms. \n",
    "\n",
    "Most algorithms are *iterative*. Some are very easy to implement. Some are more difficult. Generally, the easier something is to implement, the more restrictive the conditions are under which we expect it to produce anything meaningful. \n",
    "\n",
    "While we are going to explore how to implement some of these algorithms as activities below, our learning objectives go beyond simple correct implementation. We will also consider what it means to do the following:\n",
    "\n",
    "- *compare* different algorithms developed for solving the same generic problem;\n",
    "\n",
    "- use this comparison to *choose* the \"right\" algorithm for solving a *specific* problem;\n",
    "\n",
    "- develop a module that encodes various algorithms and a *wrapper* function that automatically chooses which algorithm to apply based on the inputs.\n",
    "\n",
    "Some of this is done in-class while other parts are left for homework."
   ]
  },
  {
   "cell_type": "markdown",
   "metadata": {},
   "source": [
    "## Part (i): Bracketing methods (Approx. time: 1 hour)"
   ]
  },
  {
   "cell_type": "markdown",
   "metadata": {},
   "source": [
    "## Bisection algorithm (https://en.wikipedia.org/wiki/Bisection_method)\n",
    "\n",
    "---\n",
    "\n",
    "The basic idea is best illustrated by an interactive demo.\n",
    "\n",
    "We use widgets to create the interactivity. Widgets are very useful for illustrating concepts and exploring ideas."
   ]
  },
  {
   "cell_type": "code",
   "execution_count": 4,
   "metadata": {},
   "outputs": [],
   "source": [
    "# Usually place these at the top of a notebook if you know you are going to use widgets\n",
    "# This cell only needs to be executed once\n",
    "from ipywidgets import interact, interactive, fixed, interact_manual\n",
    "import ipywidgets as widgets"
   ]
  },
  {
   "cell_type": "code",
   "execution_count": 5,
   "metadata": {},
   "outputs": [],
   "source": [
    "# This cell creates a plotting function that we use widgets to interact with in the following cell\n",
    "\n",
    "def plot_bisection(f, a, b, x_min, x_max, grid_pts = 100):\n",
    "    fig = plt.figure(figsize=(10,5))\n",
    "    x = np.linspace(x_min,x_max,grid_pts)\n",
    "    #Plot curve, axes, and points\n",
    "    plt.plot(x,f(x),'b',linewidth=2) #plot of function f\n",
    "    plt.axvline(0, linewidth=1, linestyle=':', c='k') #plot typical y-axis\n",
    "    plt.axhline(0, linewidth=1, linestyle=':', c='k') #plot typical x-axis\n",
    "    plt.scatter(a,f(a),s=70,c='k')\n",
    "    plt.scatter(b,f(b),s=70,c='k') \n",
    "    c = (b+a)/2\n",
    "    plt.scatter(c,f(c),s=70,c='r')\n",
    "    #Add some info to the plot\n",
    "    title_str = 'Approx. root is ' + '{:.3}'.format(c) + '. Use this to update interval [a,b].'\n",
    "    plt.title(title_str, fontsize=14)\n",
    "    # First, we define the dict (dictionary) of properties of items used in the annotation\n",
    "    bbox_pt = dict(boxstyle='round', fc='0.9')\n",
    "    bbox_text = dict(boxstyle=\"round\", fc='b', color='r', alpha=0.25, linewidth=2) \n",
    "    arrowprops = dict(arrowstyle='->', facecolor='black', alpha=0.5, linewidth=2) \n",
    "    y_min, y_max = plt.ylim() #get min and max y-values from plot to offset annotations\n",
    "    y_range = y_max - y_min\n",
    "    x_range = x_max - x_min\n",
    "    plt.annotate('Approx. root\\nfrom one\\nstep of bisec.\\nalgorithm', fontsize=12, xy=(c,f(c)), \n",
    "                 xytext=(c-0.2*x_range,f(c)+0.25*y_range), color='w',\n",
    "                 bbox = bbox_text, arrowprops=arrowprops)\n",
    "    plt.annotate(r'$(a,f(a))$', fontsize=12, xy=(a,f(a)), xytext=(a+0.1*x_range,f(a)-0.25*y_range),\n",
    "                 bbox=bbox_pt, arrowprops=arrowprops)\n",
    "    plt.annotate(r'$(b,f(b))$', fontsize=12, xy=(b,f(b)), xytext=(b+0.1*x_range,f(b)-0.25*y_range),\n",
    "                 bbox=bbox_pt, arrowprops=arrowprops)\n",
    "    plt.annotate(r'$(c,f(c))$', fontsize=12, xy=(c,f(c)), xytext=(c+0.1*x_range,f(c)-0.25*y_range),\n",
    "                 bbox=bbox_pt, arrowprops=arrowprops)\n",
    "  "
   ]
  },
  {
   "cell_type": "code",
   "execution_count": 6,
   "metadata": {},
   "outputs": [
    {
     "name": "stdout",
     "output_type": "stream",
     "text": [
      "Flushing output cache (0 entries)\n"
     ]
    },
    {
     "data": {
      "application/vnd.jupyter.widget-view+json": {
       "model_id": "185070d488f54471ac849d632db1ac00",
       "version_major": 2,
       "version_minor": 0
      },
      "text/plain": [
       "interactive(children=(FloatSlider(value=0.5, description='a', max=1.52, min=-1.0, step=0.01), FloatSlider(valu…"
      ]
     },
     "metadata": {},
     "output_type": "display_data"
    },
    {
     "data": {
      "text/plain": [
       "<function __main__.plot_bisection(f, a, b, x_min, x_max, grid_pts=100)>"
      ]
     },
     "execution_count": 6,
     "metadata": {},
     "output_type": "execute_result"
    }
   ],
   "source": [
    "# This magic command below with help \"flush\" outputs to keep memory sizes small if this cell is repeatedly executed\n",
    "%reset -f out\n",
    "\n",
    "interact(plot_bisection, \n",
    "         f = widgets.fixed(lambda x: x**3-x-2),\n",
    "         a = widgets.FloatSlider(value=0.5, min=-1, max=1.52, step=0.01),\n",
    "         b = widgets.FloatSlider(value=1.75, min=1.53, max=2, step=0.01),\n",
    "         x_min = widgets.fixed(-1),\n",
    "         x_max = widgets.fixed(2),\n",
    "         grid_pts = widgets.fixed(100))"
   ]
  },
  {
   "cell_type": "code",
   "execution_count": 7,
   "metadata": {},
   "outputs": [
    {
     "name": "stdout",
     "output_type": "stream",
     "text": [
      "Flushing output cache (1 entries)\n"
     ]
    },
    {
     "data": {
      "application/vnd.jupyter.widget-view+json": {
       "model_id": "77b99ab31b9d4510b2a81b3288de2b3d",
       "version_major": 2,
       "version_minor": 0
      },
      "text/plain": [
       "interactive(children=(FloatSlider(value=0.5, description='a', max=1.52, min=-1.0, step=0.01), FloatSlider(valu…"
      ]
     },
     "metadata": {},
     "output_type": "display_data"
    },
    {
     "data": {
      "text/plain": [
       "<function __main__.plot_bisection(f, a, b, x_min, x_max, grid_pts=100)>"
      ]
     },
     "execution_count": 7,
     "metadata": {},
     "output_type": "execute_result"
    }
   ],
   "source": [
    "%reset -f out\n",
    "\n",
    "interact(plot_bisection, \n",
    "         f = widgets.fixed(lambda x: np.sin(x**3-x-2)),\n",
    "         a = widgets.FloatSlider(value=0.5, min=-1, max=1.52, step=0.01),\n",
    "         b = widgets.FloatSlider(value=1.75, min=1.53, max=2, step=0.01),\n",
    "         x_min = widgets.fixed(0),\n",
    "         x_max = widgets.fixed(3),\n",
    "         grid_pts = widgets.fixed(1000))"
   ]
  },
  {
   "cell_type": "markdown",
   "metadata": {},
   "source": [
    "## Activity\n",
    "\n",
    "1. Create some code cells below.\n",
    "\n",
    "2. In the first cell, create a function `my_bisection` that performs the bisection algorithm. Make sure it tests that the conditions are appropriate for running the bisection algorithm. The output should include an annotated plot of results. \n",
    "\n",
    "3. Test your code on some `lambda` functions."
   ]
  },
  {
   "cell_type": "code",
   "execution_count": null,
   "metadata": {},
   "outputs": [],
   "source": []
  },
  {
   "cell_type": "markdown",
   "metadata": {},
   "source": [
    "## A bisection variant (https://en.wikipedia.org/wiki/Regula_falsi)\n",
    "\n",
    "The basic idea of *regula falsi* (i.e., the false position method) is quite simple. It follows 3 steps starting with an initial guess of an interval $[a,b]$ that may contain a root. \n",
    "\n",
    "1. Make a straight line between $(a,f(a))$ and $(b,f(b))$. \n",
    "\n",
    "2. Compute the $x$-intercept of this line and call that point $c$. \n",
    "\n",
    "3. Compute $f(c)$ and compare the sign to $f(a)$ (or $f(b)$) and update the interval to either $[a,c]$ or $[c,b]$ depending on the result of this comparison.\n",
    "\n",
    "Thus, this is just a variant of the bisection algorithm. The fundamental difference is that instead of using the midpoint of the interval $[a,b]$ as the guess for the root $c$, we use *interpolation* to approximate the function with a simple function (a line) for which it is easy to determine the root. The exact root of this approximating function is then an approximate root of the exact function."
   ]
  },
  {
   "cell_type": "markdown",
   "metadata": {},
   "source": [
    "## Activity\n",
    "\n",
    "1. Create some code cells below.\n",
    "\n",
    "2. Create a new function `plot_falsept` based on the `plot_bisection` function above to visualize the false point method using widgets. Visualize results with some `lambda` functions. \n",
    "\n",
    "3. Create a function `my_falsept` that performs the false point method. Make sure it tests that the conditions are appropriate for running this algorithm. The output show include an annotated plot of results.\n",
    "\n",
    "4. Test your code on some `lambda` functions. "
   ]
  },
  {
   "cell_type": "code",
   "execution_count": null,
   "metadata": {},
   "outputs": [],
   "source": []
  },
  {
   "cell_type": "markdown",
   "metadata": {},
   "source": [
    "## Activity\n",
    "\n",
    "Use a mixture of markdown and code cells below to compare the bisection algorithm and false point method. "
   ]
  },
  {
   "cell_type": "code",
   "execution_count": null,
   "metadata": {},
   "outputs": [],
   "source": []
  },
  {
   "cell_type": "markdown",
   "metadata": {},
   "source": [
    "## Part (ii) \"Iterative\" methods (Approx. time: 1 hour)\n",
    "\n",
    "---\n",
    "\n",
    "I imagine the incredulity you must feel. After all, weren't the above methods iterative?\n",
    "\n",
    "Generally, iterative methods in root-finding problems refer to approaches that require an initial guess of the root instead of an initial interval/set containing the root. These approaches generally rely on defining an *auxiliary* function (i.e., an approximation to the function) that is constructed at the current guess in order to form the next \"best\" guess at the root of the true function. The false-point method somewhat hints at the basic idea of these methods and looks similar to the *secant* method.\n",
    "\n",
    "One of the things you will need to consider is why some methods may be preferred to others in various scenarios. "
   ]
  },
  {
   "cell_type": "markdown",
   "metadata": {},
   "source": [
    "## The secant method (https://en.wikipedia.org/wiki/Secant_method)\n",
    "\n",
    "This is perhaps best explained via an interactive demo. The wiki article actually includes Python code on this simple algorithm, which we copy below before the demo.\n",
    "\n",
    "Can you see where this code can immediately have some difficulty? What would be a good initial check to ensure that the code doesn't \"crash\"? Should a similar check be done at the end of each iteration? "
   ]
  },
  {
   "cell_type": "code",
   "execution_count": 8,
   "metadata": {},
   "outputs": [],
   "source": [
    "#Copied from the wiki article\n",
    "def secant_method(f, x0, x1, iterations):\n",
    "    \"\"\"Return the root calculated using the secant method.\"\"\"\n",
    "    for i in range(iterations):\n",
    "        x2 = x1 - f(x1) * (x1 - x0) / float(f(x1) - f(x0))\n",
    "        x0, x1 = x1, x2\n",
    "    return x2"
   ]
  },
  {
   "cell_type": "code",
   "execution_count": 9,
   "metadata": {},
   "outputs": [],
   "source": [
    "#Copied and edited from the wiki article for demo purposes\n",
    "def secant_method_4_demo(f, x0, x1, iterations):\n",
    "    \"\"\"Return the root calculated using the secant method.\"\"\"\n",
    "    xs = [x0, x1]\n",
    "    fs = [f(x0), f(x1)]\n",
    "    for i in range(iterations):\n",
    "        x2 = x1 - f(x1) * (x1 - x0) / float(f(x1) - f(x0))\n",
    "        x0, x1 = x1, x2\n",
    "        xs.append(x2)\n",
    "        fs.append(f(x2))\n",
    "    return xs, fs"
   ]
  },
  {
   "cell_type": "code",
   "execution_count": 10,
   "metadata": {},
   "outputs": [],
   "source": [
    "def plot_secant(f, x0, x1, n,  x_min, x_max, grid_pts = 100):\n",
    "    fig = plt.figure(figsize=(15,7.5))\n",
    "    x = np.linspace(x_min,x_max,grid_pts)\n",
    "    #Plot curve, axes, and points\n",
    "    plt.plot(x,f(x),'b',linewidth=2) #plot of function f\n",
    "    plt.axvline(0, linewidth=1, linestyle=':', c='k') #plot typical y-axis\n",
    "    plt.axhline(0, linewidth=1, linestyle=':', c='k') #plot typical x-axis\n",
    "    #Now perform the secant method\n",
    "    xs, fs = secant_method_4_demo(f,x0,x1,n)\n",
    "    for i in range(n):\n",
    "        min_idx = np.argmin(xs[i:i+3])\n",
    "        max_idx = np.argmax(xs[i:i+3])\n",
    "        if (min_idx != 2) and (max_idx != 2):\n",
    "            plt.plot([xs[i:i+3][min_idx], xs[i:i+3][max_idx]], \n",
    "                     [fs[i:i+3][min_idx], fs[i:i+3][max_idx]],\n",
    "                     'k', linewidth=1, alpha=0.5)\n",
    "        elif min_idx == 2:\n",
    "            plt.plot([xs[i:i+3][min_idx], xs[i:i+3][max_idx]], \n",
    "                     [0, fs[i:i+3][max_idx]],\n",
    "                     'k', linewidth=1, alpha=0.5)\n",
    "        else:\n",
    "            plt.plot([xs[i:i+3][min_idx], xs[i:i+3][max_idx]], \n",
    "                     [fs[i:i+3][min_idx], 0],\n",
    "                     'k', linewidth=1, alpha=0.5)\n",
    "    plt.plot([xs[i], xs[i]], [0, fs[i]], 'r', linewidth=1, alpha=0.5)\n",
    "    plt.plot([xs[i+1], xs[i+1]], [0, fs[i+1]], 'r', linewidth=1, alpha=0.5)    \n",
    "    plt.scatter(np.array(xs),0*np.array(xs))\n",
    "    #Annotate the plot\n",
    "    title_str = 'The n=' + str(n) + r' iter. of the sec. mtd. gives $f(x_{n+1})\\approx$' + '{:.2e}'.format(fs[-1])\n",
    "    plt.title(title_str, fontsize=18)\n",
    "    bbox = dict(boxstyle=\"round\", fc='b', color='r', alpha=0.25, linewidth=2)\n",
    "    y_min, y_max = plt.ylim() #get min and max y-values from plot to offset annotations\n",
    "    y_range = y_max - y_min\n",
    "    for i in range(n+2):\n",
    "        if fs[i] < 0:\n",
    "            plt.annotate(r'$x_' + str(i) + '$', fontsize=12, xy=(xs[i],y_range*0.05), color='w', bbox = bbox)\n",
    "        else:\n",
    "            plt.annotate(r'$x_' + str(i) + '$', fontsize=12, xy=(xs[i],-y_range*0.05), color='w', bbox = bbox)"
   ]
  },
  {
   "cell_type": "code",
   "execution_count": 11,
   "metadata": {
    "scrolled": false
   },
   "outputs": [
    {
     "data": {
      "application/vnd.jupyter.widget-view+json": {
       "model_id": "9ed11e1dad3a4f448647c25736d1a908",
       "version_major": 2,
       "version_minor": 0
      },
      "text/plain": [
       "interactive(children=(FloatSlider(value=0.5, description='x0', max=2.5, step=0.01), FloatSlider(value=2.0, des…"
      ]
     },
     "metadata": {},
     "output_type": "display_data"
    },
    {
     "data": {
      "text/plain": [
       "<function __main__.plot_secant(f, x0, x1, n, x_min, x_max, grid_pts=100)>"
      ]
     },
     "execution_count": 11,
     "metadata": {},
     "output_type": "execute_result"
    }
   ],
   "source": [
    "interact(plot_secant,\n",
    "         f = widgets.fixed(lambda x: x**3-x-2),\n",
    "         x0 = widgets.FloatSlider(value=0.5, min=0, max=2.5, step=0.01),\n",
    "         x1 = widgets.FloatSlider(value=2, min=0, max=2.5, step=0.01),\n",
    "         n = widgets.IntSlider(value=1, min=1, max=10),\n",
    "         x_min = widgets.fixed(0),\n",
    "         x_max = widgets.fixed(2.5),\n",
    "         grid_pts = widgets.fixed(1000))"
   ]
  },
  {
   "cell_type": "markdown",
   "metadata": {},
   "source": [
    "## Activity\n",
    "\n",
    "1. Create some code cells below.\n",
    "\n",
    "2. Create a `my_secant` function that is *improved* in the sense that it checks for and avoids any potential errors that may occur during runtime. The output should include an annotated plot. Test on some `lambda` functions.\n",
    "\n",
    "3. Use a mixture of code and markdown cells to compare the secant and false point methods across a variety of `lambda` functions.  \n"
   ]
  },
  {
   "cell_type": "code",
   "execution_count": null,
   "metadata": {},
   "outputs": [],
   "source": []
  }
 ],
 "metadata": {
  "anaconda-cloud": {},
  "kernelspec": {
   "display_name": "Python 3",
   "language": "python",
   "name": "python3"
  },
  "language_info": {
   "codemirror_mode": {
    "name": "ipython",
    "version": 3
   },
   "file_extension": ".py",
   "mimetype": "text/x-python",
   "name": "python",
   "nbconvert_exporter": "python",
   "pygments_lexer": "ipython3",
   "version": "3.7.6"
  }
 },
 "nbformat": 4,
 "nbformat_minor": 1
}
