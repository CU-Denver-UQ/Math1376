{
 "cells": [
  {
   "cell_type": "markdown",
   "metadata": {},
   "source": [
    "# Math  1376: Programming for Data Science\n",
    "---\n",
    "\n",
    "## Assignment 04 (part b): Numerical integration applications (due by 11:59 p.m. Friday of week 8 of class)\n",
    "---"
   ]
  },
  {
   "cell_type": "code",
   "execution_count": null,
   "metadata": {},
   "outputs": [],
   "source": [
    "import numpy as np\n",
    "import matplotlib.pyplot as plt\n",
    "%matplotlib inline"
   ]
  },
  {
   "cell_type": "markdown",
   "metadata": {},
   "source": [
    "## Problem 1: Exploring built-in integration routines in `scipy`\n",
    "---\n",
    "\n",
    "You saw some of this in the lecture notebook, but it is a good idea to explore this further. The integration subpackage can help you check if what you are doing is correct, but first you need to learn about it.\n",
    "\n",
    "Check out the documentation here: https://docs.scipy.org/doc/scipy/reference/tutorial/integrate.html\n",
    "\n",
    "Below, I get you started on two useful functions in the integrate subpackage: `quad` and `trapz`. You should at a minimum comment on the code I provide below and interpret what is happening in some Markdown cells. \n",
    "\n",
    "This is open ended. Comment, experiment, and explore. How deep you get into it is up to you."
   ]
  },
  {
   "cell_type": "code",
   "execution_count": null,
   "metadata": {},
   "outputs": [],
   "source": [
    "from scipy.integrate import quad, trapz"
   ]
  },
  {
   "cell_type": "code",
   "execution_count": null,
   "metadata": {},
   "outputs": [],
   "source": [
    "p = np.poly1d([1, 2])"
   ]
  },
  {
   "cell_type": "code",
   "execution_count": null,
   "metadata": {},
   "outputs": [],
   "source": [
    "int_of_p_quad, _ = quad(p, 0, 1)\n",
    "print(int_of_p_quad)"
   ]
  },
  {
   "cell_type": "code",
   "execution_count": null,
   "metadata": {},
   "outputs": [],
   "source": [
    "x = np.linspace(0,1,2) # Try increasing 2 to 10, 100 or 1000\n",
    "int_of_p_quad = trapz(p(x), x)\n",
    "print(int_of_p_quad)"
   ]
  },
  {
   "cell_type": "code",
   "execution_count": null,
   "metadata": {},
   "outputs": [],
   "source": [
    "p = np.poly1d([1, 2, 3])"
   ]
  },
  {
   "cell_type": "code",
   "execution_count": null,
   "metadata": {},
   "outputs": [],
   "source": [
    "int_of_p_quad, _ = quad(p, 0, 1)\n",
    "print(int_of_p_quad)"
   ]
  },
  {
   "cell_type": "code",
   "execution_count": null,
   "metadata": {},
   "outputs": [],
   "source": [
    "x = np.linspace(0,1,10) # Try increasing 10 to 100 or 1000\n",
    "int_of_p_quad = trapz(p(x), x)\n",
    "print(int_of_p_quad)"
   ]
  },
  {
   "cell_type": "code",
   "execution_count": null,
   "metadata": {},
   "outputs": [],
   "source": [
    "p = np.poly1d([1, 2, 3, 4])"
   ]
  },
  {
   "cell_type": "code",
   "execution_count": null,
   "metadata": {},
   "outputs": [],
   "source": [
    "int_of_p_quad, _ = quad(p, 0, 1)\n",
    "print(int_of_p_quad)"
   ]
  },
  {
   "cell_type": "code",
   "execution_count": null,
   "metadata": {},
   "outputs": [],
   "source": [
    "x = np.linspace(0,1,10) # Try increasing 10 to 100 or 1000\n",
    "int_of_p_quad = trapz(p(x), x)\n",
    "print(int_of_p_quad)"
   ]
  },
  {
   "cell_type": "markdown",
   "metadata": {},
   "source": [
    "## Problem 2: Make your own integration module\n",
    "---\n",
    "\n",
    "Make your own integration module for real-valued functions with a single real-valued input parameter called `myInt.py` that contains *at least* the following items: \n",
    "\n",
    "- At least one of the rectangular rules\n",
    "<br><br>\n",
    "- A [trapezoidal rule](https://en.wikipedia.org/wiki/Trapezoidal_rule)\n",
    "<br><br>\n",
    "- The Monte Carlo method\n",
    "<br><br>\n",
    "- A wrapper function called `autoInt` that automatically chooses which algorithm to use based on the types of inputs it receives.\n",
    "\n",
    "Include docstrings and doctests within your module. Demonstrate your module below by importing it and applying it to some of the polynomials from Problem 1 and other functions of your choosing. Your demonstrations should include some annotated visualizations (and feel free to use widgets as in the lecture notebook)."
   ]
  },
  {
   "cell_type": "code",
   "execution_count": null,
   "metadata": {},
   "outputs": [],
   "source": []
  },
  {
   "cell_type": "code",
   "execution_count": null,
   "metadata": {},
   "outputs": [],
   "source": []
  },
  {
   "cell_type": "code",
   "execution_count": null,
   "metadata": {},
   "outputs": [],
   "source": []
  },
  {
   "cell_type": "markdown",
   "metadata": {},
   "source": [
    "## Problem 3: Optimize your profit!\n",
    "---\n",
    "\n",
    "<span style='background:rgba(255,0,255, 0.25); color:black'> ***Some motivation:*** <span>\n",
    "\n",
    "Recall from 04-Assignment-part-a that you are the world's best pasta sauce maker and that you have optimized dimensions for your 1 L sized jars of sauce to minimize your cost per jar. \n",
    "You still need to create these jars, hire and train the workers that package these jars, and invest in the equipment, warehouse space, and delivery fleet for your business.\n",
    "Oh, and you need to hire salespersons, pay for marketing, etc.\n",
    "\n",
    "It is not only a lot of work building and running a business; it is also expensive!\n",
    "Unless you inherited millions of dollars, you probably need to get a loan to help finance your dream of dominating the competitive world of pasta sauce making.\n",
    "\n",
    "***What size loan should you get?***\n",
    "\n",
    "It may seem like you should just get the largest loan you possibly can.\n",
    "After all, a larger loan will allow you to rent a larger warehouse, purchase more equipment and materials to manufacture the jars and sauce, and hire and train more workers. \n",
    "While this sounds great, building a business takes time.\n",
    "The longer it takes to setup your business will mean you are spending a lot of money before you are making significant money. \n",
    "Subsequently, you may not start to turn a profit for a longer period of time.\n",
    "Moreover, larger loans will often come with bigger interest rates and significantly larger quarterly payments on the loan.\n",
    "In the end, you may run out of money if you try to make everything too big initially!\n",
    "What happens then?\n",
    "Well, your lenders may take over your business and sell it to someone else who becomes the owner of your intellectual property (i.e., your special pasta sauce recipe), and maybe even come after your personal assets if you put them up as collateral!\n",
    "\n",
    "In the end, getting the right loan amount and following a strategic plan based on a certain amount of the loan is perhaps not as straightforward a problem as it may seem.\n",
    "\n",
    "<span style='background:rgba(255,0,255, 0.25); color:black'> ***Defining the problem:*** <span>\n",
    "\n",
    "- You are qualified for loan amounts between $[\\$500,000, \\$1,000,000]$ (i.e., between half a million to a million USD).\n",
    "<br><br>\n",
    "    - Let $\\ell$ denote the loan amount in units of a million USD, so $\\ell\\in[0.5,1]$.\n",
    "<br><br>\n",
    "- Let $M(t;\\ell)$  (in units of a million USD) denote a model for your projected net cash flow at time $t$ (in units of days) if you follow a business development plan based on a loan of size $\\ell$. Assume the model is only valid for 90 days (the first fiscal quarter of your business). \n",
    "<br><br>\n",
    "    - If $M(t;\\ell)>0$, then you are making money at time $t$.\n",
    "    <br><br>\n",
    "    - If $M(t;\\ell)<0$, then you are losing money at time $t$.\n",
    "<br><br>\n",
    "\n",
    "- The total amount of money you have made or lost over the first 90 days is\n",
    "$$\n",
    " \\large    T(\\ell) = \\int_{[0,90]} M(t;\\ell),\n",
    "$$\n",
    "which is a function of the loan size. \n",
    "\n",
    "***The problem is to optimize $T(\\ell)$ over $[0.5,1]$.***\n",
    "\n",
    "<span style='background:rgba(255,255,0, 0.25); color:black'> Use the function $M(t;\\ell)$ in the code cell below along with (1) a numerical integration algorithm (use your `myInt` module from Problem 2 above) and (2) an optimization algorithm (use your `myOpt` module from the previous assignment) to determine what the optimal loan size should be. Make sure to put comments in your code, provide useful annotated graphs/illustrations of results, and interpret results in Markdown cells.</span>"
   ]
  },
  {
   "cell_type": "code",
   "execution_count": null,
   "metadata": {},
   "outputs": [],
   "source": [
    "# This is the function $M(t;\\ell)$\n",
    "def money(t,l):\n",
    "    \n",
    "    M = (np.exp(l*t**2/(30*(t+1))) - 0.25*l**3*t) * np.sin(t*np.pi/(l*t+1))*ell\n",
    "    \n",
    "    return M"
   ]
  },
  {
   "cell_type": "code",
   "execution_count": null,
   "metadata": {},
   "outputs": [],
   "source": [
    "# Some visualizations of $M(t;\\ell)$\n",
    "l = np.linspace(0.5,1,4)\n",
    "\n",
    "t = np.linspace(0,90,200)\n",
    "\n",
    "plt.figure(figsize=(10,7))\n",
    "plt.title('$M(t;\\ell)$ vs. $t$ for different $\\ell$', fontsize=16)\n",
    "plt.xlabel('time $t$ in days', fontsize=14)\n",
    "for ell in l:\n",
    "    plt.plot(t, money(t,ell), label='$M(t;{:3.2f})$'.format(ell))\n",
    "\n",
    "plt.legend(fontsize=12)"
   ]
  },
  {
   "cell_type": "code",
   "execution_count": null,
   "metadata": {},
   "outputs": [],
   "source": []
  },
  {
   "cell_type": "code",
   "execution_count": null,
   "metadata": {},
   "outputs": [],
   "source": []
  },
  {
   "cell_type": "code",
   "execution_count": null,
   "metadata": {},
   "outputs": [],
   "source": []
  }
 ],
 "metadata": {
  "kernelspec": {
   "display_name": "Python 3",
   "language": "python",
   "name": "python3"
  },
  "language_info": {
   "codemirror_mode": {
    "name": "ipython",
    "version": 3
   },
   "file_extension": ".py",
   "mimetype": "text/x-python",
   "name": "python",
   "nbconvert_exporter": "python",
   "pygments_lexer": "ipython3",
   "version": "3.7.6"
  }
 },
 "nbformat": 4,
 "nbformat_minor": 2
}
