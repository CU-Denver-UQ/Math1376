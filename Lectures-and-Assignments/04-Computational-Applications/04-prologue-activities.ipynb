{
 "cells": [
  {
   "cell_type": "markdown",
   "metadata": {},
   "source": [
    "<hr style=\"border:5px solid cyan\"> </hr>\n",
    "\n",
    "## <span style='background:rgba(0,255,255, 0.5); color:black'>Activity: Classes of Fourier approximations</span><a id='activity-polynomials'></a>\n",
    "\n",
    "Given a function $f(x)$ that is defined on the interval $[-1,1]$, it is usually possible to write $f(x)$ approximately as a sum of functions that look like waves - sine and cosine: $$f(x)\\approx \\dfrac{a_0}{2}+\\sum_{i=1}^{n}\\left( a_i\\cos \\left( \\dfrac{i\\pi x}{2}\\right)+b_i\\sin \\left( \\dfrac{i\\pi x}{2}\\right)\\right)$$ where the $a_i$ and $b_i$ are the coefficients of cosine and sine respectively. $n$ is referring to the number of terms used; the approximation gets better and better as $n$ gets larger. This type of approximation of a function is referred to as a Fourier approximation. See https://en.wikipedia.org/wiki/Fourier_analysis for some history of this idea. As an example, consider the function $f(x)=x$. Let's we want to use up to 3 terms of cosines and sines to approximate $f$. It turns out that all the $a_i$'s are 0 and $b_0=0$, $b_1=0.40528473$, $b_2=0.31830989$, and $b_3=-0.04503164$ so that $$f(x)\\approx 0.40528473\\sin \\left( \\dfrac{\\pi x}{2}\\right)+0.31830989\\sin \\left( \\dfrac{2\\pi x}{2}\\right)-0.04503164\\sin \\left( \\dfrac{3\\pi x}{2}\\right).$$ A graph of $f(x)$ and the approximation is created in the cell block below."
   ]
  },
  {
   "cell_type": "code",
   "execution_count": 1,
   "metadata": {},
   "outputs": [
    {
     "data": {
      "image/png": "[encoded data removed]",
      "text/plain": [
       "<Figure size 432x288 with 1 Axes>"
      ]
     },
     "metadata": {
      "needs_background": "light"
     },
     "output_type": "display_data"
    }
   ],
   "source": [
    "import numpy as np\n",
    "import matplotlib.pyplot as plt\n",
    "\n",
    "def f(x): # defining f(x)\n",
    "    return(x)\n",
    "\n",
    "def approx(x): # defining the approximation of f(x) using cosine's and sine's\n",
    "    return(0.40528473*np.sin(np.pi*x/2)+0.31830989*np.sin(2*np.pi*x/2)-0.04503164*np.sin(3*np.pi*x/2))\n",
    "\n",
    "x = np.linspace(-1,1,100) # 100 values between -1 and 1 to use for plotting\n",
    "plt.figure()\n",
    "plt.plot(x, f(x), label='f(x)')\n",
    "plt.plot(x, approx(x), label='Approximation')\n",
    "plt.legend()\n",
    "plt.show()"
   ]
  },
  {
   "cell_type": "markdown",
   "metadata": {},
   "source": [
    "Our goal in this activity is to create a class called `FourierApprox` that will take a function `func` and integer `n` and create the coefficients `as` and `bs` of the Fourier approximation using `n` terms as well as evaluate and plot the approximation. The below code cell contains the beginnings of such a class."
   ]
  },
  {
   "cell_type": "code",
   "execution_count": null,
   "metadata": {},
   "outputs": [],
   "source": [
    "import numpy as np\n",
    "import matplotlib.pyplot as plt \n",
    "import scipy.integrate as integrate\n",
    "\n",
    "class FourierApprox(object):\n",
    "    \n",
    "    '''\n",
    "    This class creates a Fourier approximation of a given function and provides methods to evaluate \n",
    "    and plot the Fourier approximation. \n",
    "    \n",
    "    Variables \n",
    "    ---------\n",
    "    func: function to be approximation. Function needs to be defined on the interval [-1,1].\n",
    "    n: number of terms to be kept from the Fourier series. \n",
    "    \n",
    "    Attributes\n",
    "    ----------\n",
    "    as: array with shape n+1 that contains the coefficients a_k from k=0 to k=n. \n",
    "    bs: array with shape n+1 that contains the coefficients b_k from k=0 to k=n. \n",
    "    \n",
    "    Methods\n",
    "    -------\n",
    "    fourier_approx_eval(x): evaluates the Fourier approximation of func at x.\n",
    "    plot(): plots the Fourier approximation along with func.\n",
    "    '''\n",
    "    \n",
    "    def __init__(self, func, n):\n",
    "        \n",
    "        self.func = func\n",
    "        self.n = n\n",
    "        \n",
    "        # creating coefficients of Fourier approximation as a attributes as and bs\n",
    "        coefficients = np.zeros(shape=(2,self.n+1))\n",
    "        coefficients[0,0] = integrate.quad(func, -1, 1)[0]/2\n",
    "        def integrand_as(x,m):\n",
    "            return(self.func(x)*np.cos(m*np.pi*x/2)/2)\n",
    "        def integrand_bs(x,m):\n",
    "            return(self.func(x)*np.sin(m*np.pi*x/2)/2)\n",
    "        for i in range(self.n):\n",
    "            coefficients[0,i+1] = integrate.quad(integrand_as, -1, 1, args=i+1)[0]\n",
    "            coefficients[1,i+1] = integrate.quad(integrand_bs, -1, 1, args=i+1)[0]\n",
    "            \n",
    "        self.as = coefficients[0,:]\n",
    "        self.bs = coefficients[1,:]\n",
    "            \n",
    "    def fourier_approx_eval(self, x):\n",
    "        \n",
    "        '''\n",
    "        Method for evaluating the Fourier approximation at x. \n",
    "        '''\n",
    "        \n",
    "        fourier_approx_value = self.as[0]/2\n",
    "        for i in range(self.n):\n",
    "            fourier_approx_value += self.as[i+1]*np.cos((i+1)*np.pi*x/2) + self.bs[i+1]*np.sin((i+1)*np.pi*x/2)\n",
    "        return(fourier_approx_value)\n",
    "    \n",
    "    def plot(self):\n",
    "        \n",
    "        '''\n",
    "        Method for plotting the Fourier approximation and the original function.\n",
    "        '''\n",
    "        "
   ]
  },
  {
   "cell_type": "markdown",
   "metadata": {},
   "source": [
    "- Finish coding the `plot` method in the above `FourierApprox` class so that the `plot` method will plot the original function `func` and the Fourier approximation `fourier_approx_eval` on the same plot from -1.0 to 1.0. \n",
    "- Edit the class so that `n` has a default value of 10.\n",
    "- Create your own function in the cell below to test the code.\n",
    "- Use the `plot` method to graph your function along with its Fourier approximation with `n`=20 terms."
   ]
  },
  {
   "cell_type": "code",
   "execution_count": null,
   "metadata": {},
   "outputs": [],
   "source": [
    "def func(x):\n",
    "    # define your own function here; make sure your function can take both `float` and `ndarray` types as inputs\n",
    "    return()"
   ]
  },
  {
   "cell_type": "code",
   "execution_count": null,
   "metadata": {},
   "outputs": [],
   "source": [
    "# use the plot method of Fourier_approx to plot your function along with its Fourier approximation using n=20 terms\n"
   ]
  },
  {
   "cell_type": "markdown",
   "metadata": {},
   "source": [
    "<hr style=\"border:5px solid cyan\"> </hr>"
   ]
  }
 ],
 "metadata": {
  "kernelspec": {
   "display_name": "Python 3",
   "language": "python",
   "name": "python3"
  },
  "language_info": {
   "codemirror_mode": {
    "name": "ipython",
    "version": 3
   },
   "file_extension": ".py",
   "mimetype": "text/x-python",
   "name": "python",
   "nbconvert_exporter": "python",
   "pygments_lexer": "ipython3",
   "version": "3.8.6"
  }
 },
 "nbformat": 4,
 "nbformat_minor": 4
}
